{
 "cells": [
  {
   "cell_type": "markdown",
   "metadata": {},
   "source": [
    "# Загрузка Pandas и очистка данных"
   ]
  },
  {
   "cell_type": "code",
   "execution_count": 1,
   "metadata": {},
   "outputs": [],
   "source": [
    "import pandas as pd\n",
    "import numpy as np\n",
    "import datetime as dt\n",
    "import re\n",
    "from sklearn.preprocessing import MinMaxScaler\n",
    "import seaborn as sns\n",
    "import matplotlib.pyplot as plt"
   ]
  },
  {
   "cell_type": "code",
   "execution_count": 2,
   "metadata": {},
   "outputs": [],
   "source": [
    "df = pd.read_csv('https://raw.githubusercontent.com/DShev1982/skillfactory/master/data%20for%20projects/main_task.xls')"
   ]
  },
  {
   "cell_type": "code",
   "execution_count": null,
   "metadata": {},
   "outputs": [],
   "source": [
    "# Ваш код по очистке данных и генерации новых признаков\n",
    "# При необходимости добавьте ячейки"
   ]
  },
  {
   "cell_type": "code",
   "execution_count": 3,
   "metadata": {},
   "outputs": [],
   "source": [
    "def first_look(df,col):\n",
    "    print('Столбец', col)\n",
    "    print('Распределение признака:')\n",
    "    df[col].describe()\n",
    "    fig, ax = plt.subplots()\n",
    "    df.loc[:,col].hist(ax=ax)\n",
    "    ax.set_xlabel(col)\n",
    "    ax.set_ylabel('count')\n",
    "    plt.show()\n",
    "    sns.boxplot(data = df[col])\n",
    "    plt.show()"
   ]
  },
  {
   "cell_type": "code",
   "execution_count": 4,
   "metadata": {},
   "outputs": [],
   "source": [
    "def str_to_list(string):\n",
    "    symbol_list = ['[',']',\"'\"]\n",
    "    \n",
    "    if string != None:\n",
    "        for i in symbol_list:\n",
    "            string = str(string).replace(i,'')\n",
    "        return string.split(', ')\n",
    "    return string"
   ]
  },
  {
   "cell_type": "code",
   "execution_count": 5,
   "metadata": {},
   "outputs": [],
   "source": [
    "def enumrate(string, nan_num):\n",
    "    if string == nan_num:\n",
    "        return nan_num\n",
    "    else:\n",
    "        if string.count('$') == 1:\n",
    "            return 1\n",
    "        elif string.count('$') == 5:\n",
    "            return 2\n",
    "        else:\n",
    "            return 3"
   ]
  },
  {
   "cell_type": "code",
   "execution_count": 6,
   "metadata": {},
   "outputs": [
    {
     "name": "stdout",
     "output_type": "stream",
     "text": [
      "<class 'pandas.core.frame.DataFrame'>\n",
      "RangeIndex: 40000 entries, 0 to 39999\n",
      "Data columns (total 10 columns):\n",
      " #   Column             Non-Null Count  Dtype  \n",
      "---  ------             --------------  -----  \n",
      " 0   Restaurant_id      40000 non-null  object \n",
      " 1   City               40000 non-null  object \n",
      " 2   Cuisine Style      30717 non-null  object \n",
      " 3   Ranking            40000 non-null  float64\n",
      " 4   Rating             40000 non-null  float64\n",
      " 5   Price Range        26114 non-null  object \n",
      " 6   Number of Reviews  37457 non-null  float64\n",
      " 7   Reviews            40000 non-null  object \n",
      " 8   URL_TA             40000 non-null  object \n",
      " 9   ID_TA              40000 non-null  object \n",
      "dtypes: float64(3), object(7)\n",
      "memory usage: 3.1+ MB\n"
     ]
    }
   ],
   "source": [
    "df.info()"
   ]
  },
  {
   "cell_type": "code",
   "execution_count": 7,
   "metadata": {},
   "outputs": [
    {
     "data": {
      "text/html": [
       "<div>\n",
       "<style scoped>\n",
       "    .dataframe tbody tr th:only-of-type {\n",
       "        vertical-align: middle;\n",
       "    }\n",
       "\n",
       "    .dataframe tbody tr th {\n",
       "        vertical-align: top;\n",
       "    }\n",
       "\n",
       "    .dataframe thead th {\n",
       "        text-align: right;\n",
       "    }\n",
       "</style>\n",
       "<table border=\"1\" class=\"dataframe\">\n",
       "  <thead>\n",
       "    <tr style=\"text-align: right;\">\n",
       "      <th></th>\n",
       "      <th>Restaurant_id</th>\n",
       "      <th>City</th>\n",
       "      <th>Cuisine Style</th>\n",
       "      <th>Ranking</th>\n",
       "      <th>Rating</th>\n",
       "      <th>Price Range</th>\n",
       "      <th>Number of Reviews</th>\n",
       "      <th>Reviews</th>\n",
       "      <th>URL_TA</th>\n",
       "      <th>ID_TA</th>\n",
       "    </tr>\n",
       "  </thead>\n",
       "  <tbody>\n",
       "    <tr>\n",
       "      <th>0</th>\n",
       "      <td>id_5569</td>\n",
       "      <td>Paris</td>\n",
       "      <td>['European', 'French', 'International']</td>\n",
       "      <td>5570.0</td>\n",
       "      <td>3.5</td>\n",
       "      <td>$$ - $$$</td>\n",
       "      <td>194.0</td>\n",
       "      <td>[['Good food at your doorstep', 'A good hotel ...</td>\n",
       "      <td>/Restaurant_Review-g187147-d1912643-Reviews-R_...</td>\n",
       "      <td>d1912643</td>\n",
       "    </tr>\n",
       "    <tr>\n",
       "      <th>1</th>\n",
       "      <td>id_1535</td>\n",
       "      <td>Stockholm</td>\n",
       "      <td>NaN</td>\n",
       "      <td>1537.0</td>\n",
       "      <td>4.0</td>\n",
       "      <td>NaN</td>\n",
       "      <td>10.0</td>\n",
       "      <td>[['Unique cuisine', 'Delicious Nepalese food']...</td>\n",
       "      <td>/Restaurant_Review-g189852-d7992032-Reviews-Bu...</td>\n",
       "      <td>d7992032</td>\n",
       "    </tr>\n",
       "    <tr>\n",
       "      <th>2</th>\n",
       "      <td>id_352</td>\n",
       "      <td>London</td>\n",
       "      <td>['Japanese', 'Sushi', 'Asian', 'Grill', 'Veget...</td>\n",
       "      <td>353.0</td>\n",
       "      <td>4.5</td>\n",
       "      <td>$$$$</td>\n",
       "      <td>688.0</td>\n",
       "      <td>[['Catch up with friends', 'Not exceptional'],...</td>\n",
       "      <td>/Restaurant_Review-g186338-d8632781-Reviews-RO...</td>\n",
       "      <td>d8632781</td>\n",
       "    </tr>\n",
       "    <tr>\n",
       "      <th>3</th>\n",
       "      <td>id_3456</td>\n",
       "      <td>Berlin</td>\n",
       "      <td>NaN</td>\n",
       "      <td>3458.0</td>\n",
       "      <td>5.0</td>\n",
       "      <td>NaN</td>\n",
       "      <td>3.0</td>\n",
       "      <td>[[], []]</td>\n",
       "      <td>/Restaurant_Review-g187323-d1358776-Reviews-Es...</td>\n",
       "      <td>d1358776</td>\n",
       "    </tr>\n",
       "    <tr>\n",
       "      <th>4</th>\n",
       "      <td>id_615</td>\n",
       "      <td>Munich</td>\n",
       "      <td>['German', 'Central European', 'Vegetarian Fri...</td>\n",
       "      <td>621.0</td>\n",
       "      <td>4.0</td>\n",
       "      <td>$$ - $$$</td>\n",
       "      <td>84.0</td>\n",
       "      <td>[['Best place to try a Bavarian food', 'Nice b...</td>\n",
       "      <td>/Restaurant_Review-g187309-d6864963-Reviews-Au...</td>\n",
       "      <td>d6864963</td>\n",
       "    </tr>\n",
       "  </tbody>\n",
       "</table>\n",
       "</div>"
      ],
      "text/plain": [
       "  Restaurant_id       City                                      Cuisine Style  \\\n",
       "0       id_5569      Paris            ['European', 'French', 'International']   \n",
       "1       id_1535  Stockholm                                                NaN   \n",
       "2        id_352     London  ['Japanese', 'Sushi', 'Asian', 'Grill', 'Veget...   \n",
       "3       id_3456     Berlin                                                NaN   \n",
       "4        id_615     Munich  ['German', 'Central European', 'Vegetarian Fri...   \n",
       "\n",
       "   Ranking  Rating Price Range  Number of Reviews  \\\n",
       "0   5570.0     3.5    $$ - $$$              194.0   \n",
       "1   1537.0     4.0         NaN               10.0   \n",
       "2    353.0     4.5        $$$$              688.0   \n",
       "3   3458.0     5.0         NaN                3.0   \n",
       "4    621.0     4.0    $$ - $$$               84.0   \n",
       "\n",
       "                                             Reviews  \\\n",
       "0  [['Good food at your doorstep', 'A good hotel ...   \n",
       "1  [['Unique cuisine', 'Delicious Nepalese food']...   \n",
       "2  [['Catch up with friends', 'Not exceptional'],...   \n",
       "3                                           [[], []]   \n",
       "4  [['Best place to try a Bavarian food', 'Nice b...   \n",
       "\n",
       "                                              URL_TA     ID_TA  \n",
       "0  /Restaurant_Review-g187147-d1912643-Reviews-R_...  d1912643  \n",
       "1  /Restaurant_Review-g189852-d7992032-Reviews-Bu...  d7992032  \n",
       "2  /Restaurant_Review-g186338-d8632781-Reviews-RO...  d8632781  \n",
       "3  /Restaurant_Review-g187323-d1358776-Reviews-Es...  d1358776  \n",
       "4  /Restaurant_Review-g187309-d6864963-Reviews-Au...  d6864963  "
      ]
     },
     "execution_count": 7,
     "metadata": {},
     "output_type": "execute_result"
    }
   ],
   "source": [
    "df.head()"
   ]
  },
  {
   "cell_type": "markdown",
   "metadata": {},
   "source": [
    "Видно, что столбцы URL_TA, ID_TA никакой пользы не принесут, удаляю их, чтобы можно было концентрироваться на полезных данных"
   ]
  },
  {
   "cell_type": "code",
   "execution_count": 8,
   "metadata": {},
   "outputs": [],
   "source": [
    "df1 = df.drop(columns=['URL_TA','ID_TA'])"
   ]
  },
  {
   "cell_type": "markdown",
   "metadata": {},
   "source": [
    "начинаю последовательно обрабатывать столбцы\n"
   ]
  },
  {
   "cell_type": "markdown",
   "metadata": {},
   "source": [
    "Столбец City"
   ]
  },
  {
   "cell_type": "code",
   "execution_count": 9,
   "metadata": {},
   "outputs": [
    {
     "data": {
      "text/plain": [
       "London        5757\n",
       "Paris         4897\n",
       "Madrid        3108\n",
       "Barcelona     2734\n",
       "Berlin        2155\n",
       "Milan         2133\n",
       "Rome          2078\n",
       "Prague        1443\n",
       "Lisbon        1300\n",
       "Vienna        1166\n",
       "Amsterdam     1086\n",
       "Brussels      1060\n",
       "Hamburg        949\n",
       "Munich         893\n",
       "Lyon           892\n",
       "Stockholm      820\n",
       "Budapest       816\n",
       "Warsaw         727\n",
       "Dublin         673\n",
       "Copenhagen     659\n",
       "Athens         628\n",
       "Edinburgh      596\n",
       "Zurich         538\n",
       "Oporto         513\n",
       "Geneva         481\n",
       "Krakow         443\n",
       "Oslo           385\n",
       "Helsinki       376\n",
       "Bratislava     301\n",
       "Luxembourg     210\n",
       "Ljubljana      183\n",
       "Name: City, dtype: int64"
      ]
     },
     "execution_count": 9,
     "metadata": {},
     "output_type": "execute_result"
    }
   ],
   "source": [
    "df1['City'].value_counts()"
   ]
  },
  {
   "cell_type": "markdown",
   "metadata": {},
   "source": [
    "Выше, когда смотрел df.info(), видели, что в столбце пропусков не видно. Видно, что городов конечное количество. Удобно будет сделать из такого одного столбца с категориальными данными столбцы, в которых будет 1, если город в строке есть, 0 - если города - нет."
   ]
  },
  {
   "cell_type": "code",
   "execution_count": 10,
   "metadata": {},
   "outputs": [],
   "source": [
    "city_list = df1['City'].value_counts().index"
   ]
  },
  {
   "cell_type": "code",
   "execution_count": 11,
   "metadata": {},
   "outputs": [],
   "source": [
    "df1_5 = pd.get_dummies(df['City'])"
   ]
  },
  {
   "cell_type": "code",
   "execution_count": 12,
   "metadata": {},
   "outputs": [],
   "source": [
    "for i in df1_5.columns:\n",
    "    df1.insert(2,i,df1_5[i])"
   ]
  },
  {
   "cell_type": "code",
   "execution_count": 13,
   "metadata": {},
   "outputs": [
    {
     "data": {
      "text/html": [
       "<div>\n",
       "<style scoped>\n",
       "    .dataframe tbody tr th:only-of-type {\n",
       "        vertical-align: middle;\n",
       "    }\n",
       "\n",
       "    .dataframe tbody tr th {\n",
       "        vertical-align: top;\n",
       "    }\n",
       "\n",
       "    .dataframe thead th {\n",
       "        text-align: right;\n",
       "    }\n",
       "</style>\n",
       "<table border=\"1\" class=\"dataframe\">\n",
       "  <thead>\n",
       "    <tr style=\"text-align: right;\">\n",
       "      <th></th>\n",
       "      <th>Restaurant_id</th>\n",
       "      <th>City</th>\n",
       "      <th>Zurich</th>\n",
       "      <th>Warsaw</th>\n",
       "      <th>Vienna</th>\n",
       "      <th>Stockholm</th>\n",
       "      <th>Rome</th>\n",
       "      <th>Prague</th>\n",
       "      <th>Paris</th>\n",
       "      <th>Oslo</th>\n",
       "      <th>...</th>\n",
       "      <th>Berlin</th>\n",
       "      <th>Barcelona</th>\n",
       "      <th>Athens</th>\n",
       "      <th>Amsterdam</th>\n",
       "      <th>Cuisine Style</th>\n",
       "      <th>Ranking</th>\n",
       "      <th>Rating</th>\n",
       "      <th>Price Range</th>\n",
       "      <th>Number of Reviews</th>\n",
       "      <th>Reviews</th>\n",
       "    </tr>\n",
       "  </thead>\n",
       "  <tbody>\n",
       "    <tr>\n",
       "      <th>0</th>\n",
       "      <td>id_5569</td>\n",
       "      <td>Paris</td>\n",
       "      <td>0</td>\n",
       "      <td>0</td>\n",
       "      <td>0</td>\n",
       "      <td>0</td>\n",
       "      <td>0</td>\n",
       "      <td>0</td>\n",
       "      <td>1</td>\n",
       "      <td>0</td>\n",
       "      <td>...</td>\n",
       "      <td>0</td>\n",
       "      <td>0</td>\n",
       "      <td>0</td>\n",
       "      <td>0</td>\n",
       "      <td>['European', 'French', 'International']</td>\n",
       "      <td>5570.0</td>\n",
       "      <td>3.5</td>\n",
       "      <td>$$ - $$$</td>\n",
       "      <td>194.0</td>\n",
       "      <td>[['Good food at your doorstep', 'A good hotel ...</td>\n",
       "    </tr>\n",
       "    <tr>\n",
       "      <th>1</th>\n",
       "      <td>id_1535</td>\n",
       "      <td>Stockholm</td>\n",
       "      <td>0</td>\n",
       "      <td>0</td>\n",
       "      <td>0</td>\n",
       "      <td>1</td>\n",
       "      <td>0</td>\n",
       "      <td>0</td>\n",
       "      <td>0</td>\n",
       "      <td>0</td>\n",
       "      <td>...</td>\n",
       "      <td>0</td>\n",
       "      <td>0</td>\n",
       "      <td>0</td>\n",
       "      <td>0</td>\n",
       "      <td>NaN</td>\n",
       "      <td>1537.0</td>\n",
       "      <td>4.0</td>\n",
       "      <td>NaN</td>\n",
       "      <td>10.0</td>\n",
       "      <td>[['Unique cuisine', 'Delicious Nepalese food']...</td>\n",
       "    </tr>\n",
       "    <tr>\n",
       "      <th>2</th>\n",
       "      <td>id_352</td>\n",
       "      <td>London</td>\n",
       "      <td>0</td>\n",
       "      <td>0</td>\n",
       "      <td>0</td>\n",
       "      <td>0</td>\n",
       "      <td>0</td>\n",
       "      <td>0</td>\n",
       "      <td>0</td>\n",
       "      <td>0</td>\n",
       "      <td>...</td>\n",
       "      <td>0</td>\n",
       "      <td>0</td>\n",
       "      <td>0</td>\n",
       "      <td>0</td>\n",
       "      <td>['Japanese', 'Sushi', 'Asian', 'Grill', 'Veget...</td>\n",
       "      <td>353.0</td>\n",
       "      <td>4.5</td>\n",
       "      <td>$$$$</td>\n",
       "      <td>688.0</td>\n",
       "      <td>[['Catch up with friends', 'Not exceptional'],...</td>\n",
       "    </tr>\n",
       "    <tr>\n",
       "      <th>3</th>\n",
       "      <td>id_3456</td>\n",
       "      <td>Berlin</td>\n",
       "      <td>0</td>\n",
       "      <td>0</td>\n",
       "      <td>0</td>\n",
       "      <td>0</td>\n",
       "      <td>0</td>\n",
       "      <td>0</td>\n",
       "      <td>0</td>\n",
       "      <td>0</td>\n",
       "      <td>...</td>\n",
       "      <td>1</td>\n",
       "      <td>0</td>\n",
       "      <td>0</td>\n",
       "      <td>0</td>\n",
       "      <td>NaN</td>\n",
       "      <td>3458.0</td>\n",
       "      <td>5.0</td>\n",
       "      <td>NaN</td>\n",
       "      <td>3.0</td>\n",
       "      <td>[[], []]</td>\n",
       "    </tr>\n",
       "    <tr>\n",
       "      <th>4</th>\n",
       "      <td>id_615</td>\n",
       "      <td>Munich</td>\n",
       "      <td>0</td>\n",
       "      <td>0</td>\n",
       "      <td>0</td>\n",
       "      <td>0</td>\n",
       "      <td>0</td>\n",
       "      <td>0</td>\n",
       "      <td>0</td>\n",
       "      <td>0</td>\n",
       "      <td>...</td>\n",
       "      <td>0</td>\n",
       "      <td>0</td>\n",
       "      <td>0</td>\n",
       "      <td>0</td>\n",
       "      <td>['German', 'Central European', 'Vegetarian Fri...</td>\n",
       "      <td>621.0</td>\n",
       "      <td>4.0</td>\n",
       "      <td>$$ - $$$</td>\n",
       "      <td>84.0</td>\n",
       "      <td>[['Best place to try a Bavarian food', 'Nice b...</td>\n",
       "    </tr>\n",
       "    <tr>\n",
       "      <th>...</th>\n",
       "      <td>...</td>\n",
       "      <td>...</td>\n",
       "      <td>...</td>\n",
       "      <td>...</td>\n",
       "      <td>...</td>\n",
       "      <td>...</td>\n",
       "      <td>...</td>\n",
       "      <td>...</td>\n",
       "      <td>...</td>\n",
       "      <td>...</td>\n",
       "      <td>...</td>\n",
       "      <td>...</td>\n",
       "      <td>...</td>\n",
       "      <td>...</td>\n",
       "      <td>...</td>\n",
       "      <td>...</td>\n",
       "      <td>...</td>\n",
       "      <td>...</td>\n",
       "      <td>...</td>\n",
       "      <td>...</td>\n",
       "      <td>...</td>\n",
       "    </tr>\n",
       "    <tr>\n",
       "      <th>39995</th>\n",
       "      <td>id_499</td>\n",
       "      <td>Milan</td>\n",
       "      <td>0</td>\n",
       "      <td>0</td>\n",
       "      <td>0</td>\n",
       "      <td>0</td>\n",
       "      <td>0</td>\n",
       "      <td>0</td>\n",
       "      <td>0</td>\n",
       "      <td>0</td>\n",
       "      <td>...</td>\n",
       "      <td>0</td>\n",
       "      <td>0</td>\n",
       "      <td>0</td>\n",
       "      <td>0</td>\n",
       "      <td>['Italian', 'Vegetarian Friendly', 'Vegan Opti...</td>\n",
       "      <td>500.0</td>\n",
       "      <td>4.5</td>\n",
       "      <td>$$ - $$$</td>\n",
       "      <td>79.0</td>\n",
       "      <td>[['The real Italian experience!', 'Wonderful f...</td>\n",
       "    </tr>\n",
       "    <tr>\n",
       "      <th>39996</th>\n",
       "      <td>id_6340</td>\n",
       "      <td>Paris</td>\n",
       "      <td>0</td>\n",
       "      <td>0</td>\n",
       "      <td>0</td>\n",
       "      <td>0</td>\n",
       "      <td>0</td>\n",
       "      <td>0</td>\n",
       "      <td>1</td>\n",
       "      <td>0</td>\n",
       "      <td>...</td>\n",
       "      <td>0</td>\n",
       "      <td>0</td>\n",
       "      <td>0</td>\n",
       "      <td>0</td>\n",
       "      <td>['French', 'American', 'Bar', 'European', 'Veg...</td>\n",
       "      <td>6341.0</td>\n",
       "      <td>3.5</td>\n",
       "      <td>$$ - $$$</td>\n",
       "      <td>542.0</td>\n",
       "      <td>[['Parisian atmosphere', 'Bit pricey but inter...</td>\n",
       "    </tr>\n",
       "    <tr>\n",
       "      <th>39997</th>\n",
       "      <td>id_1649</td>\n",
       "      <td>Stockholm</td>\n",
       "      <td>0</td>\n",
       "      <td>0</td>\n",
       "      <td>0</td>\n",
       "      <td>1</td>\n",
       "      <td>0</td>\n",
       "      <td>0</td>\n",
       "      <td>0</td>\n",
       "      <td>0</td>\n",
       "      <td>...</td>\n",
       "      <td>0</td>\n",
       "      <td>0</td>\n",
       "      <td>0</td>\n",
       "      <td>0</td>\n",
       "      <td>['Japanese', 'Sushi']</td>\n",
       "      <td>1652.0</td>\n",
       "      <td>4.5</td>\n",
       "      <td>NaN</td>\n",
       "      <td>4.0</td>\n",
       "      <td>[['Good by swedish standards', 'A hidden jewel...</td>\n",
       "    </tr>\n",
       "    <tr>\n",
       "      <th>39998</th>\n",
       "      <td>id_640</td>\n",
       "      <td>Warsaw</td>\n",
       "      <td>0</td>\n",
       "      <td>1</td>\n",
       "      <td>0</td>\n",
       "      <td>0</td>\n",
       "      <td>0</td>\n",
       "      <td>0</td>\n",
       "      <td>0</td>\n",
       "      <td>0</td>\n",
       "      <td>...</td>\n",
       "      <td>0</td>\n",
       "      <td>0</td>\n",
       "      <td>0</td>\n",
       "      <td>0</td>\n",
       "      <td>['Polish', 'European', 'Eastern European', 'Ce...</td>\n",
       "      <td>641.0</td>\n",
       "      <td>4.0</td>\n",
       "      <td>$$ - $$$</td>\n",
       "      <td>70.0</td>\n",
       "      <td>[['Underground restaurant', 'Oldest Restaurant...</td>\n",
       "    </tr>\n",
       "    <tr>\n",
       "      <th>39999</th>\n",
       "      <td>id_4824</td>\n",
       "      <td>Milan</td>\n",
       "      <td>0</td>\n",
       "      <td>0</td>\n",
       "      <td>0</td>\n",
       "      <td>0</td>\n",
       "      <td>0</td>\n",
       "      <td>0</td>\n",
       "      <td>0</td>\n",
       "      <td>0</td>\n",
       "      <td>...</td>\n",
       "      <td>0</td>\n",
       "      <td>0</td>\n",
       "      <td>0</td>\n",
       "      <td>0</td>\n",
       "      <td>['Spanish']</td>\n",
       "      <td>4827.0</td>\n",
       "      <td>3.0</td>\n",
       "      <td>$$ - $$$</td>\n",
       "      <td>260.0</td>\n",
       "      <td>[['Average', 'Nice an informal'], ['01/31/2016...</td>\n",
       "    </tr>\n",
       "  </tbody>\n",
       "</table>\n",
       "<p>40000 rows × 39 columns</p>\n",
       "</div>"
      ],
      "text/plain": [
       "      Restaurant_id       City  Zurich  Warsaw  Vienna  Stockholm  Rome  \\\n",
       "0           id_5569      Paris       0       0       0          0     0   \n",
       "1           id_1535  Stockholm       0       0       0          1     0   \n",
       "2            id_352     London       0       0       0          0     0   \n",
       "3           id_3456     Berlin       0       0       0          0     0   \n",
       "4            id_615     Munich       0       0       0          0     0   \n",
       "...             ...        ...     ...     ...     ...        ...   ...   \n",
       "39995        id_499      Milan       0       0       0          0     0   \n",
       "39996       id_6340      Paris       0       0       0          0     0   \n",
       "39997       id_1649  Stockholm       0       0       0          1     0   \n",
       "39998        id_640     Warsaw       0       1       0          0     0   \n",
       "39999       id_4824      Milan       0       0       0          0     0   \n",
       "\n",
       "       Prague  Paris  Oslo  ...  Berlin  Barcelona  Athens  Amsterdam  \\\n",
       "0           0      1     0  ...       0          0       0          0   \n",
       "1           0      0     0  ...       0          0       0          0   \n",
       "2           0      0     0  ...       0          0       0          0   \n",
       "3           0      0     0  ...       1          0       0          0   \n",
       "4           0      0     0  ...       0          0       0          0   \n",
       "...       ...    ...   ...  ...     ...        ...     ...        ...   \n",
       "39995       0      0     0  ...       0          0       0          0   \n",
       "39996       0      1     0  ...       0          0       0          0   \n",
       "39997       0      0     0  ...       0          0       0          0   \n",
       "39998       0      0     0  ...       0          0       0          0   \n",
       "39999       0      0     0  ...       0          0       0          0   \n",
       "\n",
       "                                           Cuisine Style  Ranking  Rating  \\\n",
       "0                ['European', 'French', 'International']   5570.0     3.5   \n",
       "1                                                    NaN   1537.0     4.0   \n",
       "2      ['Japanese', 'Sushi', 'Asian', 'Grill', 'Veget...    353.0     4.5   \n",
       "3                                                    NaN   3458.0     5.0   \n",
       "4      ['German', 'Central European', 'Vegetarian Fri...    621.0     4.0   \n",
       "...                                                  ...      ...     ...   \n",
       "39995  ['Italian', 'Vegetarian Friendly', 'Vegan Opti...    500.0     4.5   \n",
       "39996  ['French', 'American', 'Bar', 'European', 'Veg...   6341.0     3.5   \n",
       "39997                              ['Japanese', 'Sushi']   1652.0     4.5   \n",
       "39998  ['Polish', 'European', 'Eastern European', 'Ce...    641.0     4.0   \n",
       "39999                                        ['Spanish']   4827.0     3.0   \n",
       "\n",
       "       Price Range  Number of Reviews  \\\n",
       "0         $$ - $$$              194.0   \n",
       "1              NaN               10.0   \n",
       "2             $$$$              688.0   \n",
       "3              NaN                3.0   \n",
       "4         $$ - $$$               84.0   \n",
       "...            ...                ...   \n",
       "39995     $$ - $$$               79.0   \n",
       "39996     $$ - $$$              542.0   \n",
       "39997          NaN                4.0   \n",
       "39998     $$ - $$$               70.0   \n",
       "39999     $$ - $$$              260.0   \n",
       "\n",
       "                                                 Reviews  \n",
       "0      [['Good food at your doorstep', 'A good hotel ...  \n",
       "1      [['Unique cuisine', 'Delicious Nepalese food']...  \n",
       "2      [['Catch up with friends', 'Not exceptional'],...  \n",
       "3                                               [[], []]  \n",
       "4      [['Best place to try a Bavarian food', 'Nice b...  \n",
       "...                                                  ...  \n",
       "39995  [['The real Italian experience!', 'Wonderful f...  \n",
       "39996  [['Parisian atmosphere', 'Bit pricey but inter...  \n",
       "39997  [['Good by swedish standards', 'A hidden jewel...  \n",
       "39998  [['Underground restaurant', 'Oldest Restaurant...  \n",
       "39999  [['Average', 'Nice an informal'], ['01/31/2016...  \n",
       "\n",
       "[40000 rows x 39 columns]"
      ]
     },
     "execution_count": 13,
     "metadata": {},
     "output_type": "execute_result"
    }
   ],
   "source": [
    "df1"
   ]
  },
  {
   "cell_type": "markdown",
   "metadata": {},
   "source": [
    "успешно добавили столбцы с городами. Дополнительно отмечу, что экспериментировал с тем, чтобы добавлять не все города, а только те, которые чаще всего встречаются и в сумме дают 90% всех строк. Все остальные города (это были такие города, например, как Helsinki (376), Bratislava (301), Luxembourg  (210), Ljubljana (183)...) я обозначал \"other cities\" и, соответственно, у меня был столбец \"other cities\". Но в итоге, модель лучше отработала, когда в dataset были все города => я отказался от идеи выбрать только наиболее часто встречающиеся города.\n",
    "\n",
    "<br> у нас есть столбцы с городами => столбец 'City' больше не нужен. Удаляю"
   ]
  },
  {
   "cell_type": "code",
   "execution_count": 14,
   "metadata": {},
   "outputs": [],
   "source": [
    "df1.drop(columns = ['City'], inplace = True)"
   ]
  },
  {
   "cell_type": "code",
   "execution_count": 15,
   "metadata": {},
   "outputs": [
    {
     "data": {
      "text/html": [
       "<div>\n",
       "<style scoped>\n",
       "    .dataframe tbody tr th:only-of-type {\n",
       "        vertical-align: middle;\n",
       "    }\n",
       "\n",
       "    .dataframe tbody tr th {\n",
       "        vertical-align: top;\n",
       "    }\n",
       "\n",
       "    .dataframe thead th {\n",
       "        text-align: right;\n",
       "    }\n",
       "</style>\n",
       "<table border=\"1\" class=\"dataframe\">\n",
       "  <thead>\n",
       "    <tr style=\"text-align: right;\">\n",
       "      <th></th>\n",
       "      <th>Restaurant_id</th>\n",
       "      <th>Zurich</th>\n",
       "      <th>Warsaw</th>\n",
       "      <th>Vienna</th>\n",
       "      <th>Stockholm</th>\n",
       "      <th>Rome</th>\n",
       "      <th>Prague</th>\n",
       "      <th>Paris</th>\n",
       "      <th>Oslo</th>\n",
       "      <th>Oporto</th>\n",
       "      <th>...</th>\n",
       "      <th>Berlin</th>\n",
       "      <th>Barcelona</th>\n",
       "      <th>Athens</th>\n",
       "      <th>Amsterdam</th>\n",
       "      <th>Cuisine Style</th>\n",
       "      <th>Ranking</th>\n",
       "      <th>Rating</th>\n",
       "      <th>Price Range</th>\n",
       "      <th>Number of Reviews</th>\n",
       "      <th>Reviews</th>\n",
       "    </tr>\n",
       "  </thead>\n",
       "  <tbody>\n",
       "    <tr>\n",
       "      <th>0</th>\n",
       "      <td>id_5569</td>\n",
       "      <td>0</td>\n",
       "      <td>0</td>\n",
       "      <td>0</td>\n",
       "      <td>0</td>\n",
       "      <td>0</td>\n",
       "      <td>0</td>\n",
       "      <td>1</td>\n",
       "      <td>0</td>\n",
       "      <td>0</td>\n",
       "      <td>...</td>\n",
       "      <td>0</td>\n",
       "      <td>0</td>\n",
       "      <td>0</td>\n",
       "      <td>0</td>\n",
       "      <td>['European', 'French', 'International']</td>\n",
       "      <td>5570.0</td>\n",
       "      <td>3.5</td>\n",
       "      <td>$$ - $$$</td>\n",
       "      <td>194.0</td>\n",
       "      <td>[['Good food at your doorstep', 'A good hotel ...</td>\n",
       "    </tr>\n",
       "    <tr>\n",
       "      <th>1</th>\n",
       "      <td>id_1535</td>\n",
       "      <td>0</td>\n",
       "      <td>0</td>\n",
       "      <td>0</td>\n",
       "      <td>1</td>\n",
       "      <td>0</td>\n",
       "      <td>0</td>\n",
       "      <td>0</td>\n",
       "      <td>0</td>\n",
       "      <td>0</td>\n",
       "      <td>...</td>\n",
       "      <td>0</td>\n",
       "      <td>0</td>\n",
       "      <td>0</td>\n",
       "      <td>0</td>\n",
       "      <td>NaN</td>\n",
       "      <td>1537.0</td>\n",
       "      <td>4.0</td>\n",
       "      <td>NaN</td>\n",
       "      <td>10.0</td>\n",
       "      <td>[['Unique cuisine', 'Delicious Nepalese food']...</td>\n",
       "    </tr>\n",
       "    <tr>\n",
       "      <th>2</th>\n",
       "      <td>id_352</td>\n",
       "      <td>0</td>\n",
       "      <td>0</td>\n",
       "      <td>0</td>\n",
       "      <td>0</td>\n",
       "      <td>0</td>\n",
       "      <td>0</td>\n",
       "      <td>0</td>\n",
       "      <td>0</td>\n",
       "      <td>0</td>\n",
       "      <td>...</td>\n",
       "      <td>0</td>\n",
       "      <td>0</td>\n",
       "      <td>0</td>\n",
       "      <td>0</td>\n",
       "      <td>['Japanese', 'Sushi', 'Asian', 'Grill', 'Veget...</td>\n",
       "      <td>353.0</td>\n",
       "      <td>4.5</td>\n",
       "      <td>$$$$</td>\n",
       "      <td>688.0</td>\n",
       "      <td>[['Catch up with friends', 'Not exceptional'],...</td>\n",
       "    </tr>\n",
       "    <tr>\n",
       "      <th>3</th>\n",
       "      <td>id_3456</td>\n",
       "      <td>0</td>\n",
       "      <td>0</td>\n",
       "      <td>0</td>\n",
       "      <td>0</td>\n",
       "      <td>0</td>\n",
       "      <td>0</td>\n",
       "      <td>0</td>\n",
       "      <td>0</td>\n",
       "      <td>0</td>\n",
       "      <td>...</td>\n",
       "      <td>1</td>\n",
       "      <td>0</td>\n",
       "      <td>0</td>\n",
       "      <td>0</td>\n",
       "      <td>NaN</td>\n",
       "      <td>3458.0</td>\n",
       "      <td>5.0</td>\n",
       "      <td>NaN</td>\n",
       "      <td>3.0</td>\n",
       "      <td>[[], []]</td>\n",
       "    </tr>\n",
       "    <tr>\n",
       "      <th>4</th>\n",
       "      <td>id_615</td>\n",
       "      <td>0</td>\n",
       "      <td>0</td>\n",
       "      <td>0</td>\n",
       "      <td>0</td>\n",
       "      <td>0</td>\n",
       "      <td>0</td>\n",
       "      <td>0</td>\n",
       "      <td>0</td>\n",
       "      <td>0</td>\n",
       "      <td>...</td>\n",
       "      <td>0</td>\n",
       "      <td>0</td>\n",
       "      <td>0</td>\n",
       "      <td>0</td>\n",
       "      <td>['German', 'Central European', 'Vegetarian Fri...</td>\n",
       "      <td>621.0</td>\n",
       "      <td>4.0</td>\n",
       "      <td>$$ - $$$</td>\n",
       "      <td>84.0</td>\n",
       "      <td>[['Best place to try a Bavarian food', 'Nice b...</td>\n",
       "    </tr>\n",
       "    <tr>\n",
       "      <th>...</th>\n",
       "      <td>...</td>\n",
       "      <td>...</td>\n",
       "      <td>...</td>\n",
       "      <td>...</td>\n",
       "      <td>...</td>\n",
       "      <td>...</td>\n",
       "      <td>...</td>\n",
       "      <td>...</td>\n",
       "      <td>...</td>\n",
       "      <td>...</td>\n",
       "      <td>...</td>\n",
       "      <td>...</td>\n",
       "      <td>...</td>\n",
       "      <td>...</td>\n",
       "      <td>...</td>\n",
       "      <td>...</td>\n",
       "      <td>...</td>\n",
       "      <td>...</td>\n",
       "      <td>...</td>\n",
       "      <td>...</td>\n",
       "      <td>...</td>\n",
       "    </tr>\n",
       "    <tr>\n",
       "      <th>39995</th>\n",
       "      <td>id_499</td>\n",
       "      <td>0</td>\n",
       "      <td>0</td>\n",
       "      <td>0</td>\n",
       "      <td>0</td>\n",
       "      <td>0</td>\n",
       "      <td>0</td>\n",
       "      <td>0</td>\n",
       "      <td>0</td>\n",
       "      <td>0</td>\n",
       "      <td>...</td>\n",
       "      <td>0</td>\n",
       "      <td>0</td>\n",
       "      <td>0</td>\n",
       "      <td>0</td>\n",
       "      <td>['Italian', 'Vegetarian Friendly', 'Vegan Opti...</td>\n",
       "      <td>500.0</td>\n",
       "      <td>4.5</td>\n",
       "      <td>$$ - $$$</td>\n",
       "      <td>79.0</td>\n",
       "      <td>[['The real Italian experience!', 'Wonderful f...</td>\n",
       "    </tr>\n",
       "    <tr>\n",
       "      <th>39996</th>\n",
       "      <td>id_6340</td>\n",
       "      <td>0</td>\n",
       "      <td>0</td>\n",
       "      <td>0</td>\n",
       "      <td>0</td>\n",
       "      <td>0</td>\n",
       "      <td>0</td>\n",
       "      <td>1</td>\n",
       "      <td>0</td>\n",
       "      <td>0</td>\n",
       "      <td>...</td>\n",
       "      <td>0</td>\n",
       "      <td>0</td>\n",
       "      <td>0</td>\n",
       "      <td>0</td>\n",
       "      <td>['French', 'American', 'Bar', 'European', 'Veg...</td>\n",
       "      <td>6341.0</td>\n",
       "      <td>3.5</td>\n",
       "      <td>$$ - $$$</td>\n",
       "      <td>542.0</td>\n",
       "      <td>[['Parisian atmosphere', 'Bit pricey but inter...</td>\n",
       "    </tr>\n",
       "    <tr>\n",
       "      <th>39997</th>\n",
       "      <td>id_1649</td>\n",
       "      <td>0</td>\n",
       "      <td>0</td>\n",
       "      <td>0</td>\n",
       "      <td>1</td>\n",
       "      <td>0</td>\n",
       "      <td>0</td>\n",
       "      <td>0</td>\n",
       "      <td>0</td>\n",
       "      <td>0</td>\n",
       "      <td>...</td>\n",
       "      <td>0</td>\n",
       "      <td>0</td>\n",
       "      <td>0</td>\n",
       "      <td>0</td>\n",
       "      <td>['Japanese', 'Sushi']</td>\n",
       "      <td>1652.0</td>\n",
       "      <td>4.5</td>\n",
       "      <td>NaN</td>\n",
       "      <td>4.0</td>\n",
       "      <td>[['Good by swedish standards', 'A hidden jewel...</td>\n",
       "    </tr>\n",
       "    <tr>\n",
       "      <th>39998</th>\n",
       "      <td>id_640</td>\n",
       "      <td>0</td>\n",
       "      <td>1</td>\n",
       "      <td>0</td>\n",
       "      <td>0</td>\n",
       "      <td>0</td>\n",
       "      <td>0</td>\n",
       "      <td>0</td>\n",
       "      <td>0</td>\n",
       "      <td>0</td>\n",
       "      <td>...</td>\n",
       "      <td>0</td>\n",
       "      <td>0</td>\n",
       "      <td>0</td>\n",
       "      <td>0</td>\n",
       "      <td>['Polish', 'European', 'Eastern European', 'Ce...</td>\n",
       "      <td>641.0</td>\n",
       "      <td>4.0</td>\n",
       "      <td>$$ - $$$</td>\n",
       "      <td>70.0</td>\n",
       "      <td>[['Underground restaurant', 'Oldest Restaurant...</td>\n",
       "    </tr>\n",
       "    <tr>\n",
       "      <th>39999</th>\n",
       "      <td>id_4824</td>\n",
       "      <td>0</td>\n",
       "      <td>0</td>\n",
       "      <td>0</td>\n",
       "      <td>0</td>\n",
       "      <td>0</td>\n",
       "      <td>0</td>\n",
       "      <td>0</td>\n",
       "      <td>0</td>\n",
       "      <td>0</td>\n",
       "      <td>...</td>\n",
       "      <td>0</td>\n",
       "      <td>0</td>\n",
       "      <td>0</td>\n",
       "      <td>0</td>\n",
       "      <td>['Spanish']</td>\n",
       "      <td>4827.0</td>\n",
       "      <td>3.0</td>\n",
       "      <td>$$ - $$$</td>\n",
       "      <td>260.0</td>\n",
       "      <td>[['Average', 'Nice an informal'], ['01/31/2016...</td>\n",
       "    </tr>\n",
       "  </tbody>\n",
       "</table>\n",
       "<p>40000 rows × 38 columns</p>\n",
       "</div>"
      ],
      "text/plain": [
       "      Restaurant_id  Zurich  Warsaw  Vienna  Stockholm  Rome  Prague  Paris  \\\n",
       "0           id_5569       0       0       0          0     0       0      1   \n",
       "1           id_1535       0       0       0          1     0       0      0   \n",
       "2            id_352       0       0       0          0     0       0      0   \n",
       "3           id_3456       0       0       0          0     0       0      0   \n",
       "4            id_615       0       0       0          0     0       0      0   \n",
       "...             ...     ...     ...     ...        ...   ...     ...    ...   \n",
       "39995        id_499       0       0       0          0     0       0      0   \n",
       "39996       id_6340       0       0       0          0     0       0      1   \n",
       "39997       id_1649       0       0       0          1     0       0      0   \n",
       "39998        id_640       0       1       0          0     0       0      0   \n",
       "39999       id_4824       0       0       0          0     0       0      0   \n",
       "\n",
       "       Oslo  Oporto  ...  Berlin  Barcelona  Athens  Amsterdam  \\\n",
       "0         0       0  ...       0          0       0          0   \n",
       "1         0       0  ...       0          0       0          0   \n",
       "2         0       0  ...       0          0       0          0   \n",
       "3         0       0  ...       1          0       0          0   \n",
       "4         0       0  ...       0          0       0          0   \n",
       "...     ...     ...  ...     ...        ...     ...        ...   \n",
       "39995     0       0  ...       0          0       0          0   \n",
       "39996     0       0  ...       0          0       0          0   \n",
       "39997     0       0  ...       0          0       0          0   \n",
       "39998     0       0  ...       0          0       0          0   \n",
       "39999     0       0  ...       0          0       0          0   \n",
       "\n",
       "                                           Cuisine Style  Ranking  Rating  \\\n",
       "0                ['European', 'French', 'International']   5570.0     3.5   \n",
       "1                                                    NaN   1537.0     4.0   \n",
       "2      ['Japanese', 'Sushi', 'Asian', 'Grill', 'Veget...    353.0     4.5   \n",
       "3                                                    NaN   3458.0     5.0   \n",
       "4      ['German', 'Central European', 'Vegetarian Fri...    621.0     4.0   \n",
       "...                                                  ...      ...     ...   \n",
       "39995  ['Italian', 'Vegetarian Friendly', 'Vegan Opti...    500.0     4.5   \n",
       "39996  ['French', 'American', 'Bar', 'European', 'Veg...   6341.0     3.5   \n",
       "39997                              ['Japanese', 'Sushi']   1652.0     4.5   \n",
       "39998  ['Polish', 'European', 'Eastern European', 'Ce...    641.0     4.0   \n",
       "39999                                        ['Spanish']   4827.0     3.0   \n",
       "\n",
       "       Price Range  Number of Reviews  \\\n",
       "0         $$ - $$$              194.0   \n",
       "1              NaN               10.0   \n",
       "2             $$$$              688.0   \n",
       "3              NaN                3.0   \n",
       "4         $$ - $$$               84.0   \n",
       "...            ...                ...   \n",
       "39995     $$ - $$$               79.0   \n",
       "39996     $$ - $$$              542.0   \n",
       "39997          NaN                4.0   \n",
       "39998     $$ - $$$               70.0   \n",
       "39999     $$ - $$$              260.0   \n",
       "\n",
       "                                                 Reviews  \n",
       "0      [['Good food at your doorstep', 'A good hotel ...  \n",
       "1      [['Unique cuisine', 'Delicious Nepalese food']...  \n",
       "2      [['Catch up with friends', 'Not exceptional'],...  \n",
       "3                                               [[], []]  \n",
       "4      [['Best place to try a Bavarian food', 'Nice b...  \n",
       "...                                                  ...  \n",
       "39995  [['The real Italian experience!', 'Wonderful f...  \n",
       "39996  [['Parisian atmosphere', 'Bit pricey but inter...  \n",
       "39997  [['Good by swedish standards', 'A hidden jewel...  \n",
       "39998  [['Underground restaurant', 'Oldest Restaurant...  \n",
       "39999  [['Average', 'Nice an informal'], ['01/31/2016...  \n",
       "\n",
       "[40000 rows x 38 columns]"
      ]
     },
     "execution_count": 15,
     "metadata": {},
     "output_type": "execute_result"
    }
   ],
   "source": [
    "df1"
   ]
  },
  {
   "cell_type": "markdown",
   "metadata": {},
   "source": [
    "Столбец Cuisine Style. df.info() показал, что в столбце есть пропуски. Также столбец содержит на данный момент даже не списки, а просто текст => нужно:\n",
    "<br> 1) заполнить пробелы;\n",
    "<br> 2) превратить текст в списки значений.\n",
    "\n",
    "<br> пропуски заполню значением \"other_cuisines\".\n",
    "<br> для превращения текста в списки использую написанную функцию str_to_list - определение функции см. в самом верху ноутбука"
   ]
  },
  {
   "cell_type": "code",
   "execution_count": 16,
   "metadata": {},
   "outputs": [],
   "source": [
    "df1['Cuisine Style'] = df1['Cuisine Style'].fillna('other_cuisines').apply(str_to_list)"
   ]
  },
  {
   "cell_type": "code",
   "execution_count": 17,
   "metadata": {},
   "outputs": [
    {
     "name": "stdout",
     "output_type": "stream",
     "text": [
      "<class 'pandas.core.frame.DataFrame'>\n",
      "RangeIndex: 40000 entries, 0 to 39999\n",
      "Data columns (total 38 columns):\n",
      " #   Column             Non-Null Count  Dtype  \n",
      "---  ------             --------------  -----  \n",
      " 0   Restaurant_id      40000 non-null  object \n",
      " 1   Zurich             40000 non-null  uint8  \n",
      " 2   Warsaw             40000 non-null  uint8  \n",
      " 3   Vienna             40000 non-null  uint8  \n",
      " 4   Stockholm          40000 non-null  uint8  \n",
      " 5   Rome               40000 non-null  uint8  \n",
      " 6   Prague             40000 non-null  uint8  \n",
      " 7   Paris              40000 non-null  uint8  \n",
      " 8   Oslo               40000 non-null  uint8  \n",
      " 9   Oporto             40000 non-null  uint8  \n",
      " 10  Munich             40000 non-null  uint8  \n",
      " 11  Milan              40000 non-null  uint8  \n",
      " 12  Madrid             40000 non-null  uint8  \n",
      " 13  Lyon               40000 non-null  uint8  \n",
      " 14  Luxembourg         40000 non-null  uint8  \n",
      " 15  London             40000 non-null  uint8  \n",
      " 16  Ljubljana          40000 non-null  uint8  \n",
      " 17  Lisbon             40000 non-null  uint8  \n",
      " 18  Krakow             40000 non-null  uint8  \n",
      " 19  Helsinki           40000 non-null  uint8  \n",
      " 20  Hamburg            40000 non-null  uint8  \n",
      " 21  Geneva             40000 non-null  uint8  \n",
      " 22  Edinburgh          40000 non-null  uint8  \n",
      " 23  Dublin             40000 non-null  uint8  \n",
      " 24  Copenhagen         40000 non-null  uint8  \n",
      " 25  Budapest           40000 non-null  uint8  \n",
      " 26  Brussels           40000 non-null  uint8  \n",
      " 27  Bratislava         40000 non-null  uint8  \n",
      " 28  Berlin             40000 non-null  uint8  \n",
      " 29  Barcelona          40000 non-null  uint8  \n",
      " 30  Athens             40000 non-null  uint8  \n",
      " 31  Amsterdam          40000 non-null  uint8  \n",
      " 32  Cuisine Style      40000 non-null  object \n",
      " 33  Ranking            40000 non-null  float64\n",
      " 34  Rating             40000 non-null  float64\n",
      " 35  Price Range        26114 non-null  object \n",
      " 36  Number of Reviews  37457 non-null  float64\n",
      " 37  Reviews            40000 non-null  object \n",
      "dtypes: float64(3), object(4), uint8(31)\n",
      "memory usage: 3.3+ MB\n"
     ]
    }
   ],
   "source": [
    "df1.info()"
   ]
  },
  {
   "cell_type": "code",
   "execution_count": 18,
   "metadata": {},
   "outputs": [
    {
     "name": "stdout",
     "output_type": "stream",
     "text": [
      "European\n",
      "French\n",
      "International\n"
     ]
    }
   ],
   "source": [
    "for i in df1['Cuisine Style'][0]:\n",
    "    print(i)"
   ]
  },
  {
   "cell_type": "markdown",
   "metadata": {},
   "source": [
    "в двух ячейках выше я проверил, что пропусков больше нет, и что теперь в ячейкайх списки значений, а не просто текст.\n",
    "\n",
    "<br> составим список всех кухонь"
   ]
  },
  {
   "cell_type": "code",
   "execution_count": 19,
   "metadata": {},
   "outputs": [
    {
     "data": {
      "text/plain": [
       "Index(['Vegetarian Friendly', 'European', 'other_cuisines', 'Mediterranean',\n",
       "       'Italian', 'Vegan Options', 'Gluten Free Options', 'Bar', 'French',\n",
       "       'Asian',\n",
       "       ...\n",
       "       'Ecuadorean', 'Fujian', 'Welsh', 'Polynesian', 'Azerbaijani',\n",
       "       'Salvadoran', 'Burmese', 'Latvian', 'Yunnan', 'Xinjiang'],\n",
       "      dtype='object', length=126)"
      ]
     },
     "execution_count": 19,
     "metadata": {},
     "output_type": "execute_result"
    }
   ],
   "source": [
    "cuisines_list = []\n",
    "for c_list in df1['Cuisine Style']:\n",
    "    for cus in c_list:\n",
    "        cuisines_list.append(cus)\n",
    "cus_freq = pd.Series(cuisines_list).value_counts()\n",
    "cus_list = cus_freq.index\n",
    "cus_list\n"
   ]
  },
  {
   "cell_type": "markdown",
   "metadata": {},
   "source": [
    "Список составили в ячейке выше. Теперь по аналогии со столбцами с городами, добавим столбцы с названиями кухонь. С тем отличием, что в случае с городами, мы сразу могли, используя get_dummies метод заполнить же столбцы, а в случае с кухнями, нам нужно будет сначала создать столбцы, заполненные 0, затем - заполнить их. Т.к. в столбце Cuisine Style содержатся списки, а не конкретные единичные значения."
   ]
  },
  {
   "cell_type": "code",
   "execution_count": 20,
   "metadata": {},
   "outputs": [
    {
     "data": {
      "text/html": [
       "<div>\n",
       "<style scoped>\n",
       "    .dataframe tbody tr th:only-of-type {\n",
       "        vertical-align: middle;\n",
       "    }\n",
       "\n",
       "    .dataframe tbody tr th {\n",
       "        vertical-align: top;\n",
       "    }\n",
       "\n",
       "    .dataframe thead th {\n",
       "        text-align: right;\n",
       "    }\n",
       "</style>\n",
       "<table border=\"1\" class=\"dataframe\">\n",
       "  <thead>\n",
       "    <tr style=\"text-align: right;\">\n",
       "      <th></th>\n",
       "      <th>Restaurant_id</th>\n",
       "      <th>Zurich</th>\n",
       "      <th>Warsaw</th>\n",
       "      <th>Vienna</th>\n",
       "      <th>Stockholm</th>\n",
       "      <th>Rome</th>\n",
       "      <th>Prague</th>\n",
       "      <th>Paris</th>\n",
       "      <th>Oslo</th>\n",
       "      <th>Oporto</th>\n",
       "      <th>...</th>\n",
       "      <th>Italian</th>\n",
       "      <th>Mediterranean</th>\n",
       "      <th>other_cuisines</th>\n",
       "      <th>European</th>\n",
       "      <th>Vegetarian Friendly</th>\n",
       "      <th>Ranking</th>\n",
       "      <th>Rating</th>\n",
       "      <th>Price Range</th>\n",
       "      <th>Number of Reviews</th>\n",
       "      <th>Reviews</th>\n",
       "    </tr>\n",
       "  </thead>\n",
       "  <tbody>\n",
       "    <tr>\n",
       "      <th>0</th>\n",
       "      <td>id_5569</td>\n",
       "      <td>0</td>\n",
       "      <td>0</td>\n",
       "      <td>0</td>\n",
       "      <td>0</td>\n",
       "      <td>0</td>\n",
       "      <td>0</td>\n",
       "      <td>1</td>\n",
       "      <td>0</td>\n",
       "      <td>0</td>\n",
       "      <td>...</td>\n",
       "      <td>0</td>\n",
       "      <td>0</td>\n",
       "      <td>0</td>\n",
       "      <td>0</td>\n",
       "      <td>0</td>\n",
       "      <td>5570.0</td>\n",
       "      <td>3.5</td>\n",
       "      <td>$$ - $$$</td>\n",
       "      <td>194.0</td>\n",
       "      <td>[['Good food at your doorstep', 'A good hotel ...</td>\n",
       "    </tr>\n",
       "    <tr>\n",
       "      <th>1</th>\n",
       "      <td>id_1535</td>\n",
       "      <td>0</td>\n",
       "      <td>0</td>\n",
       "      <td>0</td>\n",
       "      <td>1</td>\n",
       "      <td>0</td>\n",
       "      <td>0</td>\n",
       "      <td>0</td>\n",
       "      <td>0</td>\n",
       "      <td>0</td>\n",
       "      <td>...</td>\n",
       "      <td>0</td>\n",
       "      <td>0</td>\n",
       "      <td>0</td>\n",
       "      <td>0</td>\n",
       "      <td>0</td>\n",
       "      <td>1537.0</td>\n",
       "      <td>4.0</td>\n",
       "      <td>NaN</td>\n",
       "      <td>10.0</td>\n",
       "      <td>[['Unique cuisine', 'Delicious Nepalese food']...</td>\n",
       "    </tr>\n",
       "    <tr>\n",
       "      <th>2</th>\n",
       "      <td>id_352</td>\n",
       "      <td>0</td>\n",
       "      <td>0</td>\n",
       "      <td>0</td>\n",
       "      <td>0</td>\n",
       "      <td>0</td>\n",
       "      <td>0</td>\n",
       "      <td>0</td>\n",
       "      <td>0</td>\n",
       "      <td>0</td>\n",
       "      <td>...</td>\n",
       "      <td>0</td>\n",
       "      <td>0</td>\n",
       "      <td>0</td>\n",
       "      <td>0</td>\n",
       "      <td>0</td>\n",
       "      <td>353.0</td>\n",
       "      <td>4.5</td>\n",
       "      <td>$$$$</td>\n",
       "      <td>688.0</td>\n",
       "      <td>[['Catch up with friends', 'Not exceptional'],...</td>\n",
       "    </tr>\n",
       "    <tr>\n",
       "      <th>3</th>\n",
       "      <td>id_3456</td>\n",
       "      <td>0</td>\n",
       "      <td>0</td>\n",
       "      <td>0</td>\n",
       "      <td>0</td>\n",
       "      <td>0</td>\n",
       "      <td>0</td>\n",
       "      <td>0</td>\n",
       "      <td>0</td>\n",
       "      <td>0</td>\n",
       "      <td>...</td>\n",
       "      <td>0</td>\n",
       "      <td>0</td>\n",
       "      <td>0</td>\n",
       "      <td>0</td>\n",
       "      <td>0</td>\n",
       "      <td>3458.0</td>\n",
       "      <td>5.0</td>\n",
       "      <td>NaN</td>\n",
       "      <td>3.0</td>\n",
       "      <td>[[], []]</td>\n",
       "    </tr>\n",
       "    <tr>\n",
       "      <th>4</th>\n",
       "      <td>id_615</td>\n",
       "      <td>0</td>\n",
       "      <td>0</td>\n",
       "      <td>0</td>\n",
       "      <td>0</td>\n",
       "      <td>0</td>\n",
       "      <td>0</td>\n",
       "      <td>0</td>\n",
       "      <td>0</td>\n",
       "      <td>0</td>\n",
       "      <td>...</td>\n",
       "      <td>0</td>\n",
       "      <td>0</td>\n",
       "      <td>0</td>\n",
       "      <td>0</td>\n",
       "      <td>0</td>\n",
       "      <td>621.0</td>\n",
       "      <td>4.0</td>\n",
       "      <td>$$ - $$$</td>\n",
       "      <td>84.0</td>\n",
       "      <td>[['Best place to try a Bavarian food', 'Nice b...</td>\n",
       "    </tr>\n",
       "    <tr>\n",
       "      <th>...</th>\n",
       "      <td>...</td>\n",
       "      <td>...</td>\n",
       "      <td>...</td>\n",
       "      <td>...</td>\n",
       "      <td>...</td>\n",
       "      <td>...</td>\n",
       "      <td>...</td>\n",
       "      <td>...</td>\n",
       "      <td>...</td>\n",
       "      <td>...</td>\n",
       "      <td>...</td>\n",
       "      <td>...</td>\n",
       "      <td>...</td>\n",
       "      <td>...</td>\n",
       "      <td>...</td>\n",
       "      <td>...</td>\n",
       "      <td>...</td>\n",
       "      <td>...</td>\n",
       "      <td>...</td>\n",
       "      <td>...</td>\n",
       "      <td>...</td>\n",
       "    </tr>\n",
       "    <tr>\n",
       "      <th>39995</th>\n",
       "      <td>id_499</td>\n",
       "      <td>0</td>\n",
       "      <td>0</td>\n",
       "      <td>0</td>\n",
       "      <td>0</td>\n",
       "      <td>0</td>\n",
       "      <td>0</td>\n",
       "      <td>0</td>\n",
       "      <td>0</td>\n",
       "      <td>0</td>\n",
       "      <td>...</td>\n",
       "      <td>0</td>\n",
       "      <td>0</td>\n",
       "      <td>0</td>\n",
       "      <td>0</td>\n",
       "      <td>0</td>\n",
       "      <td>500.0</td>\n",
       "      <td>4.5</td>\n",
       "      <td>$$ - $$$</td>\n",
       "      <td>79.0</td>\n",
       "      <td>[['The real Italian experience!', 'Wonderful f...</td>\n",
       "    </tr>\n",
       "    <tr>\n",
       "      <th>39996</th>\n",
       "      <td>id_6340</td>\n",
       "      <td>0</td>\n",
       "      <td>0</td>\n",
       "      <td>0</td>\n",
       "      <td>0</td>\n",
       "      <td>0</td>\n",
       "      <td>0</td>\n",
       "      <td>1</td>\n",
       "      <td>0</td>\n",
       "      <td>0</td>\n",
       "      <td>...</td>\n",
       "      <td>0</td>\n",
       "      <td>0</td>\n",
       "      <td>0</td>\n",
       "      <td>0</td>\n",
       "      <td>0</td>\n",
       "      <td>6341.0</td>\n",
       "      <td>3.5</td>\n",
       "      <td>$$ - $$$</td>\n",
       "      <td>542.0</td>\n",
       "      <td>[['Parisian atmosphere', 'Bit pricey but inter...</td>\n",
       "    </tr>\n",
       "    <tr>\n",
       "      <th>39997</th>\n",
       "      <td>id_1649</td>\n",
       "      <td>0</td>\n",
       "      <td>0</td>\n",
       "      <td>0</td>\n",
       "      <td>1</td>\n",
       "      <td>0</td>\n",
       "      <td>0</td>\n",
       "      <td>0</td>\n",
       "      <td>0</td>\n",
       "      <td>0</td>\n",
       "      <td>...</td>\n",
       "      <td>0</td>\n",
       "      <td>0</td>\n",
       "      <td>0</td>\n",
       "      <td>0</td>\n",
       "      <td>0</td>\n",
       "      <td>1652.0</td>\n",
       "      <td>4.5</td>\n",
       "      <td>NaN</td>\n",
       "      <td>4.0</td>\n",
       "      <td>[['Good by swedish standards', 'A hidden jewel...</td>\n",
       "    </tr>\n",
       "    <tr>\n",
       "      <th>39998</th>\n",
       "      <td>id_640</td>\n",
       "      <td>0</td>\n",
       "      <td>1</td>\n",
       "      <td>0</td>\n",
       "      <td>0</td>\n",
       "      <td>0</td>\n",
       "      <td>0</td>\n",
       "      <td>0</td>\n",
       "      <td>0</td>\n",
       "      <td>0</td>\n",
       "      <td>...</td>\n",
       "      <td>0</td>\n",
       "      <td>0</td>\n",
       "      <td>0</td>\n",
       "      <td>0</td>\n",
       "      <td>0</td>\n",
       "      <td>641.0</td>\n",
       "      <td>4.0</td>\n",
       "      <td>$$ - $$$</td>\n",
       "      <td>70.0</td>\n",
       "      <td>[['Underground restaurant', 'Oldest Restaurant...</td>\n",
       "    </tr>\n",
       "    <tr>\n",
       "      <th>39999</th>\n",
       "      <td>id_4824</td>\n",
       "      <td>0</td>\n",
       "      <td>0</td>\n",
       "      <td>0</td>\n",
       "      <td>0</td>\n",
       "      <td>0</td>\n",
       "      <td>0</td>\n",
       "      <td>0</td>\n",
       "      <td>0</td>\n",
       "      <td>0</td>\n",
       "      <td>...</td>\n",
       "      <td>0</td>\n",
       "      <td>0</td>\n",
       "      <td>0</td>\n",
       "      <td>0</td>\n",
       "      <td>0</td>\n",
       "      <td>4827.0</td>\n",
       "      <td>3.0</td>\n",
       "      <td>$$ - $$$</td>\n",
       "      <td>260.0</td>\n",
       "      <td>[['Average', 'Nice an informal'], ['01/31/2016...</td>\n",
       "    </tr>\n",
       "  </tbody>\n",
       "</table>\n",
       "<p>40000 rows × 164 columns</p>\n",
       "</div>"
      ],
      "text/plain": [
       "      Restaurant_id  Zurich  Warsaw  Vienna  Stockholm  Rome  Prague  Paris  \\\n",
       "0           id_5569       0       0       0          0     0       0      1   \n",
       "1           id_1535       0       0       0          1     0       0      0   \n",
       "2            id_352       0       0       0          0     0       0      0   \n",
       "3           id_3456       0       0       0          0     0       0      0   \n",
       "4            id_615       0       0       0          0     0       0      0   \n",
       "...             ...     ...     ...     ...        ...   ...     ...    ...   \n",
       "39995        id_499       0       0       0          0     0       0      0   \n",
       "39996       id_6340       0       0       0          0     0       0      1   \n",
       "39997       id_1649       0       0       0          1     0       0      0   \n",
       "39998        id_640       0       1       0          0     0       0      0   \n",
       "39999       id_4824       0       0       0          0     0       0      0   \n",
       "\n",
       "       Oslo  Oporto  ...  Italian  Mediterranean  other_cuisines  European  \\\n",
       "0         0       0  ...        0              0               0         0   \n",
       "1         0       0  ...        0              0               0         0   \n",
       "2         0       0  ...        0              0               0         0   \n",
       "3         0       0  ...        0              0               0         0   \n",
       "4         0       0  ...        0              0               0         0   \n",
       "...     ...     ...  ...      ...            ...             ...       ...   \n",
       "39995     0       0  ...        0              0               0         0   \n",
       "39996     0       0  ...        0              0               0         0   \n",
       "39997     0       0  ...        0              0               0         0   \n",
       "39998     0       0  ...        0              0               0         0   \n",
       "39999     0       0  ...        0              0               0         0   \n",
       "\n",
       "       Vegetarian Friendly  Ranking  Rating  Price Range  Number of Reviews  \\\n",
       "0                        0   5570.0     3.5     $$ - $$$              194.0   \n",
       "1                        0   1537.0     4.0          NaN               10.0   \n",
       "2                        0    353.0     4.5         $$$$              688.0   \n",
       "3                        0   3458.0     5.0          NaN                3.0   \n",
       "4                        0    621.0     4.0     $$ - $$$               84.0   \n",
       "...                    ...      ...     ...          ...                ...   \n",
       "39995                    0    500.0     4.5     $$ - $$$               79.0   \n",
       "39996                    0   6341.0     3.5     $$ - $$$              542.0   \n",
       "39997                    0   1652.0     4.5          NaN                4.0   \n",
       "39998                    0    641.0     4.0     $$ - $$$               70.0   \n",
       "39999                    0   4827.0     3.0     $$ - $$$              260.0   \n",
       "\n",
       "                                                 Reviews  \n",
       "0      [['Good food at your doorstep', 'A good hotel ...  \n",
       "1      [['Unique cuisine', 'Delicious Nepalese food']...  \n",
       "2      [['Catch up with friends', 'Not exceptional'],...  \n",
       "3                                               [[], []]  \n",
       "4      [['Best place to try a Bavarian food', 'Nice b...  \n",
       "...                                                  ...  \n",
       "39995  [['The real Italian experience!', 'Wonderful f...  \n",
       "39996  [['Parisian atmosphere', 'Bit pricey but inter...  \n",
       "39997  [['Good by swedish standards', 'A hidden jewel...  \n",
       "39998  [['Underground restaurant', 'Oldest Restaurant...  \n",
       "39999  [['Average', 'Nice an informal'], ['01/31/2016...  \n",
       "\n",
       "[40000 rows x 164 columns]"
      ]
     },
     "execution_count": 20,
     "metadata": {},
     "output_type": "execute_result"
    }
   ],
   "source": [
    "for i in cus_list:\n",
    "    df1.insert(33,i,0)\n",
    "df1"
   ]
  },
  {
   "cell_type": "markdown",
   "metadata": {},
   "source": [
    "столбцы создали, в ячейке выше. Ниже заполняем их."
   ]
  },
  {
   "cell_type": "code",
   "execution_count": 21,
   "metadata": {},
   "outputs": [
    {
     "name": "stderr",
     "output_type": "stream",
     "text": [
      "A:\\anaconda\\lib\\site-packages\\ipykernel_launcher.py:4: SettingWithCopyWarning: \n",
      "A value is trying to be set on a copy of a slice from a DataFrame\n",
      "\n",
      "See the caveats in the documentation: https://pandas.pydata.org/pandas-docs/stable/user_guide/indexing.html#returning-a-view-versus-a-copy\n",
      "  after removing the cwd from sys.path.\n"
     ]
    }
   ],
   "source": [
    "for i in df1['Cuisine Style'].index:\n",
    "    Cus_style_value = df1['Cuisine Style'][i]    \n",
    "    for j in Cus_style_value:\n",
    "        df1[j][i] = 1"
   ]
  },
  {
   "cell_type": "code",
   "execution_count": 22,
   "metadata": {},
   "outputs": [],
   "source": [
    "pd.set_option('display.max_columns', None)"
   ]
  },
  {
   "cell_type": "code",
   "execution_count": 23,
   "metadata": {},
   "outputs": [
    {
     "data": {
      "text/html": [
       "<div>\n",
       "<style scoped>\n",
       "    .dataframe tbody tr th:only-of-type {\n",
       "        vertical-align: middle;\n",
       "    }\n",
       "\n",
       "    .dataframe tbody tr th {\n",
       "        vertical-align: top;\n",
       "    }\n",
       "\n",
       "    .dataframe thead th {\n",
       "        text-align: right;\n",
       "    }\n",
       "</style>\n",
       "<table border=\"1\" class=\"dataframe\">\n",
       "  <thead>\n",
       "    <tr style=\"text-align: right;\">\n",
       "      <th></th>\n",
       "      <th>Restaurant_id</th>\n",
       "      <th>Zurich</th>\n",
       "      <th>Warsaw</th>\n",
       "      <th>Vienna</th>\n",
       "      <th>Stockholm</th>\n",
       "      <th>Rome</th>\n",
       "      <th>Prague</th>\n",
       "      <th>Paris</th>\n",
       "      <th>Oslo</th>\n",
       "      <th>Oporto</th>\n",
       "      <th>Munich</th>\n",
       "      <th>Milan</th>\n",
       "      <th>Madrid</th>\n",
       "      <th>Lyon</th>\n",
       "      <th>Luxembourg</th>\n",
       "      <th>London</th>\n",
       "      <th>Ljubljana</th>\n",
       "      <th>Lisbon</th>\n",
       "      <th>Krakow</th>\n",
       "      <th>Helsinki</th>\n",
       "      <th>Hamburg</th>\n",
       "      <th>Geneva</th>\n",
       "      <th>Edinburgh</th>\n",
       "      <th>Dublin</th>\n",
       "      <th>Copenhagen</th>\n",
       "      <th>Budapest</th>\n",
       "      <th>Brussels</th>\n",
       "      <th>Bratislava</th>\n",
       "      <th>Berlin</th>\n",
       "      <th>Barcelona</th>\n",
       "      <th>Athens</th>\n",
       "      <th>Amsterdam</th>\n",
       "      <th>Cuisine Style</th>\n",
       "      <th>Xinjiang</th>\n",
       "      <th>Yunnan</th>\n",
       "      <th>Latvian</th>\n",
       "      <th>Burmese</th>\n",
       "      <th>Salvadoran</th>\n",
       "      <th>Azerbaijani</th>\n",
       "      <th>Polynesian</th>\n",
       "      <th>Welsh</th>\n",
       "      <th>Fujian</th>\n",
       "      <th>Ecuadorean</th>\n",
       "      <th>Native American</th>\n",
       "      <th>Caucasian</th>\n",
       "      <th>Uzbek</th>\n",
       "      <th>Canadian</th>\n",
       "      <th>New Zealand</th>\n",
       "      <th>Chilean</th>\n",
       "      <th>Albanian</th>\n",
       "      <th>Romanian</th>\n",
       "      <th>Minority Chinese</th>\n",
       "      <th>Central Asian</th>\n",
       "      <th>Filipino</th>\n",
       "      <th>Mongolian</th>\n",
       "      <th>Armenian</th>\n",
       "      <th>Georgian</th>\n",
       "      <th>Southwestern</th>\n",
       "      <th>Ukrainian</th>\n",
       "      <th>Singaporean</th>\n",
       "      <th>Cambodian</th>\n",
       "      <th>Colombian</th>\n",
       "      <th>Egyptian</th>\n",
       "      <th>Cajun &amp; Creole</th>\n",
       "      <th>Tunisian</th>\n",
       "      <th>Hawaiian</th>\n",
       "      <th>Afghani</th>\n",
       "      <th>Taiwanese</th>\n",
       "      <th>Cuban</th>\n",
       "      <th>Australian</th>\n",
       "      <th>Tibetan</th>\n",
       "      <th>Sri Lankan</th>\n",
       "      <th>Jamaican</th>\n",
       "      <th>Croatian</th>\n",
       "      <th>Malaysian</th>\n",
       "      <th>Venezuelan</th>\n",
       "      <th>Ethiopian</th>\n",
       "      <th>Kosher</th>\n",
       "      <th>Arabic</th>\n",
       "      <th>Persian</th>\n",
       "      <th>Russian</th>\n",
       "      <th>Indonesian</th>\n",
       "      <th>Slovenian</th>\n",
       "      <th>Israeli</th>\n",
       "      <th>Norwegian</th>\n",
       "      <th>Bangladeshi</th>\n",
       "      <th>Nepali</th>\n",
       "      <th>Balti</th>\n",
       "      <th>Caribbean</th>\n",
       "      <th>Peruvian</th>\n",
       "      <th>Pakistani</th>\n",
       "      <th>Brazilian</th>\n",
       "      <th>Central American</th>\n",
       "      <th>Moroccan</th>\n",
       "      <th>African</th>\n",
       "      <th>Scottish</th>\n",
       "      <th>Korean</th>\n",
       "      <th>Argentinean</th>\n",
       "      <th>Swedish</th>\n",
       "      <th>Danish</th>\n",
       "      <th>Swiss</th>\n",
       "      <th>Brew Pub</th>\n",
       "      <th>Street Food</th>\n",
       "      <th>Belgian</th>\n",
       "      <th>Irish</th>\n",
       "      <th>Dutch</th>\n",
       "      <th>Diner</th>\n",
       "      <th>Latin</th>\n",
       "      <th>Lebanese</th>\n",
       "      <th>Scandinavian</th>\n",
       "      <th>Hungarian</th>\n",
       "      <th>Polish</th>\n",
       "      <th>South American</th>\n",
       "      <th>Austrian</th>\n",
       "      <th>Delicatessen</th>\n",
       "      <th>Turkish</th>\n",
       "      <th>Mexican</th>\n",
       "      <th>Gastropub</th>\n",
       "      <th>Grill</th>\n",
       "      <th>Soups</th>\n",
       "      <th>Eastern European</th>\n",
       "      <th>Vietnamese</th>\n",
       "      <th>Contemporary</th>\n",
       "      <th>Barbecue</th>\n",
       "      <th>Steakhouse</th>\n",
       "      <th>Fusion</th>\n",
       "      <th>Czech</th>\n",
       "      <th>Halal</th>\n",
       "      <th>Greek</th>\n",
       "      <th>Healthy</th>\n",
       "      <th>German</th>\n",
       "      <th>Wine Bar</th>\n",
       "      <th>Thai</th>\n",
       "      <th>Middle Eastern</th>\n",
       "      <th>Indian</th>\n",
       "      <th>Portuguese</th>\n",
       "      <th>Chinese</th>\n",
       "      <th>Sushi</th>\n",
       "      <th>American</th>\n",
       "      <th>Central European</th>\n",
       "      <th>Japanese</th>\n",
       "      <th>Seafood</th>\n",
       "      <th>International</th>\n",
       "      <th>British</th>\n",
       "      <th>Fast Food</th>\n",
       "      <th>Cafe</th>\n",
       "      <th>Pub</th>\n",
       "      <th>Spanish</th>\n",
       "      <th>Pizza</th>\n",
       "      <th>Asian</th>\n",
       "      <th>French</th>\n",
       "      <th>Bar</th>\n",
       "      <th>Gluten Free Options</th>\n",
       "      <th>Vegan Options</th>\n",
       "      <th>Italian</th>\n",
       "      <th>Mediterranean</th>\n",
       "      <th>other_cuisines</th>\n",
       "      <th>European</th>\n",
       "      <th>Vegetarian Friendly</th>\n",
       "      <th>Ranking</th>\n",
       "      <th>Rating</th>\n",
       "      <th>Price Range</th>\n",
       "      <th>Number of Reviews</th>\n",
       "      <th>Reviews</th>\n",
       "    </tr>\n",
       "  </thead>\n",
       "  <tbody>\n",
       "    <tr>\n",
       "      <th>14629</th>\n",
       "      <td>id_10298</td>\n",
       "      <td>0</td>\n",
       "      <td>0</td>\n",
       "      <td>0</td>\n",
       "      <td>0</td>\n",
       "      <td>0</td>\n",
       "      <td>0</td>\n",
       "      <td>0</td>\n",
       "      <td>0</td>\n",
       "      <td>0</td>\n",
       "      <td>0</td>\n",
       "      <td>0</td>\n",
       "      <td>0</td>\n",
       "      <td>0</td>\n",
       "      <td>0</td>\n",
       "      <td>1</td>\n",
       "      <td>0</td>\n",
       "      <td>0</td>\n",
       "      <td>0</td>\n",
       "      <td>0</td>\n",
       "      <td>0</td>\n",
       "      <td>0</td>\n",
       "      <td>0</td>\n",
       "      <td>0</td>\n",
       "      <td>0</td>\n",
       "      <td>0</td>\n",
       "      <td>0</td>\n",
       "      <td>0</td>\n",
       "      <td>0</td>\n",
       "      <td>0</td>\n",
       "      <td>0</td>\n",
       "      <td>0</td>\n",
       "      <td>[Cafe]</td>\n",
       "      <td>0</td>\n",
       "      <td>0</td>\n",
       "      <td>0</td>\n",
       "      <td>0</td>\n",
       "      <td>0</td>\n",
       "      <td>0</td>\n",
       "      <td>0</td>\n",
       "      <td>0</td>\n",
       "      <td>0</td>\n",
       "      <td>0</td>\n",
       "      <td>0</td>\n",
       "      <td>0</td>\n",
       "      <td>0</td>\n",
       "      <td>0</td>\n",
       "      <td>0</td>\n",
       "      <td>0</td>\n",
       "      <td>0</td>\n",
       "      <td>0</td>\n",
       "      <td>0</td>\n",
       "      <td>0</td>\n",
       "      <td>0</td>\n",
       "      <td>0</td>\n",
       "      <td>0</td>\n",
       "      <td>0</td>\n",
       "      <td>0</td>\n",
       "      <td>0</td>\n",
       "      <td>0</td>\n",
       "      <td>0</td>\n",
       "      <td>0</td>\n",
       "      <td>0</td>\n",
       "      <td>0</td>\n",
       "      <td>0</td>\n",
       "      <td>0</td>\n",
       "      <td>0</td>\n",
       "      <td>0</td>\n",
       "      <td>0</td>\n",
       "      <td>0</td>\n",
       "      <td>0</td>\n",
       "      <td>0</td>\n",
       "      <td>0</td>\n",
       "      <td>0</td>\n",
       "      <td>0</td>\n",
       "      <td>0</td>\n",
       "      <td>0</td>\n",
       "      <td>0</td>\n",
       "      <td>0</td>\n",
       "      <td>0</td>\n",
       "      <td>0</td>\n",
       "      <td>0</td>\n",
       "      <td>0</td>\n",
       "      <td>0</td>\n",
       "      <td>0</td>\n",
       "      <td>0</td>\n",
       "      <td>0</td>\n",
       "      <td>0</td>\n",
       "      <td>0</td>\n",
       "      <td>0</td>\n",
       "      <td>0</td>\n",
       "      <td>0</td>\n",
       "      <td>0</td>\n",
       "      <td>0</td>\n",
       "      <td>0</td>\n",
       "      <td>0</td>\n",
       "      <td>0</td>\n",
       "      <td>0</td>\n",
       "      <td>0</td>\n",
       "      <td>0</td>\n",
       "      <td>0</td>\n",
       "      <td>0</td>\n",
       "      <td>0</td>\n",
       "      <td>0</td>\n",
       "      <td>0</td>\n",
       "      <td>0</td>\n",
       "      <td>0</td>\n",
       "      <td>0</td>\n",
       "      <td>0</td>\n",
       "      <td>0</td>\n",
       "      <td>0</td>\n",
       "      <td>0</td>\n",
       "      <td>0</td>\n",
       "      <td>0</td>\n",
       "      <td>0</td>\n",
       "      <td>0</td>\n",
       "      <td>0</td>\n",
       "      <td>0</td>\n",
       "      <td>0</td>\n",
       "      <td>0</td>\n",
       "      <td>0</td>\n",
       "      <td>0</td>\n",
       "      <td>0</td>\n",
       "      <td>0</td>\n",
       "      <td>0</td>\n",
       "      <td>0</td>\n",
       "      <td>0</td>\n",
       "      <td>0</td>\n",
       "      <td>0</td>\n",
       "      <td>0</td>\n",
       "      <td>0</td>\n",
       "      <td>0</td>\n",
       "      <td>0</td>\n",
       "      <td>0</td>\n",
       "      <td>0</td>\n",
       "      <td>0</td>\n",
       "      <td>0</td>\n",
       "      <td>0</td>\n",
       "      <td>0</td>\n",
       "      <td>0</td>\n",
       "      <td>0</td>\n",
       "      <td>0</td>\n",
       "      <td>0</td>\n",
       "      <td>0</td>\n",
       "      <td>0</td>\n",
       "      <td>1</td>\n",
       "      <td>0</td>\n",
       "      <td>0</td>\n",
       "      <td>0</td>\n",
       "      <td>0</td>\n",
       "      <td>0</td>\n",
       "      <td>0</td>\n",
       "      <td>0</td>\n",
       "      <td>0</td>\n",
       "      <td>0</td>\n",
       "      <td>0</td>\n",
       "      <td>0</td>\n",
       "      <td>0</td>\n",
       "      <td>0</td>\n",
       "      <td>10307.0</td>\n",
       "      <td>4.0</td>\n",
       "      <td>NaN</td>\n",
       "      <td>16.0</td>\n",
       "      <td>[['Tasty breakfast!', 'Tasty breakfast'], ['12...</td>\n",
       "    </tr>\n",
       "    <tr>\n",
       "      <th>10528</th>\n",
       "      <td>id_1235</td>\n",
       "      <td>0</td>\n",
       "      <td>1</td>\n",
       "      <td>0</td>\n",
       "      <td>0</td>\n",
       "      <td>0</td>\n",
       "      <td>0</td>\n",
       "      <td>0</td>\n",
       "      <td>0</td>\n",
       "      <td>0</td>\n",
       "      <td>0</td>\n",
       "      <td>0</td>\n",
       "      <td>0</td>\n",
       "      <td>0</td>\n",
       "      <td>0</td>\n",
       "      <td>0</td>\n",
       "      <td>0</td>\n",
       "      <td>0</td>\n",
       "      <td>0</td>\n",
       "      <td>0</td>\n",
       "      <td>0</td>\n",
       "      <td>0</td>\n",
       "      <td>0</td>\n",
       "      <td>0</td>\n",
       "      <td>0</td>\n",
       "      <td>0</td>\n",
       "      <td>0</td>\n",
       "      <td>0</td>\n",
       "      <td>0</td>\n",
       "      <td>0</td>\n",
       "      <td>0</td>\n",
       "      <td>0</td>\n",
       "      <td>[other_cuisines]</td>\n",
       "      <td>0</td>\n",
       "      <td>0</td>\n",
       "      <td>0</td>\n",
       "      <td>0</td>\n",
       "      <td>0</td>\n",
       "      <td>0</td>\n",
       "      <td>0</td>\n",
       "      <td>0</td>\n",
       "      <td>0</td>\n",
       "      <td>0</td>\n",
       "      <td>0</td>\n",
       "      <td>0</td>\n",
       "      <td>0</td>\n",
       "      <td>0</td>\n",
       "      <td>0</td>\n",
       "      <td>0</td>\n",
       "      <td>0</td>\n",
       "      <td>0</td>\n",
       "      <td>0</td>\n",
       "      <td>0</td>\n",
       "      <td>0</td>\n",
       "      <td>0</td>\n",
       "      <td>0</td>\n",
       "      <td>0</td>\n",
       "      <td>0</td>\n",
       "      <td>0</td>\n",
       "      <td>0</td>\n",
       "      <td>0</td>\n",
       "      <td>0</td>\n",
       "      <td>0</td>\n",
       "      <td>0</td>\n",
       "      <td>0</td>\n",
       "      <td>0</td>\n",
       "      <td>0</td>\n",
       "      <td>0</td>\n",
       "      <td>0</td>\n",
       "      <td>0</td>\n",
       "      <td>0</td>\n",
       "      <td>0</td>\n",
       "      <td>0</td>\n",
       "      <td>0</td>\n",
       "      <td>0</td>\n",
       "      <td>0</td>\n",
       "      <td>0</td>\n",
       "      <td>0</td>\n",
       "      <td>0</td>\n",
       "      <td>0</td>\n",
       "      <td>0</td>\n",
       "      <td>0</td>\n",
       "      <td>0</td>\n",
       "      <td>0</td>\n",
       "      <td>0</td>\n",
       "      <td>0</td>\n",
       "      <td>0</td>\n",
       "      <td>0</td>\n",
       "      <td>0</td>\n",
       "      <td>0</td>\n",
       "      <td>0</td>\n",
       "      <td>0</td>\n",
       "      <td>0</td>\n",
       "      <td>0</td>\n",
       "      <td>0</td>\n",
       "      <td>0</td>\n",
       "      <td>0</td>\n",
       "      <td>0</td>\n",
       "      <td>0</td>\n",
       "      <td>0</td>\n",
       "      <td>0</td>\n",
       "      <td>0</td>\n",
       "      <td>0</td>\n",
       "      <td>0</td>\n",
       "      <td>0</td>\n",
       "      <td>0</td>\n",
       "      <td>0</td>\n",
       "      <td>0</td>\n",
       "      <td>0</td>\n",
       "      <td>0</td>\n",
       "      <td>0</td>\n",
       "      <td>0</td>\n",
       "      <td>0</td>\n",
       "      <td>0</td>\n",
       "      <td>0</td>\n",
       "      <td>0</td>\n",
       "      <td>0</td>\n",
       "      <td>0</td>\n",
       "      <td>0</td>\n",
       "      <td>0</td>\n",
       "      <td>0</td>\n",
       "      <td>0</td>\n",
       "      <td>0</td>\n",
       "      <td>0</td>\n",
       "      <td>0</td>\n",
       "      <td>0</td>\n",
       "      <td>0</td>\n",
       "      <td>0</td>\n",
       "      <td>0</td>\n",
       "      <td>0</td>\n",
       "      <td>0</td>\n",
       "      <td>0</td>\n",
       "      <td>0</td>\n",
       "      <td>0</td>\n",
       "      <td>0</td>\n",
       "      <td>0</td>\n",
       "      <td>0</td>\n",
       "      <td>0</td>\n",
       "      <td>0</td>\n",
       "      <td>0</td>\n",
       "      <td>0</td>\n",
       "      <td>0</td>\n",
       "      <td>0</td>\n",
       "      <td>0</td>\n",
       "      <td>0</td>\n",
       "      <td>0</td>\n",
       "      <td>0</td>\n",
       "      <td>0</td>\n",
       "      <td>0</td>\n",
       "      <td>0</td>\n",
       "      <td>0</td>\n",
       "      <td>0</td>\n",
       "      <td>0</td>\n",
       "      <td>0</td>\n",
       "      <td>0</td>\n",
       "      <td>0</td>\n",
       "      <td>1</td>\n",
       "      <td>0</td>\n",
       "      <td>0</td>\n",
       "      <td>1236.0</td>\n",
       "      <td>4.5</td>\n",
       "      <td>NaN</td>\n",
       "      <td>3.0</td>\n",
       "      <td>[['Toberlone tort'], ['11/12/2017']]</td>\n",
       "    </tr>\n",
       "    <tr>\n",
       "      <th>1603</th>\n",
       "      <td>id_2612</td>\n",
       "      <td>0</td>\n",
       "      <td>0</td>\n",
       "      <td>0</td>\n",
       "      <td>0</td>\n",
       "      <td>0</td>\n",
       "      <td>0</td>\n",
       "      <td>0</td>\n",
       "      <td>0</td>\n",
       "      <td>0</td>\n",
       "      <td>0</td>\n",
       "      <td>0</td>\n",
       "      <td>0</td>\n",
       "      <td>1</td>\n",
       "      <td>0</td>\n",
       "      <td>0</td>\n",
       "      <td>0</td>\n",
       "      <td>0</td>\n",
       "      <td>0</td>\n",
       "      <td>0</td>\n",
       "      <td>0</td>\n",
       "      <td>0</td>\n",
       "      <td>0</td>\n",
       "      <td>0</td>\n",
       "      <td>0</td>\n",
       "      <td>0</td>\n",
       "      <td>0</td>\n",
       "      <td>0</td>\n",
       "      <td>0</td>\n",
       "      <td>0</td>\n",
       "      <td>0</td>\n",
       "      <td>0</td>\n",
       "      <td>[other_cuisines]</td>\n",
       "      <td>0</td>\n",
       "      <td>0</td>\n",
       "      <td>0</td>\n",
       "      <td>0</td>\n",
       "      <td>0</td>\n",
       "      <td>0</td>\n",
       "      <td>0</td>\n",
       "      <td>0</td>\n",
       "      <td>0</td>\n",
       "      <td>0</td>\n",
       "      <td>0</td>\n",
       "      <td>0</td>\n",
       "      <td>0</td>\n",
       "      <td>0</td>\n",
       "      <td>0</td>\n",
       "      <td>0</td>\n",
       "      <td>0</td>\n",
       "      <td>0</td>\n",
       "      <td>0</td>\n",
       "      <td>0</td>\n",
       "      <td>0</td>\n",
       "      <td>0</td>\n",
       "      <td>0</td>\n",
       "      <td>0</td>\n",
       "      <td>0</td>\n",
       "      <td>0</td>\n",
       "      <td>0</td>\n",
       "      <td>0</td>\n",
       "      <td>0</td>\n",
       "      <td>0</td>\n",
       "      <td>0</td>\n",
       "      <td>0</td>\n",
       "      <td>0</td>\n",
       "      <td>0</td>\n",
       "      <td>0</td>\n",
       "      <td>0</td>\n",
       "      <td>0</td>\n",
       "      <td>0</td>\n",
       "      <td>0</td>\n",
       "      <td>0</td>\n",
       "      <td>0</td>\n",
       "      <td>0</td>\n",
       "      <td>0</td>\n",
       "      <td>0</td>\n",
       "      <td>0</td>\n",
       "      <td>0</td>\n",
       "      <td>0</td>\n",
       "      <td>0</td>\n",
       "      <td>0</td>\n",
       "      <td>0</td>\n",
       "      <td>0</td>\n",
       "      <td>0</td>\n",
       "      <td>0</td>\n",
       "      <td>0</td>\n",
       "      <td>0</td>\n",
       "      <td>0</td>\n",
       "      <td>0</td>\n",
       "      <td>0</td>\n",
       "      <td>0</td>\n",
       "      <td>0</td>\n",
       "      <td>0</td>\n",
       "      <td>0</td>\n",
       "      <td>0</td>\n",
       "      <td>0</td>\n",
       "      <td>0</td>\n",
       "      <td>0</td>\n",
       "      <td>0</td>\n",
       "      <td>0</td>\n",
       "      <td>0</td>\n",
       "      <td>0</td>\n",
       "      <td>0</td>\n",
       "      <td>0</td>\n",
       "      <td>0</td>\n",
       "      <td>0</td>\n",
       "      <td>0</td>\n",
       "      <td>0</td>\n",
       "      <td>0</td>\n",
       "      <td>0</td>\n",
       "      <td>0</td>\n",
       "      <td>0</td>\n",
       "      <td>0</td>\n",
       "      <td>0</td>\n",
       "      <td>0</td>\n",
       "      <td>0</td>\n",
       "      <td>0</td>\n",
       "      <td>0</td>\n",
       "      <td>0</td>\n",
       "      <td>0</td>\n",
       "      <td>0</td>\n",
       "      <td>0</td>\n",
       "      <td>0</td>\n",
       "      <td>0</td>\n",
       "      <td>0</td>\n",
       "      <td>0</td>\n",
       "      <td>0</td>\n",
       "      <td>0</td>\n",
       "      <td>0</td>\n",
       "      <td>0</td>\n",
       "      <td>0</td>\n",
       "      <td>0</td>\n",
       "      <td>0</td>\n",
       "      <td>0</td>\n",
       "      <td>0</td>\n",
       "      <td>0</td>\n",
       "      <td>0</td>\n",
       "      <td>0</td>\n",
       "      <td>0</td>\n",
       "      <td>0</td>\n",
       "      <td>0</td>\n",
       "      <td>0</td>\n",
       "      <td>0</td>\n",
       "      <td>0</td>\n",
       "      <td>0</td>\n",
       "      <td>0</td>\n",
       "      <td>0</td>\n",
       "      <td>0</td>\n",
       "      <td>0</td>\n",
       "      <td>0</td>\n",
       "      <td>0</td>\n",
       "      <td>0</td>\n",
       "      <td>0</td>\n",
       "      <td>0</td>\n",
       "      <td>0</td>\n",
       "      <td>1</td>\n",
       "      <td>0</td>\n",
       "      <td>0</td>\n",
       "      <td>2613.0</td>\n",
       "      <td>2.0</td>\n",
       "      <td>NaN</td>\n",
       "      <td>14.0</td>\n",
       "      <td>[[\"Not a very 'gourmet' Chinese\"], ['07/17/201...</td>\n",
       "    </tr>\n",
       "    <tr>\n",
       "      <th>14916</th>\n",
       "      <td>id_419</td>\n",
       "      <td>0</td>\n",
       "      <td>0</td>\n",
       "      <td>0</td>\n",
       "      <td>0</td>\n",
       "      <td>0</td>\n",
       "      <td>0</td>\n",
       "      <td>0</td>\n",
       "      <td>0</td>\n",
       "      <td>0</td>\n",
       "      <td>0</td>\n",
       "      <td>0</td>\n",
       "      <td>0</td>\n",
       "      <td>0</td>\n",
       "      <td>0</td>\n",
       "      <td>0</td>\n",
       "      <td>0</td>\n",
       "      <td>0</td>\n",
       "      <td>0</td>\n",
       "      <td>0</td>\n",
       "      <td>0</td>\n",
       "      <td>0</td>\n",
       "      <td>0</td>\n",
       "      <td>1</td>\n",
       "      <td>0</td>\n",
       "      <td>0</td>\n",
       "      <td>0</td>\n",
       "      <td>0</td>\n",
       "      <td>0</td>\n",
       "      <td>0</td>\n",
       "      <td>0</td>\n",
       "      <td>0</td>\n",
       "      <td>[Japanese, Sushi, Asian, Vegetarian Friendly, ...</td>\n",
       "      <td>0</td>\n",
       "      <td>0</td>\n",
       "      <td>0</td>\n",
       "      <td>0</td>\n",
       "      <td>0</td>\n",
       "      <td>0</td>\n",
       "      <td>0</td>\n",
       "      <td>0</td>\n",
       "      <td>0</td>\n",
       "      <td>0</td>\n",
       "      <td>0</td>\n",
       "      <td>0</td>\n",
       "      <td>0</td>\n",
       "      <td>0</td>\n",
       "      <td>0</td>\n",
       "      <td>0</td>\n",
       "      <td>0</td>\n",
       "      <td>0</td>\n",
       "      <td>0</td>\n",
       "      <td>0</td>\n",
       "      <td>0</td>\n",
       "      <td>0</td>\n",
       "      <td>0</td>\n",
       "      <td>0</td>\n",
       "      <td>0</td>\n",
       "      <td>0</td>\n",
       "      <td>0</td>\n",
       "      <td>0</td>\n",
       "      <td>0</td>\n",
       "      <td>0</td>\n",
       "      <td>0</td>\n",
       "      <td>0</td>\n",
       "      <td>0</td>\n",
       "      <td>0</td>\n",
       "      <td>0</td>\n",
       "      <td>0</td>\n",
       "      <td>0</td>\n",
       "      <td>0</td>\n",
       "      <td>0</td>\n",
       "      <td>0</td>\n",
       "      <td>0</td>\n",
       "      <td>0</td>\n",
       "      <td>0</td>\n",
       "      <td>0</td>\n",
       "      <td>0</td>\n",
       "      <td>0</td>\n",
       "      <td>0</td>\n",
       "      <td>0</td>\n",
       "      <td>0</td>\n",
       "      <td>0</td>\n",
       "      <td>0</td>\n",
       "      <td>0</td>\n",
       "      <td>0</td>\n",
       "      <td>0</td>\n",
       "      <td>0</td>\n",
       "      <td>0</td>\n",
       "      <td>0</td>\n",
       "      <td>0</td>\n",
       "      <td>0</td>\n",
       "      <td>0</td>\n",
       "      <td>0</td>\n",
       "      <td>0</td>\n",
       "      <td>0</td>\n",
       "      <td>0</td>\n",
       "      <td>0</td>\n",
       "      <td>0</td>\n",
       "      <td>0</td>\n",
       "      <td>0</td>\n",
       "      <td>0</td>\n",
       "      <td>0</td>\n",
       "      <td>0</td>\n",
       "      <td>0</td>\n",
       "      <td>0</td>\n",
       "      <td>0</td>\n",
       "      <td>0</td>\n",
       "      <td>0</td>\n",
       "      <td>0</td>\n",
       "      <td>0</td>\n",
       "      <td>0</td>\n",
       "      <td>0</td>\n",
       "      <td>0</td>\n",
       "      <td>0</td>\n",
       "      <td>0</td>\n",
       "      <td>0</td>\n",
       "      <td>0</td>\n",
       "      <td>0</td>\n",
       "      <td>0</td>\n",
       "      <td>0</td>\n",
       "      <td>0</td>\n",
       "      <td>0</td>\n",
       "      <td>0</td>\n",
       "      <td>0</td>\n",
       "      <td>0</td>\n",
       "      <td>0</td>\n",
       "      <td>0</td>\n",
       "      <td>0</td>\n",
       "      <td>0</td>\n",
       "      <td>0</td>\n",
       "      <td>0</td>\n",
       "      <td>0</td>\n",
       "      <td>0</td>\n",
       "      <td>0</td>\n",
       "      <td>0</td>\n",
       "      <td>0</td>\n",
       "      <td>1</td>\n",
       "      <td>0</td>\n",
       "      <td>0</td>\n",
       "      <td>1</td>\n",
       "      <td>0</td>\n",
       "      <td>0</td>\n",
       "      <td>0</td>\n",
       "      <td>0</td>\n",
       "      <td>0</td>\n",
       "      <td>0</td>\n",
       "      <td>0</td>\n",
       "      <td>0</td>\n",
       "      <td>1</td>\n",
       "      <td>0</td>\n",
       "      <td>0</td>\n",
       "      <td>1</td>\n",
       "      <td>0</td>\n",
       "      <td>0</td>\n",
       "      <td>0</td>\n",
       "      <td>0</td>\n",
       "      <td>0</td>\n",
       "      <td>1</td>\n",
       "      <td>420.0</td>\n",
       "      <td>4.0</td>\n",
       "      <td>$$ - $$$</td>\n",
       "      <td>243.0</td>\n",
       "      <td>[['Good food', 'Do the Karaoke!'], ['01/06/201...</td>\n",
       "    </tr>\n",
       "    <tr>\n",
       "      <th>24864</th>\n",
       "      <td>id_954</td>\n",
       "      <td>0</td>\n",
       "      <td>0</td>\n",
       "      <td>0</td>\n",
       "      <td>0</td>\n",
       "      <td>0</td>\n",
       "      <td>0</td>\n",
       "      <td>0</td>\n",
       "      <td>0</td>\n",
       "      <td>0</td>\n",
       "      <td>0</td>\n",
       "      <td>0</td>\n",
       "      <td>0</td>\n",
       "      <td>0</td>\n",
       "      <td>0</td>\n",
       "      <td>0</td>\n",
       "      <td>0</td>\n",
       "      <td>0</td>\n",
       "      <td>0</td>\n",
       "      <td>0</td>\n",
       "      <td>0</td>\n",
       "      <td>0</td>\n",
       "      <td>0</td>\n",
       "      <td>0</td>\n",
       "      <td>1</td>\n",
       "      <td>0</td>\n",
       "      <td>0</td>\n",
       "      <td>0</td>\n",
       "      <td>0</td>\n",
       "      <td>0</td>\n",
       "      <td>0</td>\n",
       "      <td>0</td>\n",
       "      <td>[European, Scandinavian, Danish]</td>\n",
       "      <td>0</td>\n",
       "      <td>0</td>\n",
       "      <td>0</td>\n",
       "      <td>0</td>\n",
       "      <td>0</td>\n",
       "      <td>0</td>\n",
       "      <td>0</td>\n",
       "      <td>0</td>\n",
       "      <td>0</td>\n",
       "      <td>0</td>\n",
       "      <td>0</td>\n",
       "      <td>0</td>\n",
       "      <td>0</td>\n",
       "      <td>0</td>\n",
       "      <td>0</td>\n",
       "      <td>0</td>\n",
       "      <td>0</td>\n",
       "      <td>0</td>\n",
       "      <td>0</td>\n",
       "      <td>0</td>\n",
       "      <td>0</td>\n",
       "      <td>0</td>\n",
       "      <td>0</td>\n",
       "      <td>0</td>\n",
       "      <td>0</td>\n",
       "      <td>0</td>\n",
       "      <td>0</td>\n",
       "      <td>0</td>\n",
       "      <td>0</td>\n",
       "      <td>0</td>\n",
       "      <td>0</td>\n",
       "      <td>0</td>\n",
       "      <td>0</td>\n",
       "      <td>0</td>\n",
       "      <td>0</td>\n",
       "      <td>0</td>\n",
       "      <td>0</td>\n",
       "      <td>0</td>\n",
       "      <td>0</td>\n",
       "      <td>0</td>\n",
       "      <td>0</td>\n",
       "      <td>0</td>\n",
       "      <td>0</td>\n",
       "      <td>0</td>\n",
       "      <td>0</td>\n",
       "      <td>0</td>\n",
       "      <td>0</td>\n",
       "      <td>0</td>\n",
       "      <td>0</td>\n",
       "      <td>0</td>\n",
       "      <td>0</td>\n",
       "      <td>0</td>\n",
       "      <td>0</td>\n",
       "      <td>0</td>\n",
       "      <td>0</td>\n",
       "      <td>0</td>\n",
       "      <td>0</td>\n",
       "      <td>0</td>\n",
       "      <td>0</td>\n",
       "      <td>0</td>\n",
       "      <td>0</td>\n",
       "      <td>0</td>\n",
       "      <td>0</td>\n",
       "      <td>0</td>\n",
       "      <td>0</td>\n",
       "      <td>0</td>\n",
       "      <td>1</td>\n",
       "      <td>0</td>\n",
       "      <td>0</td>\n",
       "      <td>0</td>\n",
       "      <td>0</td>\n",
       "      <td>0</td>\n",
       "      <td>0</td>\n",
       "      <td>0</td>\n",
       "      <td>0</td>\n",
       "      <td>0</td>\n",
       "      <td>1</td>\n",
       "      <td>0</td>\n",
       "      <td>0</td>\n",
       "      <td>0</td>\n",
       "      <td>0</td>\n",
       "      <td>0</td>\n",
       "      <td>0</td>\n",
       "      <td>0</td>\n",
       "      <td>0</td>\n",
       "      <td>0</td>\n",
       "      <td>0</td>\n",
       "      <td>0</td>\n",
       "      <td>0</td>\n",
       "      <td>0</td>\n",
       "      <td>0</td>\n",
       "      <td>0</td>\n",
       "      <td>0</td>\n",
       "      <td>0</td>\n",
       "      <td>0</td>\n",
       "      <td>0</td>\n",
       "      <td>0</td>\n",
       "      <td>0</td>\n",
       "      <td>0</td>\n",
       "      <td>0</td>\n",
       "      <td>0</td>\n",
       "      <td>0</td>\n",
       "      <td>0</td>\n",
       "      <td>0</td>\n",
       "      <td>0</td>\n",
       "      <td>0</td>\n",
       "      <td>0</td>\n",
       "      <td>0</td>\n",
       "      <td>0</td>\n",
       "      <td>0</td>\n",
       "      <td>0</td>\n",
       "      <td>0</td>\n",
       "      <td>0</td>\n",
       "      <td>0</td>\n",
       "      <td>0</td>\n",
       "      <td>0</td>\n",
       "      <td>0</td>\n",
       "      <td>0</td>\n",
       "      <td>0</td>\n",
       "      <td>0</td>\n",
       "      <td>0</td>\n",
       "      <td>0</td>\n",
       "      <td>0</td>\n",
       "      <td>0</td>\n",
       "      <td>1</td>\n",
       "      <td>0</td>\n",
       "      <td>956.0</td>\n",
       "      <td>3.5</td>\n",
       "      <td>$$ - $$$</td>\n",
       "      <td>190.0</td>\n",
       "      <td>[['Good lunch not so quick on the service', 'N...</td>\n",
       "    </tr>\n",
       "  </tbody>\n",
       "</table>\n",
       "</div>"
      ],
      "text/plain": [
       "      Restaurant_id  Zurich  Warsaw  Vienna  Stockholm  Rome  Prague  Paris  \\\n",
       "14629      id_10298       0       0       0          0     0       0      0   \n",
       "10528       id_1235       0       1       0          0     0       0      0   \n",
       "1603        id_2612       0       0       0          0     0       0      0   \n",
       "14916        id_419       0       0       0          0     0       0      0   \n",
       "24864        id_954       0       0       0          0     0       0      0   \n",
       "\n",
       "       Oslo  Oporto  Munich  Milan  Madrid  Lyon  Luxembourg  London  \\\n",
       "14629     0       0       0      0       0     0           0       1   \n",
       "10528     0       0       0      0       0     0           0       0   \n",
       "1603      0       0       0      0       0     1           0       0   \n",
       "14916     0       0       0      0       0     0           0       0   \n",
       "24864     0       0       0      0       0     0           0       0   \n",
       "\n",
       "       Ljubljana  Lisbon  Krakow  Helsinki  Hamburg  Geneva  Edinburgh  \\\n",
       "14629          0       0       0         0        0       0          0   \n",
       "10528          0       0       0         0        0       0          0   \n",
       "1603           0       0       0         0        0       0          0   \n",
       "14916          0       0       0         0        0       0          0   \n",
       "24864          0       0       0         0        0       0          0   \n",
       "\n",
       "       Dublin  Copenhagen  Budapest  Brussels  Bratislava  Berlin  Barcelona  \\\n",
       "14629       0           0         0         0           0       0          0   \n",
       "10528       0           0         0         0           0       0          0   \n",
       "1603        0           0         0         0           0       0          0   \n",
       "14916       1           0         0         0           0       0          0   \n",
       "24864       0           1         0         0           0       0          0   \n",
       "\n",
       "       Athens  Amsterdam                                      Cuisine Style  \\\n",
       "14629       0          0                                             [Cafe]   \n",
       "10528       0          0                                   [other_cuisines]   \n",
       "1603        0          0                                   [other_cuisines]   \n",
       "14916       0          0  [Japanese, Sushi, Asian, Vegetarian Friendly, ...   \n",
       "24864       0          0                   [European, Scandinavian, Danish]   \n",
       "\n",
       "       Xinjiang  Yunnan  Latvian  Burmese  Salvadoran  Azerbaijani  \\\n",
       "14629         0       0        0        0           0            0   \n",
       "10528         0       0        0        0           0            0   \n",
       "1603          0       0        0        0           0            0   \n",
       "14916         0       0        0        0           0            0   \n",
       "24864         0       0        0        0           0            0   \n",
       "\n",
       "       Polynesian  Welsh  Fujian  Ecuadorean  Native American  Caucasian  \\\n",
       "14629           0      0       0           0                0          0   \n",
       "10528           0      0       0           0                0          0   \n",
       "1603            0      0       0           0                0          0   \n",
       "14916           0      0       0           0                0          0   \n",
       "24864           0      0       0           0                0          0   \n",
       "\n",
       "       Uzbek  Canadian  New Zealand  Chilean  Albanian  Romanian  \\\n",
       "14629      0         0            0        0         0         0   \n",
       "10528      0         0            0        0         0         0   \n",
       "1603       0         0            0        0         0         0   \n",
       "14916      0         0            0        0         0         0   \n",
       "24864      0         0            0        0         0         0   \n",
       "\n",
       "       Minority Chinese  Central Asian  Filipino  Mongolian  Armenian  \\\n",
       "14629                 0              0         0          0         0   \n",
       "10528                 0              0         0          0         0   \n",
       "1603                  0              0         0          0         0   \n",
       "14916                 0              0         0          0         0   \n",
       "24864                 0              0         0          0         0   \n",
       "\n",
       "       Georgian  Southwestern  Ukrainian  Singaporean  Cambodian  Colombian  \\\n",
       "14629         0             0          0            0          0          0   \n",
       "10528         0             0          0            0          0          0   \n",
       "1603          0             0          0            0          0          0   \n",
       "14916         0             0          0            0          0          0   \n",
       "24864         0             0          0            0          0          0   \n",
       "\n",
       "       Egyptian  Cajun & Creole  Tunisian  Hawaiian  Afghani  Taiwanese  \\\n",
       "14629         0               0         0         0        0          0   \n",
       "10528         0               0         0         0        0          0   \n",
       "1603          0               0         0         0        0          0   \n",
       "14916         0               0         0         0        0          0   \n",
       "24864         0               0         0         0        0          0   \n",
       "\n",
       "       Cuban  Australian  Tibetan  Sri Lankan  Jamaican  Croatian  Malaysian  \\\n",
       "14629      0           0        0           0         0         0          0   \n",
       "10528      0           0        0           0         0         0          0   \n",
       "1603       0           0        0           0         0         0          0   \n",
       "14916      0           0        0           0         0         0          0   \n",
       "24864      0           0        0           0         0         0          0   \n",
       "\n",
       "       Venezuelan  Ethiopian  Kosher  Arabic  Persian  Russian  Indonesian  \\\n",
       "14629           0          0       0       0        0        0           0   \n",
       "10528           0          0       0       0        0        0           0   \n",
       "1603            0          0       0       0        0        0           0   \n",
       "14916           0          0       0       0        0        0           0   \n",
       "24864           0          0       0       0        0        0           0   \n",
       "\n",
       "       Slovenian  Israeli  Norwegian  Bangladeshi  Nepali  Balti  Caribbean  \\\n",
       "14629          0        0          0            0       0      0          0   \n",
       "10528          0        0          0            0       0      0          0   \n",
       "1603           0        0          0            0       0      0          0   \n",
       "14916          0        0          0            0       0      0          0   \n",
       "24864          0        0          0            0       0      0          0   \n",
       "\n",
       "       Peruvian  Pakistani  Brazilian  Central American  Moroccan  African  \\\n",
       "14629         0          0          0                 0         0        0   \n",
       "10528         0          0          0                 0         0        0   \n",
       "1603          0          0          0                 0         0        0   \n",
       "14916         0          0          0                 0         0        0   \n",
       "24864         0          0          0                 0         0        0   \n",
       "\n",
       "       Scottish  Korean  Argentinean  Swedish  Danish  Swiss  Brew Pub  \\\n",
       "14629         0       0            0        0       0      0         0   \n",
       "10528         0       0            0        0       0      0         0   \n",
       "1603          0       0            0        0       0      0         0   \n",
       "14916         0       0            0        0       0      0         0   \n",
       "24864         0       0            0        0       1      0         0   \n",
       "\n",
       "       Street Food  Belgian  Irish  Dutch  Diner  Latin  Lebanese  \\\n",
       "14629            0        0      0      0      0      0         0   \n",
       "10528            0        0      0      0      0      0         0   \n",
       "1603             0        0      0      0      0      0         0   \n",
       "14916            0        0      0      0      0      0         0   \n",
       "24864            0        0      0      0      0      0         0   \n",
       "\n",
       "       Scandinavian  Hungarian  Polish  South American  Austrian  \\\n",
       "14629             0          0       0               0         0   \n",
       "10528             0          0       0               0         0   \n",
       "1603              0          0       0               0         0   \n",
       "14916             0          0       0               0         0   \n",
       "24864             1          0       0               0         0   \n",
       "\n",
       "       Delicatessen  Turkish  Mexican  Gastropub  Grill  Soups  \\\n",
       "14629             0        0        0          0      0      0   \n",
       "10528             0        0        0          0      0      0   \n",
       "1603              0        0        0          0      0      0   \n",
       "14916             0        0        0          0      0      0   \n",
       "24864             0        0        0          0      0      0   \n",
       "\n",
       "       Eastern European  Vietnamese  Contemporary  Barbecue  Steakhouse  \\\n",
       "14629                 0           0             0         0           0   \n",
       "10528                 0           0             0         0           0   \n",
       "1603                  0           0             0         0           0   \n",
       "14916                 0           0             0         0           0   \n",
       "24864                 0           0             0         0           0   \n",
       "\n",
       "       Fusion  Czech  Halal  Greek  Healthy  German  Wine Bar  Thai  \\\n",
       "14629       0      0      0      0        0       0         0     0   \n",
       "10528       0      0      0      0        0       0         0     0   \n",
       "1603        0      0      0      0        0       0         0     0   \n",
       "14916       0      0      0      0        0       0         0     0   \n",
       "24864       0      0      0      0        0       0         0     0   \n",
       "\n",
       "       Middle Eastern  Indian  Portuguese  Chinese  Sushi  American  \\\n",
       "14629               0       0           0        0      0         0   \n",
       "10528               0       0           0        0      0         0   \n",
       "1603                0       0           0        0      0         0   \n",
       "14916               0       0           0        0      1         0   \n",
       "24864               0       0           0        0      0         0   \n",
       "\n",
       "       Central European  Japanese  Seafood  International  British  Fast Food  \\\n",
       "14629                 0         0        0              0        0          0   \n",
       "10528                 0         0        0              0        0          0   \n",
       "1603                  0         0        0              0        0          0   \n",
       "14916                 0         1        0              0        0          0   \n",
       "24864                 0         0        0              0        0          0   \n",
       "\n",
       "       Cafe  Pub  Spanish  Pizza  Asian  French  Bar  Gluten Free Options  \\\n",
       "14629     1    0        0      0      0       0    0                    0   \n",
       "10528     0    0        0      0      0       0    0                    0   \n",
       "1603      0    0        0      0      0       0    0                    0   \n",
       "14916     0    0        0      0      1       0    0                    1   \n",
       "24864     0    0        0      0      0       0    0                    0   \n",
       "\n",
       "       Vegan Options  Italian  Mediterranean  other_cuisines  European  \\\n",
       "14629              0        0              0               0         0   \n",
       "10528              0        0              0               1         0   \n",
       "1603               0        0              0               1         0   \n",
       "14916              0        0              0               0         0   \n",
       "24864              0        0              0               0         1   \n",
       "\n",
       "       Vegetarian Friendly  Ranking  Rating Price Range  Number of Reviews  \\\n",
       "14629                    0  10307.0     4.0         NaN               16.0   \n",
       "10528                    0   1236.0     4.5         NaN                3.0   \n",
       "1603                     0   2613.0     2.0         NaN               14.0   \n",
       "14916                    1    420.0     4.0    $$ - $$$              243.0   \n",
       "24864                    0    956.0     3.5    $$ - $$$              190.0   \n",
       "\n",
       "                                                 Reviews  \n",
       "14629  [['Tasty breakfast!', 'Tasty breakfast'], ['12...  \n",
       "10528               [['Toberlone tort'], ['11/12/2017']]  \n",
       "1603   [[\"Not a very 'gourmet' Chinese\"], ['07/17/201...  \n",
       "14916  [['Good food', 'Do the Karaoke!'], ['01/06/201...  \n",
       "24864  [['Good lunch not so quick on the service', 'N...  "
      ]
     },
     "execution_count": 23,
     "metadata": {},
     "output_type": "execute_result"
    }
   ],
   "source": [
    "df1.sample(5)"
   ]
  },
  {
   "cell_type": "markdown",
   "metadata": {},
   "source": [
    "в 3 ячейках выше заполнил столбцы и проверил, заполнены ли они. Столбцы добавлены и заполнены успешно.\n",
    "Также, как и с городами, экспериментировал с тем, чтобы добавлять не все кухни, а только те, которые чаще всего встречаются и в сумме дают 90% всех строк. В итоге, модель лучше отработала, когда в dataset были все кухни => я отказался от идеи выбрать только наиболее часто встречающиеся кухни.\n",
    "\n",
    "т.к. столбец Cuisine Style больше не нужен, удаляю его"
   ]
  },
  {
   "cell_type": "code",
   "execution_count": 24,
   "metadata": {},
   "outputs": [],
   "source": [
    "pd.reset_option(\"^display\")"
   ]
  },
  {
   "cell_type": "code",
   "execution_count": 25,
   "metadata": {},
   "outputs": [],
   "source": [
    "df1.drop(columns=['Cuisine Style'],inplace=True)"
   ]
  },
  {
   "cell_type": "code",
   "execution_count": 26,
   "metadata": {},
   "outputs": [
    {
     "name": "stdout",
     "output_type": "stream",
     "text": [
      "<class 'pandas.core.frame.DataFrame'>\n",
      "RangeIndex: 40000 entries, 0 to 39999\n",
      "Data columns (total 163 columns):\n",
      " #   Column               Non-Null Count  Dtype  \n",
      "---  ------               --------------  -----  \n",
      " 0   Restaurant_id        40000 non-null  object \n",
      " 1   Zurich               40000 non-null  uint8  \n",
      " 2   Warsaw               40000 non-null  uint8  \n",
      " 3   Vienna               40000 non-null  uint8  \n",
      " 4   Stockholm            40000 non-null  uint8  \n",
      " 5   Rome                 40000 non-null  uint8  \n",
      " 6   Prague               40000 non-null  uint8  \n",
      " 7   Paris                40000 non-null  uint8  \n",
      " 8   Oslo                 40000 non-null  uint8  \n",
      " 9   Oporto               40000 non-null  uint8  \n",
      " 10  Munich               40000 non-null  uint8  \n",
      " 11  Milan                40000 non-null  uint8  \n",
      " 12  Madrid               40000 non-null  uint8  \n",
      " 13  Lyon                 40000 non-null  uint8  \n",
      " 14  Luxembourg           40000 non-null  uint8  \n",
      " 15  London               40000 non-null  uint8  \n",
      " 16  Ljubljana            40000 non-null  uint8  \n",
      " 17  Lisbon               40000 non-null  uint8  \n",
      " 18  Krakow               40000 non-null  uint8  \n",
      " 19  Helsinki             40000 non-null  uint8  \n",
      " 20  Hamburg              40000 non-null  uint8  \n",
      " 21  Geneva               40000 non-null  uint8  \n",
      " 22  Edinburgh            40000 non-null  uint8  \n",
      " 23  Dublin               40000 non-null  uint8  \n",
      " 24  Copenhagen           40000 non-null  uint8  \n",
      " 25  Budapest             40000 non-null  uint8  \n",
      " 26  Brussels             40000 non-null  uint8  \n",
      " 27  Bratislava           40000 non-null  uint8  \n",
      " 28  Berlin               40000 non-null  uint8  \n",
      " 29  Barcelona            40000 non-null  uint8  \n",
      " 30  Athens               40000 non-null  uint8  \n",
      " 31  Amsterdam            40000 non-null  uint8  \n",
      " 32  Xinjiang             40000 non-null  int64  \n",
      " 33  Yunnan               40000 non-null  int64  \n",
      " 34  Latvian              40000 non-null  int64  \n",
      " 35  Burmese              40000 non-null  int64  \n",
      " 36  Salvadoran           40000 non-null  int64  \n",
      " 37  Azerbaijani          40000 non-null  int64  \n",
      " 38  Polynesian           40000 non-null  int64  \n",
      " 39  Welsh                40000 non-null  int64  \n",
      " 40  Fujian               40000 non-null  int64  \n",
      " 41  Ecuadorean           40000 non-null  int64  \n",
      " 42  Native American      40000 non-null  int64  \n",
      " 43  Caucasian            40000 non-null  int64  \n",
      " 44  Uzbek                40000 non-null  int64  \n",
      " 45  Canadian             40000 non-null  int64  \n",
      " 46  New Zealand          40000 non-null  int64  \n",
      " 47  Chilean              40000 non-null  int64  \n",
      " 48  Albanian             40000 non-null  int64  \n",
      " 49  Romanian             40000 non-null  int64  \n",
      " 50  Minority Chinese     40000 non-null  int64  \n",
      " 51  Central Asian        40000 non-null  int64  \n",
      " 52  Filipino             40000 non-null  int64  \n",
      " 53  Mongolian            40000 non-null  int64  \n",
      " 54  Armenian             40000 non-null  int64  \n",
      " 55  Georgian             40000 non-null  int64  \n",
      " 56  Southwestern         40000 non-null  int64  \n",
      " 57  Ukrainian            40000 non-null  int64  \n",
      " 58  Singaporean          40000 non-null  int64  \n",
      " 59  Cambodian            40000 non-null  int64  \n",
      " 60  Colombian            40000 non-null  int64  \n",
      " 61  Egyptian             40000 non-null  int64  \n",
      " 62  Cajun & Creole       40000 non-null  int64  \n",
      " 63  Tunisian             40000 non-null  int64  \n",
      " 64  Hawaiian             40000 non-null  int64  \n",
      " 65  Afghani              40000 non-null  int64  \n",
      " 66  Taiwanese            40000 non-null  int64  \n",
      " 67  Cuban                40000 non-null  int64  \n",
      " 68  Australian           40000 non-null  int64  \n",
      " 69  Tibetan              40000 non-null  int64  \n",
      " 70  Sri Lankan           40000 non-null  int64  \n",
      " 71  Jamaican             40000 non-null  int64  \n",
      " 72  Croatian             40000 non-null  int64  \n",
      " 73  Malaysian            40000 non-null  int64  \n",
      " 74  Venezuelan           40000 non-null  int64  \n",
      " 75  Ethiopian            40000 non-null  int64  \n",
      " 76  Kosher               40000 non-null  int64  \n",
      " 77  Arabic               40000 non-null  int64  \n",
      " 78  Persian              40000 non-null  int64  \n",
      " 79  Russian              40000 non-null  int64  \n",
      " 80  Indonesian           40000 non-null  int64  \n",
      " 81  Slovenian            40000 non-null  int64  \n",
      " 82  Israeli              40000 non-null  int64  \n",
      " 83  Norwegian            40000 non-null  int64  \n",
      " 84  Bangladeshi          40000 non-null  int64  \n",
      " 85  Nepali               40000 non-null  int64  \n",
      " 86  Balti                40000 non-null  int64  \n",
      " 87  Caribbean            40000 non-null  int64  \n",
      " 88  Peruvian             40000 non-null  int64  \n",
      " 89  Pakistani            40000 non-null  int64  \n",
      " 90  Brazilian            40000 non-null  int64  \n",
      " 91  Central American     40000 non-null  int64  \n",
      " 92  Moroccan             40000 non-null  int64  \n",
      " 93  African              40000 non-null  int64  \n",
      " 94  Scottish             40000 non-null  int64  \n",
      " 95  Korean               40000 non-null  int64  \n",
      " 96  Argentinean          40000 non-null  int64  \n",
      " 97  Swedish              40000 non-null  int64  \n",
      " 98  Danish               40000 non-null  int64  \n",
      " 99  Swiss                40000 non-null  int64  \n",
      " 100 Brew Pub             40000 non-null  int64  \n",
      " 101 Street Food          40000 non-null  int64  \n",
      " 102 Belgian              40000 non-null  int64  \n",
      " 103 Irish                40000 non-null  int64  \n",
      " 104 Dutch                40000 non-null  int64  \n",
      " 105 Diner                40000 non-null  int64  \n",
      " 106 Latin                40000 non-null  int64  \n",
      " 107 Lebanese             40000 non-null  int64  \n",
      " 108 Scandinavian         40000 non-null  int64  \n",
      " 109 Hungarian            40000 non-null  int64  \n",
      " 110 Polish               40000 non-null  int64  \n",
      " 111 South American       40000 non-null  int64  \n",
      " 112 Austrian             40000 non-null  int64  \n",
      " 113 Delicatessen         40000 non-null  int64  \n",
      " 114 Turkish              40000 non-null  int64  \n",
      " 115 Mexican              40000 non-null  int64  \n",
      " 116 Gastropub            40000 non-null  int64  \n",
      " 117 Grill                40000 non-null  int64  \n",
      " 118 Soups                40000 non-null  int64  \n",
      " 119 Eastern European     40000 non-null  int64  \n",
      " 120 Vietnamese           40000 non-null  int64  \n",
      " 121 Contemporary         40000 non-null  int64  \n",
      " 122 Barbecue             40000 non-null  int64  \n",
      " 123 Steakhouse           40000 non-null  int64  \n",
      " 124 Fusion               40000 non-null  int64  \n",
      " 125 Czech                40000 non-null  int64  \n",
      " 126 Halal                40000 non-null  int64  \n",
      " 127 Greek                40000 non-null  int64  \n",
      " 128 Healthy              40000 non-null  int64  \n",
      " 129 German               40000 non-null  int64  \n",
      " 130 Wine Bar             40000 non-null  int64  \n",
      " 131 Thai                 40000 non-null  int64  \n",
      " 132 Middle Eastern       40000 non-null  int64  \n",
      " 133 Indian               40000 non-null  int64  \n",
      " 134 Portuguese           40000 non-null  int64  \n",
      " 135 Chinese              40000 non-null  int64  \n",
      " 136 Sushi                40000 non-null  int64  \n",
      " 137 American             40000 non-null  int64  \n",
      " 138 Central European     40000 non-null  int64  \n",
      " 139 Japanese             40000 non-null  int64  \n",
      " 140 Seafood              40000 non-null  int64  \n",
      " 141 International        40000 non-null  int64  \n",
      " 142 British              40000 non-null  int64  \n",
      " 143 Fast Food            40000 non-null  int64  \n",
      " 144 Cafe                 40000 non-null  int64  \n",
      " 145 Pub                  40000 non-null  int64  \n",
      " 146 Spanish              40000 non-null  int64  \n",
      " 147 Pizza                40000 non-null  int64  \n",
      " 148 Asian                40000 non-null  int64  \n",
      " 149 French               40000 non-null  int64  \n",
      " 150 Bar                  40000 non-null  int64  \n",
      " 151 Gluten Free Options  40000 non-null  int64  \n",
      " 152 Vegan Options        40000 non-null  int64  \n",
      " 153 Italian              40000 non-null  int64  \n",
      " 154 Mediterranean        40000 non-null  int64  \n",
      " 155 other_cuisines       40000 non-null  int64  \n",
      " 156 European             40000 non-null  int64  \n",
      " 157 Vegetarian Friendly  40000 non-null  int64  \n",
      " 158 Ranking              40000 non-null  float64\n",
      " 159 Rating               40000 non-null  float64\n",
      " 160 Price Range          26114 non-null  object \n",
      " 161 Number of Reviews    37457 non-null  float64\n",
      " 162 Reviews              40000 non-null  object \n",
      "dtypes: float64(3), int64(126), object(3), uint8(31)\n",
      "memory usage: 41.5+ MB\n"
     ]
    }
   ],
   "source": [
    "df1.info(verbose=True,null_counts=True)"
   ]
  },
  {
   "cell_type": "markdown",
   "metadata": {},
   "source": [
    "столбцы Ranking и Rating - можно было бы их нормализовать, особенно  Ranking, т.к. у него разлет в 4 порядка (df['Ranking'].max()/df['Ranking'].min() = 16444 - см. в ячейке ниже), но эксперименты показали, что это на модель не влияет => оставляю, как есть."
   ]
  },
  {
   "cell_type": "code",
   "execution_count": 27,
   "metadata": {},
   "outputs": [
    {
     "data": {
      "text/plain": [
       "16444.0"
      ]
     },
     "execution_count": 27,
     "metadata": {},
     "output_type": "execute_result"
    }
   ],
   "source": [
    "df['Ranking'].max()/df['Ranking'].min()"
   ]
  },
  {
   "cell_type": "markdown",
   "metadata": {},
   "source": [
    "Столбец Price Range - есть много пропусков. почти 14000 из 40000. Есть всего 3 значения (см. ячейку ниже), т.к. столбец подразумевает дороговизну ресторана, имеет смысл не делать dummy столбцы, как для Cuisine Style и City, а просто заполнить числами. Пропуски = 0, и дальше по возрастанию (самый дешевый = 1, самый дорогой = 3).\n",
    "\n",
    "Для заполнения использую функцию enumrate, которую определил в начале ноутбука"
   ]
  },
  {
   "cell_type": "code",
   "execution_count": 28,
   "metadata": {},
   "outputs": [
    {
     "data": {
      "text/plain": [
       "$$ - $$$    18412\n",
       "$            6279\n",
       "$$$$         1423\n",
       "Name: Price Range, dtype: int64"
      ]
     },
     "execution_count": 28,
     "metadata": {},
     "output_type": "execute_result"
    }
   ],
   "source": [
    "df1['Price Range'].value_counts()"
   ]
  },
  {
   "cell_type": "code",
   "execution_count": 29,
   "metadata": {},
   "outputs": [],
   "source": [
    "df1['Price Range'].fillna(0, inplace = True)"
   ]
  },
  {
   "cell_type": "code",
   "execution_count": 30,
   "metadata": {},
   "outputs": [],
   "source": [
    "df1['Price Range'] = df1['Price Range'].apply(lambda x: enumrate(x,0))"
   ]
  },
  {
   "cell_type": "code",
   "execution_count": 31,
   "metadata": {},
   "outputs": [
    {
     "data": {
      "text/plain": [
       "0        2\n",
       "1        0\n",
       "2        3\n",
       "3        0\n",
       "4        2\n",
       "        ..\n",
       "39995    2\n",
       "39996    2\n",
       "39997    0\n",
       "39998    2\n",
       "39999    2\n",
       "Name: Price Range, Length: 40000, dtype: int64"
      ]
     },
     "execution_count": 31,
     "metadata": {},
     "output_type": "execute_result"
    }
   ],
   "source": [
    "df1['Price Range']"
   ]
  },
  {
   "cell_type": "markdown",
   "metadata": {},
   "source": [
    "столбец Price Range заполнен."
   ]
  },
  {
   "cell_type": "markdown",
   "metadata": {},
   "source": [
    "Столбец Number of Reviews содержит (как показывает df.info()) небольшое - около 2500 на 40000 - количество пропусков значений. Заполню пропуски 0. В остальном изменять столбец не буду."
   ]
  },
  {
   "cell_type": "code",
   "execution_count": 32,
   "metadata": {},
   "outputs": [],
   "source": [
    "df1['Number of Reviews'].fillna(0, inplace = True)"
   ]
  },
  {
   "cell_type": "markdown",
   "metadata": {},
   "source": [
    "последний столбец Reviews содержит текст (см. 2 ячейки нижу), из которого можно сделать список, содержащий несколько текстовых отзывов и дат этих отзывов. Даты в формате месяц/день/год.\n",
    "\n",
    "Текстовые отзывы в свободной форме => не видно, какую пользу могут принести => первый этап обработки - оставить только даты. делаю ниже"
   ]
  },
  {
   "cell_type": "code",
   "execution_count": 33,
   "metadata": {},
   "outputs": [],
   "source": [
    "pd.set_option('display.max_colwidth', None)"
   ]
  },
  {
   "cell_type": "code",
   "execution_count": 34,
   "metadata": {},
   "outputs": [
    {
     "data": {
      "text/plain": [
       "26423                                                                                                          [[], []]\n",
       "26897    [['Can be the best caffe in 3 days trip in Ro...', 'Great food and super cozy'], ['10/31/2016', '07/30/2016']]\n",
       "29349                                                                                                          [[], []]\n",
       "23591                                                               [['LOVE IT!!', 'Ok'], ['01/05/2018', '01/02/2017']]\n",
       "10498                                            [['so tasty', 'Superb Turkish Cuisine'], ['11/10/2017', '09/16/2017']]\n",
       "21454                                        [['Delicious food', 'Agressive Proprietor'], ['05/24/2016', '04/05/2016']]\n",
       "4942             [['Relaxing friendly evening meal', 'Fantastic kitchen and atmosphere'], ['12/17/2017', '12/12/2017']]\n",
       "861                                          [['Nothing exceptional', 'Simple but good'], ['01/23/2017', '12/02/2017']]\n",
       "15332                             [['Best pizza by the slice hands down!', 'Best Crust'], ['12/18/2017', '10/12/2017']]\n",
       "3297                                [['Authentic Belgian brasserie', 'Acceptable level'], ['09/27/2017', '08/19/2017']]\n",
       "Name: Reviews, dtype: object"
      ]
     },
     "execution_count": 34,
     "metadata": {},
     "output_type": "execute_result"
    }
   ],
   "source": [
    "df1['Reviews'].sample(10)"
   ]
  },
  {
   "cell_type": "code",
   "execution_count": 35,
   "metadata": {},
   "outputs": [],
   "source": [
    "pd.reset_option(\"^display\")"
   ]
  },
  {
   "cell_type": "code",
   "execution_count": 36,
   "metadata": {},
   "outputs": [],
   "source": [
    "rev = df1['Reviews'].apply(lambda x: re.findall(r\"'(\\d+\\/\\d+\\/\\d+)'\", x))"
   ]
  },
  {
   "cell_type": "code",
   "execution_count": 37,
   "metadata": {},
   "outputs": [],
   "source": [
    "dt_obj_list = [[dt.datetime.strptime(y, '%m/%d/%Y') for y in x] for x in rev]"
   ]
  },
  {
   "cell_type": "markdown",
   "metadata": {},
   "source": [
    "в 2 ячейках выше я оставил в Reviews только даты - сначала оставил текстовые значения месяц/день/год, а потом преобразовал их именно в даты. Также, эксперименты показали, что если создать столбец, который будет содержать количество дат, когда были оставлены отзывы, это улучшает модель => ниже это делаю"
   ]
  },
  {
   "cell_type": "code",
   "execution_count": 38,
   "metadata": {},
   "outputs": [],
   "source": [
    "num_of_dates = pd.Series([len(x) for x in dt_obj_list])"
   ]
  },
  {
   "cell_type": "code",
   "execution_count": 39,
   "metadata": {},
   "outputs": [
    {
     "data": {
      "text/plain": [
       "2    28973\n",
       "0     6471\n",
       "1     4556\n",
       "dtype: int64"
      ]
     },
     "execution_count": 39,
     "metadata": {},
     "output_type": "execute_result"
    }
   ],
   "source": [
    "num_of_dates.value_counts()"
   ]
  },
  {
   "cell_type": "markdown",
   "metadata": {},
   "source": [
    "по итогу преобразований, у меня столбец Reviews содержит список, в котором может быть от 0 до 2 дат. ЧТо делать в случае, когда 2 даты?\n",
    "\n",
    "Посмотрим, какой может быть разлет дат."
   ]
  },
  {
   "cell_type": "code",
   "execution_count": 40,
   "metadata": {},
   "outputs": [
    {
     "data": {
      "text/plain": [
       "[3207,\n",
       " 3137,\n",
       " 3127,\n",
       " 3096,\n",
       " 3094,\n",
       " 3040,\n",
       " 3035,\n",
       " 2966,\n",
       " 2943,\n",
       " 2940,\n",
       " 2897,\n",
       " 2788,\n",
       " 2618,\n",
       " 2608,\n",
       " 2478,\n",
       " 2466,\n",
       " 2425,\n",
       " 2373,\n",
       " 2366,\n",
       " 2271,\n",
       " 2230,\n",
       " 2217,\n",
       " 2151,\n",
       " 2125,\n",
       " 2114,\n",
       " 2081,\n",
       " 2074,\n",
       " 2062,\n",
       " 2051,\n",
       " 2033,\n",
       " 2019,\n",
       " 2003,\n",
       " 1975,\n",
       " 1960,\n",
       " 1953,\n",
       " 1949,\n",
       " 1924,\n",
       " 1902,\n",
       " 1879,\n",
       " 1853,\n",
       " 1843,\n",
       " 1821,\n",
       " 1818,\n",
       " 1817,\n",
       " 1813,\n",
       " 1808,\n",
       " 1806,\n",
       " 1801,\n",
       " 1798,\n",
       " 1781,\n",
       " 1779,\n",
       " 1777,\n",
       " 1766,\n",
       " 1764,\n",
       " 1764,\n",
       " 1756,\n",
       " 1754,\n",
       " 1753,\n",
       " 1742,\n",
       " 1741,\n",
       " 1739,\n",
       " 1734,\n",
       " 1732,\n",
       " 1729,\n",
       " 1725,\n",
       " 1716,\n",
       " 1713,\n",
       " 1712,\n",
       " 1707,\n",
       " 1698,\n",
       " 1694,\n",
       " 1688,\n",
       " 1674,\n",
       " 1670,\n",
       " 1657,\n",
       " 1648,\n",
       " 1640,\n",
       " 1636,\n",
       " 1631,\n",
       " 1630,\n",
       " 1621,\n",
       " 1617,\n",
       " 1606,\n",
       " 1604,\n",
       " 1597,\n",
       " 1596,\n",
       " 1596,\n",
       " 1595,\n",
       " 1591,\n",
       " 1586,\n",
       " 1585,\n",
       " 1581,\n",
       " 1576,\n",
       " 1570,\n",
       " 1562,\n",
       " 1555,\n",
       " 1554,\n",
       " 1544,\n",
       " 1543,\n",
       " 1540,\n",
       " 1534,\n",
       " 1526,\n",
       " 1505,\n",
       " 1504,\n",
       " 1497,\n",
       " 1490,\n",
       " 1489,\n",
       " 1488,\n",
       " 1485,\n",
       " 1482,\n",
       " 1473,\n",
       " 1469,\n",
       " 1469,\n",
       " 1469,\n",
       " 1467,\n",
       " 1467,\n",
       " 1457,\n",
       " 1456,\n",
       " 1455,\n",
       " 1452,\n",
       " 1452,\n",
       " 1448,\n",
       " 1447,\n",
       " 1442,\n",
       " 1440,\n",
       " 1439,\n",
       " 1437,\n",
       " 1434,\n",
       " 1433,\n",
       " 1432,\n",
       " 1426,\n",
       " 1422,\n",
       " 1421,\n",
       " 1418,\n",
       " 1417,\n",
       " 1413,\n",
       " 1409,\n",
       " 1406,\n",
       " 1404,\n",
       " 1403,\n",
       " 1402,\n",
       " 1391,\n",
       " 1389,\n",
       " 1384,\n",
       " 1381,\n",
       " 1380,\n",
       " 1373,\n",
       " 1369,\n",
       " 1366,\n",
       " 1366,\n",
       " 1359,\n",
       " 1358,\n",
       " 1357,\n",
       " 1356,\n",
       " 1355,\n",
       " 1352,\n",
       " 1348,\n",
       " 1346,\n",
       " 1340,\n",
       " 1336,\n",
       " 1335,\n",
       " 1332,\n",
       " 1332,\n",
       " 1330,\n",
       " 1327,\n",
       " 1326,\n",
       " 1326,\n",
       " 1326,\n",
       " 1321,\n",
       " 1320,\n",
       " 1319,\n",
       " 1318,\n",
       " 1317,\n",
       " 1314,\n",
       " 1314,\n",
       " 1313,\n",
       " 1310,\n",
       " 1306,\n",
       " 1306,\n",
       " 1305,\n",
       " 1303,\n",
       " 1297,\n",
       " 1297,\n",
       " 1297,\n",
       " 1297,\n",
       " 1295,\n",
       " 1290,\n",
       " 1289,\n",
       " 1282,\n",
       " 1277,\n",
       " 1277,\n",
       " 1276,\n",
       " 1275,\n",
       " 1272,\n",
       " 1272,\n",
       " 1267,\n",
       " 1263,\n",
       " 1263,\n",
       " 1259,\n",
       " 1255,\n",
       " 1254,\n",
       " 1254,\n",
       " 1250,\n",
       " 1250,\n",
       " 1247,\n",
       " 1246,\n",
       " 1240,\n",
       " 1239,\n",
       " 1237,\n",
       " 1235,\n",
       " 1234,\n",
       " 1234,\n",
       " 1233,\n",
       " 1230,\n",
       " 1228,\n",
       " 1228,\n",
       " 1227,\n",
       " 1224,\n",
       " 1222,\n",
       " 1221,\n",
       " 1218,\n",
       " 1216,\n",
       " 1212,\n",
       " 1208,\n",
       " 1202,\n",
       " 1199,\n",
       " 1199,\n",
       " 1199,\n",
       " 1195,\n",
       " 1195,\n",
       " 1195,\n",
       " 1195,\n",
       " 1194,\n",
       " 1193,\n",
       " 1193,\n",
       " 1192,\n",
       " 1192,\n",
       " 1190,\n",
       " 1190,\n",
       " 1189,\n",
       " 1188,\n",
       " 1187,\n",
       " 1186,\n",
       " 1176,\n",
       " 1176,\n",
       " 1176,\n",
       " 1173,\n",
       " 1173,\n",
       " 1172,\n",
       " 1170,\n",
       " 1167,\n",
       " 1166,\n",
       " 1165,\n",
       " 1165,\n",
       " 1164,\n",
       " 1164,\n",
       " 1162,\n",
       " 1162,\n",
       " 1161,\n",
       " 1160,\n",
       " 1157,\n",
       " 1157,\n",
       " 1151,\n",
       " 1150,\n",
       " 1148,\n",
       " 1147,\n",
       " 1145,\n",
       " 1145,\n",
       " 1141,\n",
       " 1140,\n",
       " 1138,\n",
       " 1138,\n",
       " 1137,\n",
       " 1135,\n",
       " 1133,\n",
       " 1133,\n",
       " 1128,\n",
       " 1127,\n",
       " 1127,\n",
       " 1124,\n",
       " 1122,\n",
       " 1119,\n",
       " 1119,\n",
       " 1117,\n",
       " 1117,\n",
       " 1117,\n",
       " 1116,\n",
       " 1112,\n",
       " 1111,\n",
       " 1110,\n",
       " 1109,\n",
       " 1108,\n",
       " 1108,\n",
       " 1105,\n",
       " 1104,\n",
       " 1104,\n",
       " 1098,\n",
       " 1098,\n",
       " 1098,\n",
       " 1098,\n",
       " 1097,\n",
       " 1097,\n",
       " 1096,\n",
       " 1096,\n",
       " 1094,\n",
       " 1093,\n",
       " 1091,\n",
       " 1089,\n",
       " 1088,\n",
       " 1086,\n",
       " 1085,\n",
       " 1083,\n",
       " 1081,\n",
       " 1080,\n",
       " 1078,\n",
       " 1076,\n",
       " 1075,\n",
       " 1074,\n",
       " 1073,\n",
       " 1072,\n",
       " 1071,\n",
       " 1070,\n",
       " 1070,\n",
       " 1069,\n",
       " 1069,\n",
       " 1067,\n",
       " 1067,\n",
       " 1066,\n",
       " 1063,\n",
       " 1062,\n",
       " 1058,\n",
       " 1058,\n",
       " 1055,\n",
       " 1053,\n",
       " 1052,\n",
       " 1048,\n",
       " 1048,\n",
       " 1048,\n",
       " 1047,\n",
       " 1047,\n",
       " 1045,\n",
       " 1044,\n",
       " 1044,\n",
       " 1043,\n",
       " 1041,\n",
       " 1041,\n",
       " 1037,\n",
       " 1034,\n",
       " 1033,\n",
       " 1033,\n",
       " 1033,\n",
       " 1033,\n",
       " 1032,\n",
       " 1030,\n",
       " 1030,\n",
       " 1027,\n",
       " 1027,\n",
       " 1026,\n",
       " 1026,\n",
       " 1025,\n",
       " 1025,\n",
       " 1023,\n",
       " 1022,\n",
       " 1021,\n",
       " 1021,\n",
       " 1020,\n",
       " 1020,\n",
       " 1018,\n",
       " 1018,\n",
       " 1016,\n",
       " 1015,\n",
       " 1014,\n",
       " 1014,\n",
       " 1013,\n",
       " 1012,\n",
       " 1010,\n",
       " 1010,\n",
       " 1006,\n",
       " 1004,\n",
       " 1004,\n",
       " 1002,\n",
       " 1001,\n",
       " 999,\n",
       " 998,\n",
       " 997,\n",
       " 996,\n",
       " 995,\n",
       " 995,\n",
       " 995,\n",
       " 994,\n",
       " 993,\n",
       " 993,\n",
       " 993,\n",
       " 992,\n",
       " 990,\n",
       " 990,\n",
       " 989,\n",
       " 985,\n",
       " 984,\n",
       " 983,\n",
       " 982,\n",
       " 980,\n",
       " 978,\n",
       " 977,\n",
       " 976,\n",
       " 974,\n",
       " 974,\n",
       " 974,\n",
       " 973,\n",
       " 971,\n",
       " 971,\n",
       " 970,\n",
       " 969,\n",
       " 969,\n",
       " 968,\n",
       " 968,\n",
       " 968,\n",
       " 967,\n",
       " 966,\n",
       " 964,\n",
       " 963,\n",
       " 962,\n",
       " 961,\n",
       " 959,\n",
       " 958,\n",
       " 958,\n",
       " 958,\n",
       " 957,\n",
       " 957,\n",
       " 954,\n",
       " 953,\n",
       " 951,\n",
       " 950,\n",
       " 949,\n",
       " 949,\n",
       " 948,\n",
       " 945,\n",
       " 944,\n",
       " 941,\n",
       " 941,\n",
       " 941,\n",
       " 939,\n",
       " 937,\n",
       " 934,\n",
       " 934,\n",
       " 934,\n",
       " 933,\n",
       " 933,\n",
       " 933,\n",
       " 933,\n",
       " 932,\n",
       " 932,\n",
       " 929,\n",
       " 925,\n",
       " 925,\n",
       " 925,\n",
       " 924,\n",
       " 924,\n",
       " 923,\n",
       " 923,\n",
       " 922,\n",
       " 922,\n",
       " 921,\n",
       " 918,\n",
       " 916,\n",
       " 916,\n",
       " 916,\n",
       " 915,\n",
       " 913,\n",
       " 913,\n",
       " 913,\n",
       " 913,\n",
       " 912,\n",
       " 912,\n",
       " 911,\n",
       " 910,\n",
       " 909,\n",
       " 909,\n",
       " 909,\n",
       " 909,\n",
       " 909,\n",
       " 908,\n",
       " 908,\n",
       " 907,\n",
       " 907,\n",
       " 903,\n",
       " 903,\n",
       " 902,\n",
       " 900,\n",
       " 899,\n",
       " 896,\n",
       " 896,\n",
       " 896,\n",
       " 892,\n",
       " 892,\n",
       " 892,\n",
       " 892,\n",
       " 891,\n",
       " 891,\n",
       " 890,\n",
       " 890,\n",
       " 889,\n",
       " 889,\n",
       " 888,\n",
       " 888,\n",
       " 888,\n",
       " 888,\n",
       " 884,\n",
       " 883,\n",
       " 883,\n",
       " 882,\n",
       " 882,\n",
       " 882,\n",
       " 880,\n",
       " 879,\n",
       " 879,\n",
       " 879,\n",
       " 878,\n",
       " 877,\n",
       " 877,\n",
       " 876,\n",
       " 876,\n",
       " 876,\n",
       " 876,\n",
       " 876,\n",
       " 875,\n",
       " 874,\n",
       " 872,\n",
       " 871,\n",
       " 868,\n",
       " 868,\n",
       " 867,\n",
       " 865,\n",
       " 865,\n",
       " 864,\n",
       " 864,\n",
       " 864,\n",
       " 863,\n",
       " 862,\n",
       " 861,\n",
       " 861,\n",
       " 861,\n",
       " 860,\n",
       " 859,\n",
       " 858,\n",
       " 858,\n",
       " 858,\n",
       " 858,\n",
       " 857,\n",
       " 855,\n",
       " 855,\n",
       " 854,\n",
       " 853,\n",
       " 852,\n",
       " 849,\n",
       " 847,\n",
       " 847,\n",
       " 847,\n",
       " 845,\n",
       " 843,\n",
       " 842,\n",
       " 841,\n",
       " 840,\n",
       " 839,\n",
       " 838,\n",
       " 838,\n",
       " 836,\n",
       " 835,\n",
       " 833,\n",
       " 832,\n",
       " 832,\n",
       " 831,\n",
       " 831,\n",
       " 829,\n",
       " 828,\n",
       " 828,\n",
       " 827,\n",
       " 827,\n",
       " 826,\n",
       " 826,\n",
       " 825,\n",
       " 825,\n",
       " 822,\n",
       " 822,\n",
       " 822,\n",
       " 821,\n",
       " 820,\n",
       " 820,\n",
       " 820,\n",
       " 820,\n",
       " 819,\n",
       " 816,\n",
       " 815,\n",
       " 815,\n",
       " 812,\n",
       " 811,\n",
       " 811,\n",
       " 810,\n",
       " 810,\n",
       " 810,\n",
       " 809,\n",
       " 807,\n",
       " 807,\n",
       " 806,\n",
       " 805,\n",
       " 803,\n",
       " 802,\n",
       " 802,\n",
       " 802,\n",
       " 801,\n",
       " 800,\n",
       " 800,\n",
       " 799,\n",
       " 798,\n",
       " 798,\n",
       " 797,\n",
       " 797,\n",
       " 796,\n",
       " 793,\n",
       " 792,\n",
       " 791,\n",
       " 790,\n",
       " 790,\n",
       " 789,\n",
       " 789,\n",
       " 789,\n",
       " 789,\n",
       " 786,\n",
       " 785,\n",
       " 785,\n",
       " 784,\n",
       " 784,\n",
       " 784,\n",
       " 784,\n",
       " 782,\n",
       " 782,\n",
       " 780,\n",
       " 779,\n",
       " 779,\n",
       " 779,\n",
       " 778,\n",
       " 778,\n",
       " 777,\n",
       " 777,\n",
       " 777,\n",
       " 777,\n",
       " 777,\n",
       " 776,\n",
       " 775,\n",
       " 774,\n",
       " 773,\n",
       " 773,\n",
       " 773,\n",
       " 773,\n",
       " 773,\n",
       " 772,\n",
       " 772,\n",
       " 771,\n",
       " 771,\n",
       " 770,\n",
       " 769,\n",
       " 768,\n",
       " 768,\n",
       " 767,\n",
       " 766,\n",
       " 766,\n",
       " 765,\n",
       " 763,\n",
       " 762,\n",
       " 761,\n",
       " 761,\n",
       " 760,\n",
       " 760,\n",
       " 759,\n",
       " 759,\n",
       " 758,\n",
       " 758,\n",
       " 757,\n",
       " 757,\n",
       " 756,\n",
       " 756,\n",
       " 756,\n",
       " 755,\n",
       " 755,\n",
       " 755,\n",
       " 755,\n",
       " 754,\n",
       " 754,\n",
       " 754,\n",
       " 754,\n",
       " 754,\n",
       " 754,\n",
       " 752,\n",
       " 752,\n",
       " 752,\n",
       " 751,\n",
       " 751,\n",
       " 751,\n",
       " 750,\n",
       " 750,\n",
       " 749,\n",
       " 749,\n",
       " 748,\n",
       " 748,\n",
       " 748,\n",
       " 748,\n",
       " 748,\n",
       " 747,\n",
       " 747,\n",
       " 747,\n",
       " 747,\n",
       " 745,\n",
       " 744,\n",
       " 744,\n",
       " 744,\n",
       " 742,\n",
       " 742,\n",
       " 740,\n",
       " 740,\n",
       " 739,\n",
       " 739,\n",
       " 739,\n",
       " 739,\n",
       " 739,\n",
       " 738,\n",
       " 738,\n",
       " 738,\n",
       " 738,\n",
       " 738,\n",
       " 737,\n",
       " 737,\n",
       " 736,\n",
       " 736,\n",
       " 736,\n",
       " 736,\n",
       " 735,\n",
       " 734,\n",
       " 734,\n",
       " 734,\n",
       " 733,\n",
       " 733,\n",
       " 733,\n",
       " 733,\n",
       " 733,\n",
       " 732,\n",
       " 732,\n",
       " 732,\n",
       " 731,\n",
       " 731,\n",
       " 730,\n",
       " 730,\n",
       " 730,\n",
       " 728,\n",
       " 727,\n",
       " 727,\n",
       " 727,\n",
       " 726,\n",
       " 726,\n",
       " 726,\n",
       " 725,\n",
       " 725,\n",
       " 725,\n",
       " 725,\n",
       " 724,\n",
       " 723,\n",
       " 723,\n",
       " 723,\n",
       " 723,\n",
       " 722,\n",
       " 721,\n",
       " 721,\n",
       " 721,\n",
       " 721,\n",
       " 720,\n",
       " 719,\n",
       " 718,\n",
       " 717,\n",
       " 717,\n",
       " 716,\n",
       " 715,\n",
       " 714,\n",
       " 714,\n",
       " 713,\n",
       " 713,\n",
       " 713,\n",
       " 712,\n",
       " 712,\n",
       " 712,\n",
       " 711,\n",
       " 711,\n",
       " 711,\n",
       " 710,\n",
       " 710,\n",
       " 710,\n",
       " 710,\n",
       " 710,\n",
       " 709,\n",
       " 709,\n",
       " 709,\n",
       " 708,\n",
       " 708,\n",
       " 708,\n",
       " 708,\n",
       " 708,\n",
       " 707,\n",
       " 707,\n",
       " 707,\n",
       " 707,\n",
       " 706,\n",
       " 706,\n",
       " 706,\n",
       " 705,\n",
       " 704,\n",
       " 704,\n",
       " 703,\n",
       " 703,\n",
       " 703,\n",
       " 702,\n",
       " 702,\n",
       " 702,\n",
       " 701,\n",
       " 701,\n",
       " 700,\n",
       " 700,\n",
       " 699,\n",
       " 699,\n",
       " 699,\n",
       " 699,\n",
       " 698,\n",
       " 698,\n",
       " 698,\n",
       " 697,\n",
       " 696,\n",
       " 696,\n",
       " 695,\n",
       " 695,\n",
       " 695,\n",
       " 695,\n",
       " 694,\n",
       " 693,\n",
       " 693,\n",
       " 693,\n",
       " 692,\n",
       " 691,\n",
       " 690,\n",
       " 690,\n",
       " 690,\n",
       " 689,\n",
       " 689,\n",
       " 688,\n",
       " 688,\n",
       " 687,\n",
       " 687,\n",
       " 687,\n",
       " 687,\n",
       " 686,\n",
       " 685,\n",
       " 685,\n",
       " 685,\n",
       " 684,\n",
       " 683,\n",
       " 683,\n",
       " 683,\n",
       " 682,\n",
       " 682,\n",
       " 681,\n",
       " 681,\n",
       " 681,\n",
       " 680,\n",
       " 680,\n",
       " 680,\n",
       " 680,\n",
       " 680,\n",
       " 680,\n",
       " 680,\n",
       " 679,\n",
       " 679,\n",
       " 679,\n",
       " 678,\n",
       " 678,\n",
       " 678,\n",
       " 678,\n",
       " 677,\n",
       " 677,\n",
       " 677,\n",
       " 676,\n",
       " 676,\n",
       " 675,\n",
       " 675,\n",
       " 674,\n",
       " 674,\n",
       " 674,\n",
       " 673,\n",
       " 673,\n",
       " 673,\n",
       " 673,\n",
       " 673,\n",
       " 673,\n",
       " 672,\n",
       " 671,\n",
       " 671,\n",
       " 671,\n",
       " 669,\n",
       " 668,\n",
       " 666,\n",
       " 666,\n",
       " 666,\n",
       " 666,\n",
       " 666,\n",
       " 665,\n",
       " 665,\n",
       " 664,\n",
       " 664,\n",
       " 664,\n",
       " 664,\n",
       " 664,\n",
       " 664,\n",
       " 664,\n",
       " 662,\n",
       " 662,\n",
       " 662,\n",
       " 662,\n",
       " 662,\n",
       " 662,\n",
       " 660,\n",
       " 660,\n",
       " 659,\n",
       " 658,\n",
       " 658,\n",
       " 657,\n",
       " 657,\n",
       " 657,\n",
       " 657,\n",
       " 656,\n",
       " 656,\n",
       " 656,\n",
       " 656,\n",
       " 655,\n",
       " 655,\n",
       " 655,\n",
       " 654,\n",
       " 654,\n",
       " 654,\n",
       " 653,\n",
       " 653,\n",
       " 653,\n",
       " 652,\n",
       " 651,\n",
       " 651,\n",
       " 650,\n",
       " 650,\n",
       " 649,\n",
       " 649,\n",
       " 649,\n",
       " 649,\n",
       " 648,\n",
       " 648,\n",
       " 648,\n",
       " 648,\n",
       " 647,\n",
       " 647,\n",
       " 647,\n",
       " 646,\n",
       " 646,\n",
       " 646,\n",
       " 645,\n",
       " 645,\n",
       " 645,\n",
       " 645,\n",
       " 645,\n",
       " 644,\n",
       " 644,\n",
       " 644,\n",
       " 643,\n",
       " 643,\n",
       " 642,\n",
       " 642,\n",
       " 642,\n",
       " 641,\n",
       " 641,\n",
       " 641,\n",
       " 640,\n",
       " 640,\n",
       " 640,\n",
       " 639,\n",
       " 639,\n",
       " 639,\n",
       " 639,\n",
       " 638,\n",
       " 637,\n",
       " 637,\n",
       " 637,\n",
       " 637,\n",
       " 636,\n",
       " 636,\n",
       " 636,\n",
       " 636,\n",
       " 635,\n",
       " 635,\n",
       " 634,\n",
       " ...]"
      ]
     },
     "execution_count": 40,
     "metadata": {},
     "output_type": "execute_result"
    }
   ],
   "source": [
    "diff_in_days = [abs(x[0] - x[1]).days if len(x) > 1 else 0 for x in dt_obj_list]\n",
    "diff_in_days.sort(reverse=True)\n",
    "diff_in_days"
   ]
  },
  {
   "cell_type": "markdown",
   "metadata": {},
   "source": [
    "видим, что разлет дат в одной строке может составлять до около 10 лет. Во многих ячейках разлет составляет больше года => для упрощения данных, оставлю только последнюю дату. \n",
    "\n",
    "Также, оставлю не только последнюю даты, но из даты выделю год, сезон (1 - зима, 2 - весна, 3 - лето, 4 - осень), и был ли это выходной или нет (1 - суббота, воскресенье, 0 - все остальное). Там, где даты не было вообще в год, сезон, выходной будут нули.\n",
    "\n",
    "Отмечу, что экспериментировал с тем, чтобы пропуски (год, сезон, выходной) заполнить самыми часто встречающимися значениями и средними значениями, но лучше всего получилось именно так, как предлагаю выше."
   ]
  },
  {
   "cell_type": "code",
   "execution_count": 41,
   "metadata": {},
   "outputs": [],
   "source": [
    "result_date = [max(x) if len(x) > 0 else 0 for x in dt_obj_list]"
   ]
  },
  {
   "cell_type": "code",
   "execution_count": 42,
   "metadata": {},
   "outputs": [],
   "source": [
    "result_year = pd.Series([x.year if isinstance(x, dt.datetime) else x for x in result_date])"
   ]
  },
  {
   "cell_type": "code",
   "execution_count": 43,
   "metadata": {},
   "outputs": [],
   "source": [
    "result_season = pd.Series([x.month%12//3 +1 if isinstance(x, dt.datetime) else x for x in result_date])"
   ]
  },
  {
   "cell_type": "code",
   "execution_count": 45,
   "metadata": {},
   "outputs": [],
   "source": [
    "result_weekend = pd.Series([(x.weekday() // 5) + 1 if isinstance(x, dt.datetime) else x for x in result_date])"
   ]
  },
  {
   "cell_type": "code",
   "execution_count": 46,
   "metadata": {},
   "outputs": [
    {
     "data": {
      "text/html": [
       "<div>\n",
       "<style scoped>\n",
       "    .dataframe tbody tr th:only-of-type {\n",
       "        vertical-align: middle;\n",
       "    }\n",
       "\n",
       "    .dataframe tbody tr th {\n",
       "        vertical-align: top;\n",
       "    }\n",
       "\n",
       "    .dataframe thead th {\n",
       "        text-align: right;\n",
       "    }\n",
       "</style>\n",
       "<table border=\"1\" class=\"dataframe\">\n",
       "  <thead>\n",
       "    <tr style=\"text-align: right;\">\n",
       "      <th></th>\n",
       "      <th>Ranking</th>\n",
       "      <th>Rating</th>\n",
       "      <th>Price Range</th>\n",
       "      <th>Number of Reviews</th>\n",
       "      <th>Reviews</th>\n",
       "      <th>Restaurant_id</th>\n",
       "      <th>Zurich</th>\n",
       "      <th>Warsaw</th>\n",
       "      <th>Vienna</th>\n",
       "      <th>Stockholm</th>\n",
       "      <th>...</th>\n",
       "      <th>Asian</th>\n",
       "      <th>French</th>\n",
       "      <th>Bar</th>\n",
       "      <th>Gluten Free Options</th>\n",
       "      <th>Vegan Options</th>\n",
       "      <th>Italian</th>\n",
       "      <th>Mediterranean</th>\n",
       "      <th>other_cuisines</th>\n",
       "      <th>European</th>\n",
       "      <th>Vegetarian Friendly</th>\n",
       "    </tr>\n",
       "  </thead>\n",
       "  <tbody>\n",
       "    <tr>\n",
       "      <th>0</th>\n",
       "      <td>5570.0</td>\n",
       "      <td>3.5</td>\n",
       "      <td>2</td>\n",
       "      <td>194.0</td>\n",
       "      <td>[['Good food at your doorstep', 'A good hotel ...</td>\n",
       "      <td>id_5569</td>\n",
       "      <td>0</td>\n",
       "      <td>0</td>\n",
       "      <td>0</td>\n",
       "      <td>0</td>\n",
       "      <td>...</td>\n",
       "      <td>0</td>\n",
       "      <td>1</td>\n",
       "      <td>0</td>\n",
       "      <td>0</td>\n",
       "      <td>0</td>\n",
       "      <td>0</td>\n",
       "      <td>0</td>\n",
       "      <td>0</td>\n",
       "      <td>1</td>\n",
       "      <td>0</td>\n",
       "    </tr>\n",
       "    <tr>\n",
       "      <th>1</th>\n",
       "      <td>1537.0</td>\n",
       "      <td>4.0</td>\n",
       "      <td>0</td>\n",
       "      <td>10.0</td>\n",
       "      <td>[['Unique cuisine', 'Delicious Nepalese food']...</td>\n",
       "      <td>id_1535</td>\n",
       "      <td>0</td>\n",
       "      <td>0</td>\n",
       "      <td>0</td>\n",
       "      <td>1</td>\n",
       "      <td>...</td>\n",
       "      <td>0</td>\n",
       "      <td>0</td>\n",
       "      <td>0</td>\n",
       "      <td>0</td>\n",
       "      <td>0</td>\n",
       "      <td>0</td>\n",
       "      <td>0</td>\n",
       "      <td>1</td>\n",
       "      <td>0</td>\n",
       "      <td>0</td>\n",
       "    </tr>\n",
       "    <tr>\n",
       "      <th>2</th>\n",
       "      <td>353.0</td>\n",
       "      <td>4.5</td>\n",
       "      <td>3</td>\n",
       "      <td>688.0</td>\n",
       "      <td>[['Catch up with friends', 'Not exceptional'],...</td>\n",
       "      <td>id_352</td>\n",
       "      <td>0</td>\n",
       "      <td>0</td>\n",
       "      <td>0</td>\n",
       "      <td>0</td>\n",
       "      <td>...</td>\n",
       "      <td>1</td>\n",
       "      <td>0</td>\n",
       "      <td>0</td>\n",
       "      <td>1</td>\n",
       "      <td>1</td>\n",
       "      <td>0</td>\n",
       "      <td>0</td>\n",
       "      <td>0</td>\n",
       "      <td>0</td>\n",
       "      <td>1</td>\n",
       "    </tr>\n",
       "    <tr>\n",
       "      <th>3</th>\n",
       "      <td>3458.0</td>\n",
       "      <td>5.0</td>\n",
       "      <td>0</td>\n",
       "      <td>3.0</td>\n",
       "      <td>[[], []]</td>\n",
       "      <td>id_3456</td>\n",
       "      <td>0</td>\n",
       "      <td>0</td>\n",
       "      <td>0</td>\n",
       "      <td>0</td>\n",
       "      <td>...</td>\n",
       "      <td>0</td>\n",
       "      <td>0</td>\n",
       "      <td>0</td>\n",
       "      <td>0</td>\n",
       "      <td>0</td>\n",
       "      <td>0</td>\n",
       "      <td>0</td>\n",
       "      <td>1</td>\n",
       "      <td>0</td>\n",
       "      <td>0</td>\n",
       "    </tr>\n",
       "    <tr>\n",
       "      <th>4</th>\n",
       "      <td>621.0</td>\n",
       "      <td>4.0</td>\n",
       "      <td>2</td>\n",
       "      <td>84.0</td>\n",
       "      <td>[['Best place to try a Bavarian food', 'Nice b...</td>\n",
       "      <td>id_615</td>\n",
       "      <td>0</td>\n",
       "      <td>0</td>\n",
       "      <td>0</td>\n",
       "      <td>0</td>\n",
       "      <td>...</td>\n",
       "      <td>0</td>\n",
       "      <td>0</td>\n",
       "      <td>0</td>\n",
       "      <td>0</td>\n",
       "      <td>0</td>\n",
       "      <td>0</td>\n",
       "      <td>0</td>\n",
       "      <td>0</td>\n",
       "      <td>0</td>\n",
       "      <td>1</td>\n",
       "    </tr>\n",
       "    <tr>\n",
       "      <th>...</th>\n",
       "      <td>...</td>\n",
       "      <td>...</td>\n",
       "      <td>...</td>\n",
       "      <td>...</td>\n",
       "      <td>...</td>\n",
       "      <td>...</td>\n",
       "      <td>...</td>\n",
       "      <td>...</td>\n",
       "      <td>...</td>\n",
       "      <td>...</td>\n",
       "      <td>...</td>\n",
       "      <td>...</td>\n",
       "      <td>...</td>\n",
       "      <td>...</td>\n",
       "      <td>...</td>\n",
       "      <td>...</td>\n",
       "      <td>...</td>\n",
       "      <td>...</td>\n",
       "      <td>...</td>\n",
       "      <td>...</td>\n",
       "      <td>...</td>\n",
       "    </tr>\n",
       "    <tr>\n",
       "      <th>39995</th>\n",
       "      <td>500.0</td>\n",
       "      <td>4.5</td>\n",
       "      <td>2</td>\n",
       "      <td>79.0</td>\n",
       "      <td>[['The real Italian experience!', 'Wonderful f...</td>\n",
       "      <td>id_499</td>\n",
       "      <td>0</td>\n",
       "      <td>0</td>\n",
       "      <td>0</td>\n",
       "      <td>0</td>\n",
       "      <td>...</td>\n",
       "      <td>0</td>\n",
       "      <td>0</td>\n",
       "      <td>0</td>\n",
       "      <td>1</td>\n",
       "      <td>1</td>\n",
       "      <td>1</td>\n",
       "      <td>0</td>\n",
       "      <td>0</td>\n",
       "      <td>0</td>\n",
       "      <td>1</td>\n",
       "    </tr>\n",
       "    <tr>\n",
       "      <th>39996</th>\n",
       "      <td>6341.0</td>\n",
       "      <td>3.5</td>\n",
       "      <td>2</td>\n",
       "      <td>542.0</td>\n",
       "      <td>[['Parisian atmosphere', 'Bit pricey but inter...</td>\n",
       "      <td>id_6340</td>\n",
       "      <td>0</td>\n",
       "      <td>0</td>\n",
       "      <td>0</td>\n",
       "      <td>0</td>\n",
       "      <td>...</td>\n",
       "      <td>0</td>\n",
       "      <td>1</td>\n",
       "      <td>1</td>\n",
       "      <td>0</td>\n",
       "      <td>0</td>\n",
       "      <td>0</td>\n",
       "      <td>0</td>\n",
       "      <td>0</td>\n",
       "      <td>1</td>\n",
       "      <td>1</td>\n",
       "    </tr>\n",
       "    <tr>\n",
       "      <th>39997</th>\n",
       "      <td>1652.0</td>\n",
       "      <td>4.5</td>\n",
       "      <td>0</td>\n",
       "      <td>4.0</td>\n",
       "      <td>[['Good by swedish standards', 'A hidden jewel...</td>\n",
       "      <td>id_1649</td>\n",
       "      <td>0</td>\n",
       "      <td>0</td>\n",
       "      <td>0</td>\n",
       "      <td>1</td>\n",
       "      <td>...</td>\n",
       "      <td>0</td>\n",
       "      <td>0</td>\n",
       "      <td>0</td>\n",
       "      <td>0</td>\n",
       "      <td>0</td>\n",
       "      <td>0</td>\n",
       "      <td>0</td>\n",
       "      <td>0</td>\n",
       "      <td>0</td>\n",
       "      <td>0</td>\n",
       "    </tr>\n",
       "    <tr>\n",
       "      <th>39998</th>\n",
       "      <td>641.0</td>\n",
       "      <td>4.0</td>\n",
       "      <td>2</td>\n",
       "      <td>70.0</td>\n",
       "      <td>[['Underground restaurant', 'Oldest Restaurant...</td>\n",
       "      <td>id_640</td>\n",
       "      <td>0</td>\n",
       "      <td>1</td>\n",
       "      <td>0</td>\n",
       "      <td>0</td>\n",
       "      <td>...</td>\n",
       "      <td>0</td>\n",
       "      <td>0</td>\n",
       "      <td>0</td>\n",
       "      <td>0</td>\n",
       "      <td>0</td>\n",
       "      <td>0</td>\n",
       "      <td>0</td>\n",
       "      <td>0</td>\n",
       "      <td>1</td>\n",
       "      <td>1</td>\n",
       "    </tr>\n",
       "    <tr>\n",
       "      <th>39999</th>\n",
       "      <td>4827.0</td>\n",
       "      <td>3.0</td>\n",
       "      <td>2</td>\n",
       "      <td>260.0</td>\n",
       "      <td>[['Average', 'Nice an informal'], ['01/31/2016...</td>\n",
       "      <td>id_4824</td>\n",
       "      <td>0</td>\n",
       "      <td>0</td>\n",
       "      <td>0</td>\n",
       "      <td>0</td>\n",
       "      <td>...</td>\n",
       "      <td>0</td>\n",
       "      <td>0</td>\n",
       "      <td>0</td>\n",
       "      <td>0</td>\n",
       "      <td>0</td>\n",
       "      <td>0</td>\n",
       "      <td>0</td>\n",
       "      <td>0</td>\n",
       "      <td>0</td>\n",
       "      <td>0</td>\n",
       "    </tr>\n",
       "  </tbody>\n",
       "</table>\n",
       "<p>40000 rows × 163 columns</p>\n",
       "</div>"
      ],
      "text/plain": [
       "       Ranking  Rating  Price Range  Number of Reviews  \\\n",
       "0       5570.0     3.5            2              194.0   \n",
       "1       1537.0     4.0            0               10.0   \n",
       "2        353.0     4.5            3              688.0   \n",
       "3       3458.0     5.0            0                3.0   \n",
       "4        621.0     4.0            2               84.0   \n",
       "...        ...     ...          ...                ...   \n",
       "39995    500.0     4.5            2               79.0   \n",
       "39996   6341.0     3.5            2              542.0   \n",
       "39997   1652.0     4.5            0                4.0   \n",
       "39998    641.0     4.0            2               70.0   \n",
       "39999   4827.0     3.0            2              260.0   \n",
       "\n",
       "                                                 Reviews Restaurant_id  \\\n",
       "0      [['Good food at your doorstep', 'A good hotel ...       id_5569   \n",
       "1      [['Unique cuisine', 'Delicious Nepalese food']...       id_1535   \n",
       "2      [['Catch up with friends', 'Not exceptional'],...        id_352   \n",
       "3                                               [[], []]       id_3456   \n",
       "4      [['Best place to try a Bavarian food', 'Nice b...        id_615   \n",
       "...                                                  ...           ...   \n",
       "39995  [['The real Italian experience!', 'Wonderful f...        id_499   \n",
       "39996  [['Parisian atmosphere', 'Bit pricey but inter...       id_6340   \n",
       "39997  [['Good by swedish standards', 'A hidden jewel...       id_1649   \n",
       "39998  [['Underground restaurant', 'Oldest Restaurant...        id_640   \n",
       "39999  [['Average', 'Nice an informal'], ['01/31/2016...       id_4824   \n",
       "\n",
       "       Zurich  Warsaw  Vienna  Stockholm  ...  Asian  French  Bar  \\\n",
       "0           0       0       0          0  ...      0       1    0   \n",
       "1           0       0       0          1  ...      0       0    0   \n",
       "2           0       0       0          0  ...      1       0    0   \n",
       "3           0       0       0          0  ...      0       0    0   \n",
       "4           0       0       0          0  ...      0       0    0   \n",
       "...       ...     ...     ...        ...  ...    ...     ...  ...   \n",
       "39995       0       0       0          0  ...      0       0    0   \n",
       "39996       0       0       0          0  ...      0       1    1   \n",
       "39997       0       0       0          1  ...      0       0    0   \n",
       "39998       0       1       0          0  ...      0       0    0   \n",
       "39999       0       0       0          0  ...      0       0    0   \n",
       "\n",
       "       Gluten Free Options  Vegan Options  Italian  Mediterranean  \\\n",
       "0                        0              0        0              0   \n",
       "1                        0              0        0              0   \n",
       "2                        1              1        0              0   \n",
       "3                        0              0        0              0   \n",
       "4                        0              0        0              0   \n",
       "...                    ...            ...      ...            ...   \n",
       "39995                    1              1        1              0   \n",
       "39996                    0              0        0              0   \n",
       "39997                    0              0        0              0   \n",
       "39998                    0              0        0              0   \n",
       "39999                    0              0        0              0   \n",
       "\n",
       "       other_cuisines  European  Vegetarian Friendly  \n",
       "0                   0         1                    0  \n",
       "1                   1         0                    0  \n",
       "2                   0         0                    1  \n",
       "3                   1         0                    0  \n",
       "4                   0         0                    1  \n",
       "...               ...       ...                  ...  \n",
       "39995               0         0                    1  \n",
       "39996               0         1                    1  \n",
       "39997               0         0                    0  \n",
       "39998               0         1                    1  \n",
       "39999               0         0                    0  \n",
       "\n",
       "[40000 rows x 163 columns]"
      ]
     },
     "execution_count": 46,
     "metadata": {},
     "output_type": "execute_result"
    }
   ],
   "source": [
    "for i in range(0,5):\n",
    "    buf_name = df1.columns[-1]\n",
    "    col_buf = df1.pop(buf_name)\n",
    "    df1.insert(0,buf_name,col_buf)\n",
    "df1"
   ]
  },
  {
   "cell_type": "code",
   "execution_count": 47,
   "metadata": {},
   "outputs": [],
   "source": [
    "df1.drop(columns=['Reviews'], inplace=True)\n",
    "df1.insert(4,'year',result_year)\n",
    "df1.insert(5,'season',result_season)\n",
    "df1.insert(6,'weekend',result_weekend)"
   ]
  },
  {
   "cell_type": "code",
   "execution_count": 48,
   "metadata": {},
   "outputs": [],
   "source": [
    "df1.insert(4,'number of dates',num_of_dates)"
   ]
  },
  {
   "cell_type": "code",
   "execution_count": 174,
   "metadata": {},
   "outputs": [],
   "source": [
    "df1['weekend'] = result_weekend"
   ]
  },
  {
   "cell_type": "code",
   "execution_count": 49,
   "metadata": {},
   "outputs": [
    {
     "data": {
      "text/html": [
       "<div>\n",
       "<style scoped>\n",
       "    .dataframe tbody tr th:only-of-type {\n",
       "        vertical-align: middle;\n",
       "    }\n",
       "\n",
       "    .dataframe tbody tr th {\n",
       "        vertical-align: top;\n",
       "    }\n",
       "\n",
       "    .dataframe thead th {\n",
       "        text-align: right;\n",
       "    }\n",
       "</style>\n",
       "<table border=\"1\" class=\"dataframe\">\n",
       "  <thead>\n",
       "    <tr style=\"text-align: right;\">\n",
       "      <th></th>\n",
       "      <th>Ranking</th>\n",
       "      <th>Rating</th>\n",
       "      <th>Price Range</th>\n",
       "      <th>Number of Reviews</th>\n",
       "      <th>number of dates</th>\n",
       "      <th>year</th>\n",
       "      <th>season</th>\n",
       "      <th>weekend</th>\n",
       "      <th>Restaurant_id</th>\n",
       "      <th>Zurich</th>\n",
       "      <th>...</th>\n",
       "      <th>Asian</th>\n",
       "      <th>French</th>\n",
       "      <th>Bar</th>\n",
       "      <th>Gluten Free Options</th>\n",
       "      <th>Vegan Options</th>\n",
       "      <th>Italian</th>\n",
       "      <th>Mediterranean</th>\n",
       "      <th>other_cuisines</th>\n",
       "      <th>European</th>\n",
       "      <th>Vegetarian Friendly</th>\n",
       "    </tr>\n",
       "  </thead>\n",
       "  <tbody>\n",
       "    <tr>\n",
       "      <th>0</th>\n",
       "      <td>5570.0</td>\n",
       "      <td>3.5</td>\n",
       "      <td>2</td>\n",
       "      <td>194.0</td>\n",
       "      <td>2</td>\n",
       "      <td>2017</td>\n",
       "      <td>1</td>\n",
       "      <td>2</td>\n",
       "      <td>id_5569</td>\n",
       "      <td>0</td>\n",
       "      <td>...</td>\n",
       "      <td>0</td>\n",
       "      <td>1</td>\n",
       "      <td>0</td>\n",
       "      <td>0</td>\n",
       "      <td>0</td>\n",
       "      <td>0</td>\n",
       "      <td>0</td>\n",
       "      <td>0</td>\n",
       "      <td>1</td>\n",
       "      <td>0</td>\n",
       "    </tr>\n",
       "    <tr>\n",
       "      <th>1</th>\n",
       "      <td>1537.0</td>\n",
       "      <td>4.0</td>\n",
       "      <td>0</td>\n",
       "      <td>10.0</td>\n",
       "      <td>2</td>\n",
       "      <td>2017</td>\n",
       "      <td>3</td>\n",
       "      <td>1</td>\n",
       "      <td>id_1535</td>\n",
       "      <td>0</td>\n",
       "      <td>...</td>\n",
       "      <td>0</td>\n",
       "      <td>0</td>\n",
       "      <td>0</td>\n",
       "      <td>0</td>\n",
       "      <td>0</td>\n",
       "      <td>0</td>\n",
       "      <td>0</td>\n",
       "      <td>1</td>\n",
       "      <td>0</td>\n",
       "      <td>0</td>\n",
       "    </tr>\n",
       "    <tr>\n",
       "      <th>2</th>\n",
       "      <td>353.0</td>\n",
       "      <td>4.5</td>\n",
       "      <td>3</td>\n",
       "      <td>688.0</td>\n",
       "      <td>2</td>\n",
       "      <td>2018</td>\n",
       "      <td>1</td>\n",
       "      <td>1</td>\n",
       "      <td>id_352</td>\n",
       "      <td>0</td>\n",
       "      <td>...</td>\n",
       "      <td>1</td>\n",
       "      <td>0</td>\n",
       "      <td>0</td>\n",
       "      <td>1</td>\n",
       "      <td>1</td>\n",
       "      <td>0</td>\n",
       "      <td>0</td>\n",
       "      <td>0</td>\n",
       "      <td>0</td>\n",
       "      <td>1</td>\n",
       "    </tr>\n",
       "    <tr>\n",
       "      <th>3</th>\n",
       "      <td>3458.0</td>\n",
       "      <td>5.0</td>\n",
       "      <td>0</td>\n",
       "      <td>3.0</td>\n",
       "      <td>0</td>\n",
       "      <td>0</td>\n",
       "      <td>0</td>\n",
       "      <td>0</td>\n",
       "      <td>id_3456</td>\n",
       "      <td>0</td>\n",
       "      <td>...</td>\n",
       "      <td>0</td>\n",
       "      <td>0</td>\n",
       "      <td>0</td>\n",
       "      <td>0</td>\n",
       "      <td>0</td>\n",
       "      <td>0</td>\n",
       "      <td>0</td>\n",
       "      <td>1</td>\n",
       "      <td>0</td>\n",
       "      <td>0</td>\n",
       "    </tr>\n",
       "    <tr>\n",
       "      <th>4</th>\n",
       "      <td>621.0</td>\n",
       "      <td>4.0</td>\n",
       "      <td>2</td>\n",
       "      <td>84.0</td>\n",
       "      <td>2</td>\n",
       "      <td>2017</td>\n",
       "      <td>4</td>\n",
       "      <td>2</td>\n",
       "      <td>id_615</td>\n",
       "      <td>0</td>\n",
       "      <td>...</td>\n",
       "      <td>0</td>\n",
       "      <td>0</td>\n",
       "      <td>0</td>\n",
       "      <td>0</td>\n",
       "      <td>0</td>\n",
       "      <td>0</td>\n",
       "      <td>0</td>\n",
       "      <td>0</td>\n",
       "      <td>0</td>\n",
       "      <td>1</td>\n",
       "    </tr>\n",
       "    <tr>\n",
       "      <th>...</th>\n",
       "      <td>...</td>\n",
       "      <td>...</td>\n",
       "      <td>...</td>\n",
       "      <td>...</td>\n",
       "      <td>...</td>\n",
       "      <td>...</td>\n",
       "      <td>...</td>\n",
       "      <td>...</td>\n",
       "      <td>...</td>\n",
       "      <td>...</td>\n",
       "      <td>...</td>\n",
       "      <td>...</td>\n",
       "      <td>...</td>\n",
       "      <td>...</td>\n",
       "      <td>...</td>\n",
       "      <td>...</td>\n",
       "      <td>...</td>\n",
       "      <td>...</td>\n",
       "      <td>...</td>\n",
       "      <td>...</td>\n",
       "      <td>...</td>\n",
       "    </tr>\n",
       "    <tr>\n",
       "      <th>39995</th>\n",
       "      <td>500.0</td>\n",
       "      <td>4.5</td>\n",
       "      <td>2</td>\n",
       "      <td>79.0</td>\n",
       "      <td>2</td>\n",
       "      <td>2017</td>\n",
       "      <td>1</td>\n",
       "      <td>2</td>\n",
       "      <td>id_499</td>\n",
       "      <td>0</td>\n",
       "      <td>...</td>\n",
       "      <td>0</td>\n",
       "      <td>0</td>\n",
       "      <td>0</td>\n",
       "      <td>1</td>\n",
       "      <td>1</td>\n",
       "      <td>1</td>\n",
       "      <td>0</td>\n",
       "      <td>0</td>\n",
       "      <td>0</td>\n",
       "      <td>1</td>\n",
       "    </tr>\n",
       "    <tr>\n",
       "      <th>39996</th>\n",
       "      <td>6341.0</td>\n",
       "      <td>3.5</td>\n",
       "      <td>2</td>\n",
       "      <td>542.0</td>\n",
       "      <td>2</td>\n",
       "      <td>2017</td>\n",
       "      <td>1</td>\n",
       "      <td>1</td>\n",
       "      <td>id_6340</td>\n",
       "      <td>0</td>\n",
       "      <td>...</td>\n",
       "      <td>0</td>\n",
       "      <td>1</td>\n",
       "      <td>1</td>\n",
       "      <td>0</td>\n",
       "      <td>0</td>\n",
       "      <td>0</td>\n",
       "      <td>0</td>\n",
       "      <td>0</td>\n",
       "      <td>1</td>\n",
       "      <td>1</td>\n",
       "    </tr>\n",
       "    <tr>\n",
       "      <th>39997</th>\n",
       "      <td>1652.0</td>\n",
       "      <td>4.5</td>\n",
       "      <td>0</td>\n",
       "      <td>4.0</td>\n",
       "      <td>2</td>\n",
       "      <td>2016</td>\n",
       "      <td>4</td>\n",
       "      <td>1</td>\n",
       "      <td>id_1649</td>\n",
       "      <td>0</td>\n",
       "      <td>...</td>\n",
       "      <td>0</td>\n",
       "      <td>0</td>\n",
       "      <td>0</td>\n",
       "      <td>0</td>\n",
       "      <td>0</td>\n",
       "      <td>0</td>\n",
       "      <td>0</td>\n",
       "      <td>0</td>\n",
       "      <td>0</td>\n",
       "      <td>0</td>\n",
       "    </tr>\n",
       "    <tr>\n",
       "      <th>39998</th>\n",
       "      <td>641.0</td>\n",
       "      <td>4.0</td>\n",
       "      <td>2</td>\n",
       "      <td>70.0</td>\n",
       "      <td>2</td>\n",
       "      <td>2017</td>\n",
       "      <td>3</td>\n",
       "      <td>1</td>\n",
       "      <td>id_640</td>\n",
       "      <td>0</td>\n",
       "      <td>...</td>\n",
       "      <td>0</td>\n",
       "      <td>0</td>\n",
       "      <td>0</td>\n",
       "      <td>0</td>\n",
       "      <td>0</td>\n",
       "      <td>0</td>\n",
       "      <td>0</td>\n",
       "      <td>0</td>\n",
       "      <td>1</td>\n",
       "      <td>1</td>\n",
       "    </tr>\n",
       "    <tr>\n",
       "      <th>39999</th>\n",
       "      <td>4827.0</td>\n",
       "      <td>3.0</td>\n",
       "      <td>2</td>\n",
       "      <td>260.0</td>\n",
       "      <td>2</td>\n",
       "      <td>2016</td>\n",
       "      <td>1</td>\n",
       "      <td>2</td>\n",
       "      <td>id_4824</td>\n",
       "      <td>0</td>\n",
       "      <td>...</td>\n",
       "      <td>0</td>\n",
       "      <td>0</td>\n",
       "      <td>0</td>\n",
       "      <td>0</td>\n",
       "      <td>0</td>\n",
       "      <td>0</td>\n",
       "      <td>0</td>\n",
       "      <td>0</td>\n",
       "      <td>0</td>\n",
       "      <td>0</td>\n",
       "    </tr>\n",
       "  </tbody>\n",
       "</table>\n",
       "<p>40000 rows × 166 columns</p>\n",
       "</div>"
      ],
      "text/plain": [
       "       Ranking  Rating  Price Range  Number of Reviews  number of dates  year  \\\n",
       "0       5570.0     3.5            2              194.0                2  2017   \n",
       "1       1537.0     4.0            0               10.0                2  2017   \n",
       "2        353.0     4.5            3              688.0                2  2018   \n",
       "3       3458.0     5.0            0                3.0                0     0   \n",
       "4        621.0     4.0            2               84.0                2  2017   \n",
       "...        ...     ...          ...                ...              ...   ...   \n",
       "39995    500.0     4.5            2               79.0                2  2017   \n",
       "39996   6341.0     3.5            2              542.0                2  2017   \n",
       "39997   1652.0     4.5            0                4.0                2  2016   \n",
       "39998    641.0     4.0            2               70.0                2  2017   \n",
       "39999   4827.0     3.0            2              260.0                2  2016   \n",
       "\n",
       "       season  weekend Restaurant_id  Zurich  ...  Asian  French  Bar  \\\n",
       "0           1        2       id_5569       0  ...      0       1    0   \n",
       "1           3        1       id_1535       0  ...      0       0    0   \n",
       "2           1        1        id_352       0  ...      1       0    0   \n",
       "3           0        0       id_3456       0  ...      0       0    0   \n",
       "4           4        2        id_615       0  ...      0       0    0   \n",
       "...       ...      ...           ...     ...  ...    ...     ...  ...   \n",
       "39995       1        2        id_499       0  ...      0       0    0   \n",
       "39996       1        1       id_6340       0  ...      0       1    1   \n",
       "39997       4        1       id_1649       0  ...      0       0    0   \n",
       "39998       3        1        id_640       0  ...      0       0    0   \n",
       "39999       1        2       id_4824       0  ...      0       0    0   \n",
       "\n",
       "       Gluten Free Options  Vegan Options  Italian  Mediterranean  \\\n",
       "0                        0              0        0              0   \n",
       "1                        0              0        0              0   \n",
       "2                        1              1        0              0   \n",
       "3                        0              0        0              0   \n",
       "4                        0              0        0              0   \n",
       "...                    ...            ...      ...            ...   \n",
       "39995                    1              1        1              0   \n",
       "39996                    0              0        0              0   \n",
       "39997                    0              0        0              0   \n",
       "39998                    0              0        0              0   \n",
       "39999                    0              0        0              0   \n",
       "\n",
       "       other_cuisines  European  Vegetarian Friendly  \n",
       "0                   0         1                    0  \n",
       "1                   1         0                    0  \n",
       "2                   0         0                    1  \n",
       "3                   1         0                    0  \n",
       "4                   0         0                    1  \n",
       "...               ...       ...                  ...  \n",
       "39995               0         0                    1  \n",
       "39996               0         1                    1  \n",
       "39997               0         0                    0  \n",
       "39998               0         1                    1  \n",
       "39999               0         0                    0  \n",
       "\n",
       "[40000 rows x 166 columns]"
      ]
     },
     "execution_count": 49,
     "metadata": {},
     "output_type": "execute_result"
    }
   ],
   "source": [
    "df1"
   ]
  },
  {
   "cell_type": "code",
   "execution_count": 50,
   "metadata": {},
   "outputs": [
    {
     "name": "stdout",
     "output_type": "stream",
     "text": [
      "<class 'pandas.core.frame.DataFrame'>\n",
      "RangeIndex: 40000 entries, 0 to 39999\n",
      "Data columns (total 166 columns):\n",
      " #   Column               Non-Null Count  Dtype  \n",
      "---  ------               --------------  -----  \n",
      " 0   Ranking              40000 non-null  float64\n",
      " 1   Rating               40000 non-null  float64\n",
      " 2   Price Range          40000 non-null  int64  \n",
      " 3   Number of Reviews    40000 non-null  float64\n",
      " 4   number of dates      40000 non-null  int64  \n",
      " 5   year                 40000 non-null  int64  \n",
      " 6   season               40000 non-null  int64  \n",
      " 7   weekend              40000 non-null  int64  \n",
      " 8   Restaurant_id        40000 non-null  object \n",
      " 9   Zurich               40000 non-null  uint8  \n",
      " 10  Warsaw               40000 non-null  uint8  \n",
      " 11  Vienna               40000 non-null  uint8  \n",
      " 12  Stockholm            40000 non-null  uint8  \n",
      " 13  Rome                 40000 non-null  uint8  \n",
      " 14  Prague               40000 non-null  uint8  \n",
      " 15  Paris                40000 non-null  uint8  \n",
      " 16  Oslo                 40000 non-null  uint8  \n",
      " 17  Oporto               40000 non-null  uint8  \n",
      " 18  Munich               40000 non-null  uint8  \n",
      " 19  Milan                40000 non-null  uint8  \n",
      " 20  Madrid               40000 non-null  uint8  \n",
      " 21  Lyon                 40000 non-null  uint8  \n",
      " 22  Luxembourg           40000 non-null  uint8  \n",
      " 23  London               40000 non-null  uint8  \n",
      " 24  Ljubljana            40000 non-null  uint8  \n",
      " 25  Lisbon               40000 non-null  uint8  \n",
      " 26  Krakow               40000 non-null  uint8  \n",
      " 27  Helsinki             40000 non-null  uint8  \n",
      " 28  Hamburg              40000 non-null  uint8  \n",
      " 29  Geneva               40000 non-null  uint8  \n",
      " 30  Edinburgh            40000 non-null  uint8  \n",
      " 31  Dublin               40000 non-null  uint8  \n",
      " 32  Copenhagen           40000 non-null  uint8  \n",
      " 33  Budapest             40000 non-null  uint8  \n",
      " 34  Brussels             40000 non-null  uint8  \n",
      " 35  Bratislava           40000 non-null  uint8  \n",
      " 36  Berlin               40000 non-null  uint8  \n",
      " 37  Barcelona            40000 non-null  uint8  \n",
      " 38  Athens               40000 non-null  uint8  \n",
      " 39  Amsterdam            40000 non-null  uint8  \n",
      " 40  Xinjiang             40000 non-null  int64  \n",
      " 41  Yunnan               40000 non-null  int64  \n",
      " 42  Latvian              40000 non-null  int64  \n",
      " 43  Burmese              40000 non-null  int64  \n",
      " 44  Salvadoran           40000 non-null  int64  \n",
      " 45  Azerbaijani          40000 non-null  int64  \n",
      " 46  Polynesian           40000 non-null  int64  \n",
      " 47  Welsh                40000 non-null  int64  \n",
      " 48  Fujian               40000 non-null  int64  \n",
      " 49  Ecuadorean           40000 non-null  int64  \n",
      " 50  Native American      40000 non-null  int64  \n",
      " 51  Caucasian            40000 non-null  int64  \n",
      " 52  Uzbek                40000 non-null  int64  \n",
      " 53  Canadian             40000 non-null  int64  \n",
      " 54  New Zealand          40000 non-null  int64  \n",
      " 55  Chilean              40000 non-null  int64  \n",
      " 56  Albanian             40000 non-null  int64  \n",
      " 57  Romanian             40000 non-null  int64  \n",
      " 58  Minority Chinese     40000 non-null  int64  \n",
      " 59  Central Asian        40000 non-null  int64  \n",
      " 60  Filipino             40000 non-null  int64  \n",
      " 61  Mongolian            40000 non-null  int64  \n",
      " 62  Armenian             40000 non-null  int64  \n",
      " 63  Georgian             40000 non-null  int64  \n",
      " 64  Southwestern         40000 non-null  int64  \n",
      " 65  Ukrainian            40000 non-null  int64  \n",
      " 66  Singaporean          40000 non-null  int64  \n",
      " 67  Cambodian            40000 non-null  int64  \n",
      " 68  Colombian            40000 non-null  int64  \n",
      " 69  Egyptian             40000 non-null  int64  \n",
      " 70  Cajun & Creole       40000 non-null  int64  \n",
      " 71  Tunisian             40000 non-null  int64  \n",
      " 72  Hawaiian             40000 non-null  int64  \n",
      " 73  Afghani              40000 non-null  int64  \n",
      " 74  Taiwanese            40000 non-null  int64  \n",
      " 75  Cuban                40000 non-null  int64  \n",
      " 76  Australian           40000 non-null  int64  \n",
      " 77  Tibetan              40000 non-null  int64  \n",
      " 78  Sri Lankan           40000 non-null  int64  \n",
      " 79  Jamaican             40000 non-null  int64  \n",
      " 80  Croatian             40000 non-null  int64  \n",
      " 81  Malaysian            40000 non-null  int64  \n",
      " 82  Venezuelan           40000 non-null  int64  \n",
      " 83  Ethiopian            40000 non-null  int64  \n",
      " 84  Kosher               40000 non-null  int64  \n",
      " 85  Arabic               40000 non-null  int64  \n",
      " 86  Persian              40000 non-null  int64  \n",
      " 87  Russian              40000 non-null  int64  \n",
      " 88  Indonesian           40000 non-null  int64  \n",
      " 89  Slovenian            40000 non-null  int64  \n",
      " 90  Israeli              40000 non-null  int64  \n",
      " 91  Norwegian            40000 non-null  int64  \n",
      " 92  Bangladeshi          40000 non-null  int64  \n",
      " 93  Nepali               40000 non-null  int64  \n",
      " 94  Balti                40000 non-null  int64  \n",
      " 95  Caribbean            40000 non-null  int64  \n",
      " 96  Peruvian             40000 non-null  int64  \n",
      " 97  Pakistani            40000 non-null  int64  \n",
      " 98  Brazilian            40000 non-null  int64  \n",
      " 99  Central American     40000 non-null  int64  \n",
      " 100 Moroccan             40000 non-null  int64  \n",
      " 101 African              40000 non-null  int64  \n",
      " 102 Scottish             40000 non-null  int64  \n",
      " 103 Korean               40000 non-null  int64  \n",
      " 104 Argentinean          40000 non-null  int64  \n",
      " 105 Swedish              40000 non-null  int64  \n",
      " 106 Danish               40000 non-null  int64  \n",
      " 107 Swiss                40000 non-null  int64  \n",
      " 108 Brew Pub             40000 non-null  int64  \n",
      " 109 Street Food          40000 non-null  int64  \n",
      " 110 Belgian              40000 non-null  int64  \n",
      " 111 Irish                40000 non-null  int64  \n",
      " 112 Dutch                40000 non-null  int64  \n",
      " 113 Diner                40000 non-null  int64  \n",
      " 114 Latin                40000 non-null  int64  \n",
      " 115 Lebanese             40000 non-null  int64  \n",
      " 116 Scandinavian         40000 non-null  int64  \n",
      " 117 Hungarian            40000 non-null  int64  \n",
      " 118 Polish               40000 non-null  int64  \n",
      " 119 South American       40000 non-null  int64  \n",
      " 120 Austrian             40000 non-null  int64  \n",
      " 121 Delicatessen         40000 non-null  int64  \n",
      " 122 Turkish              40000 non-null  int64  \n",
      " 123 Mexican              40000 non-null  int64  \n",
      " 124 Gastropub            40000 non-null  int64  \n",
      " 125 Grill                40000 non-null  int64  \n",
      " 126 Soups                40000 non-null  int64  \n",
      " 127 Eastern European     40000 non-null  int64  \n",
      " 128 Vietnamese           40000 non-null  int64  \n",
      " 129 Contemporary         40000 non-null  int64  \n",
      " 130 Barbecue             40000 non-null  int64  \n",
      " 131 Steakhouse           40000 non-null  int64  \n",
      " 132 Fusion               40000 non-null  int64  \n",
      " 133 Czech                40000 non-null  int64  \n",
      " 134 Halal                40000 non-null  int64  \n",
      " 135 Greek                40000 non-null  int64  \n",
      " 136 Healthy              40000 non-null  int64  \n",
      " 137 German               40000 non-null  int64  \n",
      " 138 Wine Bar             40000 non-null  int64  \n",
      " 139 Thai                 40000 non-null  int64  \n",
      " 140 Middle Eastern       40000 non-null  int64  \n",
      " 141 Indian               40000 non-null  int64  \n",
      " 142 Portuguese           40000 non-null  int64  \n",
      " 143 Chinese              40000 non-null  int64  \n",
      " 144 Sushi                40000 non-null  int64  \n",
      " 145 American             40000 non-null  int64  \n",
      " 146 Central European     40000 non-null  int64  \n",
      " 147 Japanese             40000 non-null  int64  \n",
      " 148 Seafood              40000 non-null  int64  \n",
      " 149 International        40000 non-null  int64  \n",
      " 150 British              40000 non-null  int64  \n",
      " 151 Fast Food            40000 non-null  int64  \n",
      " 152 Cafe                 40000 non-null  int64  \n",
      " 153 Pub                  40000 non-null  int64  \n",
      " 154 Spanish              40000 non-null  int64  \n",
      " 155 Pizza                40000 non-null  int64  \n",
      " 156 Asian                40000 non-null  int64  \n",
      " 157 French               40000 non-null  int64  \n",
      " 158 Bar                  40000 non-null  int64  \n",
      " 159 Gluten Free Options  40000 non-null  int64  \n",
      " 160 Vegan Options        40000 non-null  int64  \n",
      " 161 Italian              40000 non-null  int64  \n",
      " 162 Mediterranean        40000 non-null  int64  \n",
      " 163 other_cuisines       40000 non-null  int64  \n",
      " 164 European             40000 non-null  int64  \n",
      " 165 Vegetarian Friendly  40000 non-null  int64  \n",
      "dtypes: float64(3), int64(131), object(1), uint8(31)\n",
      "memory usage: 42.4+ MB\n"
     ]
    }
   ],
   "source": [
    "df1.info(verbose=True, null_counts=True)"
   ]
  },
  {
   "cell_type": "markdown",
   "metadata": {},
   "source": [
    "Данные подготовлены, посмотрим на данные в графике. Для этого будем использовать функцию first_look, определенную в самом начале ноутбука."
   ]
  },
  {
   "cell_type": "code",
   "execution_count": 51,
   "metadata": {},
   "outputs": [
    {
     "name": "stdout",
     "output_type": "stream",
     "text": [
      "Столбец Ranking\n",
      "Распределение признака:\n"
     ]
    },
    {
     "data": {
      "image/png": "[encoded data removed]",
      "text/plain": [
       "<Figure size 432x288 with 1 Axes>"
      ]
     },
     "metadata": {
      "needs_background": "light"
     },
     "output_type": "display_data"
    },
    {
     "data": {
      "image/png": "[encoded data removed]",
      "text/plain": [
       "<Figure size 432x288 with 1 Axes>"
      ]
     },
     "metadata": {
      "needs_background": "light"
     },
     "output_type": "display_data"
    }
   ],
   "source": [
    "first_look(df1, 'Ranking')"
   ]
  },
  {
   "cell_type": "code",
   "execution_count": 52,
   "metadata": {},
   "outputs": [
    {
     "name": "stdout",
     "output_type": "stream",
     "text": [
      "Столбец Rating\n",
      "Распределение признака:\n"
     ]
    },
    {
     "data": {
      "image/png": "[encoded data removed]",
      "text/plain": [
       "<Figure size 432x288 with 1 Axes>"
      ]
     },
     "metadata": {
      "needs_background": "light"
     },
     "output_type": "display_data"
    },
    {
     "data": {
      "image/png": "[encoded data removed]",
      "text/plain": [
       "<Figure size 432x288 with 1 Axes>"
      ]
     },
     "metadata": {
      "needs_background": "light"
     },
     "output_type": "display_data"
    }
   ],
   "source": [
    "first_look(df1, 'Rating')"
   ]
  },
  {
   "cell_type": "code",
   "execution_count": 53,
   "metadata": {},
   "outputs": [
    {
     "name": "stdout",
     "output_type": "stream",
     "text": [
      "Столбец Price Range\n",
      "Распределение признака:\n"
     ]
    },
    {
     "data": {
      "image/png": "[encoded data removed]",
      "text/plain": [
       "<Figure size 432x288 with 1 Axes>"
      ]
     },
     "metadata": {
      "needs_background": "light"
     },
     "output_type": "display_data"
    },
    {
     "data": {
      "image/png": "[encoded data removed]",
      "text/plain": [
       "<Figure size 432x288 with 1 Axes>"
      ]
     },
     "metadata": {
      "needs_background": "light"
     },
     "output_type": "display_data"
    }
   ],
   "source": [
    "first_look(df1, 'Price Range')"
   ]
  },
  {
   "cell_type": "code",
   "execution_count": 54,
   "metadata": {},
   "outputs": [
    {
     "name": "stdout",
     "output_type": "stream",
     "text": [
      "Столбец Number of Reviews\n",
      "Распределение признака:\n"
     ]
    },
    {
     "data": {
      "image/png": "[encoded data removed]",
      "text/plain": [
       "<Figure size 432x288 with 1 Axes>"
      ]
     },
     "metadata": {
      "needs_background": "light"
     },
     "output_type": "display_data"
    },
    {
     "data": {
      "image/png": "[encoded data removed]",
      "text/plain": [
       "<Figure size 432x288 with 1 Axes>"
      ]
     },
     "metadata": {
      "needs_background": "light"
     },
     "output_type": "display_data"
    }
   ],
   "source": [
    "first_look(df1, 'Number of Reviews')"
   ]
  },
  {
   "cell_type": "code",
   "execution_count": 55,
   "metadata": {},
   "outputs": [
    {
     "name": "stdout",
     "output_type": "stream",
     "text": [
      "Столбец year\n",
      "Распределение признака:\n"
     ]
    },
    {
     "data": {
      "image/png": "[encoded data removed]",
      "text/plain": [
       "<Figure size 432x288 with 1 Axes>"
      ]
     },
     "metadata": {
      "needs_background": "light"
     },
     "output_type": "display_data"
    },
    {
     "data": {
      "image/png": "[encoded data removed]",
      "text/plain": [
       "<Figure size 432x288 with 1 Axes>"
      ]
     },
     "metadata": {
      "needs_background": "light"
     },
     "output_type": "display_data"
    }
   ],
   "source": [
    "first_look(df1, 'year')"
   ]
  },
  {
   "cell_type": "code",
   "execution_count": 56,
   "metadata": {},
   "outputs": [
    {
     "name": "stdout",
     "output_type": "stream",
     "text": [
      "Столбец weekend\n",
      "Распределение признака:\n"
     ]
    },
    {
     "data": {
      "image/png": "[encoded data removed]",
      "text/plain": [
       "<Figure size 432x288 with 1 Axes>"
      ]
     },
     "metadata": {
      "needs_background": "light"
     },
     "output_type": "display_data"
    },
    {
     "data": {
      "image/png": "[encoded data removed]",
      "text/plain": [
       "<Figure size 432x288 with 1 Axes>"
      ]
     },
     "metadata": {
      "needs_background": "light"
     },
     "output_type": "display_data"
    }
   ],
   "source": [
    "first_look(df1, 'weekend')"
   ]
  },
  {
   "cell_type": "code",
   "execution_count": 57,
   "metadata": {},
   "outputs": [
    {
     "name": "stdout",
     "output_type": "stream",
     "text": [
      "Столбец London\n",
      "Распределение признака:\n"
     ]
    },
    {
     "data": {
      "image/png": "[encoded data removed]",
      "text/plain": [
       "<Figure size 432x288 with 1 Axes>"
      ]
     },
     "metadata": {
      "needs_background": "light"
     },
     "output_type": "display_data"
    },
    {
     "data": {
      "image/png": "[encoded data removed]",
      "text/plain": [
       "<Figure size 432x288 with 1 Axes>"
      ]
     },
     "metadata": {
      "needs_background": "light"
     },
     "output_type": "display_data"
    }
   ],
   "source": [
    "first_look(df1, 'London')"
   ]
  },
  {
   "cell_type": "markdown",
   "metadata": {},
   "source": [
    "По итогам просмотра графики распределений и выбросов, прихожу к следующим выводам:\n",
    "<br> 1) \"бинарные\" поля (города и кухни) смотреть отдельно на графиках нет смысла смотреть, не понятно, насколько полезная информация;\n",
    "<br> 2) из небинарных параметров, самый интересный - Number of Reviews. Но не понимаю, что с этим делать, а просто отсекать, например, все строки, где Number of Reviews >, например, 3000, не хочу, т.к., логически, чем больше отзывов на ресторан, тем точнее оценка, но таких ресторанов очень мало => не понимаю, какую полезную информацию могу почерпнуть => перехожу к корреляции\n",
    "\n",
    "В корреляции, учитывая, что столбцов получилось 166, не вижу смысла в построении, например, тепловой карты. Лучше посмотреть для каждого параметра, например, 6 параметров, корреляция по модулю с которыми самая сильная. сделаю это в ячейке ниже"
   ]
  },
  {
   "cell_type": "code",
   "execution_count": 58,
   "metadata": {},
   "outputs": [],
   "source": [
    "num_correlation = df1.corr()"
   ]
  },
  {
   "cell_type": "code",
   "execution_count": 59,
   "metadata": {},
   "outputs": [
    {
     "name": "stdout",
     "output_type": "stream",
     "text": [
      "Ranking\n"
     ]
    },
    {
     "data": {
      "text/plain": [
       "London                 0.499991\n",
       "Rating                 0.368371\n",
       "Paris                  0.328009\n",
       "Vegetarian Friendly    0.300139\n",
       "European               0.279235\n",
       "Name: Ranking, dtype: float64"
      ]
     },
     "metadata": {},
     "output_type": "display_data"
    },
    {
     "name": "stdout",
     "output_type": "stream",
     "text": [
      "Rating\n"
     ]
    },
    {
     "data": {
      "text/plain": [
       "Ranking                0.368371\n",
       "Vegetarian Friendly    0.128356\n",
       "Vegan Options          0.122054\n",
       "Gluten Free Options    0.099455\n",
       "Madrid                 0.083462\n",
       "Name: Rating, dtype: float64"
      ]
     },
     "metadata": {},
     "output_type": "display_data"
    },
    {
     "name": "stdout",
     "output_type": "stream",
     "text": [
      "Price Range\n"
     ]
    },
    {
     "data": {
      "text/plain": [
       "other_cuisines         0.680331\n",
       "number of dates        0.470773\n",
       "Vegetarian Friendly    0.447498\n",
       "year                   0.377579\n",
       "European               0.376258\n",
       "Name: Price Range, dtype: float64"
      ]
     },
     "metadata": {},
     "output_type": "display_data"
    },
    {
     "name": "stdout",
     "output_type": "stream",
     "text": [
      "Number of Reviews\n"
     ]
    },
    {
     "data": {
      "text/plain": [
       "Gluten Free Options    0.408872\n",
       "Vegetarian Friendly    0.364499\n",
       "Vegan Options          0.318401\n",
       "Price Range            0.312668\n",
       "Ranking                0.222072\n",
       "Name: Number of Reviews, dtype: float64"
      ]
     },
     "metadata": {},
     "output_type": "display_data"
    },
    {
     "name": "stdout",
     "output_type": "stream",
     "text": [
      "number of dates\n"
     ]
    },
    {
     "data": {
      "text/plain": [
       "year              0.909705\n",
       "weekend           0.686564\n",
       "season            0.545907\n",
       "Price Range       0.470773\n",
       "other_cuisines    0.345486\n",
       "Name: number of dates, dtype: float64"
      ]
     },
     "metadata": {},
     "output_type": "display_data"
    },
    {
     "name": "stdout",
     "output_type": "stream",
     "text": [
      "year\n"
     ]
    },
    {
     "data": {
      "text/plain": [
       "number of dates    0.909705\n",
       "weekend            0.752149\n",
       "season             0.616955\n",
       "Price Range        0.377579\n",
       "other_cuisines     0.272317\n",
       "Name: year, dtype: float64"
      ]
     },
     "metadata": {},
     "output_type": "display_data"
    },
    {
     "name": "stdout",
     "output_type": "stream",
     "text": [
      "season\n"
     ]
    },
    {
     "data": {
      "text/plain": [
       "year               0.616955\n",
       "number of dates    0.545907\n",
       "weekend            0.460887\n",
       "Price Range        0.174316\n",
       "other_cuisines     0.129408\n",
       "Name: season, dtype: float64"
      ]
     },
     "metadata": {},
     "output_type": "display_data"
    },
    {
     "name": "stdout",
     "output_type": "stream",
     "text": [
      "weekend\n"
     ]
    },
    {
     "data": {
      "text/plain": [
       "year               0.752149\n",
       "number of dates    0.686564\n",
       "season             0.460887\n",
       "Price Range        0.290620\n",
       "other_cuisines     0.211113\n",
       "Name: weekend, dtype: float64"
      ]
     },
     "metadata": {},
     "output_type": "display_data"
    },
    {
     "name": "stdout",
     "output_type": "stream",
     "text": [
      "Zurich\n"
     ]
    },
    {
     "data": {
      "text/plain": [
       "Swiss               0.341086\n",
       "Ranking             0.091098\n",
       "Central European    0.064237\n",
       "London              0.047876\n",
       "Paris               0.043611\n",
       "Name: Zurich, dtype: float64"
      ]
     },
     "metadata": {},
     "output_type": "display_data"
    },
    {
     "name": "stdout",
     "output_type": "stream",
     "text": [
      "Warsaw\n"
     ]
    },
    {
     "data": {
      "text/plain": [
       "Polish              0.313658\n",
       "Ranking             0.095860\n",
       "Eastern European    0.072695\n",
       "London              0.055787\n",
       "Paris               0.050817\n",
       "Name: Warsaw, dtype: float64"
      ]
     },
     "metadata": {},
     "output_type": "display_data"
    },
    {
     "name": "stdout",
     "output_type": "stream",
     "text": [
      "Vienna\n"
     ]
    },
    {
     "data": {
      "text/plain": [
       "Austrian            0.493182\n",
       "Central European    0.120285\n",
       "Ranking             0.092039\n",
       "German              0.071874\n",
       "London              0.071049\n",
       "Name: Vienna, dtype: float64"
      ]
     },
     "metadata": {},
     "output_type": "display_data"
    },
    {
     "name": "stdout",
     "output_type": "stream",
     "text": [
      "Stockholm\n"
     ]
    },
    {
     "data": {
      "text/plain": [
       "Swedish         0.409657\n",
       "Scandinavian    0.185851\n",
       "Ranking         0.094931\n",
       "London          0.059318\n",
       "Paris           0.054034\n",
       "Name: Stockholm, dtype: float64"
      ]
     },
     "metadata": {},
     "output_type": "display_data"
    },
    {
     "name": "stdout",
     "output_type": "stream",
     "text": [
      "Rome\n"
     ]
    },
    {
     "data": {
      "text/plain": [
       "Italian              0.345733\n",
       "Pizza                0.177820\n",
       "Mediterranean        0.152968\n",
       "Seafood              0.133682\n",
       "Number of Reviews    0.133542\n",
       "Name: Rome, dtype: float64"
      ]
     },
     "metadata": {},
     "output_type": "display_data"
    },
    {
     "name": "stdout",
     "output_type": "stream",
     "text": [
      "Prague\n"
     ]
    },
    {
     "data": {
      "text/plain": [
       "Czech               0.611929\n",
       "Central European    0.181166\n",
       "Eastern European    0.145506\n",
       "European            0.107247\n",
       "Ranking             0.083389\n",
       "Name: Prague, dtype: float64"
      ]
     },
     "metadata": {},
     "output_type": "display_data"
    },
    {
     "name": "stdout",
     "output_type": "stream",
     "text": [
      "Paris\n"
     ]
    },
    {
     "data": {
      "text/plain": [
       "French       0.436804\n",
       "Ranking      0.328009\n",
       "London       0.153146\n",
       "Madrid       0.108409\n",
       "Barcelona    0.101166\n",
       "Name: Paris, dtype: float64"
      ]
     },
     "metadata": {},
     "output_type": "display_data"
    },
    {
     "name": "stdout",
     "output_type": "stream",
     "text": [
      "Oslo\n"
     ]
    },
    {
     "data": {
      "text/plain": [
       "Norwegian       0.410056\n",
       "Scandinavian    0.146589\n",
       "Ranking         0.082608\n",
       "London          0.040422\n",
       "Paris           0.036821\n",
       "Name: Oslo, dtype: float64"
      ]
     },
     "metadata": {},
     "output_type": "display_data"
    },
    {
     "name": "stdout",
     "output_type": "stream",
     "text": [
      "Oporto\n"
     ]
    },
    {
     "data": {
      "text/plain": [
       "Portuguese    0.369499\n",
       "Ranking       0.090281\n",
       "European      0.081925\n",
       "London        0.046735\n",
       "Paris         0.042572\n",
       "Name: Oporto, dtype: float64"
      ]
     },
     "metadata": {},
     "output_type": "display_data"
    },
    {
     "name": "stdout",
     "output_type": "stream",
     "text": [
      "Munich\n"
     ]
    },
    {
     "data": {
      "text/plain": [
       "German     0.154154\n",
       "Ranking    0.093938\n",
       "London     0.061960\n",
       "Paris      0.056441\n",
       "Afghani    0.046977\n",
       "Name: Munich, dtype: float64"
      ]
     },
     "metadata": {},
     "output_type": "display_data"
    },
    {
     "name": "stdout",
     "output_type": "stream",
     "text": [
      "Milan\n"
     ]
    },
    {
     "data": {
      "text/plain": [
       "Italian            0.226160\n",
       "Seafood            0.129079\n",
       "number of dates    0.111885\n",
       "year               0.109394\n",
       "London             0.097314\n",
       "Name: Milan, dtype: float64"
      ]
     },
     "metadata": {},
     "output_type": "display_data"
    },
    {
     "name": "stdout",
     "output_type": "stream",
     "text": [
      "Madrid\n"
     ]
    },
    {
     "data": {
      "text/plain": [
       "Spanish            0.364160\n",
       "number of dates    0.168454\n",
       "year               0.160627\n",
       "weekend            0.121141\n",
       "London             0.119011\n",
       "Name: Madrid, dtype: float64"
      ]
     },
     "metadata": {},
     "output_type": "display_data"
    },
    {
     "name": "stdout",
     "output_type": "stream",
     "text": [
      "Lyon\n"
     ]
    },
    {
     "data": {
      "text/plain": [
       "French             0.156160\n",
       "number of dates    0.097088\n",
       "Ranking            0.096448\n",
       "year               0.091850\n",
       "weekend            0.071063\n",
       "Name: Lyon, dtype: float64"
      ]
     },
     "metadata": {},
     "output_type": "display_data"
    },
    {
     "name": "stdout",
     "output_type": "stream",
     "text": [
      "Luxembourg\n"
     ]
    },
    {
     "data": {
      "text/plain": [
       "Ranking    0.065863\n",
       "Nepali     0.034699\n",
       "London     0.029788\n",
       "French     0.029693\n",
       "Paris      0.027134\n",
       "Name: Luxembourg, dtype: float64"
      ]
     },
     "metadata": {},
     "output_type": "display_data"
    },
    {
     "name": "stdout",
     "output_type": "stream",
     "text": [
      "London\n"
     ]
    },
    {
     "data": {
      "text/plain": [
       "Ranking            0.499991\n",
       "British            0.387820\n",
       "number of dates    0.194149\n",
       "year               0.170741\n",
       "Paris              0.153146\n",
       "Name: London, dtype: float64"
      ]
     },
     "metadata": {},
     "output_type": "display_data"
    },
    {
     "name": "stdout",
     "output_type": "stream",
     "text": [
      "Ljubljana\n"
     ]
    },
    {
     "data": {
      "text/plain": [
       "Slovenian           0.590714\n",
       "Central European    0.082093\n",
       "Ranking             0.062811\n",
       "European            0.042671\n",
       "Eastern European    0.039271\n",
       "Name: Ljubljana, dtype: float64"
      ]
     },
     "metadata": {},
     "output_type": "display_data"
    },
    {
     "name": "stdout",
     "output_type": "stream",
     "text": [
      "Lisbon\n"
     ]
    },
    {
     "data": {
      "text/plain": [
       "Portuguese    0.546633\n",
       "European      0.117321\n",
       "Ranking       0.088900\n",
       "London        0.075150\n",
       "Paris         0.068456\n",
       "Name: Lisbon, dtype: float64"
      ]
     },
     "metadata": {},
     "output_type": "display_data"
    },
    {
     "name": "stdout",
     "output_type": "stream",
     "text": [
      "Krakow\n"
     ]
    },
    {
     "data": {
      "text/plain": [
       "Polish              0.409388\n",
       "Eastern European    0.115503\n",
       "Central European    0.101075\n",
       "Ranking             0.087357\n",
       "European            0.059235\n",
       "Name: Krakow, dtype: float64"
      ]
     },
     "metadata": {},
     "output_type": "display_data"
    },
    {
     "name": "stdout",
     "output_type": "stream",
     "text": [
      "Helsinki\n"
     ]
    },
    {
     "data": {
      "text/plain": [
       "Scandinavian    0.148532\n",
       "Ranking         0.081664\n",
       "London          0.039942\n",
       "Paris           0.036384\n",
       "Nepali          0.035412\n",
       "Name: Helsinki, dtype: float64"
      ]
     },
     "metadata": {},
     "output_type": "display_data"
    },
    {
     "name": "stdout",
     "output_type": "stream",
     "text": [
      "Hamburg\n"
     ]
    },
    {
     "data": {
      "text/plain": [
       "German            0.120124\n",
       "Ranking           0.097555\n",
       "other_cuisines    0.072671\n",
       "London            0.063919\n",
       "Paris             0.058225\n",
       "Name: Hamburg, dtype: float64"
      ]
     },
     "metadata": {},
     "output_type": "display_data"
    },
    {
     "name": "stdout",
     "output_type": "stream",
     "text": [
      "Geneva\n"
     ]
    },
    {
     "data": {
      "text/plain": [
       "Swiss      0.182153\n",
       "Ranking    0.088282\n",
       "French     0.078434\n",
       "London     0.045236\n",
       "Paris      0.041206\n",
       "Name: Geneva, dtype: float64"
      ]
     },
     "metadata": {},
     "output_type": "display_data"
    },
    {
     "name": "stdout",
     "output_type": "stream",
     "text": [
      "Edinburgh\n"
     ]
    },
    {
     "data": {
      "text/plain": [
       "Scottish               0.487721\n",
       "British                0.203787\n",
       "Gluten Free Options    0.105113\n",
       "Ranking                0.092951\n",
       "Vegan Options          0.065498\n",
       "Name: Edinburgh, dtype: float64"
      ]
     },
     "metadata": {},
     "output_type": "display_data"
    },
    {
     "name": "stdout",
     "output_type": "stream",
     "text": [
      "Dublin\n"
     ]
    },
    {
     "data": {
      "text/plain": [
       "Irish                  0.502885\n",
       "Ranking                0.094965\n",
       "Gluten Free Options    0.079227\n",
       "number of dates        0.065262\n",
       "Pub                    0.063886\n",
       "Name: Dublin, dtype: float64"
      ]
     },
     "metadata": {},
     "output_type": "display_data"
    },
    {
     "name": "stdout",
     "output_type": "stream",
     "text": [
      "Copenhagen\n"
     ]
    },
    {
     "data": {
      "text/plain": [
       "Danish          0.473684\n",
       "Scandinavian    0.201293\n",
       "Ranking         0.094270\n",
       "London          0.053068\n",
       "Paris           0.048341\n",
       "Name: Copenhagen, dtype: float64"
      ]
     },
     "metadata": {},
     "output_type": "display_data"
    },
    {
     "name": "stdout",
     "output_type": "stream",
     "text": [
      "Budapest\n"
     ]
    },
    {
     "data": {
      "text/plain": [
       "Hungarian           0.626425\n",
       "Central European    0.148148\n",
       "Eastern European    0.145236\n",
       "Ranking             0.095534\n",
       "European            0.094065\n",
       "Name: Budapest, dtype: float64"
      ]
     },
     "metadata": {},
     "output_type": "display_data"
    },
    {
     "name": "stdout",
     "output_type": "stream",
     "text": [
      "Brussels\n"
     ]
    },
    {
     "data": {
      "text/plain": [
       "Belgian    0.436921\n",
       "Ranking    0.095232\n",
       "London     0.067650\n",
       "Paris      0.061624\n",
       "French     0.047955\n",
       "Name: Brussels, dtype: float64"
      ]
     },
     "metadata": {},
     "output_type": "display_data"
    },
    {
     "name": "stdout",
     "output_type": "stream",
     "text": [
      "Bratislava\n"
     ]
    },
    {
     "data": {
      "text/plain": [
       "Ranking                0.075669\n",
       "Central European       0.071822\n",
       "Eastern European       0.052982\n",
       "London                 0.035703\n",
       "Vegetarian Friendly    0.032996\n",
       "Name: Bratislava, dtype: float64"
      ]
     },
     "metadata": {},
     "output_type": "display_data"
    },
    {
     "name": "stdout",
     "output_type": "stream",
     "text": [
      "Berlin\n"
     ]
    },
    {
     "data": {
      "text/plain": [
       "German       0.205128\n",
       "London       0.097843\n",
       "Paris        0.089128\n",
       "Madrid       0.069262\n",
       "Barcelona    0.064634\n",
       "Name: Berlin, dtype: float64"
      ]
     },
     "metadata": {},
     "output_type": "display_data"
    },
    {
     "name": "stdout",
     "output_type": "stream",
     "text": [
      "Barcelona\n"
     ]
    },
    {
     "data": {
      "text/plain": [
       "Spanish          0.346373\n",
       "Mediterranean    0.177034\n",
       "London           0.111059\n",
       "Paris            0.101166\n",
       "Madrid           0.078617\n",
       "Name: Barcelona, dtype: float64"
      ]
     },
     "metadata": {},
     "output_type": "display_data"
    },
    {
     "name": "stdout",
     "output_type": "stream",
     "text": [
      "Athens\n"
     ]
    },
    {
     "data": {
      "text/plain": [
       "Greek            0.541751\n",
       "Ranking          0.095177\n",
       "Mediterranean    0.085396\n",
       "London           0.051784\n",
       "Paris            0.047171\n",
       "Name: Athens, dtype: float64"
      ]
     },
     "metadata": {},
     "output_type": "display_data"
    },
    {
     "name": "stdout",
     "output_type": "stream",
     "text": [
      "Amsterdam\n"
     ]
    },
    {
     "data": {
      "text/plain": [
       "Dutch         0.500683\n",
       "Indonesian    0.145894\n",
       "Ranking       0.094372\n",
       "European      0.080790\n",
       "London        0.068497\n",
       "Name: Amsterdam, dtype: float64"
      ]
     },
     "metadata": {},
     "output_type": "display_data"
    },
    {
     "name": "stdout",
     "output_type": "stream",
     "text": [
      "Xinjiang\n"
     ]
    },
    {
     "data": {
      "text/plain": [
       "Chinese                0.029127\n",
       "Paris                  0.013387\n",
       "Price Range            0.004262\n",
       "Ranking                0.003640\n",
       "Vegetarian Friendly    0.003116\n",
       "Name: Xinjiang, dtype: float64"
      ]
     },
     "metadata": {},
     "output_type": "display_data"
    },
    {
     "name": "stdout",
     "output_type": "stream",
     "text": [
      "Yunnan\n"
     ]
    },
    {
     "data": {
      "text/plain": [
       "Thai                   0.036345\n",
       "Barcelona              0.018460\n",
       "Asian                  0.017525\n",
       "Vegan Options          0.014068\n",
       "Vegetarian Friendly    0.008023\n",
       "Name: Yunnan, dtype: float64"
      ]
     },
     "metadata": {},
     "output_type": "display_data"
    },
    {
     "name": "stdout",
     "output_type": "stream",
     "text": [
      "Latvian\n"
     ]
    },
    {
     "data": {
      "text/plain": [
       "Hungarian           0.053066\n",
       "Mexican             0.047141\n",
       "Eastern European    0.044623\n",
       "Budapest            0.034649\n",
       "American            0.027120\n",
       "Name: Latvian, dtype: float64"
      ]
     },
     "metadata": {},
     "output_type": "display_data"
    },
    {
     "name": "stdout",
     "output_type": "stream",
     "text": [
      "Burmese\n"
     ]
    },
    {
     "data": {
      "text/plain": [
       "Thai       0.036345\n",
       "Chinese    0.029127\n",
       "Asian      0.017525\n",
       "London     0.012194\n",
       "Rating     0.007533\n",
       "Name: Burmese, dtype: float64"
      ]
     },
     "metadata": {},
     "output_type": "display_data"
    },
    {
     "name": "stdout",
     "output_type": "stream",
     "text": [
      "Salvadoran\n"
     ]
    },
    {
     "data": {
      "text/plain": [
       "Central American    0.085922\n",
       "Latin               0.057327\n",
       "Mexican             0.047141\n",
       "Spanish             0.018232\n",
       "Madrid              0.017227\n",
       "Name: Salvadoran, dtype: float64"
      ]
     },
     "metadata": {},
     "output_type": "display_data"
    },
    {
     "name": "stdout",
     "output_type": "stream",
     "text": [
      "Azerbaijani\n"
     ]
    },
    {
     "data": {
      "text/plain": [
       "Ukrainian    0.166558\n",
       "Arabic       0.098828\n",
       "Fast Food    0.033512\n",
       "Krakow       0.033036\n",
       "Turkish      0.032997\n",
       "Name: Azerbaijani, dtype: float64"
      ]
     },
     "metadata": {},
     "output_type": "display_data"
    },
    {
     "name": "stdout",
     "output_type": "stream",
     "text": [
      "Polynesian\n"
     ]
    },
    {
     "data": {
      "text/plain": [
       "Hawaiian         0.154186\n",
       "Polish           0.036504\n",
       "Krakow           0.033036\n",
       "Munich           0.022863\n",
       "International    0.016694\n",
       "Name: Polynesian, dtype: float64"
      ]
     },
     "metadata": {},
     "output_type": "display_data"
    },
    {
     "name": "stdout",
     "output_type": "stream",
     "text": [
      "Welsh\n"
     ]
    },
    {
     "data": {
      "text/plain": [
       "British                0.034698\n",
       "Lyon                   0.022877\n",
       "French                 0.010969\n",
       "Price Range            0.009722\n",
       "Gluten Free Options    0.009247\n",
       "Name: Welsh, dtype: float64"
      ]
     },
     "metadata": {},
     "output_type": "display_data"
    },
    {
     "name": "stdout",
     "output_type": "stream",
     "text": [
      "Fujian\n"
     ]
    },
    {
     "data": {
      "text/plain": [
       "Minority Chinese    0.213118\n",
       "Soups               0.031223\n",
       "Chinese             0.019989\n",
       "Milan               0.014058\n",
       "Madrid              0.011155\n",
       "Name: Fujian, dtype: float64"
      ]
     },
     "metadata": {},
     "output_type": "display_data"
    },
    {
     "name": "stdout",
     "output_type": "stream",
     "text": [
      "Ecuadorean\n"
     ]
    },
    {
     "data": {
      "text/plain": [
       "South American    0.103217\n",
       "Latin             0.028010\n",
       "Madrid            0.025115\n",
       "Spanish           0.016861\n",
       "Rating            0.012987\n",
       "Name: Ecuadorean, dtype: float64"
      ]
     },
     "metadata": {},
     "output_type": "display_data"
    },
    {
     "name": "stdout",
     "output_type": "stream",
     "text": [
      "Native American\n"
     ]
    },
    {
     "data": {
      "text/plain": [
       "Pakistani           0.089755\n",
       "Bangladeshi         0.056975\n",
       "American            0.054241\n",
       "Central American    0.042526\n",
       "African             0.039749\n",
       "Name: Native American, dtype: float64"
      ]
     },
     "metadata": {},
     "output_type": "display_data"
    },
    {
     "name": "stdout",
     "output_type": "stream",
     "text": [
      "Caucasian\n"
     ]
    },
    {
     "data": {
      "text/plain": [
       "Georgian            0.242393\n",
       "Armenian            0.133474\n",
       "Eastern European    0.066656\n",
       "Grill               0.044343\n",
       "Swedish             0.037665\n",
       "Name: Caucasian, dtype: float64"
      ]
     },
     "metadata": {},
     "output_type": "display_data"
    },
    {
     "name": "stdout",
     "output_type": "stream",
     "text": [
      "Uzbek\n"
     ]
    },
    {
     "data": {
      "text/plain": [
       "Central Asian       0.258060\n",
       "Minority Chinese    0.134682\n",
       "Russian             0.117111\n",
       "Prague              0.021821\n",
       "Turkish             0.020159\n",
       "Name: Uzbek, dtype: float64"
      ]
     },
     "metadata": {},
     "output_type": "display_data"
    },
    {
     "name": "stdout",
     "output_type": "stream",
     "text": [
      "Canadian\n"
     ]
    },
    {
     "data": {
      "text/plain": [
       "Brazilian         0.039118\n",
       "Diner             0.025172\n",
       "American          0.023021\n",
       "South American    0.022214\n",
       "Krakow            0.020185\n",
       "Name: Canadian, dtype: float64"
      ]
     },
     "metadata": {},
     "output_type": "display_data"
    },
    {
     "name": "stdout",
     "output_type": "stream",
     "text": [
      "New Zealand\n"
     ]
    },
    {
     "data": {
      "text/plain": [
       "Australian      0.166429\n",
       "Swedish         0.030486\n",
       "American        0.020639\n",
       "British         0.018370\n",
       "Contemporary    0.016561\n",
       "Name: New Zealand, dtype: float64"
      ]
     },
     "metadata": {},
     "output_type": "display_data"
    },
    {
     "name": "stdout",
     "output_type": "stream",
     "text": [
      "Chilean\n"
     ]
    },
    {
     "data": {
      "text/plain": [
       "South American    0.127560\n",
       "Latin             0.100886\n",
       "Argentinean       0.053592\n",
       "Peruvian          0.035826\n",
       "Spanish           0.030778\n",
       "Name: Chilean, dtype: float64"
      ]
     },
     "metadata": {},
     "output_type": "display_data"
    },
    {
     "name": "stdout",
     "output_type": "stream",
     "text": [
      "Albanian\n"
     ]
    },
    {
     "data": {
      "text/plain": [
       "Ljubljana      0.025239\n",
       "European       0.024400\n",
       "Lyon           0.021811\n",
       "Street Food    0.020725\n",
       "Geneva         0.014660\n",
       "Name: Albanian, dtype: float64"
      ]
     },
     "metadata": {},
     "output_type": "display_data"
    },
    {
     "name": "stdout",
     "output_type": "stream",
     "text": [
      "Romanian\n"
     ]
    },
    {
     "data": {
      "text/plain": [
       "Eastern European    0.069677\n",
       "European            0.023636\n",
       "Bratislava          0.016921\n",
       "Central European    0.014247\n",
       "Turkish             0.013418\n",
       "Name: Romanian, dtype: float64"
      ]
     },
     "metadata": {},
     "output_type": "display_data"
    },
    {
     "name": "stdout",
     "output_type": "stream",
     "text": [
      "Minority Chinese\n"
     ]
    },
    {
     "data": {
      "text/plain": [
       "Fujian           0.213118\n",
       "Uzbek            0.134682\n",
       "Chinese          0.087573\n",
       "Central Asian    0.086777\n",
       "Singaporean      0.068836\n",
       "Name: Minority Chinese, dtype: float64"
      ]
     },
     "metadata": {},
     "output_type": "display_data"
    },
    {
     "name": "stdout",
     "output_type": "stream",
     "text": [
      "Central Asian\n"
     ]
    },
    {
     "data": {
      "text/plain": [
       "Uzbek               0.258060\n",
       "Minority Chinese    0.086777\n",
       "Georgian            0.069682\n",
       "Korean              0.043655\n",
       "Russian             0.037278\n",
       "Name: Central Asian, dtype: float64"
      ]
     },
     "metadata": {},
     "output_type": "display_data"
    },
    {
     "name": "stdout",
     "output_type": "stream",
     "text": [
      "Filipino\n"
     ]
    },
    {
     "data": {
      "text/plain": [
       "Singaporean    0.065875\n",
       "Taiwanese      0.061166\n",
       "Asian          0.055245\n",
       "Malaysian      0.051393\n",
       "Thai           0.029692\n",
       "Name: Filipino, dtype: float64"
      ]
     },
     "metadata": {},
     "output_type": "display_data"
    },
    {
     "name": "stdout",
     "output_type": "stream",
     "text": [
      "Mongolian\n"
     ]
    },
    {
     "data": {
      "text/plain": [
       "Chinese    0.068925\n",
       "Asian      0.065583\n",
       "Tibetan    0.054122\n",
       "Sushi      0.028685\n",
       "Munich     0.024312\n",
       "Name: Mongolian, dtype: float64"
      ]
     },
     "metadata": {},
     "output_type": "display_data"
    },
    {
     "name": "stdout",
     "output_type": "stream",
     "text": [
      "Armenian\n"
     ]
    },
    {
     "data": {
      "text/plain": [
       "Eastern European    0.142835\n",
       "Caucasian           0.133474\n",
       "Georgian            0.129305\n",
       "Russian             0.069536\n",
       "Arabic              0.036786\n",
       "Name: Armenian, dtype: float64"
      ]
     },
     "metadata": {},
     "output_type": "display_data"
    },
    {
     "name": "stdout",
     "output_type": "stream",
     "text": [
      "Georgian\n"
     ]
    },
    {
     "data": {
      "text/plain": [
       "Caucasian           0.242393\n",
       "Armenian            0.129305\n",
       "Eastern European    0.096335\n",
       "Central Asian       0.069682\n",
       "Russian             0.062967\n",
       "Name: Georgian, dtype: float64"
      ]
     },
     "metadata": {},
     "output_type": "display_data"
    },
    {
     "name": "stdout",
     "output_type": "stream",
     "text": [
      "Southwestern\n"
     ]
    },
    {
     "data": {
      "text/plain": [
       "Central American    0.103370\n",
       "Mexican             0.101891\n",
       "Latin               0.040238\n",
       "Barbecue            0.028662\n",
       "Nepali              0.025715\n",
       "Name: Southwestern, dtype: float64"
      ]
     },
     "metadata": {},
     "output_type": "display_data"
    },
    {
     "name": "stdout",
     "output_type": "stream",
     "text": [
      "Ukrainian\n"
     ]
    },
    {
     "data": {
      "text/plain": [
       "Russian             0.308978\n",
       "Azerbaijani         0.166558\n",
       "Eastern European    0.157402\n",
       "Polish              0.084741\n",
       "Georgian            0.056754\n",
       "Name: Ukrainian, dtype: float64"
      ]
     },
     "metadata": {},
     "output_type": "display_data"
    },
    {
     "name": "stdout",
     "output_type": "stream",
     "text": [
      "Singaporean\n"
     ]
    },
    {
     "data": {
      "text/plain": [
       "Malaysian           0.329233\n",
       "Asian               0.076407\n",
       "Minority Chinese    0.068836\n",
       "Filipino            0.065875\n",
       "Chinese             0.065064\n",
       "Name: Singaporean, dtype: float64"
      ]
     },
     "metadata": {},
     "output_type": "display_data"
    },
    {
     "name": "stdout",
     "output_type": "stream",
     "text": [
      "Cambodian\n"
     ]
    },
    {
     "data": {
      "text/plain": [
       "Asian         0.078393\n",
       "Vietnamese    0.076962\n",
       "Paris         0.036000\n",
       "Indonesian    0.028280\n",
       "Thai          0.021771\n",
       "Name: Cambodian, dtype: float64"
      ]
     },
     "metadata": {},
     "output_type": "display_data"
    },
    {
     "name": "stdout",
     "output_type": "stream",
     "text": [
      "Colombian\n"
     ]
    },
    {
     "data": {
      "text/plain": [
       "South American      0.172593\n",
       "Latin               0.153080\n",
       "Caribbean           0.068580\n",
       "Central American    0.056546\n",
       "Venezuelan          0.034674\n",
       "Name: Colombian, dtype: float64"
      ]
     },
     "metadata": {},
     "output_type": "display_data"
    },
    {
     "name": "stdout",
     "output_type": "stream",
     "text": [
      "Egyptian\n"
     ]
    },
    {
     "data": {
      "text/plain": [
       "Arabic            0.124557\n",
       "Middle Eastern    0.118004\n",
       "Halal             0.061752\n",
       "Lebanese          0.047491\n",
       "Afghani           0.047173\n",
       "Name: Egyptian, dtype: float64"
      ]
     },
     "metadata": {},
     "output_type": "display_data"
    },
    {
     "name": "stdout",
     "output_type": "stream",
     "text": [
      "Cajun & Creole\n"
     ]
    },
    {
     "data": {
      "text/plain": [
       "Caribbean     0.115019\n",
       "Afghani       0.047173\n",
       "Cuban         0.046114\n",
       "Paris         0.029176\n",
       "Indonesian    0.028280\n",
       "Name: Cajun & Creole, dtype: float64"
      ]
     },
     "metadata": {},
     "output_type": "display_data"
    },
    {
     "name": "stdout",
     "output_type": "stream",
     "text": [
      "Tunisian\n"
     ]
    },
    {
     "data": {
      "text/plain": [
       "Moroccan          0.127539\n",
       "African           0.086691\n",
       "Middle Eastern    0.075593\n",
       "Mediterranean     0.053123\n",
       "Halal             0.042144\n",
       "Name: Tunisian, dtype: float64"
      ]
     },
     "metadata": {},
     "output_type": "display_data"
    },
    {
     "name": "stdout",
     "output_type": "stream",
     "text": [
      "Hawaiian\n"
     ]
    },
    {
     "data": {
      "text/plain": [
       "Polynesian        0.154186\n",
       "Jamaican          0.043096\n",
       "Healthy           0.041299\n",
       "South American    0.031890\n",
       "Norwegian         0.024235\n",
       "Name: Hawaiian, dtype: float64"
      ]
     },
     "metadata": {},
     "output_type": "display_data"
    },
    {
     "name": "stdout",
     "output_type": "stream",
     "text": [
      "Afghani\n"
     ]
    },
    {
     "data": {
      "text/plain": [
       "Middle Eastern    0.158425\n",
       "Halal             0.102551\n",
       "Persian           0.057771\n",
       "Egyptian          0.047173\n",
       "Cajun & Creole    0.047173\n",
       "Name: Afghani, dtype: float64"
      ]
     },
     "metadata": {},
     "output_type": "display_data"
    },
    {
     "name": "stdout",
     "output_type": "stream",
     "text": [
      "Taiwanese\n"
     ]
    },
    {
     "data": {
      "text/plain": [
       "Asian       0.078179\n",
       "Chinese     0.066313\n",
       "Filipino    0.061166\n",
       "Fusion      0.032933\n",
       "Peruvian    0.020883\n",
       "Name: Taiwanese, dtype: float64"
      ]
     },
     "metadata": {},
     "output_type": "display_data"
    },
    {
     "name": "stdout",
     "output_type": "stream",
     "text": [
      "Cuban\n"
     ]
    },
    {
     "data": {
      "text/plain": [
       "Caribbean           0.388602\n",
       "Central American    0.088512\n",
       "Latin               0.082242\n",
       "Cajun & Creole      0.046114\n",
       "Venezuelan          0.032236\n",
       "Name: Cuban, dtype: float64"
      ]
     },
     "metadata": {},
     "output_type": "display_data"
    },
    {
     "name": "stdout",
     "output_type": "stream",
     "text": [
      "Australian\n"
     ]
    },
    {
     "data": {
      "text/plain": [
       "New Zealand      0.166429\n",
       "Vegan Options    0.030116\n",
       "Argentinean      0.029884\n",
       "American         0.029836\n",
       "Indonesian       0.025661\n",
       "Name: Australian, dtype: float64"
      ]
     },
     "metadata": {},
     "output_type": "display_data"
    },
    {
     "name": "stdout",
     "output_type": "stream",
     "text": [
      "Tibetan\n"
     ]
    },
    {
     "data": {
      "text/plain": [
       "Nepali           0.245674\n",
       "Asian            0.066531\n",
       "Mongolian        0.054122\n",
       "Vegan Options    0.036587\n",
       "Indonesian       0.025661\n",
       "Name: Tibetan, dtype: float64"
      ]
     },
     "metadata": {},
     "output_type": "display_data"
    },
    {
     "name": "stdout",
     "output_type": "stream",
     "text": [
      "Sri Lankan\n"
     ]
    },
    {
     "data": {
      "text/plain": [
       "Indian                 0.127855\n",
       "Asian                  0.083860\n",
       "Zurich                 0.031816\n",
       "Vegetarian Friendly    0.022301\n",
       "Vegan Options          0.019642\n",
       "Name: Sri Lankan, dtype: float64"
      ]
     },
     "metadata": {},
     "output_type": "display_data"
    },
    {
     "name": "stdout",
     "output_type": "stream",
     "text": [
      "Jamaican\n"
     ]
    },
    {
     "data": {
      "text/plain": [
       "Caribbean        0.518035\n",
       "London           0.046742\n",
       "Hawaiian         0.043096\n",
       "Vegan Options    0.025983\n",
       "Ranking          0.017451\n",
       "Name: Jamaican, dtype: float64"
      ]
     },
     "metadata": {},
     "output_type": "display_data"
    },
    {
     "name": "stdout",
     "output_type": "stream",
     "text": [
      "Croatian\n"
     ]
    },
    {
     "data": {
      "text/plain": [
       "Central European    0.042316\n",
       "European            0.035962\n",
       "Vienna              0.035550\n",
       "Seafood             0.035329\n",
       "Grill               0.032109\n",
       "Name: Croatian, dtype: float64"
      ]
     },
     "metadata": {},
     "output_type": "display_data"
    },
    {
     "name": "stdout",
     "output_type": "stream",
     "text": [
      "Malaysian\n"
     ]
    },
    {
     "data": {
      "text/plain": [
       "Singaporean    0.329233\n",
       "Indonesian     0.162792\n",
       "Asian          0.090801\n",
       "Chinese        0.065257\n",
       "Thai           0.062706\n",
       "Name: Malaysian, dtype: float64"
      ]
     },
     "metadata": {},
     "output_type": "display_data"
    },
    {
     "name": "stdout",
     "output_type": "stream",
     "text": [
      "Venezuelan\n"
     ]
    },
    {
     "data": {
      "text/plain": [
       "South American      0.202943\n",
       "Latin               0.179991\n",
       "Caribbean           0.129856\n",
       "Central American    0.052711\n",
       "Madrid              0.044001\n",
       "Name: Venezuelan, dtype: float64"
      ]
     },
     "metadata": {},
     "output_type": "display_data"
    },
    {
     "name": "stdout",
     "output_type": "stream",
     "text": [
      "Ethiopian\n"
     ]
    },
    {
     "data": {
      "text/plain": [
       "African                0.509036\n",
       "Vegan Options          0.034956\n",
       "Vegetarian Friendly    0.026228\n",
       "European               0.018793\n",
       "Price Range            0.017955\n",
       "Name: Ethiopian, dtype: float64"
      ]
     },
     "metadata": {},
     "output_type": "display_data"
    },
    {
     "name": "stdout",
     "output_type": "stream",
     "text": [
      "Kosher\n"
     ]
    },
    {
     "data": {
      "text/plain": [
       "Israeli             0.401816\n",
       "Middle Eastern      0.068127\n",
       "Krakow              0.037733\n",
       "Eastern European    0.035269\n",
       "Tunisian            0.030730\n",
       "Name: Kosher, dtype: float64"
      ]
     },
     "metadata": {},
     "output_type": "display_data"
    },
    {
     "name": "stdout",
     "output_type": "stream",
     "text": [
      "Arabic\n"
     ]
    },
    {
     "data": {
      "text/plain": [
       "Lebanese          0.128613\n",
       "Egyptian          0.124557\n",
       "Middle Eastern    0.116402\n",
       "Azerbaijani       0.098828\n",
       "Moroccan          0.092442\n",
       "Name: Arabic, dtype: float64"
      ]
     },
     "metadata": {},
     "output_type": "display_data"
    },
    {
     "name": "stdout",
     "output_type": "stream",
     "text": [
      "Persian\n"
     ]
    },
    {
     "data": {
      "text/plain": [
       "Middle Eastern         0.248022\n",
       "Halal                  0.154085\n",
       "Afghani                0.057771\n",
       "Vegetarian Friendly    0.024765\n",
       "London                 0.024223\n",
       "Name: Persian, dtype: float64"
      ]
     },
     "metadata": {},
     "output_type": "display_data"
    },
    {
     "name": "stdout",
     "output_type": "stream",
     "text": [
      "Russian\n"
     ]
    },
    {
     "data": {
      "text/plain": [
       "Ukrainian           0.308978\n",
       "Eastern European    0.167904\n",
       "Uzbek               0.117111\n",
       "Armenian            0.069536\n",
       "Georgian            0.062967\n",
       "Name: Russian, dtype: float64"
      ]
     },
     "metadata": {},
     "output_type": "display_data"
    },
    {
     "name": "stdout",
     "output_type": "stream",
     "text": [
      "Indonesian\n"
     ]
    },
    {
     "data": {
      "text/plain": [
       "Malaysian      0.162792\n",
       "Amsterdam      0.145894\n",
       "Asian          0.122364\n",
       "Singaporean    0.058955\n",
       "Thai           0.028485\n",
       "Name: Indonesian, dtype: float64"
      ]
     },
     "metadata": {},
     "output_type": "display_data"
    },
    {
     "name": "stdout",
     "output_type": "stream",
     "text": [
      "Slovenian\n"
     ]
    },
    {
     "data": {
      "text/plain": [
       "Ljubljana           0.590714\n",
       "Central European    0.111324\n",
       "European            0.065596\n",
       "Eastern European    0.055698\n",
       "Ranking             0.038691\n",
       "Name: Slovenian, dtype: float64"
      ]
     },
     "metadata": {},
     "output_type": "display_data"
    },
    {
     "name": "stdout",
     "output_type": "stream",
     "text": [
      "Israeli\n"
     ]
    },
    {
     "data": {
      "text/plain": [
       "Kosher            0.401816\n",
       "Middle Eastern    0.199825\n",
       "Lebanese          0.066935\n",
       "Vegan Options     0.060290\n",
       "Mediterranean     0.048604\n",
       "Name: Israeli, dtype: float64"
      ]
     },
     "metadata": {},
     "output_type": "display_data"
    },
    {
     "name": "stdout",
     "output_type": "stream",
     "text": [
      "Norwegian\n"
     ]
    },
    {
     "data": {
      "text/plain": [
       "Oslo            0.410056\n",
       "Scandinavian    0.259595\n",
       "European        0.062784\n",
       "Danish          0.049351\n",
       "Swedish         0.041447\n",
       "Name: Norwegian, dtype: float64"
      ]
     },
     "metadata": {},
     "output_type": "display_data"
    },
    {
     "name": "stdout",
     "output_type": "stream",
     "text": [
      "Bangladeshi\n"
     ]
    },
    {
     "data": {
      "text/plain": [
       "Balti     0.389103\n",
       "Indian    0.241671\n",
       "Halal     0.169661\n",
       "Asian     0.142043\n",
       "London    0.078605\n",
       "Name: Bangladeshi, dtype: float64"
      ]
     },
     "metadata": {},
     "output_type": "display_data"
    },
    {
     "name": "stdout",
     "output_type": "stream",
     "text": [
      "Nepali\n"
     ]
    },
    {
     "data": {
      "text/plain": [
       "Tibetan                0.245674\n",
       "Indian                 0.189239\n",
       "Asian                  0.139000\n",
       "Vegan Options          0.069105\n",
       "Vegetarian Friendly    0.041349\n",
       "Name: Nepali, dtype: float64"
      ]
     },
     "metadata": {},
     "output_type": "display_data"
    },
    {
     "name": "stdout",
     "output_type": "stream",
     "text": [
      "Balti\n"
     ]
    },
    {
     "data": {
      "text/plain": [
       "Bangladeshi         0.389103\n",
       "Indian              0.275507\n",
       "Halal               0.166417\n",
       "Asian               0.151494\n",
       "Eastern European    0.138863\n",
       "Name: Balti, dtype: float64"
      ]
     },
     "metadata": {},
     "output_type": "display_data"
    },
    {
     "name": "stdout",
     "output_type": "stream",
     "text": [
      "Caribbean\n"
     ]
    },
    {
     "data": {
      "text/plain": [
       "Jamaican          0.518035\n",
       "Cuban             0.388602\n",
       "Venezuelan        0.129856\n",
       "Cajun & Creole    0.115019\n",
       "Latin             0.103729\n",
       "Name: Caribbean, dtype: float64"
      ]
     },
     "metadata": {},
     "output_type": "display_data"
    },
    {
     "name": "stdout",
     "output_type": "stream",
     "text": [
      "Peruvian\n"
     ]
    },
    {
     "data": {
      "text/plain": [
       "South American    0.393346\n",
       "Latin             0.168743\n",
       "Chilean           0.035826\n",
       "Madrid            0.034131\n",
       "Fusion            0.028770\n",
       "Name: Peruvian, dtype: float64"
      ]
     },
     "metadata": {},
     "output_type": "display_data"
    },
    {
     "name": "stdout",
     "output_type": "stream",
     "text": [
      "Pakistani\n"
     ]
    },
    {
     "data": {
      "text/plain": [
       "Indian             0.288709\n",
       "Halal              0.201523\n",
       "Middle Eastern     0.191101\n",
       "Balti              0.096694\n",
       "Native American    0.089755\n",
       "Name: Pakistani, dtype: float64"
      ]
     },
     "metadata": {},
     "output_type": "display_data"
    },
    {
     "name": "stdout",
     "output_type": "stream",
     "text": [
      "Brazilian\n"
     ]
    },
    {
     "data": {
      "text/plain": [
       "South American    0.364902\n",
       "Latin             0.123420\n",
       "Barbecue          0.080684\n",
       "Lisbon            0.042284\n",
       "Portuguese        0.039241\n",
       "Name: Brazilian, dtype: float64"
      ]
     },
     "metadata": {},
     "output_type": "display_data"
    },
    {
     "name": "stdout",
     "output_type": "stream",
     "text": [
      "Central American\n"
     ]
    },
    {
     "data": {
      "text/plain": [
       "Latin             0.398286\n",
       "Mexican           0.347267\n",
       "South American    0.209921\n",
       "Southwestern      0.103370\n",
       "Cuban             0.088512\n",
       "Name: Central American, dtype: float64"
      ]
     },
     "metadata": {},
     "output_type": "display_data"
    },
    {
     "name": "stdout",
     "output_type": "stream",
     "text": [
      "Moroccan\n"
     ]
    },
    {
     "data": {
      "text/plain": [
       "Middle Eastern    0.180502\n",
       "Halal             0.159520\n",
       "Tunisian          0.127539\n",
       "Mediterranean     0.111185\n",
       "African           0.098473\n",
       "Name: Moroccan, dtype: float64"
      ]
     },
     "metadata": {},
     "output_type": "display_data"
    },
    {
     "name": "stdout",
     "output_type": "stream",
     "text": [
      "African\n"
     ]
    },
    {
     "data": {
      "text/plain": [
       "Ethiopian         0.509036\n",
       "Moroccan          0.098473\n",
       "Tunisian          0.086691\n",
       "Caribbean         0.080818\n",
       "Middle Eastern    0.055369\n",
       "Name: African, dtype: float64"
      ]
     },
     "metadata": {},
     "output_type": "display_data"
    },
    {
     "name": "stdout",
     "output_type": "stream",
     "text": [
      "Scottish\n"
     ]
    },
    {
     "data": {
      "text/plain": [
       "Edinburgh              0.487721\n",
       "British                0.295830\n",
       "Gluten Free Options    0.088168\n",
       "Bar                    0.066446\n",
       "Pub                    0.063872\n",
       "Name: Scottish, dtype: float64"
      ]
     },
     "metadata": {},
     "output_type": "display_data"
    },
    {
     "name": "stdout",
     "output_type": "stream",
     "text": [
      "Korean\n"
     ]
    },
    {
     "data": {
      "text/plain": [
       "Asian            0.221065\n",
       "Japanese         0.065842\n",
       "Barbecue         0.065242\n",
       "Central Asian    0.043655\n",
       "Sushi            0.039747\n",
       "Name: Korean, dtype: float64"
      ]
     },
     "metadata": {},
     "output_type": "display_data"
    },
    {
     "name": "stdout",
     "output_type": "stream",
     "text": [
      "Argentinean\n"
     ]
    },
    {
     "data": {
      "text/plain": [
       "South American    0.407280\n",
       "Steakhouse        0.277587\n",
       "Latin             0.176877\n",
       "Barbecue          0.170207\n",
       "Chilean           0.053592\n",
       "Name: Argentinean, dtype: float64"
      ]
     },
     "metadata": {},
     "output_type": "display_data"
    },
    {
     "name": "stdout",
     "output_type": "stream",
     "text": [
      "Swedish\n"
     ]
    },
    {
     "data": {
      "text/plain": [
       "Scandinavian    0.430907\n",
       "Stockholm       0.409657\n",
       "European        0.106856\n",
       "Ranking         0.047554\n",
       "Price Range     0.042237\n",
       "Name: Swedish, dtype: float64"
      ]
     },
     "metadata": {},
     "output_type": "display_data"
    },
    {
     "name": "stdout",
     "output_type": "stream",
     "text": [
      "Danish\n"
     ]
    },
    {
     "data": {
      "text/plain": [
       "Copenhagen      0.473684\n",
       "Scandinavian    0.406998\n",
       "European        0.101123\n",
       "Cafe            0.052659\n",
       "Ranking         0.051471\n",
       "Name: Danish, dtype: float64"
      ]
     },
     "metadata": {},
     "output_type": "display_data"
    },
    {
     "name": "stdout",
     "output_type": "stream",
     "text": [
      "Swiss\n"
     ]
    },
    {
     "data": {
      "text/plain": [
       "Zurich              0.341086\n",
       "Geneva              0.182153\n",
       "Central European    0.116369\n",
       "European            0.108413\n",
       "Ranking             0.053201\n",
       "Name: Swiss, dtype: float64"
      ]
     },
     "metadata": {},
     "output_type": "display_data"
    },
    {
     "name": "stdout",
     "output_type": "stream",
     "text": [
      "Brew Pub\n"
     ]
    },
    {
     "data": {
      "text/plain": [
       "Pub          0.175996\n",
       "Wine Bar     0.102389\n",
       "Bar          0.075913\n",
       "Rome         0.057706\n",
       "Gastropub    0.044470\n",
       "Name: Brew Pub, dtype: float64"
      ]
     },
     "metadata": {},
     "output_type": "display_data"
    },
    {
     "name": "stdout",
     "output_type": "stream",
     "text": [
      "Street Food\n"
     ]
    },
    {
     "data": {
      "text/plain": [
       "Fast Food         0.085429\n",
       "Healthy           0.062411\n",
       "Delicatessen      0.048429\n",
       "other_cuisines    0.044723\n",
       "Rating            0.036019\n",
       "Name: Street Food, dtype: float64"
      ]
     },
     "metadata": {},
     "output_type": "display_data"
    },
    {
     "name": "stdout",
     "output_type": "stream",
     "text": [
      "Belgian\n"
     ]
    },
    {
     "data": {
      "text/plain": [
       "Brussels       0.436921\n",
       "European       0.125327\n",
       "French         0.095199\n",
       "Ranking        0.049691\n",
       "Price Range    0.047615\n",
       "Name: Belgian, dtype: float64"
      ]
     },
     "metadata": {},
     "output_type": "display_data"
    },
    {
     "name": "stdout",
     "output_type": "stream",
     "text": [
      "Irish\n"
     ]
    },
    {
     "data": {
      "text/plain": [
       "Dublin                 0.502885\n",
       "Pub                    0.157249\n",
       "Bar                    0.130564\n",
       "Gluten Free Options    0.076267\n",
       "Gastropub              0.070817\n",
       "Name: Irish, dtype: float64"
      ]
     },
     "metadata": {},
     "output_type": "display_data"
    },
    {
     "name": "stdout",
     "output_type": "stream",
     "text": [
      "Dutch\n"
     ]
    },
    {
     "data": {
      "text/plain": [
       "Amsterdam        0.500683\n",
       "European         0.137654\n",
       "Bar              0.084893\n",
       "International    0.069574\n",
       "Cafe             0.061183\n",
       "Name: Dutch, dtype: float64"
      ]
     },
     "metadata": {},
     "output_type": "display_data"
    },
    {
     "name": "stdout",
     "output_type": "stream",
     "text": [
      "Diner\n"
     ]
    },
    {
     "data": {
      "text/plain": [
       "American          0.107008\n",
       "other_cuisines    0.047385\n",
       "Fast Food         0.045455\n",
       "German            0.039205\n",
       "Delicatessen      0.038883\n",
       "Name: Diner, dtype: float64"
      ]
     },
     "metadata": {},
     "output_type": "display_data"
    },
    {
     "name": "stdout",
     "output_type": "stream",
     "text": [
      "Latin\n"
     ]
    },
    {
     "data": {
      "text/plain": [
       "Central American    0.398286\n",
       "Mexican             0.359723\n",
       "South American      0.316505\n",
       "Venezuelan          0.179991\n",
       "Argentinean         0.176877\n",
       "Name: Latin, dtype: float64"
      ]
     },
     "metadata": {},
     "output_type": "display_data"
    },
    {
     "name": "stdout",
     "output_type": "stream",
     "text": [
      "Lebanese\n"
     ]
    },
    {
     "data": {
      "text/plain": [
       "Middle Eastern    0.438984\n",
       "Halal             0.269338\n",
       "Mediterranean     0.185968\n",
       "Arabic            0.128613\n",
       "Moroccan          0.097332\n",
       "Name: Lebanese, dtype: float64"
      ]
     },
     "metadata": {},
     "output_type": "display_data"
    },
    {
     "name": "stdout",
     "output_type": "stream",
     "text": [
      "Scandinavian\n"
     ]
    },
    {
     "data": {
      "text/plain": [
       "Swedish       0.430907\n",
       "Danish        0.406998\n",
       "Norwegian     0.259595\n",
       "Copenhagen    0.201293\n",
       "Stockholm     0.185851\n",
       "Name: Scandinavian, dtype: float64"
      ]
     },
     "metadata": {},
     "output_type": "display_data"
    },
    {
     "name": "stdout",
     "output_type": "stream",
     "text": [
      "Hungarian\n"
     ]
    },
    {
     "data": {
      "text/plain": [
       "Budapest            0.626425\n",
       "Eastern European    0.231331\n",
       "Central European    0.220091\n",
       "European            0.153296\n",
       "International       0.087930\n",
       "Name: Hungarian, dtype: float64"
      ]
     },
     "metadata": {},
     "output_type": "display_data"
    },
    {
     "name": "stdout",
     "output_type": "stream",
     "text": [
      "Polish\n"
     ]
    },
    {
     "data": {
      "text/plain": [
       "Krakow              0.409388\n",
       "Warsaw              0.313658\n",
       "Eastern European    0.267217\n",
       "Central European    0.192578\n",
       "European            0.152826\n",
       "Name: Polish, dtype: float64"
      ]
     },
     "metadata": {},
     "output_type": "display_data"
    },
    {
     "name": "stdout",
     "output_type": "stream",
     "text": [
      "South American\n"
     ]
    },
    {
     "data": {
      "text/plain": [
       "Argentinean         0.407280\n",
       "Peruvian            0.393346\n",
       "Brazilian           0.364902\n",
       "Latin               0.316505\n",
       "Central American    0.209921\n",
       "Name: South American, dtype: float64"
      ]
     },
     "metadata": {},
     "output_type": "display_data"
    },
    {
     "name": "stdout",
     "output_type": "stream",
     "text": [
      "Austrian\n"
     ]
    },
    {
     "data": {
      "text/plain": [
       "Vienna              0.493182\n",
       "Central European    0.238646\n",
       "German              0.189307\n",
       "European            0.152913\n",
       "Ranking             0.059935\n",
       "Name: Austrian, dtype: float64"
      ]
     },
     "metadata": {},
     "output_type": "display_data"
    },
    {
     "name": "stdout",
     "output_type": "stream",
     "text": [
      "Delicatessen\n"
     ]
    },
    {
     "data": {
      "text/plain": [
       "Cafe              0.069650\n",
       "Wine Bar          0.064333\n",
       "other_cuisines    0.054690\n",
       "Street Food       0.048429\n",
       "Healthy           0.047096\n",
       "Name: Delicatessen, dtype: float64"
      ]
     },
     "metadata": {},
     "output_type": "display_data"
    },
    {
     "name": "stdout",
     "output_type": "stream",
     "text": [
      "Turkish\n"
     ]
    },
    {
     "data": {
      "text/plain": [
       "Middle Eastern    0.314232\n",
       "Halal             0.250434\n",
       "Barbecue          0.071071\n",
       "Fast Food         0.069780\n",
       "Mediterranean     0.069096\n",
       "Name: Turkish, dtype: float64"
      ]
     },
     "metadata": {},
     "output_type": "display_data"
    },
    {
     "name": "stdout",
     "output_type": "stream",
     "text": [
      "Mexican\n"
     ]
    },
    {
     "data": {
      "text/plain": [
       "Latin               0.359723\n",
       "Central American    0.347267\n",
       "South American      0.103949\n",
       "Southwestern        0.101891\n",
       "Fast Food           0.072012\n",
       "Name: Mexican, dtype: float64"
      ]
     },
     "metadata": {},
     "output_type": "display_data"
    },
    {
     "name": "stdout",
     "output_type": "stream",
     "text": [
      "Gastropub\n"
     ]
    },
    {
     "data": {
      "text/plain": [
       "Pub            0.224429\n",
       "Bar            0.140041\n",
       "British        0.100938\n",
       "Irish          0.070817\n",
       "Price Range    0.069552\n",
       "Name: Gastropub, dtype: float64"
      ]
     },
     "metadata": {},
     "output_type": "display_data"
    },
    {
     "name": "stdout",
     "output_type": "stream",
     "text": [
      "Grill\n"
     ]
    },
    {
     "data": {
      "text/plain": [
       "Steakhouse        0.158713\n",
       "Barbecue          0.130570\n",
       "other_cuisines    0.061221\n",
       "Price Range       0.060488\n",
       "Argentinean       0.052313\n",
       "Name: Grill, dtype: float64"
      ]
     },
     "metadata": {},
     "output_type": "display_data"
    },
    {
     "name": "stdout",
     "output_type": "stream",
     "text": [
      "Soups\n"
     ]
    },
    {
     "data": {
      "text/plain": [
       "Seafood                0.119450\n",
       "Number of Reviews      0.107549\n",
       "Vegetarian Friendly    0.085638\n",
       "Vegan Options          0.079338\n",
       "Vietnamese             0.075772\n",
       "Name: Soups, dtype: float64"
      ]
     },
     "metadata": {},
     "output_type": "display_data"
    },
    {
     "name": "stdout",
     "output_type": "stream",
     "text": [
      "Eastern European\n"
     ]
    },
    {
     "data": {
      "text/plain": [
       "Central European    0.412459\n",
       "Polish              0.267217\n",
       "Czech               0.247503\n",
       "Hungarian           0.231331\n",
       "Russian             0.167904\n",
       "Name: Eastern European, dtype: float64"
      ]
     },
     "metadata": {},
     "output_type": "display_data"
    },
    {
     "name": "stdout",
     "output_type": "stream",
     "text": [
      "Vietnamese\n"
     ]
    },
    {
     "data": {
      "text/plain": [
       "Asian        0.248754\n",
       "Thai         0.140650\n",
       "Cambodian    0.076962\n",
       "Chinese      0.076369\n",
       "Soups        0.075772\n",
       "Name: Vietnamese, dtype: float64"
      ]
     },
     "metadata": {},
     "output_type": "display_data"
    },
    {
     "name": "stdout",
     "output_type": "stream",
     "text": [
      "Contemporary\n"
     ]
    },
    {
     "data": {
      "text/plain": [
       "Price Range       0.087301\n",
       "Healthy           0.072855\n",
       "other_cuisines    0.063275\n",
       "Fusion            0.059905\n",
       "European          0.054511\n",
       "Name: Contemporary, dtype: float64"
      ]
     },
     "metadata": {},
     "output_type": "display_data"
    },
    {
     "name": "stdout",
     "output_type": "stream",
     "text": [
      "Barbecue\n"
     ]
    },
    {
     "data": {
      "text/plain": [
       "Steakhouse     0.289670\n",
       "Argentinean    0.170207\n",
       "Grill          0.130570\n",
       "American       0.121965\n",
       "Brazilian      0.080684\n",
       "Name: Barbecue, dtype: float64"
      ]
     },
     "metadata": {},
     "output_type": "display_data"
    },
    {
     "name": "stdout",
     "output_type": "stream",
     "text": [
      "Steakhouse\n"
     ]
    },
    {
     "data": {
      "text/plain": [
       "Barbecue          0.289670\n",
       "Argentinean       0.277587\n",
       "Grill             0.158713\n",
       "South American    0.097913\n",
       "Price Range       0.094843\n",
       "Name: Steakhouse, dtype: float64"
      ]
     },
     "metadata": {},
     "output_type": "display_data"
    },
    {
     "name": "stdout",
     "output_type": "stream",
     "text": [
      "Fusion\n"
     ]
    },
    {
     "data": {
      "text/plain": [
       "Japanese          0.094778\n",
       "Asian             0.091841\n",
       "Price Range       0.080773\n",
       "other_cuisines    0.066507\n",
       "Sushi             0.065488\n",
       "Name: Fusion, dtype: float64"
      ]
     },
     "metadata": {},
     "output_type": "display_data"
    },
    {
     "name": "stdout",
     "output_type": "stream",
     "text": [
      "Czech\n"
     ]
    },
    {
     "data": {
      "text/plain": [
       "Prague              0.611929\n",
       "Central European    0.281930\n",
       "Eastern European    0.247503\n",
       "European            0.202467\n",
       "Bar                 0.079569\n",
       "Name: Czech, dtype: float64"
      ]
     },
     "metadata": {},
     "output_type": "display_data"
    },
    {
     "name": "stdout",
     "output_type": "stream",
     "text": [
      "Halal\n"
     ]
    },
    {
     "data": {
      "text/plain": [
       "Middle Eastern    0.487037\n",
       "Lebanese          0.269338\n",
       "Turkish           0.250434\n",
       "Pakistani         0.201523\n",
       "Indian            0.193366\n",
       "Name: Halal, dtype: float64"
      ]
     },
     "metadata": {},
     "output_type": "display_data"
    },
    {
     "name": "stdout",
     "output_type": "stream",
     "text": [
      "Greek\n"
     ]
    },
    {
     "data": {
      "text/plain": [
       "Athens            0.541751\n",
       "Mediterranean     0.158496\n",
       "Ranking           0.068879\n",
       "other_cuisines    0.068069\n",
       "Rating            0.044228\n",
       "Name: Greek, dtype: float64"
      ]
     },
     "metadata": {},
     "output_type": "display_data"
    },
    {
     "name": "stdout",
     "output_type": "stream",
     "text": [
      "Healthy\n"
     ]
    },
    {
     "data": {
      "text/plain": [
       "Vegan Options     0.105481\n",
       "Cafe              0.089057\n",
       "Contemporary      0.072855\n",
       "other_cuisines    0.068978\n",
       "Soups             0.068429\n",
       "Name: Healthy, dtype: float64"
      ]
     },
     "metadata": {},
     "output_type": "display_data"
    },
    {
     "name": "stdout",
     "output_type": "stream",
     "text": [
      "German\n"
     ]
    },
    {
     "data": {
      "text/plain": [
       "Central European    0.290669\n",
       "Berlin              0.205128\n",
       "Austrian            0.189307\n",
       "Munich              0.154154\n",
       "Hamburg             0.120124\n",
       "Name: German, dtype: float64"
      ]
     },
     "metadata": {},
     "output_type": "display_data"
    },
    {
     "name": "stdout",
     "output_type": "stream",
     "text": [
      "Wine Bar\n"
     ]
    },
    {
     "data": {
      "text/plain": [
       "Brew Pub          0.102389\n",
       "Price Range       0.075178\n",
       "other_cuisines    0.073208\n",
       "French            0.066587\n",
       "Delicatessen      0.064333\n",
       "Name: Wine Bar, dtype: float64"
      ]
     },
     "metadata": {},
     "output_type": "display_data"
    },
    {
     "name": "stdout",
     "output_type": "stream",
     "text": [
      "Thai\n"
     ]
    },
    {
     "data": {
      "text/plain": [
       "Asian             0.320072\n",
       "Vietnamese        0.140650\n",
       "Chinese           0.114074\n",
       "other_cuisines    0.075629\n",
       "European          0.074198\n",
       "Name: Thai, dtype: float64"
      ]
     },
     "metadata": {},
     "output_type": "display_data"
    },
    {
     "name": "stdout",
     "output_type": "stream",
     "text": [
      "Middle Eastern\n"
     ]
    },
    {
     "data": {
      "text/plain": [
       "Halal       0.487037\n",
       "Lebanese    0.438984\n",
       "Turkish     0.314232\n",
       "Persian     0.248022\n",
       "Israeli     0.199825\n",
       "Name: Middle Eastern, dtype: float64"
      ]
     },
     "metadata": {},
     "output_type": "display_data"
    },
    {
     "name": "stdout",
     "output_type": "stream",
     "text": [
      "Indian\n"
     ]
    },
    {
     "data": {
      "text/plain": [
       "Pakistani      0.288709\n",
       "Balti          0.275507\n",
       "Asian          0.268205\n",
       "Bangladeshi    0.241671\n",
       "Halal          0.193366\n",
       "Name: Indian, dtype: float64"
      ]
     },
     "metadata": {},
     "output_type": "display_data"
    },
    {
     "name": "stdout",
     "output_type": "stream",
     "text": [
      "Portuguese\n"
     ]
    },
    {
     "data": {
      "text/plain": [
       "Lisbon            0.546633\n",
       "Oporto            0.369499\n",
       "European          0.258733\n",
       "Mediterranean     0.110315\n",
       "other_cuisines    0.092746\n",
       "Name: Portuguese, dtype: float64"
      ]
     },
     "metadata": {},
     "output_type": "display_data"
    },
    {
     "name": "stdout",
     "output_type": "stream",
     "text": [
      "Chinese\n"
     ]
    },
    {
     "data": {
      "text/plain": [
       "Asian             0.315273\n",
       "Thai              0.114074\n",
       "Japanese          0.111054\n",
       "European          0.097433\n",
       "other_cuisines    0.094370\n",
       "Name: Chinese, dtype: float64"
      ]
     },
     "metadata": {},
     "output_type": "display_data"
    },
    {
     "name": "stdout",
     "output_type": "stream",
     "text": [
      "Sushi\n"
     ]
    },
    {
     "data": {
      "text/plain": [
       "Japanese          0.695930\n",
       "Asian             0.335970\n",
       "other_cuisines    0.094836\n",
       "European          0.092431\n",
       "Chinese           0.091203\n",
       "Name: Sushi, dtype: float64"
      ]
     },
     "metadata": {},
     "output_type": "display_data"
    },
    {
     "name": "stdout",
     "output_type": "stream",
     "text": [
      "American\n"
     ]
    },
    {
     "data": {
      "text/plain": [
       "Fast Food         0.189440\n",
       "Barbecue          0.121965\n",
       "Bar               0.110942\n",
       "Diner             0.107008\n",
       "other_cuisines    0.101355\n",
       "Name: American, dtype: float64"
      ]
     },
     "metadata": {},
     "output_type": "display_data"
    },
    {
     "name": "stdout",
     "output_type": "stream",
     "text": [
      "Central European\n"
     ]
    },
    {
     "data": {
      "text/plain": [
       "Eastern European    0.412459\n",
       "European            0.313866\n",
       "German              0.290669\n",
       "Czech               0.281930\n",
       "Austrian            0.238646\n",
       "Name: Central European, dtype: float64"
      ]
     },
     "metadata": {},
     "output_type": "display_data"
    },
    {
     "name": "stdout",
     "output_type": "stream",
     "text": [
      "Japanese\n"
     ]
    },
    {
     "data": {
      "text/plain": [
       "Sushi             0.695930\n",
       "Asian             0.357169\n",
       "Chinese           0.111054\n",
       "other_cuisines    0.107150\n",
       "European          0.106845\n",
       "Name: Japanese, dtype: float64"
      ]
     },
     "metadata": {},
     "output_type": "display_data"
    },
    {
     "name": "stdout",
     "output_type": "stream",
     "text": [
      "Seafood\n"
     ]
    },
    {
     "data": {
      "text/plain": [
       "Mediterranean    0.189208\n",
       "Price Range      0.147534\n",
       "Rome             0.133682\n",
       "Milan            0.129079\n",
       "Italian          0.128952\n",
       "Name: Seafood, dtype: float64"
      ]
     },
     "metadata": {},
     "output_type": "display_data"
    },
    {
     "name": "stdout",
     "output_type": "stream",
     "text": [
      "International\n"
     ]
    },
    {
     "data": {
      "text/plain": [
       "Price Range         0.118161\n",
       "European            0.112164\n",
       "other_cuisines      0.111629\n",
       "Central European    0.100575\n",
       "Hungarian           0.087930\n",
       "Name: International, dtype: float64"
      ]
     },
     "metadata": {},
     "output_type": "display_data"
    },
    {
     "name": "stdout",
     "output_type": "stream",
     "text": [
      "British\n"
     ]
    },
    {
     "data": {
      "text/plain": [
       "London       0.387820\n",
       "Scottish     0.295830\n",
       "Pub          0.261859\n",
       "Bar          0.253917\n",
       "Edinburgh    0.203787\n",
       "Name: British, dtype: float64"
      ]
     },
     "metadata": {},
     "output_type": "display_data"
    },
    {
     "name": "stdout",
     "output_type": "stream",
     "text": [
      "Fast Food\n"
     ]
    },
    {
     "data": {
      "text/plain": [
       "American          0.189440\n",
       "other_cuisines    0.115997\n",
       "Street Food       0.085429\n",
       "Middle Eastern    0.072107\n",
       "Mexican           0.072012\n",
       "Name: Fast Food, dtype: float64"
      ]
     },
     "metadata": {},
     "output_type": "display_data"
    },
    {
     "name": "stdout",
     "output_type": "stream",
     "text": [
      "Cafe\n"
     ]
    },
    {
     "data": {
      "text/plain": [
       "other_cuisines         0.136565\n",
       "British                0.090806\n",
       "Healthy                0.089057\n",
       "Vegan Options          0.086429\n",
       "Vegetarian Friendly    0.080133\n",
       "Name: Cafe, dtype: float64"
      ]
     },
     "metadata": {},
     "output_type": "display_data"
    },
    {
     "name": "stdout",
     "output_type": "stream",
     "text": [
      "Pub\n"
     ]
    },
    {
     "data": {
      "text/plain": [
       "Bar          0.692814\n",
       "British      0.261859\n",
       "Gastropub    0.224429\n",
       "Brew Pub     0.175996\n",
       "Irish        0.157249\n",
       "Name: Pub, dtype: float64"
      ]
     },
     "metadata": {},
     "output_type": "display_data"
    },
    {
     "name": "stdout",
     "output_type": "stream",
     "text": [
      "Spanish\n"
     ]
    },
    {
     "data": {
      "text/plain": [
       "Madrid            0.364160\n",
       "Barcelona         0.346373\n",
       "Mediterranean     0.296399\n",
       "other_cuisines    0.150763\n",
       "Price Range       0.122839\n",
       "Name: Spanish, dtype: float64"
      ]
     },
     "metadata": {},
     "output_type": "display_data"
    },
    {
     "name": "stdout",
     "output_type": "stream",
     "text": [
      "Pizza\n"
     ]
    },
    {
     "data": {
      "text/plain": [
       "Italian                0.477892\n",
       "Rome                   0.177820\n",
       "Mediterranean          0.169137\n",
       "other_cuisines         0.152235\n",
       "Vegetarian Friendly    0.135573\n",
       "Name: Pizza, dtype: float64"
      ]
     },
     "metadata": {},
     "output_type": "display_data"
    },
    {
     "name": "stdout",
     "output_type": "stream",
     "text": [
      "Asian\n"
     ]
    },
    {
     "data": {
      "text/plain": [
       "Japanese    0.357169\n",
       "Sushi       0.335970\n",
       "Thai        0.320072\n",
       "Chinese     0.315273\n",
       "Indian      0.268205\n",
       "Name: Asian, dtype: float64"
      ]
     },
     "metadata": {},
     "output_type": "display_data"
    },
    {
     "name": "stdout",
     "output_type": "stream",
     "text": [
      "French\n"
     ]
    },
    {
     "data": {
      "text/plain": [
       "Paris             0.436804\n",
       "European          0.190514\n",
       "Price Range       0.179180\n",
       "other_cuisines    0.161833\n",
       "Lyon              0.156160\n",
       "Name: French, dtype: float64"
      ]
     },
     "metadata": {},
     "output_type": "display_data"
    },
    {
     "name": "stdout",
     "output_type": "stream",
     "text": [
      "Bar\n"
     ]
    },
    {
     "data": {
      "text/plain": [
       "Pub               0.692814\n",
       "British           0.253917\n",
       "Price Range       0.174442\n",
       "other_cuisines    0.164764\n",
       "Gastropub         0.140041\n",
       "Name: Bar, dtype: float64"
      ]
     },
     "metadata": {},
     "output_type": "display_data"
    },
    {
     "name": "stdout",
     "output_type": "stream",
     "text": [
      "Gluten Free Options\n"
     ]
    },
    {
     "data": {
      "text/plain": [
       "Vegan Options          0.487448\n",
       "Vegetarian Friendly    0.466960\n",
       "Number of Reviews      0.408872\n",
       "Price Range            0.305854\n",
       "Ranking                0.214648\n",
       "Name: Gluten Free Options, dtype: float64"
      ]
     },
     "metadata": {},
     "output_type": "display_data"
    },
    {
     "name": "stdout",
     "output_type": "stream",
     "text": [
      "Vegan Options\n"
     ]
    },
    {
     "data": {
      "text/plain": [
       "Vegetarian Friendly    0.553545\n",
       "Gluten Free Options    0.487448\n",
       "Number of Reviews      0.318401\n",
       "Price Range            0.247973\n",
       "Ranking                0.214913\n",
       "Name: Vegan Options, dtype: float64"
      ]
     },
     "metadata": {},
     "output_type": "display_data"
    },
    {
     "name": "stdout",
     "output_type": "stream",
     "text": [
      "Italian\n"
     ]
    },
    {
     "data": {
      "text/plain": [
       "Pizza             0.477892\n",
       "Rome              0.345733\n",
       "Mediterranean     0.324204\n",
       "other_cuisines    0.230120\n",
       "Milan             0.226160\n",
       "Name: Italian, dtype: float64"
      ]
     },
     "metadata": {},
     "output_type": "display_data"
    },
    {
     "name": "stdout",
     "output_type": "stream",
     "text": [
      "Mediterranean\n"
     ]
    },
    {
     "data": {
      "text/plain": [
       "Italian                0.324204\n",
       "Spanish                0.296399\n",
       "Price Range            0.281414\n",
       "Vegetarian Friendly    0.245179\n",
       "other_cuisines         0.237174\n",
       "Name: Mediterranean, dtype: float64"
      ]
     },
     "metadata": {},
     "output_type": "display_data"
    },
    {
     "name": "stdout",
     "output_type": "stream",
     "text": [
      "other_cuisines\n"
     ]
    },
    {
     "data": {
      "text/plain": [
       "Price Range            0.680331\n",
       "number of dates        0.345486\n",
       "Vegetarian Friendly    0.342587\n",
       "European               0.318660\n",
       "year                   0.272317\n",
       "Name: other_cuisines, dtype: float64"
      ]
     },
     "metadata": {},
     "output_type": "display_data"
    },
    {
     "name": "stdout",
     "output_type": "stream",
     "text": [
      "European\n"
     ]
    },
    {
     "data": {
      "text/plain": [
       "Price Range            0.376258\n",
       "other_cuisines         0.318660\n",
       "Central European       0.313866\n",
       "Ranking                0.279235\n",
       "Vegetarian Friendly    0.266105\n",
       "Name: European, dtype: float64"
      ]
     },
     "metadata": {},
     "output_type": "display_data"
    },
    {
     "name": "stdout",
     "output_type": "stream",
     "text": [
      "Vegetarian Friendly\n"
     ]
    },
    {
     "data": {
      "text/plain": [
       "Vegan Options          0.553545\n",
       "Gluten Free Options    0.466960\n",
       "Price Range            0.447498\n",
       "Number of Reviews      0.364499\n",
       "other_cuisines         0.342587\n",
       "Name: Vegetarian Friendly, dtype: float64"
      ]
     },
     "metadata": {},
     "output_type": "display_data"
    }
   ],
   "source": [
    "for i in num_correlation.columns:\n",
    "    print(i)\n",
    "    display(abs(num_correlation[i]).sort_values(ascending=False)[1:6])"
   ]
  },
  {
   "cell_type": "markdown",
   "metadata": {},
   "source": [
    "из корреляционного анализа видно, что наш target Rating более или менее коррелирован только \n",
    "с 3 параметрами:\n",
    "    <br> 1) Ranking 0.368371;\n",
    "    <br> 2) Vegetarian Friendly 0.128356;\n",
    "    <br> 3) Vegan Options 0.122054.\n",
    "    \n",
    "    Для всех остальных параметров корреляция < 0.1 => по шкале Чеддока линейная корреляция даже не слабая.\n",
    "\n",
    "Между собой сильно (> 0.6) коррелированы параметры:\n",
    "    <br>number of dates - year 0.909705\n",
    "<br>season -  year 0.616955\n",
    "<br>weekend - year 0.752149\n",
    "<br>Budapest - Hungarian 0.626425\n",
    "<br>Czech - Prague 0.611929\n",
    "<br>Sushi - Japanese 0.695930\n",
    "<br>Pub - Bar 0.692814\n",
    "<br>other_cuisines - Price Range 0.680331\n",
    "\n",
    "вроде бы, можно удалить некоторые из этих параметров, в частности, year сильно коррелирован с number of dates, season, weekend, но эксперименты показывают, что модель дает самый лучший результат, когда все эти параметры участвуют"
   ]
  },
  {
   "cell_type": "markdown",
   "metadata": {},
   "source": [
    "# Разбиваем датафрейм на части, необходимые для обучения и тестирования модели"
   ]
  },
  {
   "cell_type": "code",
   "execution_count": 60,
   "metadata": {},
   "outputs": [],
   "source": [
    "# Х - данные с информацией о ресторанах, у - целевая переменная (рейтинги ресторанов)\n",
    "X = df1.drop(['Restaurant_id', 'Rating'], axis = 1)\n",
    "y = df1['Rating']"
   ]
  },
  {
   "cell_type": "code",
   "execution_count": 61,
   "metadata": {},
   "outputs": [],
   "source": [
    "# Загружаем специальный инструмент для разбивки:\n",
    "from sklearn.model_selection import train_test_split"
   ]
  },
  {
   "cell_type": "code",
   "execution_count": 62,
   "metadata": {},
   "outputs": [],
   "source": [
    "# Наборы данных с меткой \"train\" будут использоваться для обучения модели, \"test\" - для тестирования.\n",
    "# Для тестирования мы будем использовать 25% от исходного датасета.\n",
    "X_train, X_test, y_train, y_test = train_test_split(X, y, test_size=0.25)"
   ]
  },
  {
   "cell_type": "markdown",
   "metadata": {},
   "source": [
    "# Создаём, обучаем и тестируем модель"
   ]
  },
  {
   "cell_type": "code",
   "execution_count": 63,
   "metadata": {},
   "outputs": [],
   "source": [
    "# Импортируем необходимые библиотеки:\n",
    "from sklearn.ensemble import RandomForestRegressor # инструмент для создания и обучения модели\n",
    "from sklearn import metrics # инструменты для оценки точности модели"
   ]
  },
  {
   "cell_type": "code",
   "execution_count": 64,
   "metadata": {},
   "outputs": [],
   "source": [
    "# Создаём модель\n",
    "regr = RandomForestRegressor(n_estimators=100)\n",
    "\n",
    "# Обучаем модель на тестовом наборе данных\n",
    "regr.fit(X_train, y_train)\n",
    "\n",
    "# Используем обученную модель для предсказания рейтинга ресторанов в тестовой выборке.\n",
    "# Предсказанные значения записываем в переменную y_pred\n",
    "y_pred = regr.predict(X_test)"
   ]
  },
  {
   "cell_type": "code",
   "execution_count": 65,
   "metadata": {},
   "outputs": [
    {
     "name": "stdout",
     "output_type": "stream",
     "text": [
      "MAE: 0.21117950000000002\n"
     ]
    }
   ],
   "source": [
    "# Сравниваем предсказанные значения (y_pred) с реальными (y_test), и смотрим насколько они в среднем отличаются\n",
    "# Метрика называется Mean Absolute Error (MAE) и показывает среднее отклонение предсказанных значений от фактических.\n",
    "print('MAE:', metrics.mean_absolute_error(y_test, y_pred))"
   ]
  }
 ],
 "metadata": {
  "kernelspec": {
   "display_name": "Python 3",
   "language": "python",
   "name": "python3"
  },
  "language_info": {
   "codemirror_mode": {
    "name": "ipython",
    "version": 3
   },
   "file_extension": ".py",
   "mimetype": "text/x-python",
   "name": "python",
   "nbconvert_exporter": "python",
   "pygments_lexer": "ipython3",
   "version": "3.7.6"
  }
 },
 "nbformat": 4,
 "nbformat_minor": 2
}
