{
 "cells": [
  {
   "cell_type": "code",
   "execution_count": 131,
   "metadata": {},
   "outputs": [],
   "source": [
    "import pandas as pd\n",
    "import numpy as np\n",
    "import matplotlib.pyplot as plt\n",
    "import seaborn as sns\n",
    "from sklearn.feature_selection import f_classif, mutual_info_classif\n",
    "from sklearn.preprocessing import LabelEncoder, OneHotEncoder, StandardScaler\n",
    "from sklearn.model_selection import train_test_split, GridSearchCV\n",
    "from sklearn.linear_model import LogisticRegression\n",
    "from sklearn.metrics import confusion_matrix, auc, roc_auc_score, roc_curve, accuracy_score, precision_score, recall_score, f1_score \n",
    "\n",
    "%matplotlib inline\n"
   ]
  },
  {
   "cell_type": "code",
   "execution_count": 132,
   "metadata": {},
   "outputs": [],
   "source": [
    "RANDOM_SEED = 42\n",
    "!pip freeze > requirements.txt\n"
   ]
  },
  {
   "cell_type": "code",
   "execution_count": 133,
   "metadata": {},
   "outputs": [],
   "source": [
    "df_train = pd.read_csv('https://raw.githubusercontent.com/DShev1982/skillfactory/master/data%20for%20projects/mod5_train.csv')\n",
    "df_test = pd.read_csv('https://raw.githubusercontent.com/DShev1982/skillfactory/master/data%20for%20projects/mod5_test.csv')\n"
   ]
  },
  {
   "cell_type": "code",
   "execution_count": 134,
   "metadata": {},
   "outputs": [],
   "source": [
    "def first_look(df,col):\n",
    "    print('Столбец', col)\n",
    "    print('Распределение признака:')\n",
    "    display(df[col].describe())\n",
    "    fig, ax = plt.subplots()\n",
    "    IQR = 1.5*(df[col].describe()['75%']-df[col].describe()['25%'])\n",
    "    ll = df[col].describe()['25%'] - IQR\n",
    "    hl = df[col].describe()['75%'] + IQR\n",
    "    out_ll = df[df[col] < ll][col].count()\n",
    "    out_hl = df[df[col] > hl][col].count()\n",
    "    count = df[col].describe()['count']\n",
    "    out_ll_p = round(out_ll/count,2)\n",
    "    out_hl_p = round(out_hl/count,2)\n",
    "    print('нижняя квартильная граница: {}\\nверхняя квартильная граница: {}\\nкол-во записей за нижней квартильной границей: {}\\nотносительное кол-во записей за нижней квартильной границей: {}\\nкол-во записей за верхней квартильной границей: {}\\nотносительное кол-во записей за верхней квартильной границей: {}'.format(ll,hl,out_ll,out_ll_p,out_hl,out_hl_p))\n",
    "    df.loc[:,col].hist(ax=ax)\n",
    "    ax.set_xlabel(col)\n",
    "    ax.set_ylabel('count')\n",
    "    plt.show()\n",
    "    sns.boxplot(data = df[col])\n",
    "    plt.show()"
   ]
  },
  {
   "cell_type": "code",
   "execution_count": 262,
   "metadata": {},
   "outputs": [],
   "source": [
    "def all_metrics(y_true, y_pred, y_pred_prob):\n",
    "    \"\"\"Функция выводит в виде датафрейма значения основных метрик классификации\"\"\"\n",
    "    dict_metric = {}\n",
    "    P = np.sum(y_true==1)\n",
    "    N = np.sum(y_true==0)\n",
    "    TP = np.sum((y_true==1)&(y_pred==1))\n",
    "    TN = np.sum((y_true==0)&(y_pred==0))\n",
    "    FP = np.sum((y_true==0)&(y_pred==1))\n",
    "    FN = np.sum((y_true==1)&(y_pred==0))\n",
    "    \n",
    "    dict_metric['P'] = [P,'Дефолт']\n",
    "    dict_metric['N'] = [N,'БЕЗ дефолта']\n",
    "    dict_metric['TP'] = [TP,'Истинно дефолтные']\n",
    "    dict_metric['TN'] = [TN,'Истинно НЕ дефолтные']\n",
    "    dict_metric['FP'] = [FP,'Ложно дефолтные']\n",
    "    dict_metric['FN'] = [FN,'Ложно НЕ дефолтные']\n",
    "    dict_metric['Accuracy'] = [accuracy_score(y_true, y_pred),'Accuracy=(TP+TN)/(P+N)']\n",
    "    dict_metric['Precision'] = [precision_score(y_true, y_pred),'Точность = TP/(TP+FP)'] \n",
    "    dict_metric['Recall'] = [recall_score(y_true, y_pred),'Полнота = TP/P']\n",
    "    dict_metric['F1-score'] = [f1_score(y_true, y_pred),'Среднее гармоническое Precision и Recall']\n",
    "    dict_metric['ROC_AUC'] = [roc_auc_score(y_true, y_pred_prob),'ROC-AUC']    \n",
    "\n",
    "    temp_df = pd.DataFrame.from_dict(dict_metric, orient='index', columns=['Значение', 'Описание метрики'])\n",
    "    display(temp_df)    "
   ]
  },
  {
   "cell_type": "code",
   "execution_count": 267,
   "metadata": {},
   "outputs": [],
   "source": [
    "def show_roc_curve(y_true, y_pred_prob):\n",
    "    \"\"\"Функция отображает ROC-кривую\"\"\"\n",
    "    fpr, tpr, _ = roc_curve(y_true, y_pred_prob)\n",
    "    plt.figure()\n",
    "    plt.plot([0, 1], label='Случайный классификатор', linestyle='--')\n",
    "    plt.plot(fpr, tpr, label = 'Логистическая регрессия')\n",
    "    plt.title('Логистическая регрессия ROC AUC = %0.3f' % roc_auc_score(y_true, y_pred_prob))\n",
    "    plt.ylabel('True Positive Rate')\n",
    "    plt.xlabel('False Positive Rate')\n",
    "    plt.legend(loc = 'lower right')\n",
    "    plt.show()"
   ]
  },
  {
   "cell_type": "code",
   "execution_count": 268,
   "metadata": {},
   "outputs": [],
   "source": [
    "def show_confusion_matrix(y_true, y_pred):\n",
    "    \"\"\"Функция отображает confusion-матрицу\"\"\"\n",
    "    color_text = plt.get_cmap('PuBu')(0.95)\n",
    "    class_names = ['Дефолтный', 'НЕ дефолтный']\n",
    "    cm = confusion_matrix(y_true, y_pred)\n",
    "    cm[0,0], cm[1,1] = cm[1,1], cm[0,0]\n",
    "    df = pd.DataFrame(cm, index=class_names, columns=class_names)\n",
    "    \n",
    "    fig, ax = plt.subplots(figsize=(6, 6))\n",
    "    ax.set(xticks=np.arange(cm.shape[1]), yticks=np.arange(cm.shape[0]), title=\"Матрица ошибок\")\n",
    "    ax.title.set_fontsize(15)\n",
    "    sns.heatmap(df, square=True, annot=True, fmt=\"d\", linewidths=1, cmap=\"PuBu\")\n",
    "    plt.setp(ax.get_yticklabels(), rotation=0, ha=\"right\", rotation_mode=\"anchor\", fontsize=12)\n",
    "    plt.setp(ax.get_xticklabels(), rotation=0, ha=\"center\", rotation_mode=\"anchor\", fontsize=12)\n",
    "    ax.set_ylabel('Предсказанные значения', fontsize=14, color = color_text)\n",
    "    ax.set_xlabel('Реальные значения', fontsize=14, color = color_text)\n",
    "    b, t = plt.ylim()\n",
    "    plt.ylim(b+0.5, t-0.5)\n",
    "    fig.tight_layout()\n",
    "    plt.show()"
   ]
  },
  {
   "cell_type": "code",
   "execution_count": 135,
   "metadata": {},
   "outputs": [
    {
     "name": "stdout",
     "output_type": "stream",
     "text": [
      "<class 'pandas.core.frame.DataFrame'>\n",
      "RangeIndex: 73799 entries, 0 to 73798\n",
      "Data columns (total 19 columns):\n",
      " #   Column            Non-Null Count  Dtype  \n",
      "---  ------            --------------  -----  \n",
      " 0   client_id         73799 non-null  int64  \n",
      " 1   app_date          73799 non-null  object \n",
      " 2   education         73492 non-null  object \n",
      " 3   sex               73799 non-null  object \n",
      " 4   age               73799 non-null  int64  \n",
      " 5   car               73799 non-null  object \n",
      " 6   car_type          73799 non-null  object \n",
      " 7   decline_app_cnt   73799 non-null  int64  \n",
      " 8   good_work         73799 non-null  int64  \n",
      " 9   score_bki         73799 non-null  float64\n",
      " 10  bki_request_cnt   73799 non-null  int64  \n",
      " 11  region_rating     73799 non-null  int64  \n",
      " 12  home_address      73799 non-null  int64  \n",
      " 13  work_address      73799 non-null  int64  \n",
      " 14  income            73799 non-null  int64  \n",
      " 15  sna               73799 non-null  int64  \n",
      " 16  first_time        73799 non-null  int64  \n",
      " 17  foreign_passport  73799 non-null  object \n",
      " 18  default           73799 non-null  int64  \n",
      "dtypes: float64(1), int64(12), object(6)\n",
      "memory usage: 10.7+ MB\n"
     ]
    }
   ],
   "source": [
    "df_train.info()"
   ]
  },
  {
   "cell_type": "code",
   "execution_count": 136,
   "metadata": {},
   "outputs": [
    {
     "name": "stdout",
     "output_type": "stream",
     "text": [
      "<class 'pandas.core.frame.DataFrame'>\n",
      "RangeIndex: 36349 entries, 0 to 36348\n",
      "Data columns (total 18 columns):\n",
      " #   Column            Non-Null Count  Dtype  \n",
      "---  ------            --------------  -----  \n",
      " 0   client_id         36349 non-null  int64  \n",
      " 1   app_date          36349 non-null  object \n",
      " 2   education         36178 non-null  object \n",
      " 3   sex               36349 non-null  object \n",
      " 4   age               36349 non-null  int64  \n",
      " 5   car               36349 non-null  object \n",
      " 6   car_type          36349 non-null  object \n",
      " 7   decline_app_cnt   36349 non-null  int64  \n",
      " 8   good_work         36349 non-null  int64  \n",
      " 9   score_bki         36349 non-null  float64\n",
      " 10  bki_request_cnt   36349 non-null  int64  \n",
      " 11  region_rating     36349 non-null  int64  \n",
      " 12  home_address      36349 non-null  int64  \n",
      " 13  work_address      36349 non-null  int64  \n",
      " 14  income            36349 non-null  int64  \n",
      " 15  sna               36349 non-null  int64  \n",
      " 16  first_time        36349 non-null  int64  \n",
      " 17  foreign_passport  36349 non-null  object \n",
      "dtypes: float64(1), int64(11), object(6)\n",
      "memory usage: 5.0+ MB\n"
     ]
    }
   ],
   "source": [
    "df_test.info()"
   ]
  },
  {
   "cell_type": "code",
   "execution_count": 387,
   "metadata": {},
   "outputs": [],
   "source": [
    "# чтобы получить как можно больше информации по параметрам, \n",
    "# объединим train и test в один dataset\n",
    "\n",
    "df_train['Train'] = 1 # помечаем где у нас трейн\n",
    "df_test['Train'] = 0 # помечаем где у нас тест\n",
    "\n",
    "df = df_train.append(df_test, sort=False).reset_index(drop=True) "
   ]
  },
  {
   "cell_type": "code",
   "execution_count": 138,
   "metadata": {},
   "outputs": [
    {
     "name": "stdout",
     "output_type": "stream",
     "text": [
      "<class 'pandas.core.frame.DataFrame'>\n",
      "RangeIndex: 110148 entries, 0 to 110147\n",
      "Data columns (total 20 columns):\n",
      " #   Column            Non-Null Count   Dtype  \n",
      "---  ------            --------------   -----  \n",
      " 0   client_id         110148 non-null  int64  \n",
      " 1   app_date          110148 non-null  object \n",
      " 2   education         109670 non-null  object \n",
      " 3   sex               110148 non-null  object \n",
      " 4   age               110148 non-null  int64  \n",
      " 5   car               110148 non-null  object \n",
      " 6   car_type          110148 non-null  object \n",
      " 7   decline_app_cnt   110148 non-null  int64  \n",
      " 8   good_work         110148 non-null  int64  \n",
      " 9   score_bki         110148 non-null  float64\n",
      " 10  bki_request_cnt   110148 non-null  int64  \n",
      " 11  region_rating     110148 non-null  int64  \n",
      " 12  home_address      110148 non-null  int64  \n",
      " 13  work_address      110148 non-null  int64  \n",
      " 14  income            110148 non-null  int64  \n",
      " 15  sna               110148 non-null  int64  \n",
      " 16  first_time        110148 non-null  int64  \n",
      " 17  foreign_passport  110148 non-null  object \n",
      " 18  default           73799 non-null   float64\n",
      " 19  Train             110148 non-null  int64  \n",
      "dtypes: float64(2), int64(12), object(6)\n",
      "memory usage: 16.8+ MB\n"
     ]
    }
   ],
   "source": [
    "df.info()"
   ]
  },
  {
   "cell_type": "code",
   "execution_count": 139,
   "metadata": {},
   "outputs": [
    {
     "data": {
      "text/html": [
       "<div>\n",
       "<style scoped>\n",
       "    .dataframe tbody tr th:only-of-type {\n",
       "        vertical-align: middle;\n",
       "    }\n",
       "\n",
       "    .dataframe tbody tr th {\n",
       "        vertical-align: top;\n",
       "    }\n",
       "\n",
       "    .dataframe thead th {\n",
       "        text-align: right;\n",
       "    }\n",
       "</style>\n",
       "<table border=\"1\" class=\"dataframe\">\n",
       "  <thead>\n",
       "    <tr style=\"text-align: right;\">\n",
       "      <th></th>\n",
       "      <th>client_id</th>\n",
       "      <th>age</th>\n",
       "      <th>decline_app_cnt</th>\n",
       "      <th>good_work</th>\n",
       "      <th>score_bki</th>\n",
       "      <th>bki_request_cnt</th>\n",
       "      <th>region_rating</th>\n",
       "      <th>home_address</th>\n",
       "      <th>work_address</th>\n",
       "      <th>income</th>\n",
       "      <th>sna</th>\n",
       "      <th>first_time</th>\n",
       "      <th>default</th>\n",
       "      <th>Train</th>\n",
       "    </tr>\n",
       "  </thead>\n",
       "  <tbody>\n",
       "    <tr>\n",
       "      <th>count</th>\n",
       "      <td>110148.000000</td>\n",
       "      <td>110148.000000</td>\n",
       "      <td>110148.000000</td>\n",
       "      <td>110148.000000</td>\n",
       "      <td>110148.000000</td>\n",
       "      <td>110148.000000</td>\n",
       "      <td>110148.000000</td>\n",
       "      <td>110148.000000</td>\n",
       "      <td>110148.000000</td>\n",
       "      <td>110148.000000</td>\n",
       "      <td>110148.000000</td>\n",
       "      <td>110148.000000</td>\n",
       "      <td>73799.000000</td>\n",
       "      <td>110148.000000</td>\n",
       "    </tr>\n",
       "    <tr>\n",
       "      <th>mean</th>\n",
       "      <td>55074.500000</td>\n",
       "      <td>39.249410</td>\n",
       "      <td>0.273205</td>\n",
       "      <td>0.165514</td>\n",
       "      <td>-1.904535</td>\n",
       "      <td>2.005002</td>\n",
       "      <td>56.751189</td>\n",
       "      <td>1.574945</td>\n",
       "      <td>2.497867</td>\n",
       "      <td>41012.648537</td>\n",
       "      <td>1.731588</td>\n",
       "      <td>2.765570</td>\n",
       "      <td>0.126994</td>\n",
       "      <td>0.669999</td>\n",
       "    </tr>\n",
       "    <tr>\n",
       "      <th>std</th>\n",
       "      <td>31797.133063</td>\n",
       "      <td>11.518063</td>\n",
       "      <td>0.799099</td>\n",
       "      <td>0.371645</td>\n",
       "      <td>0.499397</td>\n",
       "      <td>2.266926</td>\n",
       "      <td>13.065923</td>\n",
       "      <td>0.527562</td>\n",
       "      <td>0.687651</td>\n",
       "      <td>45399.735051</td>\n",
       "      <td>1.122652</td>\n",
       "      <td>1.010151</td>\n",
       "      <td>0.332968</td>\n",
       "      <td>0.470215</td>\n",
       "    </tr>\n",
       "    <tr>\n",
       "      <th>min</th>\n",
       "      <td>1.000000</td>\n",
       "      <td>21.000000</td>\n",
       "      <td>0.000000</td>\n",
       "      <td>0.000000</td>\n",
       "      <td>-3.624586</td>\n",
       "      <td>0.000000</td>\n",
       "      <td>20.000000</td>\n",
       "      <td>1.000000</td>\n",
       "      <td>1.000000</td>\n",
       "      <td>1000.000000</td>\n",
       "      <td>1.000000</td>\n",
       "      <td>1.000000</td>\n",
       "      <td>0.000000</td>\n",
       "      <td>0.000000</td>\n",
       "    </tr>\n",
       "    <tr>\n",
       "      <th>25%</th>\n",
       "      <td>27537.750000</td>\n",
       "      <td>30.000000</td>\n",
       "      <td>0.000000</td>\n",
       "      <td>0.000000</td>\n",
       "      <td>-2.260434</td>\n",
       "      <td>0.000000</td>\n",
       "      <td>50.000000</td>\n",
       "      <td>1.000000</td>\n",
       "      <td>2.000000</td>\n",
       "      <td>20000.000000</td>\n",
       "      <td>1.000000</td>\n",
       "      <td>2.000000</td>\n",
       "      <td>0.000000</td>\n",
       "      <td>0.000000</td>\n",
       "    </tr>\n",
       "    <tr>\n",
       "      <th>50%</th>\n",
       "      <td>55074.500000</td>\n",
       "      <td>37.000000</td>\n",
       "      <td>0.000000</td>\n",
       "      <td>0.000000</td>\n",
       "      <td>-1.920823</td>\n",
       "      <td>1.000000</td>\n",
       "      <td>50.000000</td>\n",
       "      <td>2.000000</td>\n",
       "      <td>3.000000</td>\n",
       "      <td>30000.000000</td>\n",
       "      <td>1.000000</td>\n",
       "      <td>3.000000</td>\n",
       "      <td>0.000000</td>\n",
       "      <td>1.000000</td>\n",
       "    </tr>\n",
       "    <tr>\n",
       "      <th>75%</th>\n",
       "      <td>82611.250000</td>\n",
       "      <td>48.000000</td>\n",
       "      <td>0.000000</td>\n",
       "      <td>0.000000</td>\n",
       "      <td>-1.567888</td>\n",
       "      <td>3.000000</td>\n",
       "      <td>60.000000</td>\n",
       "      <td>2.000000</td>\n",
       "      <td>3.000000</td>\n",
       "      <td>48000.000000</td>\n",
       "      <td>2.000000</td>\n",
       "      <td>4.000000</td>\n",
       "      <td>0.000000</td>\n",
       "      <td>1.000000</td>\n",
       "    </tr>\n",
       "    <tr>\n",
       "      <th>max</th>\n",
       "      <td>110148.000000</td>\n",
       "      <td>72.000000</td>\n",
       "      <td>33.000000</td>\n",
       "      <td>1.000000</td>\n",
       "      <td>0.199773</td>\n",
       "      <td>53.000000</td>\n",
       "      <td>80.000000</td>\n",
       "      <td>3.000000</td>\n",
       "      <td>3.000000</td>\n",
       "      <td>1000000.000000</td>\n",
       "      <td>4.000000</td>\n",
       "      <td>4.000000</td>\n",
       "      <td>1.000000</td>\n",
       "      <td>1.000000</td>\n",
       "    </tr>\n",
       "  </tbody>\n",
       "</table>\n",
       "</div>"
      ],
      "text/plain": [
       "           client_id            age  decline_app_cnt      good_work  \\\n",
       "count  110148.000000  110148.000000    110148.000000  110148.000000   \n",
       "mean    55074.500000      39.249410         0.273205       0.165514   \n",
       "std     31797.133063      11.518063         0.799099       0.371645   \n",
       "min         1.000000      21.000000         0.000000       0.000000   \n",
       "25%     27537.750000      30.000000         0.000000       0.000000   \n",
       "50%     55074.500000      37.000000         0.000000       0.000000   \n",
       "75%     82611.250000      48.000000         0.000000       0.000000   \n",
       "max    110148.000000      72.000000        33.000000       1.000000   \n",
       "\n",
       "           score_bki  bki_request_cnt  region_rating   home_address  \\\n",
       "count  110148.000000    110148.000000  110148.000000  110148.000000   \n",
       "mean       -1.904535         2.005002      56.751189       1.574945   \n",
       "std         0.499397         2.266926      13.065923       0.527562   \n",
       "min        -3.624586         0.000000      20.000000       1.000000   \n",
       "25%        -2.260434         0.000000      50.000000       1.000000   \n",
       "50%        -1.920823         1.000000      50.000000       2.000000   \n",
       "75%        -1.567888         3.000000      60.000000       2.000000   \n",
       "max         0.199773        53.000000      80.000000       3.000000   \n",
       "\n",
       "        work_address          income            sna     first_time  \\\n",
       "count  110148.000000   110148.000000  110148.000000  110148.000000   \n",
       "mean        2.497867    41012.648537       1.731588       2.765570   \n",
       "std         0.687651    45399.735051       1.122652       1.010151   \n",
       "min         1.000000     1000.000000       1.000000       1.000000   \n",
       "25%         2.000000    20000.000000       1.000000       2.000000   \n",
       "50%         3.000000    30000.000000       1.000000       3.000000   \n",
       "75%         3.000000    48000.000000       2.000000       4.000000   \n",
       "max         3.000000  1000000.000000       4.000000       4.000000   \n",
       "\n",
       "            default          Train  \n",
       "count  73799.000000  110148.000000  \n",
       "mean       0.126994       0.669999  \n",
       "std        0.332968       0.470215  \n",
       "min        0.000000       0.000000  \n",
       "25%        0.000000       0.000000  \n",
       "50%        0.000000       1.000000  \n",
       "75%        0.000000       1.000000  \n",
       "max        1.000000       1.000000  "
      ]
     },
     "execution_count": 139,
     "metadata": {},
     "output_type": "execute_result"
    }
   ],
   "source": [
    "df.describe()"
   ]
  },
  {
   "cell_type": "code",
   "execution_count": 140,
   "metadata": {},
   "outputs": [
    {
     "data": {
      "text/html": [
       "<div>\n",
       "<style scoped>\n",
       "    .dataframe tbody tr th:only-of-type {\n",
       "        vertical-align: middle;\n",
       "    }\n",
       "\n",
       "    .dataframe tbody tr th {\n",
       "        vertical-align: top;\n",
       "    }\n",
       "\n",
       "    .dataframe thead th {\n",
       "        text-align: right;\n",
       "    }\n",
       "</style>\n",
       "<table border=\"1\" class=\"dataframe\">\n",
       "  <thead>\n",
       "    <tr style=\"text-align: right;\">\n",
       "      <th></th>\n",
       "      <th>client_id</th>\n",
       "      <th>app_date</th>\n",
       "      <th>education</th>\n",
       "      <th>sex</th>\n",
       "      <th>age</th>\n",
       "      <th>car</th>\n",
       "      <th>car_type</th>\n",
       "      <th>decline_app_cnt</th>\n",
       "      <th>good_work</th>\n",
       "      <th>score_bki</th>\n",
       "      <th>bki_request_cnt</th>\n",
       "      <th>region_rating</th>\n",
       "      <th>home_address</th>\n",
       "      <th>work_address</th>\n",
       "      <th>income</th>\n",
       "      <th>sna</th>\n",
       "      <th>first_time</th>\n",
       "      <th>foreign_passport</th>\n",
       "      <th>default</th>\n",
       "      <th>Train</th>\n",
       "    </tr>\n",
       "  </thead>\n",
       "  <tbody>\n",
       "    <tr>\n",
       "      <th>51466</th>\n",
       "      <td>61322</td>\n",
       "      <td>11MAR2014</td>\n",
       "      <td>SCH</td>\n",
       "      <td>F</td>\n",
       "      <td>31</td>\n",
       "      <td>N</td>\n",
       "      <td>N</td>\n",
       "      <td>0</td>\n",
       "      <td>0</td>\n",
       "      <td>-2.209717</td>\n",
       "      <td>0</td>\n",
       "      <td>40</td>\n",
       "      <td>1</td>\n",
       "      <td>1</td>\n",
       "      <td>15000</td>\n",
       "      <td>1</td>\n",
       "      <td>3</td>\n",
       "      <td>N</td>\n",
       "      <td>0.0</td>\n",
       "      <td>1</td>\n",
       "    </tr>\n",
       "    <tr>\n",
       "      <th>64677</th>\n",
       "      <td>77226</td>\n",
       "      <td>25MAR2014</td>\n",
       "      <td>SCH</td>\n",
       "      <td>F</td>\n",
       "      <td>64</td>\n",
       "      <td>N</td>\n",
       "      <td>N</td>\n",
       "      <td>0</td>\n",
       "      <td>0</td>\n",
       "      <td>-2.367540</td>\n",
       "      <td>0</td>\n",
       "      <td>40</td>\n",
       "      <td>2</td>\n",
       "      <td>3</td>\n",
       "      <td>13000</td>\n",
       "      <td>1</td>\n",
       "      <td>3</td>\n",
       "      <td>N</td>\n",
       "      <td>0.0</td>\n",
       "      <td>1</td>\n",
       "    </tr>\n",
       "    <tr>\n",
       "      <th>11150</th>\n",
       "      <td>19754</td>\n",
       "      <td>27JAN2014</td>\n",
       "      <td>SCH</td>\n",
       "      <td>F</td>\n",
       "      <td>56</td>\n",
       "      <td>N</td>\n",
       "      <td>N</td>\n",
       "      <td>0</td>\n",
       "      <td>0</td>\n",
       "      <td>-1.225467</td>\n",
       "      <td>13</td>\n",
       "      <td>50</td>\n",
       "      <td>2</td>\n",
       "      <td>3</td>\n",
       "      <td>24800</td>\n",
       "      <td>1</td>\n",
       "      <td>1</td>\n",
       "      <td>N</td>\n",
       "      <td>1.0</td>\n",
       "      <td>1</td>\n",
       "    </tr>\n",
       "    <tr>\n",
       "      <th>91215</th>\n",
       "      <td>95657</td>\n",
       "      <td>11APR2014</td>\n",
       "      <td>SCH</td>\n",
       "      <td>F</td>\n",
       "      <td>40</td>\n",
       "      <td>N</td>\n",
       "      <td>N</td>\n",
       "      <td>1</td>\n",
       "      <td>0</td>\n",
       "      <td>-1.923343</td>\n",
       "      <td>0</td>\n",
       "      <td>50</td>\n",
       "      <td>2</td>\n",
       "      <td>3</td>\n",
       "      <td>20000</td>\n",
       "      <td>1</td>\n",
       "      <td>3</td>\n",
       "      <td>N</td>\n",
       "      <td>NaN</td>\n",
       "      <td>0</td>\n",
       "    </tr>\n",
       "    <tr>\n",
       "      <th>80312</th>\n",
       "      <td>65282</td>\n",
       "      <td>14MAR2014</td>\n",
       "      <td>SCH</td>\n",
       "      <td>F</td>\n",
       "      <td>38</td>\n",
       "      <td>Y</td>\n",
       "      <td>N</td>\n",
       "      <td>0</td>\n",
       "      <td>0</td>\n",
       "      <td>-2.253292</td>\n",
       "      <td>1</td>\n",
       "      <td>40</td>\n",
       "      <td>1</td>\n",
       "      <td>2</td>\n",
       "      <td>15000</td>\n",
       "      <td>2</td>\n",
       "      <td>1</td>\n",
       "      <td>Y</td>\n",
       "      <td>NaN</td>\n",
       "      <td>0</td>\n",
       "    </tr>\n",
       "    <tr>\n",
       "      <th>42869</th>\n",
       "      <td>110055</td>\n",
       "      <td>30APR2014</td>\n",
       "      <td>SCH</td>\n",
       "      <td>F</td>\n",
       "      <td>37</td>\n",
       "      <td>N</td>\n",
       "      <td>N</td>\n",
       "      <td>0</td>\n",
       "      <td>0</td>\n",
       "      <td>-1.689313</td>\n",
       "      <td>2</td>\n",
       "      <td>50</td>\n",
       "      <td>2</td>\n",
       "      <td>3</td>\n",
       "      <td>17000</td>\n",
       "      <td>4</td>\n",
       "      <td>3</td>\n",
       "      <td>N</td>\n",
       "      <td>0.0</td>\n",
       "      <td>1</td>\n",
       "    </tr>\n",
       "    <tr>\n",
       "      <th>63793</th>\n",
       "      <td>13164</td>\n",
       "      <td>20JAN2014</td>\n",
       "      <td>UGR</td>\n",
       "      <td>M</td>\n",
       "      <td>24</td>\n",
       "      <td>N</td>\n",
       "      <td>N</td>\n",
       "      <td>0</td>\n",
       "      <td>0</td>\n",
       "      <td>-1.436604</td>\n",
       "      <td>4</td>\n",
       "      <td>70</td>\n",
       "      <td>1</td>\n",
       "      <td>3</td>\n",
       "      <td>39000</td>\n",
       "      <td>1</td>\n",
       "      <td>2</td>\n",
       "      <td>Y</td>\n",
       "      <td>0.0</td>\n",
       "      <td>1</td>\n",
       "    </tr>\n",
       "    <tr>\n",
       "      <th>103258</th>\n",
       "      <td>98040</td>\n",
       "      <td>15APR2014</td>\n",
       "      <td>GRD</td>\n",
       "      <td>F</td>\n",
       "      <td>37</td>\n",
       "      <td>N</td>\n",
       "      <td>N</td>\n",
       "      <td>0</td>\n",
       "      <td>0</td>\n",
       "      <td>-1.852730</td>\n",
       "      <td>4</td>\n",
       "      <td>60</td>\n",
       "      <td>2</td>\n",
       "      <td>3</td>\n",
       "      <td>35000</td>\n",
       "      <td>1</td>\n",
       "      <td>4</td>\n",
       "      <td>N</td>\n",
       "      <td>NaN</td>\n",
       "      <td>0</td>\n",
       "    </tr>\n",
       "    <tr>\n",
       "      <th>59412</th>\n",
       "      <td>88496</td>\n",
       "      <td>04APR2014</td>\n",
       "      <td>SCH</td>\n",
       "      <td>F</td>\n",
       "      <td>41</td>\n",
       "      <td>N</td>\n",
       "      <td>N</td>\n",
       "      <td>0</td>\n",
       "      <td>0</td>\n",
       "      <td>-1.653647</td>\n",
       "      <td>6</td>\n",
       "      <td>60</td>\n",
       "      <td>2</td>\n",
       "      <td>3</td>\n",
       "      <td>20000</td>\n",
       "      <td>1</td>\n",
       "      <td>4</td>\n",
       "      <td>N</td>\n",
       "      <td>0.0</td>\n",
       "      <td>1</td>\n",
       "    </tr>\n",
       "    <tr>\n",
       "      <th>40640</th>\n",
       "      <td>80970</td>\n",
       "      <td>28MAR2014</td>\n",
       "      <td>GRD</td>\n",
       "      <td>M</td>\n",
       "      <td>37</td>\n",
       "      <td>N</td>\n",
       "      <td>N</td>\n",
       "      <td>0</td>\n",
       "      <td>0</td>\n",
       "      <td>-2.433079</td>\n",
       "      <td>2</td>\n",
       "      <td>40</td>\n",
       "      <td>1</td>\n",
       "      <td>1</td>\n",
       "      <td>97000</td>\n",
       "      <td>2</td>\n",
       "      <td>3</td>\n",
       "      <td>Y</td>\n",
       "      <td>0.0</td>\n",
       "      <td>1</td>\n",
       "    </tr>\n",
       "  </tbody>\n",
       "</table>\n",
       "</div>"
      ],
      "text/plain": [
       "        client_id   app_date education sex  age car car_type  decline_app_cnt  \\\n",
       "51466       61322  11MAR2014       SCH   F   31   N        N                0   \n",
       "64677       77226  25MAR2014       SCH   F   64   N        N                0   \n",
       "11150       19754  27JAN2014       SCH   F   56   N        N                0   \n",
       "91215       95657  11APR2014       SCH   F   40   N        N                1   \n",
       "80312       65282  14MAR2014       SCH   F   38   Y        N                0   \n",
       "42869      110055  30APR2014       SCH   F   37   N        N                0   \n",
       "63793       13164  20JAN2014       UGR   M   24   N        N                0   \n",
       "103258      98040  15APR2014       GRD   F   37   N        N                0   \n",
       "59412       88496  04APR2014       SCH   F   41   N        N                0   \n",
       "40640       80970  28MAR2014       GRD   M   37   N        N                0   \n",
       "\n",
       "        good_work  score_bki  bki_request_cnt  region_rating  home_address  \\\n",
       "51466           0  -2.209717                0             40             1   \n",
       "64677           0  -2.367540                0             40             2   \n",
       "11150           0  -1.225467               13             50             2   \n",
       "91215           0  -1.923343                0             50             2   \n",
       "80312           0  -2.253292                1             40             1   \n",
       "42869           0  -1.689313                2             50             2   \n",
       "63793           0  -1.436604                4             70             1   \n",
       "103258          0  -1.852730                4             60             2   \n",
       "59412           0  -1.653647                6             60             2   \n",
       "40640           0  -2.433079                2             40             1   \n",
       "\n",
       "        work_address  income  sna  first_time foreign_passport  default  Train  \n",
       "51466              1   15000    1           3                N      0.0      1  \n",
       "64677              3   13000    1           3                N      0.0      1  \n",
       "11150              3   24800    1           1                N      1.0      1  \n",
       "91215              3   20000    1           3                N      NaN      0  \n",
       "80312              2   15000    2           1                Y      NaN      0  \n",
       "42869              3   17000    4           3                N      0.0      1  \n",
       "63793              3   39000    1           2                Y      0.0      1  \n",
       "103258             3   35000    1           4                N      NaN      0  \n",
       "59412              3   20000    1           4                N      0.0      1  \n",
       "40640              1   97000    2           3                Y      0.0      1  "
      ]
     },
     "execution_count": 140,
     "metadata": {},
     "output_type": "execute_result"
    }
   ],
   "source": [
    "df.sample(10)"
   ]
  },
  {
   "cell_type": "code",
   "execution_count": 141,
   "metadata": {},
   "outputs": [
    {
     "data": {
      "text/plain": [
       "client_id            0.00\n",
       "app_date             0.00\n",
       "education            0.43\n",
       "sex                  0.00\n",
       "age                  0.00\n",
       "car                  0.00\n",
       "car_type             0.00\n",
       "decline_app_cnt      0.00\n",
       "good_work            0.00\n",
       "score_bki            0.00\n",
       "bki_request_cnt      0.00\n",
       "region_rating        0.00\n",
       "home_address         0.00\n",
       "work_address         0.00\n",
       "income               0.00\n",
       "sna                  0.00\n",
       "first_time           0.00\n",
       "foreign_passport     0.00\n",
       "default             33.00\n",
       "Train                0.00\n",
       "dtype: float64"
      ]
     },
     "execution_count": 141,
     "metadata": {},
     "output_type": "execute_result"
    }
   ],
   "source": [
    "df.isna().mean().round(4)*100"
   ]
  },
  {
   "cell_type": "code",
   "execution_count": 142,
   "metadata": {},
   "outputs": [
    {
     "data": {
      "text/plain": [
       "client_id           110148\n",
       "app_date               120\n",
       "education                5\n",
       "sex                      2\n",
       "age                     52\n",
       "car                      2\n",
       "car_type                 2\n",
       "decline_app_cnt         24\n",
       "good_work                2\n",
       "score_bki           102618\n",
       "bki_request_cnt         40\n",
       "region_rating            7\n",
       "home_address             3\n",
       "work_address             3\n",
       "income                1207\n",
       "sna                      4\n",
       "first_time               4\n",
       "foreign_passport         2\n",
       "default                  2\n",
       "Train                    2\n",
       "dtype: int64"
      ]
     },
     "execution_count": 142,
     "metadata": {},
     "output_type": "execute_result"
    }
   ],
   "source": [
    "df.nunique()"
   ]
  },
  {
   "attachments": {},
   "cell_type": "markdown",
   "metadata": {},
   "source": [
    "Резюме по предварительному анализу: Всего есть 110148 записи. 20 переменных, из них 1 - дата, 6 бинарных, 6 категориальных и 7 числовых. Всего пропусков 0.43% в education и 33% - в default (по понятным причинам - в test default вообще не было). client_id уникальный числовой признак, который для нашей модели пользы не несет. В бинарных признаках целевая переменная default и искуственно добавленный признак тренировочной части датасета Train\n",
    "\n",
    "Описания полей датасета\n",
    "\n",
    "<br>client_id - идентификатор клиента\n",
    "<br>app_date - дата подачи заявки\n",
    "<br>education - уровень образования\n",
    "<br>sex - пол заемщика\n",
    "<br>age - возраст заемщика\n",
    "<br>car - флаг наличия автомобиля\n",
    "<br>car_type - флаг автомобиля иномарки\n",
    "<br>decline_app_cnt - количество отказанных прошлых заявок\n",
    "<br>good_work - флаг наличия “хорошей” работы\n",
    "<br>score_bki - скоринговый балл по данным из БКИ\n",
    "<br>bki_request_cnt - количество запросов в БКИ\n",
    "<br>region_rating - рейтинг региона\n",
    "<br>home_address - категоризатор домашнего адреса\n",
    "<br>work_address - категоризатор рабочего адреса\n",
    "<br>income - доход заемщика\n",
    "<br>sna - связь заемщика с клиентами банка\n",
    "<br>first_time - давность наличия информации о заемщике\n",
    "<br>foreign_passport - наличие загранпаспорта\n",
    "<br>default - флаг дефолта по кредиту\n",
    "<br>Train - флаг типа данных (обучающие или тестовые)"
   ]
  },
  {
   "cell_type": "code",
   "execution_count": 388,
   "metadata": {},
   "outputs": [],
   "source": [
    "# внесем данные из резюме в списки \n",
    "# бинарные переменные (default, Train не включаем в список) \n",
    "bin_cols = ['sex', 'car', 'car_type', 'good_work', 'foreign_passport']\n",
    "# категориальные переменные\n",
    "cat_cols = ['education', 'region_rating', 'home_address', 'work_address', 'sna', 'first_time']\n",
    "# числовые переменные, client_id исключили из списка\n",
    "num_cols = ['age','decline_app_cnt','score_bki','bki_request_cnt','income']\n",
    "# client_id не включаем в списки"
   ]
  },
  {
   "cell_type": "markdown",
   "metadata": {},
   "source": [
    "# Feature Engineering"
   ]
  },
  {
   "cell_type": "markdown",
   "metadata": {},
   "source": [
    "## app_date"
   ]
  },
  {
   "cell_type": "code",
   "execution_count": 144,
   "metadata": {},
   "outputs": [
    {
     "data": {
      "text/plain": [
       "0         01FEB2014\n",
       "1         12MAR2014\n",
       "2         01FEB2014\n",
       "3         23JAN2014\n",
       "4         18APR2014\n",
       "            ...    \n",
       "110143    31MAR2014\n",
       "110144    25APR2014\n",
       "110145    30MAR2014\n",
       "110146    07JAN2014\n",
       "110147    17MAR2014\n",
       "Name: app_date, Length: 110148, dtype: object"
      ]
     },
     "execution_count": 144,
     "metadata": {},
     "output_type": "execute_result"
    }
   ],
   "source": [
    "#посмотрим на данные в признаке\n",
    "df.app_date"
   ]
  },
  {
   "cell_type": "markdown",
   "metadata": {},
   "source": [
    "очень неудобный формат даты, необходимо преобразовать"
   ]
  },
  {
   "cell_type": "code",
   "execution_count": 389,
   "metadata": {},
   "outputs": [
    {
     "data": {
      "text/plain": [
       "count                  110148\n",
       "unique                    120\n",
       "top       2014-03-18 00:00:00\n",
       "freq                     1491\n",
       "first     2014-01-01 00:00:00\n",
       "last      2014-04-30 00:00:00\n",
       "Name: app_date, dtype: object"
      ]
     },
     "execution_count": 389,
     "metadata": {},
     "output_type": "execute_result"
    }
   ],
   "source": [
    "df.app_date = pd.to_datetime(df.app_date, format='%d%b%Y')\n",
    "df.app_date.describe()"
   ]
  },
  {
   "cell_type": "markdown",
   "metadata": {},
   "source": [
    "получили дату, из результатов изучения параметра выше вижу, что самая ранняя дата 01.01.2014, самая поздняя - 30.04.2014, чаще всего (около 1% случаев) встречается дата 18.03.2014. Исходя из этого, введу 3 новых параметра:\n",
    "1) количество дней от 01.01.2014 (числовой параметр);\n",
    "2) месяц (категориальный);\n",
    "3) был ли день выходным или нет (бинарный).\n",
    "\n",
    "Исходный параметр app_date удалю, т.к. модель будет работать только с числовыми параметрами."
   ]
  },
  {
   "cell_type": "code",
   "execution_count": 390,
   "metadata": {},
   "outputs": [],
   "source": [
    "df['num_of_days'] = (df['app_date'] - min(df['app_date'])).dt.days.astype('int')\n",
    "df['month'] =pd.Series([x.month for x in df['app_date']])\n",
    "df['weekend'] = pd.Series([(x.weekday() // 5) for x in df['app_date']])\n",
    "df.drop(columns=['app_date'],inplace=True)"
   ]
  },
  {
   "cell_type": "code",
   "execution_count": 391,
   "metadata": {},
   "outputs": [
    {
     "name": "stdout",
     "output_type": "stream",
     "text": [
      "num_cols = ['age', 'decline_app_cnt', 'score_bki', 'bki_request_cnt', 'income', 'num_of_days']\n",
      "\n",
      "cat_cols=['education', 'region_rating', 'home_address', 'work_address', 'sna', 'first_time', 'month']\n",
      "\n",
      "bin_cols=['sex', 'car', 'car_type', 'good_work', 'foreign_passport', 'weekend']\n"
     ]
    }
   ],
   "source": [
    "num_cols.append('num_of_days')\n",
    "cat_cols.append('month')\n",
    "bin_cols.append('weekend')\n",
    "print('num_cols = {}\\n\\ncat_cols={}\\n\\nbin_cols={}'.format(num_cols,cat_cols,bin_cols))"
   ]
  },
  {
   "cell_type": "code",
   "execution_count": 148,
   "metadata": {},
   "outputs": [
    {
     "data": {
      "text/html": [
       "<div>\n",
       "<style scoped>\n",
       "    .dataframe tbody tr th:only-of-type {\n",
       "        vertical-align: middle;\n",
       "    }\n",
       "\n",
       "    .dataframe tbody tr th {\n",
       "        vertical-align: top;\n",
       "    }\n",
       "\n",
       "    .dataframe thead th {\n",
       "        text-align: right;\n",
       "    }\n",
       "</style>\n",
       "<table border=\"1\" class=\"dataframe\">\n",
       "  <thead>\n",
       "    <tr style=\"text-align: right;\">\n",
       "      <th></th>\n",
       "      <th>client_id</th>\n",
       "      <th>education</th>\n",
       "      <th>sex</th>\n",
       "      <th>age</th>\n",
       "      <th>car</th>\n",
       "      <th>car_type</th>\n",
       "      <th>decline_app_cnt</th>\n",
       "      <th>good_work</th>\n",
       "      <th>score_bki</th>\n",
       "      <th>bki_request_cnt</th>\n",
       "      <th>...</th>\n",
       "      <th>work_address</th>\n",
       "      <th>income</th>\n",
       "      <th>sna</th>\n",
       "      <th>first_time</th>\n",
       "      <th>foreign_passport</th>\n",
       "      <th>default</th>\n",
       "      <th>Train</th>\n",
       "      <th>num_of_days</th>\n",
       "      <th>month</th>\n",
       "      <th>weekend</th>\n",
       "    </tr>\n",
       "  </thead>\n",
       "  <tbody>\n",
       "    <tr>\n",
       "      <th>90894</th>\n",
       "      <td>72706</td>\n",
       "      <td>SCH</td>\n",
       "      <td>F</td>\n",
       "      <td>59</td>\n",
       "      <td>N</td>\n",
       "      <td>N</td>\n",
       "      <td>0</td>\n",
       "      <td>0</td>\n",
       "      <td>-2.162607</td>\n",
       "      <td>1</td>\n",
       "      <td>...</td>\n",
       "      <td>3</td>\n",
       "      <td>7000</td>\n",
       "      <td>1</td>\n",
       "      <td>3</td>\n",
       "      <td>N</td>\n",
       "      <td>NaN</td>\n",
       "      <td>0</td>\n",
       "      <td>78</td>\n",
       "      <td>3</td>\n",
       "      <td>0</td>\n",
       "    </tr>\n",
       "    <tr>\n",
       "      <th>99098</th>\n",
       "      <td>60456</td>\n",
       "      <td>SCH</td>\n",
       "      <td>M</td>\n",
       "      <td>23</td>\n",
       "      <td>N</td>\n",
       "      <td>N</td>\n",
       "      <td>0</td>\n",
       "      <td>0</td>\n",
       "      <td>-1.891783</td>\n",
       "      <td>0</td>\n",
       "      <td>...</td>\n",
       "      <td>3</td>\n",
       "      <td>30000</td>\n",
       "      <td>1</td>\n",
       "      <td>2</td>\n",
       "      <td>N</td>\n",
       "      <td>NaN</td>\n",
       "      <td>0</td>\n",
       "      <td>67</td>\n",
       "      <td>3</td>\n",
       "      <td>1</td>\n",
       "    </tr>\n",
       "    <tr>\n",
       "      <th>42084</th>\n",
       "      <td>87210</td>\n",
       "      <td>SCH</td>\n",
       "      <td>F</td>\n",
       "      <td>21</td>\n",
       "      <td>N</td>\n",
       "      <td>N</td>\n",
       "      <td>0</td>\n",
       "      <td>0</td>\n",
       "      <td>-1.343521</td>\n",
       "      <td>1</td>\n",
       "      <td>...</td>\n",
       "      <td>3</td>\n",
       "      <td>18000</td>\n",
       "      <td>2</td>\n",
       "      <td>1</td>\n",
       "      <td>N</td>\n",
       "      <td>0.0</td>\n",
       "      <td>1</td>\n",
       "      <td>92</td>\n",
       "      <td>4</td>\n",
       "      <td>0</td>\n",
       "    </tr>\n",
       "    <tr>\n",
       "      <th>88008</th>\n",
       "      <td>54</td>\n",
       "      <td>UGR</td>\n",
       "      <td>F</td>\n",
       "      <td>43</td>\n",
       "      <td>N</td>\n",
       "      <td>N</td>\n",
       "      <td>0</td>\n",
       "      <td>0</td>\n",
       "      <td>-1.569637</td>\n",
       "      <td>0</td>\n",
       "      <td>...</td>\n",
       "      <td>3</td>\n",
       "      <td>30000</td>\n",
       "      <td>2</td>\n",
       "      <td>3</td>\n",
       "      <td>N</td>\n",
       "      <td>NaN</td>\n",
       "      <td>0</td>\n",
       "      <td>0</td>\n",
       "      <td>1</td>\n",
       "      <td>0</td>\n",
       "    </tr>\n",
       "    <tr>\n",
       "      <th>46966</th>\n",
       "      <td>66557</td>\n",
       "      <td>SCH</td>\n",
       "      <td>F</td>\n",
       "      <td>56</td>\n",
       "      <td>N</td>\n",
       "      <td>N</td>\n",
       "      <td>0</td>\n",
       "      <td>0</td>\n",
       "      <td>-1.750576</td>\n",
       "      <td>1</td>\n",
       "      <td>...</td>\n",
       "      <td>3</td>\n",
       "      <td>8300</td>\n",
       "      <td>3</td>\n",
       "      <td>2</td>\n",
       "      <td>N</td>\n",
       "      <td>0.0</td>\n",
       "      <td>1</td>\n",
       "      <td>73</td>\n",
       "      <td>3</td>\n",
       "      <td>1</td>\n",
       "    </tr>\n",
       "    <tr>\n",
       "      <th>77221</th>\n",
       "      <td>102955</td>\n",
       "      <td>SCH</td>\n",
       "      <td>F</td>\n",
       "      <td>62</td>\n",
       "      <td>N</td>\n",
       "      <td>N</td>\n",
       "      <td>0</td>\n",
       "      <td>0</td>\n",
       "      <td>-2.086588</td>\n",
       "      <td>1</td>\n",
       "      <td>...</td>\n",
       "      <td>2</td>\n",
       "      <td>5800</td>\n",
       "      <td>1</td>\n",
       "      <td>1</td>\n",
       "      <td>N</td>\n",
       "      <td>NaN</td>\n",
       "      <td>0</td>\n",
       "      <td>110</td>\n",
       "      <td>4</td>\n",
       "      <td>0</td>\n",
       "    </tr>\n",
       "    <tr>\n",
       "      <th>42730</th>\n",
       "      <td>82932</td>\n",
       "      <td>GRD</td>\n",
       "      <td>F</td>\n",
       "      <td>62</td>\n",
       "      <td>N</td>\n",
       "      <td>N</td>\n",
       "      <td>0</td>\n",
       "      <td>0</td>\n",
       "      <td>-1.466314</td>\n",
       "      <td>0</td>\n",
       "      <td>...</td>\n",
       "      <td>1</td>\n",
       "      <td>33000</td>\n",
       "      <td>1</td>\n",
       "      <td>4</td>\n",
       "      <td>N</td>\n",
       "      <td>0.0</td>\n",
       "      <td>1</td>\n",
       "      <td>89</td>\n",
       "      <td>3</td>\n",
       "      <td>0</td>\n",
       "    </tr>\n",
       "    <tr>\n",
       "      <th>2538</th>\n",
       "      <td>55465</td>\n",
       "      <td>SCH</td>\n",
       "      <td>F</td>\n",
       "      <td>62</td>\n",
       "      <td>N</td>\n",
       "      <td>N</td>\n",
       "      <td>0</td>\n",
       "      <td>0</td>\n",
       "      <td>-1.361101</td>\n",
       "      <td>0</td>\n",
       "      <td>...</td>\n",
       "      <td>3</td>\n",
       "      <td>10000</td>\n",
       "      <td>1</td>\n",
       "      <td>3</td>\n",
       "      <td>N</td>\n",
       "      <td>0.0</td>\n",
       "      <td>1</td>\n",
       "      <td>62</td>\n",
       "      <td>3</td>\n",
       "      <td>0</td>\n",
       "    </tr>\n",
       "    <tr>\n",
       "      <th>31065</th>\n",
       "      <td>35317</td>\n",
       "      <td>SCH</td>\n",
       "      <td>F</td>\n",
       "      <td>64</td>\n",
       "      <td>N</td>\n",
       "      <td>N</td>\n",
       "      <td>0</td>\n",
       "      <td>0</td>\n",
       "      <td>-2.388127</td>\n",
       "      <td>2</td>\n",
       "      <td>...</td>\n",
       "      <td>3</td>\n",
       "      <td>23870</td>\n",
       "      <td>3</td>\n",
       "      <td>2</td>\n",
       "      <td>N</td>\n",
       "      <td>1.0</td>\n",
       "      <td>1</td>\n",
       "      <td>41</td>\n",
       "      <td>2</td>\n",
       "      <td>0</td>\n",
       "    </tr>\n",
       "    <tr>\n",
       "      <th>2498</th>\n",
       "      <td>6438</td>\n",
       "      <td>UGR</td>\n",
       "      <td>F</td>\n",
       "      <td>23</td>\n",
       "      <td>N</td>\n",
       "      <td>N</td>\n",
       "      <td>0</td>\n",
       "      <td>0</td>\n",
       "      <td>-2.517739</td>\n",
       "      <td>2</td>\n",
       "      <td>...</td>\n",
       "      <td>2</td>\n",
       "      <td>15000</td>\n",
       "      <td>1</td>\n",
       "      <td>3</td>\n",
       "      <td>N</td>\n",
       "      <td>0.0</td>\n",
       "      <td>1</td>\n",
       "      <td>12</td>\n",
       "      <td>1</td>\n",
       "      <td>0</td>\n",
       "    </tr>\n",
       "  </tbody>\n",
       "</table>\n",
       "<p>10 rows × 22 columns</p>\n",
       "</div>"
      ],
      "text/plain": [
       "       client_id education sex  age car car_type  decline_app_cnt  good_work  \\\n",
       "90894      72706       SCH   F   59   N        N                0          0   \n",
       "99098      60456       SCH   M   23   N        N                0          0   \n",
       "42084      87210       SCH   F   21   N        N                0          0   \n",
       "88008         54       UGR   F   43   N        N                0          0   \n",
       "46966      66557       SCH   F   56   N        N                0          0   \n",
       "77221     102955       SCH   F   62   N        N                0          0   \n",
       "42730      82932       GRD   F   62   N        N                0          0   \n",
       "2538       55465       SCH   F   62   N        N                0          0   \n",
       "31065      35317       SCH   F   64   N        N                0          0   \n",
       "2498        6438       UGR   F   23   N        N                0          0   \n",
       "\n",
       "       score_bki  bki_request_cnt  ...  work_address  income  sna  first_time  \\\n",
       "90894  -2.162607                1  ...             3    7000    1           3   \n",
       "99098  -1.891783                0  ...             3   30000    1           2   \n",
       "42084  -1.343521                1  ...             3   18000    2           1   \n",
       "88008  -1.569637                0  ...             3   30000    2           3   \n",
       "46966  -1.750576                1  ...             3    8300    3           2   \n",
       "77221  -2.086588                1  ...             2    5800    1           1   \n",
       "42730  -1.466314                0  ...             1   33000    1           4   \n",
       "2538   -1.361101                0  ...             3   10000    1           3   \n",
       "31065  -2.388127                2  ...             3   23870    3           2   \n",
       "2498   -2.517739                2  ...             2   15000    1           3   \n",
       "\n",
       "       foreign_passport  default Train  num_of_days  month  weekend  \n",
       "90894                 N      NaN     0           78      3        0  \n",
       "99098                 N      NaN     0           67      3        1  \n",
       "42084                 N      0.0     1           92      4        0  \n",
       "88008                 N      NaN     0            0      1        0  \n",
       "46966                 N      0.0     1           73      3        1  \n",
       "77221                 N      NaN     0          110      4        0  \n",
       "42730                 N      0.0     1           89      3        0  \n",
       "2538                  N      0.0     1           62      3        0  \n",
       "31065                 N      1.0     1           41      2        0  \n",
       "2498                  N      0.0     1           12      1        0  \n",
       "\n",
       "[10 rows x 22 columns]"
      ]
     },
     "execution_count": 148,
     "metadata": {},
     "output_type": "execute_result"
    }
   ],
   "source": [
    "df.sample(10)"
   ]
  },
  {
   "cell_type": "markdown",
   "metadata": {},
   "source": [
    "Изучим новый параметр num_of_days"
   ]
  },
  {
   "cell_type": "code",
   "execution_count": 149,
   "metadata": {},
   "outputs": [
    {
     "name": "stdout",
     "output_type": "stream",
     "text": [
      "Столбец num_of_days\n",
      "Распределение признака:\n"
     ]
    },
    {
     "data": {
      "text/plain": [
       "count    110148.000000\n",
       "mean         60.971466\n",
       "std          32.076078\n",
       "min           0.000000\n",
       "25%          33.000000\n",
       "50%          62.000000\n",
       "75%          89.000000\n",
       "max         119.000000\n",
       "Name: num_of_days, dtype: float64"
      ]
     },
     "metadata": {},
     "output_type": "display_data"
    },
    {
     "name": "stdout",
     "output_type": "stream",
     "text": [
      "нижняя квартильная граница: -51.0\n",
      "верхняя квартильная граница: 173.0\n",
      "кол-во записей за нижней квартильной границей: 0\n",
      "относительное кол-во записей за нижней квартильной границей: 0.0\n",
      "кол-во записей за верхней квартильной границей: 0\n",
      "относительное кол-во записей за верхней квартильной границей: 0.0\n"
     ]
    },
    {
     "data": {
      "image/png": "[encoded data removed]",
      "text/plain": [
       "<Figure size 432x288 with 1 Axes>"
      ]
     },
     "metadata": {
      "needs_background": "light"
     },
     "output_type": "display_data"
    },
    {
     "data": {
      "image/png": "[encoded data removed]",
      "text/plain": [
       "<Figure size 432x288 with 1 Axes>"
      ]
     },
     "metadata": {
      "needs_background": "light"
     },
     "output_type": "display_data"
    }
   ],
   "source": [
    "first_look(df,'num_of_days')"
   ]
  },
  {
   "cell_type": "raw",
   "metadata": {},
   "source": [
    "как видим, распределение похоже на нормальное. Выбросов нет."
   ]
  },
  {
   "cell_type": "markdown",
   "metadata": {},
   "source": [
    "Изучим остальные числовые параметры:\n"
   ]
  },
  {
   "cell_type": "code",
   "execution_count": 150,
   "metadata": {},
   "outputs": [
    {
     "name": "stdout",
     "output_type": "stream",
     "text": [
      "Столбец age\n",
      "Распределение признака:\n"
     ]
    },
    {
     "data": {
      "text/plain": [
       "count    110148.000000\n",
       "mean         39.249410\n",
       "std          11.518063\n",
       "min          21.000000\n",
       "25%          30.000000\n",
       "50%          37.000000\n",
       "75%          48.000000\n",
       "max          72.000000\n",
       "Name: age, dtype: float64"
      ]
     },
     "metadata": {},
     "output_type": "display_data"
    },
    {
     "name": "stdout",
     "output_type": "stream",
     "text": [
      "нижняя квартильная граница: 3.0\n",
      "верхняя квартильная граница: 75.0\n",
      "кол-во записей за нижней квартильной границей: 0\n",
      "относительное кол-во записей за нижней квартильной границей: 0.0\n",
      "кол-во записей за верхней квартильной границей: 0\n",
      "относительное кол-во записей за верхней квартильной границей: 0.0\n"
     ]
    },
    {
     "data": {
      "image/png": "[encoded data removed]",
      "text/plain": [
       "<Figure size 432x288 with 1 Axes>"
      ]
     },
     "metadata": {
      "needs_background": "light"
     },
     "output_type": "display_data"
    },
    {
     "data": {
      "image/png": "[encoded data removed]",
      "text/plain": [
       "<Figure size 432x288 with 1 Axes>"
      ]
     },
     "metadata": {
      "needs_background": "light"
     },
     "output_type": "display_data"
    },
    {
     "name": "stdout",
     "output_type": "stream",
     "text": [
      "Столбец decline_app_cnt\n",
      "Распределение признака:\n"
     ]
    },
    {
     "data": {
      "text/plain": [
       "count    110148.000000\n",
       "mean          0.273205\n",
       "std           0.799099\n",
       "min           0.000000\n",
       "25%           0.000000\n",
       "50%           0.000000\n",
       "75%           0.000000\n",
       "max          33.000000\n",
       "Name: decline_app_cnt, dtype: float64"
      ]
     },
     "metadata": {},
     "output_type": "display_data"
    },
    {
     "name": "stdout",
     "output_type": "stream",
     "text": [
      "нижняя квартильная граница: 0.0\n",
      "верхняя квартильная граница: 0.0\n",
      "кол-во записей за нижней квартильной границей: 0\n",
      "относительное кол-во записей за нижней квартильной границей: 0.0\n",
      "кол-во записей за верхней квартильной границей: 18677\n",
      "относительное кол-во записей за верхней квартильной границей: 0.17\n"
     ]
    },
    {
     "data": {
      "image/png": "[encoded data removed]",
      "text/plain": [
       "<Figure size 432x288 with 1 Axes>"
      ]
     },
     "metadata": {
      "needs_background": "light"
     },
     "output_type": "display_data"
    },
    {
     "data": {
      "image/png": "[encoded data removed]",
      "text/plain": [
       "<Figure size 432x288 with 1 Axes>"
      ]
     },
     "metadata": {
      "needs_background": "light"
     },
     "output_type": "display_data"
    },
    {
     "name": "stdout",
     "output_type": "stream",
     "text": [
      "Столбец score_bki\n",
      "Распределение признака:\n"
     ]
    },
    {
     "data": {
      "text/plain": [
       "count    110148.000000\n",
       "mean         -1.904535\n",
       "std           0.499397\n",
       "min          -3.624586\n",
       "25%          -2.260434\n",
       "50%          -1.920823\n",
       "75%          -1.567888\n",
       "max           0.199773\n",
       "Name: score_bki, dtype: float64"
      ]
     },
     "metadata": {},
     "output_type": "display_data"
    },
    {
     "name": "stdout",
     "output_type": "stream",
     "text": [
      "нижняя квартильная граница: -3.299251946250001\n",
      "верхняя квартильная граница: -0.5290698762499992\n",
      "кол-во записей за нижней квартильной границей: 82\n",
      "относительное кол-во записей за нижней квартильной границей: 0.0\n",
      "кол-во записей за верхней квартильной границей: 436\n",
      "относительное кол-во записей за верхней квартильной границей: 0.0\n"
     ]
    },
    {
     "data": {
      "image/png": "[encoded data removed]",
      "text/plain": [
       "<Figure size 432x288 with 1 Axes>"
      ]
     },
     "metadata": {
      "needs_background": "light"
     },
     "output_type": "display_data"
    },
    {
     "data": {
      "image/png": "[encoded data removed]",
      "text/plain": [
       "<Figure size 432x288 with 1 Axes>"
      ]
     },
     "metadata": {
      "needs_background": "light"
     },
     "output_type": "display_data"
    },
    {
     "name": "stdout",
     "output_type": "stream",
     "text": [
      "Столбец bki_request_cnt\n",
      "Распределение признака:\n"
     ]
    },
    {
     "data": {
      "text/plain": [
       "count    110148.000000\n",
       "mean          2.005002\n",
       "std           2.266926\n",
       "min           0.000000\n",
       "25%           0.000000\n",
       "50%           1.000000\n",
       "75%           3.000000\n",
       "max          53.000000\n",
       "Name: bki_request_cnt, dtype: float64"
      ]
     },
     "metadata": {},
     "output_type": "display_data"
    },
    {
     "name": "stdout",
     "output_type": "stream",
     "text": [
      "нижняя квартильная граница: -4.5\n",
      "верхняя квартильная граница: 7.5\n",
      "кол-во записей за нижней квартильной границей: 0\n",
      "относительное кол-во записей за нижней квартильной границей: 0.0\n",
      "кол-во записей за верхней квартильной границей: 2636\n",
      "относительное кол-во записей за верхней квартильной границей: 0.02\n"
     ]
    },
    {
     "data": {
      "image/png": "[encoded data removed]",
      "text/plain": [
       "<Figure size 432x288 with 1 Axes>"
      ]
     },
     "metadata": {
      "needs_background": "light"
     },
     "output_type": "display_data"
    },
    {
     "data": {
      "image/png": "[encoded data removed]",
      "text/plain": [
       "<Figure size 432x288 with 1 Axes>"
      ]
     },
     "metadata": {
      "needs_background": "light"
     },
     "output_type": "display_data"
    },
    {
     "name": "stdout",
     "output_type": "stream",
     "text": [
      "Столбец income\n",
      "Распределение признака:\n"
     ]
    },
    {
     "data": {
      "text/plain": [
       "count     110148.000000\n",
       "mean       41012.648537\n",
       "std        45399.735051\n",
       "min         1000.000000\n",
       "25%        20000.000000\n",
       "50%        30000.000000\n",
       "75%        48000.000000\n",
       "max      1000000.000000\n",
       "Name: income, dtype: float64"
      ]
     },
     "metadata": {},
     "output_type": "display_data"
    },
    {
     "name": "stdout",
     "output_type": "stream",
     "text": [
      "нижняя квартильная граница: -22000.0\n",
      "верхняя квартильная граница: 90000.0\n",
      "кол-во записей за нижней квартильной границей: 0\n",
      "относительное кол-во записей за нижней квартильной границей: 0.0\n",
      "кол-во записей за верхней квартильной границей: 7000\n",
      "относительное кол-во записей за верхней квартильной границей: 0.06\n"
     ]
    },
    {
     "data": {
      "image/png": "[encoded data removed]",
      "text/plain": [
       "<Figure size 432x288 with 1 Axes>"
      ]
     },
     "metadata": {
      "needs_background": "light"
     },
     "output_type": "display_data"
    },
    {
     "data": {
      "image/png": "[encoded data removed]",
      "text/plain": [
       "<Figure size 432x288 with 1 Axes>"
      ]
     },
     "metadata": {
      "needs_background": "light"
     },
     "output_type": "display_data"
    },
    {
     "name": "stdout",
     "output_type": "stream",
     "text": [
      "Столбец num_of_days\n",
      "Распределение признака:\n"
     ]
    },
    {
     "data": {
      "text/plain": [
       "count    110148.000000\n",
       "mean         60.971466\n",
       "std          32.076078\n",
       "min           0.000000\n",
       "25%          33.000000\n",
       "50%          62.000000\n",
       "75%          89.000000\n",
       "max         119.000000\n",
       "Name: num_of_days, dtype: float64"
      ]
     },
     "metadata": {},
     "output_type": "display_data"
    },
    {
     "name": "stdout",
     "output_type": "stream",
     "text": [
      "нижняя квартильная граница: -51.0\n",
      "верхняя квартильная граница: 173.0\n",
      "кол-во записей за нижней квартильной границей: 0\n",
      "относительное кол-во записей за нижней квартильной границей: 0.0\n",
      "кол-во записей за верхней квартильной границей: 0\n",
      "относительное кол-во записей за верхней квартильной границей: 0.0\n"
     ]
    },
    {
     "data": {
      "image/png": "[encoded data removed]",
      "text/plain": [
       "<Figure size 432x288 with 1 Axes>"
      ]
     },
     "metadata": {
      "needs_background": "light"
     },
     "output_type": "display_data"
    },
    {
     "data": {
      "image/png": "[encoded data removed]",
      "text/plain": [
       "<Figure size 432x288 with 1 Axes>"
      ]
     },
     "metadata": {
      "needs_background": "light"
     },
     "output_type": "display_data"
    }
   ],
   "source": [
    "for i in num_cols:\n",
    "    first_look(df,i)"
   ]
  },
  {
   "cell_type": "markdown",
   "metadata": {},
   "source": [
    "как видно из исследования выше, самое неравномерное распределение значений у параметров:\n",
    "1) decline_app_cnt;\n",
    "2) bki_request_cnt;\n",
    "3) income;\n",
    "\n",
    "количество выбросов суммарно по параметрам составляет до 25% от данных. Слишком много данных удалять из выборки.\n",
    "При этом практически незаметно относительное число выбросов для параметра score_bki:\n",
    "\n",
    "нижняя квартильная граница: -3.2992846612499998\n",
    "верхняя квартильная граница: -0.5286943912500002\n",
    "кол-во записей за нижней квартильной границей: 81\n",
    "относительное кол-во записей за нижней квартильной границей: 0.0\n",
    "кол-во записей за верхней квартильной границей: 434\n",
    "относительное кол-во записей за верхней квартильной границей: 0.0\n",
    "\n",
    "=> можно, по-крайней мере, безболезненно почистить признак score_bki"
   ]
  },
  {
   "cell_type": "code",
   "execution_count": 392,
   "metadata": {},
   "outputs": [],
   "source": [
    "df = df[(df['score_bki'] >= -3.30) & (df['score_bki'] <= -0.53)]"
   ]
  },
  {
   "cell_type": "code",
   "execution_count": 152,
   "metadata": {},
   "outputs": [
    {
     "name": "stdout",
     "output_type": "stream",
     "text": [
      "Столбец age\n",
      "Распределение признака:\n"
     ]
    },
    {
     "data": {
      "text/plain": [
       "count    109631.000000\n",
       "mean         39.247996\n",
       "std          11.518253\n",
       "min          21.000000\n",
       "25%          30.000000\n",
       "50%          37.000000\n",
       "75%          48.000000\n",
       "max          72.000000\n",
       "Name: age, dtype: float64"
      ]
     },
     "metadata": {},
     "output_type": "display_data"
    },
    {
     "name": "stdout",
     "output_type": "stream",
     "text": [
      "нижняя квартильная граница: 3.0\n",
      "верхняя квартильная граница: 75.0\n",
      "кол-во записей за нижней квартильной границей: 0\n",
      "относительное кол-во записей за нижней квартильной границей: 0.0\n",
      "кол-во записей за верхней квартильной границей: 0\n",
      "относительное кол-во записей за верхней квартильной границей: 0.0\n"
     ]
    },
    {
     "data": {
      "image/png": "[encoded data removed]",
      "text/plain": [
       "<Figure size 432x288 with 1 Axes>"
      ]
     },
     "metadata": {
      "needs_background": "light"
     },
     "output_type": "display_data"
    },
    {
     "data": {
      "image/png": "[encoded data removed]",
      "text/plain": [
       "<Figure size 432x288 with 1 Axes>"
      ]
     },
     "metadata": {
      "needs_background": "light"
     },
     "output_type": "display_data"
    },
    {
     "name": "stdout",
     "output_type": "stream",
     "text": [
      "Столбец decline_app_cnt\n",
      "Распределение признака:\n"
     ]
    },
    {
     "data": {
      "text/plain": [
       "count    109631.000000\n",
       "mean          0.270909\n",
       "std           0.793962\n",
       "min           0.000000\n",
       "25%           0.000000\n",
       "50%           0.000000\n",
       "75%           0.000000\n",
       "max          33.000000\n",
       "Name: decline_app_cnt, dtype: float64"
      ]
     },
     "metadata": {},
     "output_type": "display_data"
    },
    {
     "name": "stdout",
     "output_type": "stream",
     "text": [
      "нижняя квартильная граница: 0.0\n",
      "верхняя квартильная граница: 0.0\n",
      "кол-во записей за нижней квартильной границей: 0\n",
      "относительное кол-во записей за нижней квартильной границей: 0.0\n",
      "кол-во записей за верхней квартильной границей: 18477\n",
      "относительное кол-во записей за верхней квартильной границей: 0.17\n"
     ]
    },
    {
     "data": {
      "image/png": "[encoded data removed]",
      "text/plain": [
       "<Figure size 432x288 with 1 Axes>"
      ]
     },
     "metadata": {
      "needs_background": "light"
     },
     "output_type": "display_data"
    },
    {
     "data": {
      "image/png": "[encoded data removed]",
      "text/plain": [
       "<Figure size 432x288 with 1 Axes>"
      ]
     },
     "metadata": {
      "needs_background": "light"
     },
     "output_type": "display_data"
    },
    {
     "name": "stdout",
     "output_type": "stream",
     "text": [
      "Столбец score_bki\n",
      "Распределение признака:\n"
     ]
    },
    {
     "data": {
      "text/plain": [
       "count    109631.000000\n",
       "mean         -1.909543\n",
       "std           0.489298\n",
       "min          -3.299885\n",
       "25%          -2.261203\n",
       "50%          -1.922200\n",
       "75%          -1.572530\n",
       "max          -0.530358\n",
       "Name: score_bki, dtype: float64"
      ]
     },
     "metadata": {},
     "output_type": "display_data"
    },
    {
     "name": "stdout",
     "output_type": "stream",
     "text": [
      "нижняя квартильная граница: -3.294212035\n",
      "верхняя квартильная граница: -0.5395211549999999\n",
      "кол-во записей за нижней квартильной границей: 2\n",
      "относительное кол-во записей за нижней квартильной границей: 0.0\n",
      "кол-во записей за верхней квартильной границей: 26\n",
      "относительное кол-во записей за верхней квартильной границей: 0.0\n"
     ]
    },
    {
     "data": {
      "image/png": "[encoded data removed]",
      "text/plain": [
       "<Figure size 432x288 with 1 Axes>"
      ]
     },
     "metadata": {
      "needs_background": "light"
     },
     "output_type": "display_data"
    },
    {
     "data": {
      "image/png": "[encoded data removed]",
      "text/plain": [
       "<Figure size 432x288 with 1 Axes>"
      ]
     },
     "metadata": {
      "needs_background": "light"
     },
     "output_type": "display_data"
    },
    {
     "name": "stdout",
     "output_type": "stream",
     "text": [
      "Столбец bki_request_cnt\n",
      "Распределение признака:\n"
     ]
    },
    {
     "data": {
      "text/plain": [
       "count    109631.000000\n",
       "mean          1.998486\n",
       "std           2.245499\n",
       "min           0.000000\n",
       "25%           0.000000\n",
       "50%           1.000000\n",
       "75%           3.000000\n",
       "max          53.000000\n",
       "Name: bki_request_cnt, dtype: float64"
      ]
     },
     "metadata": {},
     "output_type": "display_data"
    },
    {
     "name": "stdout",
     "output_type": "stream",
     "text": [
      "нижняя квартильная граница: -4.5\n",
      "верхняя квартильная граница: 7.5\n",
      "кол-во записей за нижней квартильной границей: 0\n",
      "относительное кол-во записей за нижней квартильной границей: 0.0\n",
      "кол-во записей за верхней квартильной границей: 2569\n",
      "относительное кол-во записей за верхней квартильной границей: 0.02\n"
     ]
    },
    {
     "data": {
      "image/png": "[encoded data removed]",
      "text/plain": [
       "<Figure size 432x288 with 1 Axes>"
      ]
     },
     "metadata": {
      "needs_background": "light"
     },
     "output_type": "display_data"
    },
    {
     "data": {
      "image/png": "[encoded data removed]",
      "text/plain": [
       "<Figure size 432x288 with 1 Axes>"
      ]
     },
     "metadata": {
      "needs_background": "light"
     },
     "output_type": "display_data"
    },
    {
     "name": "stdout",
     "output_type": "stream",
     "text": [
      "Столбец income\n",
      "Распределение признака:\n"
     ]
    },
    {
     "data": {
      "text/plain": [
       "count     109631.000000\n",
       "mean       40978.935347\n",
       "std        45378.747672\n",
       "min         1000.000000\n",
       "25%        20000.000000\n",
       "50%        30000.000000\n",
       "75%        48000.000000\n",
       "max      1000000.000000\n",
       "Name: income, dtype: float64"
      ]
     },
     "metadata": {},
     "output_type": "display_data"
    },
    {
     "name": "stdout",
     "output_type": "stream",
     "text": [
      "нижняя квартильная граница: -22000.0\n",
      "верхняя квартильная граница: 90000.0\n",
      "кол-во записей за нижней квартильной границей: 0\n",
      "относительное кол-во записей за нижней квартильной границей: 0.0\n",
      "кол-во записей за верхней квартильной границей: 6943\n",
      "относительное кол-во записей за верхней квартильной границей: 0.06\n"
     ]
    },
    {
     "data": {
      "image/png": "[encoded data removed]",
      "text/plain": [
       "<Figure size 432x288 with 1 Axes>"
      ]
     },
     "metadata": {
      "needs_background": "light"
     },
     "output_type": "display_data"
    },
    {
     "data": {
      "image/png": "[encoded data removed]",
      "text/plain": [
       "<Figure size 432x288 with 1 Axes>"
      ]
     },
     "metadata": {
      "needs_background": "light"
     },
     "output_type": "display_data"
    },
    {
     "name": "stdout",
     "output_type": "stream",
     "text": [
      "Столбец num_of_days\n",
      "Распределение признака:\n"
     ]
    },
    {
     "data": {
      "text/plain": [
       "count    109631.000000\n",
       "mean         60.999681\n",
       "std          32.079615\n",
       "min           0.000000\n",
       "25%          33.000000\n",
       "50%          62.000000\n",
       "75%          89.000000\n",
       "max         119.000000\n",
       "Name: num_of_days, dtype: float64"
      ]
     },
     "metadata": {},
     "output_type": "display_data"
    },
    {
     "name": "stdout",
     "output_type": "stream",
     "text": [
      "нижняя квартильная граница: -51.0\n",
      "верхняя квартильная граница: 173.0\n",
      "кол-во записей за нижней квартильной границей: 0\n",
      "относительное кол-во записей за нижней квартильной границей: 0.0\n",
      "кол-во записей за верхней квартильной границей: 0\n",
      "относительное кол-во записей за верхней квартильной границей: 0.0\n"
     ]
    },
    {
     "data": {
      "image/png": "[encoded data removed]",
      "text/plain": [
       "<Figure size 432x288 with 1 Axes>"
      ]
     },
     "metadata": {
      "needs_background": "light"
     },
     "output_type": "display_data"
    },
    {
     "data": {
      "image/png": "[encoded data removed]",
      "text/plain": [
       "<Figure size 432x288 with 1 Axes>"
      ]
     },
     "metadata": {
      "needs_background": "light"
     },
     "output_type": "display_data"
    }
   ],
   "source": [
    "for i in num_cols:\n",
    "    first_look(df,i)"
   ]
  },
  {
   "cell_type": "markdown",
   "metadata": {},
   "source": [
    "Оценка корреляции"
   ]
  },
  {
   "cell_type": "code",
   "execution_count": 153,
   "metadata": {},
   "outputs": [
    {
     "data": {
      "text/plain": [
       "<matplotlib.axes._subplots.AxesSubplot at 0x21f4f99cc48>"
      ]
     },
     "execution_count": 153,
     "metadata": {},
     "output_type": "execute_result"
    },
    {
     "data": {
      "image/png": "[encoded data removed]",
      "text/plain": [
       "<Figure size 432x288 with 2 Axes>"
      ]
     },
     "metadata": {
      "needs_background": "light"
     },
     "output_type": "display_data"
    }
   ],
   "source": [
    "sns.heatmap(df[num_cols].corr().abs(), vmin=0, vmax=1)"
   ]
  },
  {
   "cell_type": "markdown",
   "metadata": {},
   "source": [
    "Нет сильно коррелированных между собой признаков, все оставляем."
   ]
  },
  {
   "cell_type": "markdown",
   "metadata": {},
   "source": [
    "Обработаем бинарные и категориальные признаки.\n",
    "Предварительно, необходимо обработать education, т.к. у этого признака есть пропуски."
   ]
  },
  {
   "cell_type": "markdown",
   "metadata": {},
   "source": [
    "оценим, сколько пропусков в столбце."
   ]
  },
  {
   "cell_type": "code",
   "execution_count": 154,
   "metadata": {},
   "outputs": [
    {
     "data": {
      "text/plain": [
       "0.43418376189216557"
      ]
     },
     "execution_count": 154,
     "metadata": {},
     "output_type": "execute_result"
    }
   ],
   "source": [
    "df.education.isna().mean()*100"
   ]
  },
  {
   "cell_type": "markdown",
   "metadata": {},
   "source": [
    "как видно выше, в столбце education пропусков всего 0,43% => считаю целесообразным просто убрать пропуски, а не заполнять их"
   ]
  },
  {
   "cell_type": "code",
   "execution_count": 393,
   "metadata": {},
   "outputs": [],
   "source": [
    "df.dropna(subset=['education'],inplace=True)"
   ]
  },
  {
   "cell_type": "code",
   "execution_count": 334,
   "metadata": {},
   "outputs": [
    {
     "data": {
      "text/html": [
       "<div>\n",
       "<style scoped>\n",
       "    .dataframe tbody tr th:only-of-type {\n",
       "        vertical-align: middle;\n",
       "    }\n",
       "\n",
       "    .dataframe tbody tr th {\n",
       "        vertical-align: top;\n",
       "    }\n",
       "\n",
       "    .dataframe thead th {\n",
       "        text-align: right;\n",
       "    }\n",
       "</style>\n",
       "<table border=\"1\" class=\"dataframe\">\n",
       "  <thead>\n",
       "    <tr style=\"text-align: right;\">\n",
       "      <th></th>\n",
       "      <th>client_id</th>\n",
       "      <th>education</th>\n",
       "      <th>sex</th>\n",
       "      <th>age</th>\n",
       "      <th>car</th>\n",
       "      <th>car_type</th>\n",
       "      <th>decline_app_cnt</th>\n",
       "      <th>good_work</th>\n",
       "      <th>score_bki</th>\n",
       "      <th>bki_request_cnt</th>\n",
       "      <th>...</th>\n",
       "      <th>work_address</th>\n",
       "      <th>income</th>\n",
       "      <th>sna</th>\n",
       "      <th>first_time</th>\n",
       "      <th>foreign_passport</th>\n",
       "      <th>default</th>\n",
       "      <th>Train</th>\n",
       "      <th>num_of_days</th>\n",
       "      <th>month</th>\n",
       "      <th>weekend</th>\n",
       "    </tr>\n",
       "  </thead>\n",
       "  <tbody>\n",
       "    <tr>\n",
       "      <th>0</th>\n",
       "      <td>25905</td>\n",
       "      <td>SCH</td>\n",
       "      <td>M</td>\n",
       "      <td>62</td>\n",
       "      <td>Y</td>\n",
       "      <td>Y</td>\n",
       "      <td>0</td>\n",
       "      <td>0</td>\n",
       "      <td>-2.008753</td>\n",
       "      <td>1</td>\n",
       "      <td>...</td>\n",
       "      <td>2</td>\n",
       "      <td>18000</td>\n",
       "      <td>4</td>\n",
       "      <td>1</td>\n",
       "      <td>N</td>\n",
       "      <td>0.0</td>\n",
       "      <td>1</td>\n",
       "      <td>31</td>\n",
       "      <td>2</td>\n",
       "      <td>1</td>\n",
       "    </tr>\n",
       "    <tr>\n",
       "      <th>1</th>\n",
       "      <td>63161</td>\n",
       "      <td>SCH</td>\n",
       "      <td>F</td>\n",
       "      <td>59</td>\n",
       "      <td>N</td>\n",
       "      <td>N</td>\n",
       "      <td>0</td>\n",
       "      <td>0</td>\n",
       "      <td>-1.532276</td>\n",
       "      <td>3</td>\n",
       "      <td>...</td>\n",
       "      <td>3</td>\n",
       "      <td>19000</td>\n",
       "      <td>4</td>\n",
       "      <td>1</td>\n",
       "      <td>N</td>\n",
       "      <td>0.0</td>\n",
       "      <td>1</td>\n",
       "      <td>70</td>\n",
       "      <td>3</td>\n",
       "      <td>0</td>\n",
       "    </tr>\n",
       "    <tr>\n",
       "      <th>2</th>\n",
       "      <td>25887</td>\n",
       "      <td>SCH</td>\n",
       "      <td>M</td>\n",
       "      <td>25</td>\n",
       "      <td>Y</td>\n",
       "      <td>N</td>\n",
       "      <td>2</td>\n",
       "      <td>0</td>\n",
       "      <td>-1.408142</td>\n",
       "      <td>1</td>\n",
       "      <td>...</td>\n",
       "      <td>2</td>\n",
       "      <td>30000</td>\n",
       "      <td>1</td>\n",
       "      <td>4</td>\n",
       "      <td>Y</td>\n",
       "      <td>0.0</td>\n",
       "      <td>1</td>\n",
       "      <td>31</td>\n",
       "      <td>2</td>\n",
       "      <td>1</td>\n",
       "    </tr>\n",
       "    <tr>\n",
       "      <th>3</th>\n",
       "      <td>16222</td>\n",
       "      <td>SCH</td>\n",
       "      <td>F</td>\n",
       "      <td>53</td>\n",
       "      <td>N</td>\n",
       "      <td>N</td>\n",
       "      <td>0</td>\n",
       "      <td>0</td>\n",
       "      <td>-2.057471</td>\n",
       "      <td>2</td>\n",
       "      <td>...</td>\n",
       "      <td>3</td>\n",
       "      <td>10000</td>\n",
       "      <td>1</td>\n",
       "      <td>3</td>\n",
       "      <td>N</td>\n",
       "      <td>0.0</td>\n",
       "      <td>1</td>\n",
       "      <td>22</td>\n",
       "      <td>1</td>\n",
       "      <td>0</td>\n",
       "    </tr>\n",
       "    <tr>\n",
       "      <th>4</th>\n",
       "      <td>101655</td>\n",
       "      <td>GRD</td>\n",
       "      <td>M</td>\n",
       "      <td>48</td>\n",
       "      <td>N</td>\n",
       "      <td>N</td>\n",
       "      <td>0</td>\n",
       "      <td>1</td>\n",
       "      <td>-1.244723</td>\n",
       "      <td>1</td>\n",
       "      <td>...</td>\n",
       "      <td>3</td>\n",
       "      <td>30000</td>\n",
       "      <td>1</td>\n",
       "      <td>4</td>\n",
       "      <td>Y</td>\n",
       "      <td>0.0</td>\n",
       "      <td>1</td>\n",
       "      <td>107</td>\n",
       "      <td>4</td>\n",
       "      <td>0</td>\n",
       "    </tr>\n",
       "    <tr>\n",
       "      <th>...</th>\n",
       "      <td>...</td>\n",
       "      <td>...</td>\n",
       "      <td>...</td>\n",
       "      <td>...</td>\n",
       "      <td>...</td>\n",
       "      <td>...</td>\n",
       "      <td>...</td>\n",
       "      <td>...</td>\n",
       "      <td>...</td>\n",
       "      <td>...</td>\n",
       "      <td>...</td>\n",
       "      <td>...</td>\n",
       "      <td>...</td>\n",
       "      <td>...</td>\n",
       "      <td>...</td>\n",
       "      <td>...</td>\n",
       "      <td>...</td>\n",
       "      <td>...</td>\n",
       "      <td>...</td>\n",
       "      <td>...</td>\n",
       "      <td>...</td>\n",
       "    </tr>\n",
       "    <tr>\n",
       "      <th>110143</th>\n",
       "      <td>83775</td>\n",
       "      <td>SCH</td>\n",
       "      <td>F</td>\n",
       "      <td>37</td>\n",
       "      <td>N</td>\n",
       "      <td>N</td>\n",
       "      <td>1</td>\n",
       "      <td>0</td>\n",
       "      <td>-1.744976</td>\n",
       "      <td>3</td>\n",
       "      <td>...</td>\n",
       "      <td>3</td>\n",
       "      <td>15000</td>\n",
       "      <td>4</td>\n",
       "      <td>1</td>\n",
       "      <td>N</td>\n",
       "      <td>NaN</td>\n",
       "      <td>0</td>\n",
       "      <td>89</td>\n",
       "      <td>3</td>\n",
       "      <td>0</td>\n",
       "    </tr>\n",
       "    <tr>\n",
       "      <th>110144</th>\n",
       "      <td>106254</td>\n",
       "      <td>GRD</td>\n",
       "      <td>F</td>\n",
       "      <td>64</td>\n",
       "      <td>Y</td>\n",
       "      <td>Y</td>\n",
       "      <td>0</td>\n",
       "      <td>0</td>\n",
       "      <td>-2.293781</td>\n",
       "      <td>3</td>\n",
       "      <td>...</td>\n",
       "      <td>2</td>\n",
       "      <td>200000</td>\n",
       "      <td>1</td>\n",
       "      <td>4</td>\n",
       "      <td>N</td>\n",
       "      <td>NaN</td>\n",
       "      <td>0</td>\n",
       "      <td>114</td>\n",
       "      <td>4</td>\n",
       "      <td>0</td>\n",
       "    </tr>\n",
       "    <tr>\n",
       "      <th>110145</th>\n",
       "      <td>81852</td>\n",
       "      <td>GRD</td>\n",
       "      <td>M</td>\n",
       "      <td>31</td>\n",
       "      <td>N</td>\n",
       "      <td>N</td>\n",
       "      <td>2</td>\n",
       "      <td>0</td>\n",
       "      <td>-0.940752</td>\n",
       "      <td>1</td>\n",
       "      <td>...</td>\n",
       "      <td>2</td>\n",
       "      <td>60000</td>\n",
       "      <td>4</td>\n",
       "      <td>2</td>\n",
       "      <td>N</td>\n",
       "      <td>NaN</td>\n",
       "      <td>0</td>\n",
       "      <td>88</td>\n",
       "      <td>3</td>\n",
       "      <td>1</td>\n",
       "    </tr>\n",
       "    <tr>\n",
       "      <th>110146</th>\n",
       "      <td>1971</td>\n",
       "      <td>UGR</td>\n",
       "      <td>F</td>\n",
       "      <td>27</td>\n",
       "      <td>N</td>\n",
       "      <td>N</td>\n",
       "      <td>1</td>\n",
       "      <td>0</td>\n",
       "      <td>-1.242392</td>\n",
       "      <td>2</td>\n",
       "      <td>...</td>\n",
       "      <td>3</td>\n",
       "      <td>30000</td>\n",
       "      <td>1</td>\n",
       "      <td>1</td>\n",
       "      <td>N</td>\n",
       "      <td>NaN</td>\n",
       "      <td>0</td>\n",
       "      <td>6</td>\n",
       "      <td>1</td>\n",
       "      <td>0</td>\n",
       "    </tr>\n",
       "    <tr>\n",
       "      <th>110147</th>\n",
       "      <td>69044</td>\n",
       "      <td>SCH</td>\n",
       "      <td>M</td>\n",
       "      <td>38</td>\n",
       "      <td>N</td>\n",
       "      <td>N</td>\n",
       "      <td>0</td>\n",
       "      <td>0</td>\n",
       "      <td>-1.507549</td>\n",
       "      <td>2</td>\n",
       "      <td>...</td>\n",
       "      <td>2</td>\n",
       "      <td>15000</td>\n",
       "      <td>4</td>\n",
       "      <td>2</td>\n",
       "      <td>N</td>\n",
       "      <td>NaN</td>\n",
       "      <td>0</td>\n",
       "      <td>75</td>\n",
       "      <td>3</td>\n",
       "      <td>0</td>\n",
       "    </tr>\n",
       "  </tbody>\n",
       "</table>\n",
       "<p>109155 rows × 22 columns</p>\n",
       "</div>"
      ],
      "text/plain": [
       "        client_id education sex  age car car_type  decline_app_cnt  good_work  \\\n",
       "0           25905       SCH   M   62   Y        Y                0          0   \n",
       "1           63161       SCH   F   59   N        N                0          0   \n",
       "2           25887       SCH   M   25   Y        N                2          0   \n",
       "3           16222       SCH   F   53   N        N                0          0   \n",
       "4          101655       GRD   M   48   N        N                0          1   \n",
       "...           ...       ...  ..  ...  ..      ...              ...        ...   \n",
       "110143      83775       SCH   F   37   N        N                1          0   \n",
       "110144     106254       GRD   F   64   Y        Y                0          0   \n",
       "110145      81852       GRD   M   31   N        N                2          0   \n",
       "110146       1971       UGR   F   27   N        N                1          0   \n",
       "110147      69044       SCH   M   38   N        N                0          0   \n",
       "\n",
       "        score_bki  bki_request_cnt  ...  work_address  income  sna  \\\n",
       "0       -2.008753                1  ...             2   18000    4   \n",
       "1       -1.532276                3  ...             3   19000    4   \n",
       "2       -1.408142                1  ...             2   30000    1   \n",
       "3       -2.057471                2  ...             3   10000    1   \n",
       "4       -1.244723                1  ...             3   30000    1   \n",
       "...           ...              ...  ...           ...     ...  ...   \n",
       "110143  -1.744976                3  ...             3   15000    4   \n",
       "110144  -2.293781                3  ...             2  200000    1   \n",
       "110145  -0.940752                1  ...             2   60000    4   \n",
       "110146  -1.242392                2  ...             3   30000    1   \n",
       "110147  -1.507549                2  ...             2   15000    4   \n",
       "\n",
       "        first_time  foreign_passport  default Train  num_of_days  month  \\\n",
       "0                1                 N      0.0     1           31      2   \n",
       "1                1                 N      0.0     1           70      3   \n",
       "2                4                 Y      0.0     1           31      2   \n",
       "3                3                 N      0.0     1           22      1   \n",
       "4                4                 Y      0.0     1          107      4   \n",
       "...            ...               ...      ...   ...          ...    ...   \n",
       "110143           1                 N      NaN     0           89      3   \n",
       "110144           4                 N      NaN     0          114      4   \n",
       "110145           2                 N      NaN     0           88      3   \n",
       "110146           1                 N      NaN     0            6      1   \n",
       "110147           2                 N      NaN     0           75      3   \n",
       "\n",
       "        weekend  \n",
       "0             1  \n",
       "1             0  \n",
       "2             1  \n",
       "3             0  \n",
       "4             0  \n",
       "...         ...  \n",
       "110143        0  \n",
       "110144        0  \n",
       "110145        1  \n",
       "110146        0  \n",
       "110147        0  \n",
       "\n",
       "[109155 rows x 22 columns]"
      ]
     },
     "execution_count": 334,
     "metadata": {},
     "output_type": "execute_result"
    }
   ],
   "source": [
    "df"
   ]
  },
  {
   "cell_type": "markdown",
   "metadata": {},
   "source": [
    "посмотрим на категориальные параметры"
   ]
  },
  {
   "cell_type": "code",
   "execution_count": 394,
   "metadata": {},
   "outputs": [
    {
     "data": {
      "text/plain": [
       "SCH    57775\n",
       "GRD    34570\n",
       "UGR    14666\n",
       "PGR     1857\n",
       "ACD      287\n",
       "Name: education, dtype: int64"
      ]
     },
     "metadata": {},
     "output_type": "display_data"
    },
    {
     "data": {
      "text/plain": [
       "50    40666\n",
       "60    23821\n",
       "40    17806\n",
       "80    16924\n",
       "70     9198\n",
       "30      430\n",
       "20      310\n",
       "Name: region_rating, dtype: int64"
      ]
     },
     "metadata": {},
     "output_type": "display_data"
    },
    {
     "data": {
      "text/plain": [
       "2    58994\n",
       "1    48306\n",
       "3     1855\n",
       "Name: home_address, dtype: int64"
      ]
     },
     "metadata": {},
     "output_type": "display_data"
    },
    {
     "data": {
      "text/plain": [
       "3    66447\n",
       "2    30529\n",
       "1    12179\n",
       "Name: work_address, dtype: int64"
      ]
     },
     "metadata": {},
     "output_type": "display_data"
    },
    {
     "data": {
      "text/plain": [
       "1    70029\n",
       "4    17322\n",
       "2    15704\n",
       "3     6100\n",
       "Name: sna, dtype: int64"
      ]
     },
     "metadata": {},
     "output_type": "display_data"
    },
    {
     "data": {
      "text/plain": [
       "3    46207\n",
       "4    27725\n",
       "1    18128\n",
       "2    17095\n",
       "Name: first_time, dtype: int64"
      ]
     },
     "metadata": {},
     "output_type": "display_data"
    },
    {
     "data": {
      "text/plain": [
       "3    31306\n",
       "2    26817\n",
       "4    26098\n",
       "1    24934\n",
       "Name: month, dtype: int64"
      ]
     },
     "metadata": {},
     "output_type": "display_data"
    }
   ],
   "source": [
    "for i in cat_cols:\n",
    "    display(df[i].value_counts())"
   ]
  },
  {
   "cell_type": "markdown",
   "metadata": {},
   "source": [
    "c учетом результатов исследования выше, считаю, что надо сделать dummy переменные из параметра education, остальные параметры оставить, как есть."
   ]
  },
  {
   "cell_type": "code",
   "execution_count": 395,
   "metadata": {},
   "outputs": [],
   "source": [
    "dummies = pd.get_dummies(df.education,prefix='education')"
   ]
  },
  {
   "cell_type": "code",
   "execution_count": 396,
   "metadata": {},
   "outputs": [],
   "source": [
    "for i in dummies.columns:\n",
    "    df[i] = dummies[i]\n",
    "    #добавим соответствующее значение в bin_cols\n",
    "    bin_cols.append(i)"
   ]
  },
  {
   "cell_type": "code",
   "execution_count": 397,
   "metadata": {},
   "outputs": [],
   "source": [
    "df.drop(columns = ['education'],inplace = True)"
   ]
  },
  {
   "cell_type": "code",
   "execution_count": 398,
   "metadata": {},
   "outputs": [
    {
     "data": {
      "text/plain": [
       "['region_rating', 'home_address', 'work_address', 'sna', 'first_time', 'month']"
      ]
     },
     "execution_count": 398,
     "metadata": {},
     "output_type": "execute_result"
    }
   ],
   "source": [
    "#удалим 'education' из cat_cols\n",
    "cat_cols.remove('education')\n",
    "cat_cols"
   ]
  },
  {
   "cell_type": "code",
   "execution_count": 341,
   "metadata": {},
   "outputs": [
    {
     "name": "stdout",
     "output_type": "stream",
     "text": [
      "<class 'pandas.core.frame.DataFrame'>\n",
      "Int64Index: 109155 entries, 0 to 110147\n",
      "Data columns (total 26 columns):\n",
      " #   Column            Non-Null Count   Dtype  \n",
      "---  ------            --------------   -----  \n",
      " 0   client_id         109155 non-null  int64  \n",
      " 1   sex               109155 non-null  object \n",
      " 2   age               109155 non-null  int64  \n",
      " 3   car               109155 non-null  object \n",
      " 4   car_type          109155 non-null  object \n",
      " 5   decline_app_cnt   109155 non-null  int64  \n",
      " 6   good_work         109155 non-null  int64  \n",
      " 7   score_bki         109155 non-null  float64\n",
      " 8   bki_request_cnt   109155 non-null  int64  \n",
      " 9   region_rating     109155 non-null  int64  \n",
      " 10  home_address      109155 non-null  int64  \n",
      " 11  work_address      109155 non-null  int64  \n",
      " 12  income            109155 non-null  int64  \n",
      " 13  sna               109155 non-null  int64  \n",
      " 14  first_time        109155 non-null  int64  \n",
      " 15  foreign_passport  109155 non-null  object \n",
      " 16  default           73154 non-null   float64\n",
      " 17  Train             109155 non-null  int64  \n",
      " 18  num_of_days       109155 non-null  int32  \n",
      " 19  month             109155 non-null  int64  \n",
      " 20  weekend           109155 non-null  int64  \n",
      " 21  education_ACD     109155 non-null  uint8  \n",
      " 22  education_GRD     109155 non-null  uint8  \n",
      " 23  education_PGR     109155 non-null  uint8  \n",
      " 24  education_SCH     109155 non-null  uint8  \n",
      " 25  education_UGR     109155 non-null  uint8  \n",
      "dtypes: float64(2), int32(1), int64(14), object(4), uint8(5)\n",
      "memory usage: 18.4+ MB\n"
     ]
    }
   ],
   "source": [
    "df.info()"
   ]
  },
  {
   "cell_type": "markdown",
   "metadata": {},
   "source": [
    "Посмотрим на бинарные параметры"
   ]
  },
  {
   "cell_type": "code",
   "execution_count": 399,
   "metadata": {},
   "outputs": [
    {
     "data": {
      "text/plain": [
       "F    61284\n",
       "M    47871\n",
       "Name: sex, dtype: int64"
      ]
     },
     "metadata": {},
     "output_type": "display_data"
    },
    {
     "data": {
      "text/plain": [
       "N    73661\n",
       "Y    35494\n",
       "Name: car, dtype: int64"
      ]
     },
     "metadata": {},
     "output_type": "display_data"
    },
    {
     "data": {
      "text/plain": [
       "N    88323\n",
       "Y    20832\n",
       "Name: car_type, dtype: int64"
      ]
     },
     "metadata": {},
     "output_type": "display_data"
    },
    {
     "data": {
      "text/plain": [
       "0    91085\n",
       "1    18070\n",
       "Name: good_work, dtype: int64"
      ]
     },
     "metadata": {},
     "output_type": "display_data"
    },
    {
     "data": {
      "text/plain": [
       "N    92907\n",
       "Y    16248\n",
       "Name: foreign_passport, dtype: int64"
      ]
     },
     "metadata": {},
     "output_type": "display_data"
    },
    {
     "data": {
      "text/plain": [
       "0    87000\n",
       "1    22155\n",
       "Name: weekend, dtype: int64"
      ]
     },
     "metadata": {},
     "output_type": "display_data"
    },
    {
     "data": {
      "text/plain": [
       "0    108868\n",
       "1       287\n",
       "Name: education_ACD, dtype: int64"
      ]
     },
     "metadata": {},
     "output_type": "display_data"
    },
    {
     "data": {
      "text/plain": [
       "0    74585\n",
       "1    34570\n",
       "Name: education_GRD, dtype: int64"
      ]
     },
     "metadata": {},
     "output_type": "display_data"
    },
    {
     "data": {
      "text/plain": [
       "0    107298\n",
       "1      1857\n",
       "Name: education_PGR, dtype: int64"
      ]
     },
     "metadata": {},
     "output_type": "display_data"
    },
    {
     "data": {
      "text/plain": [
       "1    57775\n",
       "0    51380\n",
       "Name: education_SCH, dtype: int64"
      ]
     },
     "metadata": {},
     "output_type": "display_data"
    },
    {
     "data": {
      "text/plain": [
       "0    94489\n",
       "1    14666\n",
       "Name: education_UGR, dtype: int64"
      ]
     },
     "metadata": {},
     "output_type": "display_data"
    }
   ],
   "source": [
    "for i in bin_cols:\n",
    "    display(df[i].value_counts())"
   ]
  },
  {
   "cell_type": "markdown",
   "metadata": {},
   "source": [
    "как видно из исследования выше, параметры sex, car, car_type, foreign_passport надо оцифровать. Оцифруем по следующему принципу:\n",
    "для sex - M = 1; F = 0. Для всех остальных - Y = 1, N = 0"
   ]
  },
  {
   "cell_type": "code",
   "execution_count": 400,
   "metadata": {},
   "outputs": [],
   "source": [
    "ny = ['car','car_type','foreign_passport']"
   ]
  },
  {
   "cell_type": "code",
   "execution_count": 401,
   "metadata": {},
   "outputs": [
    {
     "data": {
      "text/plain": [
       "N    73661\n",
       "Y    35494\n",
       "Name: car, dtype: int64"
      ]
     },
     "metadata": {},
     "output_type": "display_data"
    },
    {
     "data": {
      "text/plain": [
       "N    88323\n",
       "Y    20832\n",
       "Name: car_type, dtype: int64"
      ]
     },
     "metadata": {},
     "output_type": "display_data"
    },
    {
     "data": {
      "text/plain": [
       "N    92907\n",
       "Y    16248\n",
       "Name: foreign_passport, dtype: int64"
      ]
     },
     "metadata": {},
     "output_type": "display_data"
    }
   ],
   "source": [
    "for i in ny:\n",
    "    display(df[i].value_counts())"
   ]
  },
  {
   "cell_type": "code",
   "execution_count": 402,
   "metadata": {},
   "outputs": [
    {
     "name": "stderr",
     "output_type": "stream",
     "text": [
      "A:\\anaconda\\lib\\site-packages\\ipykernel_launcher.py:2: SettingWithCopyWarning: \n",
      "A value is trying to be set on a copy of a slice from a DataFrame\n",
      "\n",
      "See the caveats in the documentation: https://pandas.pydata.org/pandas-docs/stable/user_guide/indexing.html#returning-a-view-versus-a-copy\n",
      "  \n",
      "A:\\anaconda\\lib\\site-packages\\ipykernel_launcher.py:3: SettingWithCopyWarning: \n",
      "A value is trying to be set on a copy of a slice from a DataFrame\n",
      "\n",
      "See the caveats in the documentation: https://pandas.pydata.org/pandas-docs/stable/user_guide/indexing.html#returning-a-view-versus-a-copy\n",
      "  This is separate from the ipykernel package so we can avoid doing imports until\n"
     ]
    },
    {
     "data": {
      "text/plain": [
       "0    73661\n",
       "1    35494\n",
       "Name: car, dtype: int64"
      ]
     },
     "metadata": {},
     "output_type": "display_data"
    },
    {
     "data": {
      "text/plain": [
       "0    88323\n",
       "1    20832\n",
       "Name: car_type, dtype: int64"
      ]
     },
     "metadata": {},
     "output_type": "display_data"
    },
    {
     "data": {
      "text/plain": [
       "0    92907\n",
       "1    16248\n",
       "Name: foreign_passport, dtype: int64"
      ]
     },
     "metadata": {},
     "output_type": "display_data"
    }
   ],
   "source": [
    "for i in ny:\n",
    "    df[i][df[i] == 'Y'] = 1\n",
    "    df[i][df[i] == 'N'] = 0\n",
    "    df[i] = df[i].astype('int64')\n",
    "    display(df[i].value_counts())"
   ]
  },
  {
   "cell_type": "code",
   "execution_count": 403,
   "metadata": {},
   "outputs": [
    {
     "data": {
      "text/plain": [
       "0    61284\n",
       "1    47871\n",
       "Name: sex, dtype: int64"
      ]
     },
     "metadata": {},
     "output_type": "display_data"
    }
   ],
   "source": [
    "df['sex'] = [1 if x == 'M' else 0 for x in df['sex']]\n",
    "display(df['sex'].value_counts())\n",
    "df['sex'] = df['sex'].astype('int64')"
   ]
  },
  {
   "cell_type": "code",
   "execution_count": 404,
   "metadata": {},
   "outputs": [
    {
     "name": "stdout",
     "output_type": "stream",
     "text": [
      "<class 'pandas.core.frame.DataFrame'>\n",
      "Int64Index: 109155 entries, 0 to 110147\n",
      "Data columns (total 26 columns):\n",
      " #   Column            Non-Null Count   Dtype  \n",
      "---  ------            --------------   -----  \n",
      " 0   client_id         109155 non-null  int64  \n",
      " 1   sex               109155 non-null  int64  \n",
      " 2   age               109155 non-null  int64  \n",
      " 3   car               109155 non-null  int64  \n",
      " 4   car_type          109155 non-null  int64  \n",
      " 5   decline_app_cnt   109155 non-null  int64  \n",
      " 6   good_work         109155 non-null  int64  \n",
      " 7   score_bki         109155 non-null  float64\n",
      " 8   bki_request_cnt   109155 non-null  int64  \n",
      " 9   region_rating     109155 non-null  int64  \n",
      " 10  home_address      109155 non-null  int64  \n",
      " 11  work_address      109155 non-null  int64  \n",
      " 12  income            109155 non-null  int64  \n",
      " 13  sna               109155 non-null  int64  \n",
      " 14  first_time        109155 non-null  int64  \n",
      " 15  foreign_passport  109155 non-null  int64  \n",
      " 16  default           73154 non-null   float64\n",
      " 17  Train             109155 non-null  int64  \n",
      " 18  num_of_days       109155 non-null  int32  \n",
      " 19  month             109155 non-null  int64  \n",
      " 20  weekend           109155 non-null  int64  \n",
      " 21  education_ACD     109155 non-null  uint8  \n",
      " 22  education_GRD     109155 non-null  uint8  \n",
      " 23  education_PGR     109155 non-null  uint8  \n",
      " 24  education_SCH     109155 non-null  uint8  \n",
      " 25  education_UGR     109155 non-null  uint8  \n",
      "dtypes: float64(2), int32(1), int64(18), uint8(5)\n",
      "memory usage: 18.4 MB\n"
     ]
    }
   ],
   "source": [
    "df.info()"
   ]
  },
  {
   "cell_type": "markdown",
   "metadata": {},
   "source": [
    "все параметры числовые, мы готовы к обучению"
   ]
  },
  {
   "cell_type": "markdown",
   "metadata": {},
   "source": [
    "## Значимость непрерывных переменных по ANOVA F test"
   ]
  },
  {
   "cell_type": "code",
   "execution_count": 405,
   "metadata": {},
   "outputs": [
    {
     "data": {
      "text/plain": [
       "<matplotlib.axes._subplots.AxesSubplot at 0x21f35f64608>"
      ]
     },
     "execution_count": 405,
     "metadata": {},
     "output_type": "execute_result"
    },
    {
     "data": {
      "image/png": "[encoded data removed]",
      "text/plain": [
       "<Figure size 432x288 with 1 Axes>"
      ]
     },
     "metadata": {
      "needs_background": "light"
     },
     "output_type": "display_data"
    }
   ],
   "source": [
    "tr_df = df[df['Train']==1]\n",
    "imp_num = pd.Series(f_classif(tr_df[num_cols], tr_df['default'])[0], index = num_cols)\n",
    "imp_num.sort_values(inplace = True)\n",
    "imp_num.plot(kind = 'barh')"
   ]
  },
  {
   "cell_type": "markdown",
   "metadata": {},
   "source": [
    "score_bki - с запасом самый значимый параметр, самый незначительный - age"
   ]
  },
  {
   "cell_type": "markdown",
   "metadata": {},
   "source": [
    "## Значимость категориальных и бинарных параметров"
   ]
  },
  {
   "cell_type": "code",
   "execution_count": 406,
   "metadata": {},
   "outputs": [
    {
     "data": {
      "text/plain": [
       "<matplotlib.axes._subplots.AxesSubplot at 0x21f520acb48>"
      ]
     },
     "execution_count": 406,
     "metadata": {},
     "output_type": "execute_result"
    },
    {
     "data": {
      "image/png": "[encoded data removed]",
      "text/plain": [
       "<Figure size 432x288 with 1 Axes>"
      ]
     },
     "metadata": {
      "needs_background": "light"
     },
     "output_type": "display_data"
    }
   ],
   "source": [
    "b_c_cols = bin_cols + cat_cols\n",
    "imp_cat = pd.Series(mutual_info_classif(tr_df[b_c_cols], tr_df['default'], discrete_features =True), index = b_c_cols)\n",
    "imp_cat.sort_values(inplace = True)\n",
    "imp_cat.plot(kind = 'barh')"
   ]
  },
  {
   "cell_type": "markdown",
   "metadata": {},
   "source": [
    "как видно из исследования выше, параметры weekend, education_UGR - вообще малозначимы, кандидаты на то, чтобы их убрать"
   ]
  },
  {
   "cell_type": "markdown",
   "metadata": {},
   "source": [
    "# Обучение модели"
   ]
  },
  {
   "cell_type": "markdown",
   "metadata": {},
   "source": [
    "Все данные практически готовы, осталось только стандартизировать численные параметры. Сделаем ниже.\n",
    "Данные для обучения и валидации при этом будем стандартизировать отдельно"
   ]
  },
  {
   "cell_type": "code",
   "execution_count": 407,
   "metadata": {},
   "outputs": [],
   "source": [
    "test_df = df[df['Train']==0]"
   ]
  },
  {
   "cell_type": "code",
   "execution_count": 408,
   "metadata": {},
   "outputs": [],
   "source": [
    "X_train_num = StandardScaler().fit_transform(tr_df[num_cols].values)\n",
    "X_test_num = StandardScaler().fit_transform(test_df[num_cols].values)\n",
    "\n",
    "X_train = np.hstack([X_train_num, tr_df[b_c_cols].values])\n",
    "X_test = np.hstack([X_test_num, test_df[b_c_cols].values])\n",
    "\n",
    "y = tr_df['default'].values"
   ]
  },
  {
   "cell_type": "markdown",
   "metadata": {},
   "source": [
    "Данные готовы. Перед тем, как приступать к обучению модели, посмотрим на целевой параметр."
   ]
  },
  {
   "cell_type": "code",
   "execution_count": 261,
   "metadata": {},
   "outputs": [
    {
     "data": {
      "text/plain": [
       "0.0    0.873828\n",
       "1.0    0.126172\n",
       "Name: default, dtype: float64"
      ]
     },
     "metadata": {},
     "output_type": "display_data"
    },
    {
     "name": "stdout",
     "output_type": "stream",
     "text": [
      "отношение количества 0 в default к количеству 1 в default = 6.925677139761648\n"
     ]
    },
    {
     "data": {
      "image/png": "[encoded data removed]",
      "text/plain": [
       "<Figure size 432x288 with 1 Axes>"
      ]
     },
     "metadata": {
      "needs_background": "light"
     },
     "output_type": "display_data"
    }
   ],
   "source": [
    "sns.countplot(tr_df['default']);\n",
    "dflt = tr_df['default'].value_counts(normalize=True)\n",
    "display(dflt)\n",
    "print('отношение количества 0 в default к количеству 1 в default = {}'.format(dflt[0]/dflt[1]))"
   ]
  },
  {
   "cell_type": "markdown",
   "metadata": {},
   "source": [
    "в целевой переменной очевиден значительный дисбаланс, согласно изученному в курсе:\n",
    "\n",
    "### 1. Последствия дисбаланса данных\n",
    "Что происходит при дисбалансе классов:\n",
    "\n",
    "У алгоритма появляется склонность к более популярным классам/значениям.\n",
    "Невозможность использования метрик, не учитывающих веса классов (базовая метрика accuracy, изученная выше, не может быть использована).\n",
    "\n",
    "### 2. Решение проблемы\n",
    "1) Изменить целевую метрику — в задачах классификации confusion matrix, precision, recall, F1-score, ROC-кривые будут намного корректнее описывать алгоритм, чем accuracy.\n",
    "<br>2) Изменить выборку данных: \n",
    "<br>2.1) oversampling — увеличение кол-ва объектов классов-меньшинств; \n",
    "<br>2.2) undersampling — сокращение кол-ва объектов превалирующих классов.\n",
    "<br>3) Добавить штраф в оптимизационный функционал, прямо пропорциональный кол-ву объектов каждого класса (веса классов)."
   ]
  },
  {
   "cell_type": "markdown",
   "metadata": {},
   "source": [
    "## 1-й вариант модели. Работаем с данными такими, какие они есть."
   ]
  },
  {
   "cell_type": "code",
   "execution_count": 409,
   "metadata": {},
   "outputs": [
    {
     "name": "stderr",
     "output_type": "stream",
     "text": [
      "A:\\anaconda\\lib\\site-packages\\sklearn\\linear_model\\_logistic.py:940: ConvergenceWarning: lbfgs failed to converge (status=1):\n",
      "STOP: TOTAL NO. of ITERATIONS REACHED LIMIT.\n",
      "\n",
      "Increase the number of iterations (max_iter) or scale the data as shown in:\n",
      "    https://scikit-learn.org/stable/modules/preprocessing.html\n",
      "Please also refer to the documentation for alternative solver options:\n",
      "    https://scikit-learn.org/stable/modules/linear_model.html#logistic-regression\n",
      "  extra_warning_msg=_LOGISTIC_SOLVER_CONVERGENCE_MSG)\n"
     ]
    }
   ],
   "source": [
    "# Разбиваем датасет на тренировочный и тестовый, выделив 20% данных на валидацию\n",
    "X_train_1, X_test_1, y_train_1, y_test_1 = train_test_split(X_train, y, test_size=0.2, random_state=RANDOM_SEED)\n",
    "\n",
    "# Обучаем модель\n",
    "model_1 = LogisticRegression(random_state=RANDOM_SEED)\n",
    "\n",
    "model_1.fit(X_train_1, y_train_1)\n",
    "\n",
    "# Предсказываем\n",
    "y_pred_prob = model_1.predict_proba(X_test_1)[:,1]\n",
    "y_pred = model_1.predict(X_test_1)"
   ]
  },
  {
   "cell_type": "code",
   "execution_count": 410,
   "metadata": {},
   "outputs": [
    {
     "data": {
      "text/html": [
       "<div>\n",
       "<style scoped>\n",
       "    .dataframe tbody tr th:only-of-type {\n",
       "        vertical-align: middle;\n",
       "    }\n",
       "\n",
       "    .dataframe tbody tr th {\n",
       "        vertical-align: top;\n",
       "    }\n",
       "\n",
       "    .dataframe thead th {\n",
       "        text-align: right;\n",
       "    }\n",
       "</style>\n",
       "<table border=\"1\" class=\"dataframe\">\n",
       "  <thead>\n",
       "    <tr style=\"text-align: right;\">\n",
       "      <th></th>\n",
       "      <th>Значение</th>\n",
       "      <th>Описание метрики</th>\n",
       "    </tr>\n",
       "  </thead>\n",
       "  <tbody>\n",
       "    <tr>\n",
       "      <th>P</th>\n",
       "      <td>1906.000000</td>\n",
       "      <td>Дефолт</td>\n",
       "    </tr>\n",
       "    <tr>\n",
       "      <th>N</th>\n",
       "      <td>12725.000000</td>\n",
       "      <td>БЕЗ дефолта</td>\n",
       "    </tr>\n",
       "    <tr>\n",
       "      <th>TP</th>\n",
       "      <td>44.000000</td>\n",
       "      <td>Истинно дефолтные</td>\n",
       "    </tr>\n",
       "    <tr>\n",
       "      <th>TN</th>\n",
       "      <td>12680.000000</td>\n",
       "      <td>Истинно НЕ дефолтные</td>\n",
       "    </tr>\n",
       "    <tr>\n",
       "      <th>FP</th>\n",
       "      <td>45.000000</td>\n",
       "      <td>Ложно дефолтные</td>\n",
       "    </tr>\n",
       "    <tr>\n",
       "      <th>FN</th>\n",
       "      <td>1862.000000</td>\n",
       "      <td>Ложно НЕ дефолтные</td>\n",
       "    </tr>\n",
       "    <tr>\n",
       "      <th>Accuracy</th>\n",
       "      <td>0.869660</td>\n",
       "      <td>Accuracy=(TP+TN)/(P+N)</td>\n",
       "    </tr>\n",
       "    <tr>\n",
       "      <th>Precision</th>\n",
       "      <td>0.494382</td>\n",
       "      <td>Точность = TP/(TP+FP)</td>\n",
       "    </tr>\n",
       "    <tr>\n",
       "      <th>Recall</th>\n",
       "      <td>0.023085</td>\n",
       "      <td>Полнота = TP/P</td>\n",
       "    </tr>\n",
       "    <tr>\n",
       "      <th>F1-score</th>\n",
       "      <td>0.044110</td>\n",
       "      <td>Среднее гармоническое Precision и Recall</td>\n",
       "    </tr>\n",
       "    <tr>\n",
       "      <th>ROC_AUC</th>\n",
       "      <td>0.728934</td>\n",
       "      <td>ROC-AUC</td>\n",
       "    </tr>\n",
       "  </tbody>\n",
       "</table>\n",
       "</div>"
      ],
      "text/plain": [
       "               Значение                          Описание метрики\n",
       "P           1906.000000                                    Дефолт\n",
       "N          12725.000000                               БЕЗ дефолта\n",
       "TP            44.000000                         Истинно дефолтные\n",
       "TN         12680.000000                      Истинно НЕ дефолтные\n",
       "FP            45.000000                           Ложно дефолтные\n",
       "FN          1862.000000                        Ложно НЕ дефолтные\n",
       "Accuracy       0.869660                    Accuracy=(TP+TN)/(P+N)\n",
       "Precision      0.494382                     Точность = TP/(TP+FP)\n",
       "Recall         0.023085                            Полнота = TP/P\n",
       "F1-score       0.044110  Среднее гармоническое Precision и Recall\n",
       "ROC_AUC        0.728934                                   ROC-AUC"
      ]
     },
     "metadata": {},
     "output_type": "display_data"
    },
    {
     "data": {
      "image/png": "[encoded data removed]",
      "text/plain": [
       "<Figure size 432x288 with 1 Axes>"
      ]
     },
     "metadata": {
      "needs_background": "light"
     },
     "output_type": "display_data"
    },
    {
     "data": {
      "image/png": "[encoded data removed]",
      "text/plain": [
       "<Figure size 432x432 with 2 Axes>"
      ]
     },
     "metadata": {
      "needs_background": "light"
     },
     "output_type": "display_data"
    }
   ],
   "source": [
    "all_metrics(y_test_1, y_pred, y_pred_prob)\n",
    "show_roc_curve(y_test_1, y_pred_prob)\n",
    "show_confusion_matrix(y_test_1, y_pred)"
   ]
  },
  {
   "cell_type": "markdown",
   "metadata": {},
   "source": [
    "ВЫВОДЫ: Модель плохо отработала. Несмотря на то, что ROC-AUC высокий (эта кривая плохо оценивает эффективность алгоритма на несбалансированных данных). Значение точности, полноты и f1 сигнализирует о том что что-то не в порядке. Построенная модель очень плохая: из матрицы ошибок видно, что мы почти не угадываем дефолтных клиентов (43 из 1906). Это показывает и метрика recall = 0.023085. "
   ]
  },
  {
   "cell_type": "markdown",
   "metadata": {},
   "source": [
    "## 2-й вариант модели. oversampling"
   ]
  },
  {
   "cell_type": "markdown",
   "metadata": {},
   "source": [
    "oversampling сделаем самый простой - дублированием примеров меньшего класса. В нашем случае, класс с default = 1"
   ]
  },
  {
   "cell_type": "code",
   "execution_count": 411,
   "metadata": {},
   "outputs": [],
   "source": [
    "max_size = tr_df['default'].value_counts().max()"
   ]
  },
  {
   "cell_type": "code",
   "execution_count": 412,
   "metadata": {},
   "outputs": [],
   "source": [
    "lst = [tr_df]\n",
    "for c_index, group in tr_df.groupby('default'):\n",
    "    lst.append(group.sample(max_size-len(group),replace=True))\n",
    "tr_df_new = pd.concat(lst)"
   ]
  },
  {
   "cell_type": "code",
   "execution_count": 413,
   "metadata": {},
   "outputs": [
    {
     "data": {
      "text/plain": [
       "1.0    63924\n",
       "0.0    63924\n",
       "Name: default, dtype: int64"
      ]
     },
     "execution_count": 413,
     "metadata": {},
     "output_type": "execute_result"
    }
   ],
   "source": [
    "tr_df_new.default.value_counts()"
   ]
  },
  {
   "cell_type": "code",
   "execution_count": 414,
   "metadata": {},
   "outputs": [],
   "source": [
    "X_train_num_os = StandardScaler().fit_transform(tr_df_new[num_cols].values)\n",
    "X_test_num_os = StandardScaler().fit_transform(test_df[num_cols].values)\n",
    "\n",
    "X_train_os = np.hstack([X_train_num_os, tr_df_new[b_c_cols].values])\n",
    "X_test_os = np.hstack([X_test_num_os, test_df[b_c_cols].values])\n",
    "\n",
    "y_os = tr_df_new['default'].values"
   ]
  },
  {
   "cell_type": "code",
   "execution_count": 290,
   "metadata": {},
   "outputs": [
    {
     "data": {
      "text/plain": [
       "1.0    0.5\n",
       "0.0    0.5\n",
       "Name: default, dtype: float64"
      ]
     },
     "metadata": {},
     "output_type": "display_data"
    },
    {
     "name": "stdout",
     "output_type": "stream",
     "text": [
      "отношение количества 0 в default к количеству 1 в default = 1.0\n"
     ]
    },
    {
     "data": {
      "image/png": "[encoded data removed]",
      "text/plain": [
       "<Figure size 432x288 with 1 Axes>"
      ]
     },
     "metadata": {
      "needs_background": "light"
     },
     "output_type": "display_data"
    }
   ],
   "source": [
    "sns.countplot(tr_df_new['default']);\n",
    "dflt = tr_df_new['default'].value_counts(normalize=True)\n",
    "display(dflt)\n",
    "print('отношение количества 0 в default к количеству 1 в default = {}'.format(dflt[0]/dflt[1]))"
   ]
  },
  {
   "cell_type": "code",
   "execution_count": 415,
   "metadata": {},
   "outputs": [
    {
     "name": "stderr",
     "output_type": "stream",
     "text": [
      "A:\\anaconda\\lib\\site-packages\\sklearn\\linear_model\\_logistic.py:940: ConvergenceWarning: lbfgs failed to converge (status=1):\n",
      "STOP: TOTAL NO. of ITERATIONS REACHED LIMIT.\n",
      "\n",
      "Increase the number of iterations (max_iter) or scale the data as shown in:\n",
      "    https://scikit-learn.org/stable/modules/preprocessing.html\n",
      "Please also refer to the documentation for alternative solver options:\n",
      "    https://scikit-learn.org/stable/modules/linear_model.html#logistic-regression\n",
      "  extra_warning_msg=_LOGISTIC_SOLVER_CONVERGENCE_MSG)\n"
     ]
    }
   ],
   "source": [
    "# Разбиваем датасет на тренировочный и тестовый, выделив 20% данных на валидацию\n",
    "X_train_2, X_test_2, y_train_2, y_test_2 = train_test_split(X_train_os, y_os, test_size=0.2, random_state=RANDOM_SEED)\n",
    "\n",
    "# Обучаем модель\n",
    "model_2 = LogisticRegression(random_state=RANDOM_SEED)\n",
    "\n",
    "model_2.fit(X_train_2, y_train_2)\n",
    "\n",
    "# Предсказываем\n",
    "y_pred_prob = model_2.predict_proba(X_test_2)[:,1]\n",
    "y_pred = model_2.predict(X_test_2)"
   ]
  },
  {
   "cell_type": "code",
   "execution_count": 416,
   "metadata": {},
   "outputs": [
    {
     "data": {
      "text/html": [
       "<div>\n",
       "<style scoped>\n",
       "    .dataframe tbody tr th:only-of-type {\n",
       "        vertical-align: middle;\n",
       "    }\n",
       "\n",
       "    .dataframe tbody tr th {\n",
       "        vertical-align: top;\n",
       "    }\n",
       "\n",
       "    .dataframe thead th {\n",
       "        text-align: right;\n",
       "    }\n",
       "</style>\n",
       "<table border=\"1\" class=\"dataframe\">\n",
       "  <thead>\n",
       "    <tr style=\"text-align: right;\">\n",
       "      <th></th>\n",
       "      <th>Значение</th>\n",
       "      <th>Описание метрики</th>\n",
       "    </tr>\n",
       "  </thead>\n",
       "  <tbody>\n",
       "    <tr>\n",
       "      <th>P</th>\n",
       "      <td>12650.000000</td>\n",
       "      <td>Дефолт</td>\n",
       "    </tr>\n",
       "    <tr>\n",
       "      <th>N</th>\n",
       "      <td>12920.000000</td>\n",
       "      <td>БЕЗ дефолта</td>\n",
       "    </tr>\n",
       "    <tr>\n",
       "      <th>TP</th>\n",
       "      <td>8400.000000</td>\n",
       "      <td>Истинно дефолтные</td>\n",
       "    </tr>\n",
       "    <tr>\n",
       "      <th>TN</th>\n",
       "      <td>8540.000000</td>\n",
       "      <td>Истинно НЕ дефолтные</td>\n",
       "    </tr>\n",
       "    <tr>\n",
       "      <th>FP</th>\n",
       "      <td>4380.000000</td>\n",
       "      <td>Ложно дефолтные</td>\n",
       "    </tr>\n",
       "    <tr>\n",
       "      <th>FN</th>\n",
       "      <td>4250.000000</td>\n",
       "      <td>Ложно НЕ дефолтные</td>\n",
       "    </tr>\n",
       "    <tr>\n",
       "      <th>Accuracy</th>\n",
       "      <td>0.662495</td>\n",
       "      <td>Accuracy=(TP+TN)/(P+N)</td>\n",
       "    </tr>\n",
       "    <tr>\n",
       "      <th>Precision</th>\n",
       "      <td>0.657277</td>\n",
       "      <td>Точность = TP/(TP+FP)</td>\n",
       "    </tr>\n",
       "    <tr>\n",
       "      <th>Recall</th>\n",
       "      <td>0.664032</td>\n",
       "      <td>Полнота = TP/P</td>\n",
       "    </tr>\n",
       "    <tr>\n",
       "      <th>F1-score</th>\n",
       "      <td>0.660637</td>\n",
       "      <td>Среднее гармоническое Precision и Recall</td>\n",
       "    </tr>\n",
       "    <tr>\n",
       "      <th>ROC_AUC</th>\n",
       "      <td>0.724065</td>\n",
       "      <td>ROC-AUC</td>\n",
       "    </tr>\n",
       "  </tbody>\n",
       "</table>\n",
       "</div>"
      ],
      "text/plain": [
       "               Значение                          Описание метрики\n",
       "P          12650.000000                                    Дефолт\n",
       "N          12920.000000                               БЕЗ дефолта\n",
       "TP          8400.000000                         Истинно дефолтные\n",
       "TN          8540.000000                      Истинно НЕ дефолтные\n",
       "FP          4380.000000                           Ложно дефолтные\n",
       "FN          4250.000000                        Ложно НЕ дефолтные\n",
       "Accuracy       0.662495                    Accuracy=(TP+TN)/(P+N)\n",
       "Precision      0.657277                     Точность = TP/(TP+FP)\n",
       "Recall         0.664032                            Полнота = TP/P\n",
       "F1-score       0.660637  Среднее гармоническое Precision и Recall\n",
       "ROC_AUC        0.724065                                   ROC-AUC"
      ]
     },
     "metadata": {},
     "output_type": "display_data"
    },
    {
     "data": {
      "image/png": "[encoded data removed]",
      "text/plain": [
       "<Figure size 432x288 with 1 Axes>"
      ]
     },
     "metadata": {
      "needs_background": "light"
     },
     "output_type": "display_data"
    },
    {
     "data": {
      "image/png": "[encoded data removed]",
      "text/plain": [
       "<Figure size 432x432 with 2 Axes>"
      ]
     },
     "metadata": {
      "needs_background": "light"
     },
     "output_type": "display_data"
    }
   ],
   "source": [
    "all_metrics(y_test_2, y_pred, y_pred_prob)\n",
    "show_roc_curve(y_test_2, y_pred_prob)\n",
    "show_confusion_matrix(y_test_2, y_pred)"
   ]
  },
  {
   "attachments": {},
   "cell_type": "markdown",
   "metadata": {},
   "source": [
    "ВЫВОДЫ: Модель значительно лучше отработала по сравнению с 1-м вариантом модели. ROC-AUC высокий, остался практически таким же, как и был: был 0.728934, стал 0.724065. \n",
    "<br>Precision вырос почти в 1,5 раза: был - 0.494382, стал - 0.657277. \n",
    "<br>Recall вырос в 33 раза где-то: был - 0.023085, стал - 0.664032   \n",
    "<br>F1-score вырос в 16 раз где-то: был - 0.044110, стал - 0.660637\n",
    "1-я модель значительно лучше предсказывала недефолты, но вообще не предсказывала дефолты => 2-я модель одинаково предсказывает и дефолты, и недефолты.\n",
    "\n",
    "Отмечу, что я также нашел дополнительные данные, которыми можно было бы сделать oversampling нашего датасета, чтобы сбалансировать его: \n",
    "<br> 1 - https://www.kaggle.com/c/home-credit-default-risk/. Данные банка home credit\n",
    "<br> - https://www.listendata.com/2019/08/datasets-for-credit-risk-modeling.html. Данные из ТАйваня.\n",
    "\n",
    "Но, просмотрев данные, я увидел, что в 1-м случае (home credit) из 122 параметров, я могу использовать 3 (CODE_GENDER, FLAG_OWN_CAR, AMT_INCOME_TOTAL) + 1 - спорно (NAME_EDUCATION_TYPE) - мало данных, пришлось бы слишком много параметров выкинуть из исходного датасета.\n",
    "\n",
    "2-й случай - аналогично, даже хуже: из 24 параметров, только 2 можно использовать (SEX, AGE) + 1 - спорно (EDUCATION)\n",
    "\n",
    "Решил с этими внешними данными не работать."
   ]
  },
  {
   "cell_type": "markdown",
   "metadata": {},
   "source": [
    "## 3-й вариант модели. undersampling"
   ]
  },
  {
   "cell_type": "code",
   "execution_count": 417,
   "metadata": {},
   "outputs": [],
   "source": [
    "#найдем количество дефолтных записей в датасете\n",
    "n = tr_df[tr_df['default'] ==1]['sex'].count()"
   ]
  },
  {
   "cell_type": "code",
   "execution_count": 418,
   "metadata": {},
   "outputs": [],
   "source": [
    "#подготовимся к объединению всех дефолтных записей с таким же количеством недефолтных\n",
    "lst = [tr_df[tr_df['default'] ==1]]\n",
    "#добавим к дефолтным записям столько же случайных недефолтных записей из датасета\n",
    "lst.append(tr_df[tr_df['default'] ==0].sample(n))\n",
    "\n",
    "tr_df_new = pd.concat(lst)"
   ]
  },
  {
   "cell_type": "code",
   "execution_count": 419,
   "metadata": {},
   "outputs": [
    {
     "data": {
      "text/plain": [
       "0.0    0.5\n",
       "1.0    0.5\n",
       "Name: default, dtype: float64"
      ]
     },
     "metadata": {},
     "output_type": "display_data"
    },
    {
     "name": "stdout",
     "output_type": "stream",
     "text": [
      "отношение количества 0 в default к количеству 1 в default = 1.0\n"
     ]
    },
    {
     "data": {
      "image/png": "[encoded data removed]",
      "text/plain": [
       "<Figure size 432x288 with 1 Axes>"
      ]
     },
     "metadata": {
      "needs_background": "light"
     },
     "output_type": "display_data"
    }
   ],
   "source": [
    "#проверим, как получилось\n",
    "sns.countplot(tr_df_new['default']);\n",
    "dflt = tr_df_new['default'].value_counts(normalize=True)\n",
    "display(dflt)\n",
    "print('отношение количества 0 в default к количеству 1 в default = {}'.format(dflt[0]/dflt[1]))"
   ]
  },
  {
   "cell_type": "markdown",
   "metadata": {},
   "source": [
    "получилось сбалансировать"
   ]
  },
  {
   "cell_type": "code",
   "execution_count": 420,
   "metadata": {},
   "outputs": [],
   "source": [
    "X_train_num_us = StandardScaler().fit_transform(tr_df_new[num_cols].values)\n",
    "X_test_num_us = StandardScaler().fit_transform(test_df[num_cols].values)\n",
    "\n",
    "X_train_us = np.hstack([X_train_num_us, tr_df_new[b_c_cols].values])\n",
    "X_test_us = np.hstack([X_test_num_us, test_df[b_c_cols].values])\n",
    "\n",
    "y_us = tr_df_new['default'].values"
   ]
  },
  {
   "cell_type": "code",
   "execution_count": 421,
   "metadata": {},
   "outputs": [
    {
     "name": "stderr",
     "output_type": "stream",
     "text": [
      "A:\\anaconda\\lib\\site-packages\\sklearn\\linear_model\\_logistic.py:940: ConvergenceWarning: lbfgs failed to converge (status=1):\n",
      "STOP: TOTAL NO. of ITERATIONS REACHED LIMIT.\n",
      "\n",
      "Increase the number of iterations (max_iter) or scale the data as shown in:\n",
      "    https://scikit-learn.org/stable/modules/preprocessing.html\n",
      "Please also refer to the documentation for alternative solver options:\n",
      "    https://scikit-learn.org/stable/modules/linear_model.html#logistic-regression\n",
      "  extra_warning_msg=_LOGISTIC_SOLVER_CONVERGENCE_MSG)\n"
     ]
    }
   ],
   "source": [
    "# Разбиваем датасет на тренировочный и тестовый, выделив 20% данных на валидацию\n",
    "X_train_3, X_test_3, y_train_3, y_test_3 = train_test_split(X_train_us, y_us, test_size=0.2, random_state=RANDOM_SEED)\n",
    "\n",
    "# Обучаем модель\n",
    "model_3 = LogisticRegression(random_state=RANDOM_SEED)\n",
    "\n",
    "model_3.fit(X_train_3, y_train_3)\n",
    "\n",
    "# Предсказываем\n",
    "y_pred_prob = model_3.predict_proba(X_test_3)[:,1]\n",
    "y_pred = model_3.predict(X_test_3)"
   ]
  },
  {
   "cell_type": "code",
   "execution_count": 422,
   "metadata": {},
   "outputs": [
    {
     "data": {
      "text/html": [
       "<div>\n",
       "<style scoped>\n",
       "    .dataframe tbody tr th:only-of-type {\n",
       "        vertical-align: middle;\n",
       "    }\n",
       "\n",
       "    .dataframe tbody tr th {\n",
       "        vertical-align: top;\n",
       "    }\n",
       "\n",
       "    .dataframe thead th {\n",
       "        text-align: right;\n",
       "    }\n",
       "</style>\n",
       "<table border=\"1\" class=\"dataframe\">\n",
       "  <thead>\n",
       "    <tr style=\"text-align: right;\">\n",
       "      <th></th>\n",
       "      <th>Значение</th>\n",
       "      <th>Описание метрики</th>\n",
       "    </tr>\n",
       "  </thead>\n",
       "  <tbody>\n",
       "    <tr>\n",
       "      <th>P</th>\n",
       "      <td>1849.000000</td>\n",
       "      <td>Дефолт</td>\n",
       "    </tr>\n",
       "    <tr>\n",
       "      <th>N</th>\n",
       "      <td>1843.000000</td>\n",
       "      <td>БЕЗ дефолта</td>\n",
       "    </tr>\n",
       "    <tr>\n",
       "      <th>TP</th>\n",
       "      <td>1206.000000</td>\n",
       "      <td>Истинно дефолтные</td>\n",
       "    </tr>\n",
       "    <tr>\n",
       "      <th>TN</th>\n",
       "      <td>1215.000000</td>\n",
       "      <td>Истинно НЕ дефолтные</td>\n",
       "    </tr>\n",
       "    <tr>\n",
       "      <th>FP</th>\n",
       "      <td>628.000000</td>\n",
       "      <td>Ложно дефолтные</td>\n",
       "    </tr>\n",
       "    <tr>\n",
       "      <th>FN</th>\n",
       "      <td>643.000000</td>\n",
       "      <td>Ложно НЕ дефолтные</td>\n",
       "    </tr>\n",
       "    <tr>\n",
       "      <th>Accuracy</th>\n",
       "      <td>0.655742</td>\n",
       "      <td>Accuracy=(TP+TN)/(P+N)</td>\n",
       "    </tr>\n",
       "    <tr>\n",
       "      <th>Precision</th>\n",
       "      <td>0.657579</td>\n",
       "      <td>Точность = TP/(TP+FP)</td>\n",
       "    </tr>\n",
       "    <tr>\n",
       "      <th>Recall</th>\n",
       "      <td>0.652244</td>\n",
       "      <td>Полнота = TP/P</td>\n",
       "    </tr>\n",
       "    <tr>\n",
       "      <th>F1-score</th>\n",
       "      <td>0.654901</td>\n",
       "      <td>Среднее гармоническое Precision и Recall</td>\n",
       "    </tr>\n",
       "    <tr>\n",
       "      <th>ROC_AUC</th>\n",
       "      <td>0.717835</td>\n",
       "      <td>ROC-AUC</td>\n",
       "    </tr>\n",
       "  </tbody>\n",
       "</table>\n",
       "</div>"
      ],
      "text/plain": [
       "              Значение                          Описание метрики\n",
       "P          1849.000000                                    Дефолт\n",
       "N          1843.000000                               БЕЗ дефолта\n",
       "TP         1206.000000                         Истинно дефолтные\n",
       "TN         1215.000000                      Истинно НЕ дефолтные\n",
       "FP          628.000000                           Ложно дефолтные\n",
       "FN          643.000000                        Ложно НЕ дефолтные\n",
       "Accuracy      0.655742                    Accuracy=(TP+TN)/(P+N)\n",
       "Precision     0.657579                     Точность = TP/(TP+FP)\n",
       "Recall        0.652244                            Полнота = TP/P\n",
       "F1-score      0.654901  Среднее гармоническое Precision и Recall\n",
       "ROC_AUC       0.717835                                   ROC-AUC"
      ]
     },
     "metadata": {},
     "output_type": "display_data"
    },
    {
     "data": {
      "image/png": "[encoded data removed]",
      "text/plain": [
       "<Figure size 432x288 with 1 Axes>"
      ]
     },
     "metadata": {
      "needs_background": "light"
     },
     "output_type": "display_data"
    },
    {
     "data": {
      "image/png": "[encoded data removed]",
      "text/plain": [
       "<Figure size 432x432 with 2 Axes>"
      ]
     },
     "metadata": {
      "needs_background": "light"
     },
     "output_type": "display_data"
    }
   ],
   "source": [
    "all_metrics(y_test_3, y_pred, y_pred_prob)\n",
    "show_roc_curve(y_test_3, y_pred_prob)\n",
    "show_confusion_matrix(y_test_3, y_pred)"
   ]
  },
  {
   "cell_type": "markdown",
   "metadata": {},
   "source": [
    "ВЫВОДЫ: Модель значительно лучше отработала по сравнению с 1-м вариантом модели, результаты очень похожи на результаты 2-го варианта модели\n",
    "<br>ROC-AUC высокий, остался практически таким же, как и был, стал даже чуть выше, чем для 1-й модели: \n",
    "1-я модель - 0.727372, 3-я - 0.727699. \n",
    "<br>Precision чуть вырос по сравнению с 2-й вариантом модели: \n",
    "2-я - 0.659274, 3-я - 0.667964. \n",
    "<br>Recall чуть уменьшился по сравнению с 2-й вариантом модели: \n",
    "2-я - 0.667352, 3-я - 0.649540.   \n",
    "<br>F1-score чуть уменьшился по сравнению с 2-й вариантом модели: \n",
    "2-я - 0.663288, 3-я - 0.658624. \n",
    "\n",
    "undersampling сработал хорошо, практически также, как и самый простой oversampling. Возможно, если была бы возможность найти больше дефолтных данных, а не просто дублировать уже существующие, можно было бы еще улучшить показатели.\n",
    "\n",
    "В текущих условиях, undersampling предпочтительнее использовать."
   ]
  },
  {
   "cell_type": "markdown",
   "metadata": {},
   "source": [
    "## 4-й вариант модели. Исследование влияния гиперпараметров на качество модели."
   ]
  },
  {
   "cell_type": "code",
   "execution_count": 317,
   "metadata": {},
   "outputs": [
    {
     "name": "stderr",
     "output_type": "stream",
     "text": [
      "A:\\anaconda\\lib\\site-packages\\sklearn\\linear_model\\_sag.py:330: ConvergenceWarning: The max_iter was reached which means the coef_ did not converge\n",
      "  \"the coef_ did not converge\", ConvergenceWarning)\n"
     ]
    },
    {
     "data": {
      "text/plain": [
       "GridSearchCV(cv=5, error_score=nan,\n",
       "             estimator=LogisticRegression(C=1.0, class_weight=None, dual=False,\n",
       "                                          fit_intercept=True,\n",
       "                                          intercept_scaling=1, l1_ratio=None,\n",
       "                                          max_iter=100, multi_class='auto',\n",
       "                                          n_jobs=None, penalty='l2',\n",
       "                                          random_state=42, solver='lbfgs',\n",
       "                                          tol=0.0001, verbose=0,\n",
       "                                          warm_start=False),\n",
       "             iid='deprecated', n_jobs=-1,\n",
       "             param_grid=[{'C': array([1.00000000e+00, 2.7825...\n",
       "                         {'C': array([1.00000000e+00, 2.78255940e+00, 7.74263683e+00, 2.15443469e+01,\n",
       "       5.99484250e+01, 1.66810054e+02, 4.64158883e+02, 1.29154967e+03,\n",
       "       3.59381366e+03, 1.00000000e+04]),\n",
       "                          'class_weight': ['none', 'balanced'],\n",
       "                          'max_iter': [50], 'multi_class': ['auto', 'ovr'],\n",
       "                          'penalty': ['none'],\n",
       "                          'solver': ['newton-cg', 'lbfgs', 'sag', 'saga'],\n",
       "                          'tol': [0.001]}],\n",
       "             pre_dispatch='2*n_jobs', refit=True, return_train_score=False,\n",
       "             scoring='f1', verbose=0)"
      ]
     },
     "execution_count": 317,
     "metadata": {},
     "output_type": "execute_result"
    }
   ],
   "source": [
    "C = np.logspace(0, 4, 10)\n",
    "iter_ = 50\n",
    "epsilon_stop = 1e-3\n",
    " \n",
    "hyperparameters = [\n",
    "    {'penalty': ['l1'], \n",
    "     'C': C,\n",
    "     'solver': ['liblinear', 'lbfgs'], \n",
    "     'class_weight':['none', 'balanced'], \n",
    "     'multi_class': ['auto','ovr'], \n",
    "     'max_iter':[iter_],\n",
    "     'tol':[epsilon_stop]},\n",
    "    {'penalty': ['l2'], \n",
    "     'C': C,\n",
    "     'solver': ['newton-cg', 'lbfgs', 'liblinear', 'sag', 'saga'], \n",
    "     'class_weight':['none', 'balanced'], \n",
    "     'multi_class': ['auto','ovr'], \n",
    "     'max_iter':[iter_],\n",
    "     'tol':[epsilon_stop]},\n",
    "    {'penalty': ['none'], \n",
    "     'C': C,\n",
    "     'solver': ['newton-cg', 'lbfgs', 'sag', 'saga'], \n",
    "     'class_weight':['none', 'balanced'], \n",
    "     'multi_class': ['auto','ovr'], \n",
    "     'max_iter':[iter_],\n",
    "     'tol':[epsilon_stop]},\n",
    "]\n",
    "\n",
    "# Создаем сетку поиска с использованием 5-кратной перекрестной проверки\n",
    "# указываем модель (в нашем случае лог регрессия), гиперпараметры\n",
    "model = LogisticRegression(random_state=RANDOM_SEED)\n",
    "\n",
    "# Обучаем модель\n",
    "gridsearch = GridSearchCV(model, hyperparameters, scoring='f1', n_jobs=-1, cv=5)\n",
    "gridsearch.fit(X_train_1, y_train_1)"
   ]
  },
  {
   "cell_type": "code",
   "execution_count": 318,
   "metadata": {},
   "outputs": [
    {
     "name": "stdout",
     "output_type": "stream",
     "text": [
      "Лучшие значения параметров:\n",
      "  C => 1.0\n",
      "  class_weight => balanced\n",
      "  dual => False\n",
      "  fit_intercept => True\n",
      "  intercept_scaling => 1\n",
      "  l1_ratio => None\n",
      "  max_iter => 50\n",
      "  multi_class => auto\n",
      "  n_jobs => None\n",
      "  penalty => l2\n",
      "  random_state => 42\n",
      "  solver => saga\n",
      "  tol => 0.001\n",
      "  verbose => 0\n",
      "  warm_start => False\n"
     ]
    }
   ],
   "source": [
    "# Смотрим лучшие гиперпараметры\n",
    "model_4 = gridsearch.best_estimator_\n",
    "\n",
    "# Печатаем параметры\n",
    "best_parameters = model_4.get_params()\n",
    "print(f'Лучшие значения параметров:') \n",
    "for param_name in sorted(best_parameters.keys()):\n",
    "        print(f'  {param_name} => {best_parameters[param_name]}')\n",
    "\n",
    "# Предсказываем\n",
    "y_pred_prob = model_4.predict_proba(X_test_1)[:,1]\n",
    "y_pred = model_4.predict(X_test_1)"
   ]
  },
  {
   "cell_type": "code",
   "execution_count": 320,
   "metadata": {},
   "outputs": [
    {
     "data": {
      "text/html": [
       "<div>\n",
       "<style scoped>\n",
       "    .dataframe tbody tr th:only-of-type {\n",
       "        vertical-align: middle;\n",
       "    }\n",
       "\n",
       "    .dataframe tbody tr th {\n",
       "        vertical-align: top;\n",
       "    }\n",
       "\n",
       "    .dataframe thead th {\n",
       "        text-align: right;\n",
       "    }\n",
       "</style>\n",
       "<table border=\"1\" class=\"dataframe\">\n",
       "  <thead>\n",
       "    <tr style=\"text-align: right;\">\n",
       "      <th></th>\n",
       "      <th>Значение</th>\n",
       "      <th>Описание метрики</th>\n",
       "    </tr>\n",
       "  </thead>\n",
       "  <tbody>\n",
       "    <tr>\n",
       "      <th>P</th>\n",
       "      <td>1906.000000</td>\n",
       "      <td>Дефолт</td>\n",
       "    </tr>\n",
       "    <tr>\n",
       "      <th>N</th>\n",
       "      <td>12725.000000</td>\n",
       "      <td>БЕЗ дефолта</td>\n",
       "    </tr>\n",
       "    <tr>\n",
       "      <th>TP</th>\n",
       "      <td>1276.000000</td>\n",
       "      <td>Истинно дефолтные</td>\n",
       "    </tr>\n",
       "    <tr>\n",
       "      <th>TN</th>\n",
       "      <td>8478.000000</td>\n",
       "      <td>Истинно НЕ дефолтные</td>\n",
       "    </tr>\n",
       "    <tr>\n",
       "      <th>FP</th>\n",
       "      <td>4247.000000</td>\n",
       "      <td>Ложно дефолтные</td>\n",
       "    </tr>\n",
       "    <tr>\n",
       "      <th>FN</th>\n",
       "      <td>630.000000</td>\n",
       "      <td>Ложно НЕ дефолтные</td>\n",
       "    </tr>\n",
       "    <tr>\n",
       "      <th>Accuracy</th>\n",
       "      <td>0.666667</td>\n",
       "      <td>Accuracy=(TP+TN)/(P+N)</td>\n",
       "    </tr>\n",
       "    <tr>\n",
       "      <th>Precision</th>\n",
       "      <td>0.231034</td>\n",
       "      <td>Точность = TP/(TP+FP)</td>\n",
       "    </tr>\n",
       "    <tr>\n",
       "      <th>Recall</th>\n",
       "      <td>0.669465</td>\n",
       "      <td>Полнота = TP/P</td>\n",
       "    </tr>\n",
       "    <tr>\n",
       "      <th>F1-score</th>\n",
       "      <td>0.343519</td>\n",
       "      <td>Среднее гармоническое Precision и Recall</td>\n",
       "    </tr>\n",
       "    <tr>\n",
       "      <th>ROC_AUC</th>\n",
       "      <td>0.730800</td>\n",
       "      <td>ROC-AUC</td>\n",
       "    </tr>\n",
       "  </tbody>\n",
       "</table>\n",
       "</div>"
      ],
      "text/plain": [
       "               Значение                          Описание метрики\n",
       "P           1906.000000                                    Дефолт\n",
       "N          12725.000000                               БЕЗ дефолта\n",
       "TP          1276.000000                         Истинно дефолтные\n",
       "TN          8478.000000                      Истинно НЕ дефолтные\n",
       "FP          4247.000000                           Ложно дефолтные\n",
       "FN           630.000000                        Ложно НЕ дефолтные\n",
       "Accuracy       0.666667                    Accuracy=(TP+TN)/(P+N)\n",
       "Precision      0.231034                     Точность = TP/(TP+FP)\n",
       "Recall         0.669465                            Полнота = TP/P\n",
       "F1-score       0.343519  Среднее гармоническое Precision и Recall\n",
       "ROC_AUC        0.730800                                   ROC-AUC"
      ]
     },
     "metadata": {},
     "output_type": "display_data"
    },
    {
     "data": {
      "image/png": "[encoded data removed]",
      "text/plain": [
       "<Figure size 432x288 with 1 Axes>"
      ]
     },
     "metadata": {
      "needs_background": "light"
     },
     "output_type": "display_data"
    },
    {
     "data": {
      "image/png": "[encoded data removed]",
      "text/plain": [
       "<Figure size 432x432 with 2 Axes>"
      ]
     },
     "metadata": {
      "needs_background": "light"
     },
     "output_type": "display_data"
    }
   ],
   "source": [
    "all_metrics(y_test_1, y_pred, y_pred_prob)\n",
    "show_roc_curve(y_test_1, y_pred_prob)\n",
    "show_confusion_matrix(y_test_1, y_pred)"
   ]
  },
  {
   "cell_type": "markdown",
   "metadata": {},
   "source": [
    "ВЫВОДЫ: Модель значительно лучше отработала по сравнению с 1-м вариантом модели, но в общем, судя по метрикам, 3-й вариант модели отработал даже лучше:\n",
    "<br>ROC-AUC сопоставим у 3-й и 4-й модели:\n",
    "3-я модель = 0.727699, 4-я = 0.730800\n",
    "<br> Precision гораздо (почти в 3 раза) лучше у 3-й модели:\n",
    "3-я модель = 0.667964, 4-я = 0.231034\n",
    "<br> Recall чуть лучше у 4-й модели:\n",
    "3-я модель = 0.649540, 4-я = 0.669465\n",
    "<br> F1-score гораздо лучше (почти в 2 раза) лучше у 3-й модели:\n",
    "3-я модель = 0.658624, 4-я = 0.343519\n",
    "\n",
    "Undersampling все еще - самый предпочтительный вариант."
   ]
  },
  {
   "cell_type": "markdown",
   "metadata": {},
   "source": [
    "## 5-й вариант модели. Оптимальные гиперпараметры и undersampling"
   ]
  },
  {
   "cell_type": "code",
   "execution_count": 323,
   "metadata": {},
   "outputs": [
    {
     "name": "stdout",
     "output_type": "stream",
     "text": [
      "2020-11-05 01:48:04.867791\n",
      "2020-11-05 01:52:22.457118\n"
     ]
    },
    {
     "name": "stderr",
     "output_type": "stream",
     "text": [
      "A:\\anaconda\\lib\\site-packages\\sklearn\\linear_model\\_logistic.py:940: ConvergenceWarning: lbfgs failed to converge (status=1):\n",
      "STOP: TOTAL NO. of ITERATIONS REACHED LIMIT.\n",
      "\n",
      "Increase the number of iterations (max_iter) or scale the data as shown in:\n",
      "    https://scikit-learn.org/stable/modules/preprocessing.html\n",
      "Please also refer to the documentation for alternative solver options:\n",
      "    https://scikit-learn.org/stable/modules/linear_model.html#logistic-regression\n",
      "  extra_warning_msg=_LOGISTIC_SOLVER_CONVERGENCE_MSG)\n"
     ]
    }
   ],
   "source": [
    "print(datetime.now())\n",
    "gridsearch.fit(X_train_3, y_train_3)\n",
    "print(datetime.now())"
   ]
  },
  {
   "cell_type": "code",
   "execution_count": 325,
   "metadata": {},
   "outputs": [
    {
     "name": "stdout",
     "output_type": "stream",
     "text": [
      "Лучшие значения параметров:\n",
      "  C => 21.544346900318832\n",
      "  class_weight => none\n",
      "  dual => False\n",
      "  fit_intercept => True\n",
      "  intercept_scaling => 1\n",
      "  l1_ratio => None\n",
      "  max_iter => 50\n",
      "  multi_class => auto\n",
      "  n_jobs => None\n",
      "  penalty => l2\n",
      "  random_state => 42\n",
      "  solver => lbfgs\n",
      "  tol => 0.001\n",
      "  verbose => 0\n",
      "  warm_start => False\n"
     ]
    }
   ],
   "source": [
    "# Смотрим лучшие гиперпараметры\n",
    "model_5 = gridsearch.best_estimator_\n",
    "\n",
    "# Печатаем параметры\n",
    "best_parameters = model_5.get_params()\n",
    "print(f'Лучшие значения параметров:') \n",
    "for param_name in sorted(best_parameters.keys()):\n",
    "        print(f'  {param_name} => {best_parameters[param_name]}')\n",
    "\n",
    "# Предсказываем\n",
    "y_pred_prob = model_5.predict_proba(X_test_3)[:,1]\n",
    "y_pred = model_5.predict(X_test_3)"
   ]
  },
  {
   "cell_type": "code",
   "execution_count": 326,
   "metadata": {},
   "outputs": [
    {
     "data": {
      "text/html": [
       "<div>\n",
       "<style scoped>\n",
       "    .dataframe tbody tr th:only-of-type {\n",
       "        vertical-align: middle;\n",
       "    }\n",
       "\n",
       "    .dataframe tbody tr th {\n",
       "        vertical-align: top;\n",
       "    }\n",
       "\n",
       "    .dataframe thead th {\n",
       "        text-align: right;\n",
       "    }\n",
       "</style>\n",
       "<table border=\"1\" class=\"dataframe\">\n",
       "  <thead>\n",
       "    <tr style=\"text-align: right;\">\n",
       "      <th></th>\n",
       "      <th>Значение</th>\n",
       "      <th>Описание метрики</th>\n",
       "    </tr>\n",
       "  </thead>\n",
       "  <tbody>\n",
       "    <tr>\n",
       "      <th>P</th>\n",
       "      <td>1849.000000</td>\n",
       "      <td>Дефолт</td>\n",
       "    </tr>\n",
       "    <tr>\n",
       "      <th>N</th>\n",
       "      <td>1843.000000</td>\n",
       "      <td>БЕЗ дефолта</td>\n",
       "    </tr>\n",
       "    <tr>\n",
       "      <th>TP</th>\n",
       "      <td>1207.000000</td>\n",
       "      <td>Истинно дефолтные</td>\n",
       "    </tr>\n",
       "    <tr>\n",
       "      <th>TN</th>\n",
       "      <td>1251.000000</td>\n",
       "      <td>Истинно НЕ дефолтные</td>\n",
       "    </tr>\n",
       "    <tr>\n",
       "      <th>FP</th>\n",
       "      <td>592.000000</td>\n",
       "      <td>Ложно дефолтные</td>\n",
       "    </tr>\n",
       "    <tr>\n",
       "      <th>FN</th>\n",
       "      <td>642.000000</td>\n",
       "      <td>Ложно НЕ дефолтные</td>\n",
       "    </tr>\n",
       "    <tr>\n",
       "      <th>Accuracy</th>\n",
       "      <td>0.665764</td>\n",
       "      <td>Accuracy=(TP+TN)/(P+N)</td>\n",
       "    </tr>\n",
       "    <tr>\n",
       "      <th>Precision</th>\n",
       "      <td>0.670928</td>\n",
       "      <td>Точность = TP/(TP+FP)</td>\n",
       "    </tr>\n",
       "    <tr>\n",
       "      <th>Recall</th>\n",
       "      <td>0.652785</td>\n",
       "      <td>Полнота = TP/P</td>\n",
       "    </tr>\n",
       "    <tr>\n",
       "      <th>F1-score</th>\n",
       "      <td>0.661732</td>\n",
       "      <td>Среднее гармоническое Precision и Recall</td>\n",
       "    </tr>\n",
       "    <tr>\n",
       "      <th>ROC_AUC</th>\n",
       "      <td>0.727821</td>\n",
       "      <td>ROC-AUC</td>\n",
       "    </tr>\n",
       "  </tbody>\n",
       "</table>\n",
       "</div>"
      ],
      "text/plain": [
       "              Значение                          Описание метрики\n",
       "P          1849.000000                                    Дефолт\n",
       "N          1843.000000                               БЕЗ дефолта\n",
       "TP         1207.000000                         Истинно дефолтные\n",
       "TN         1251.000000                      Истинно НЕ дефолтные\n",
       "FP          592.000000                           Ложно дефолтные\n",
       "FN          642.000000                        Ложно НЕ дефолтные\n",
       "Accuracy      0.665764                    Accuracy=(TP+TN)/(P+N)\n",
       "Precision     0.670928                     Точность = TP/(TP+FP)\n",
       "Recall        0.652785                            Полнота = TP/P\n",
       "F1-score      0.661732  Среднее гармоническое Precision и Recall\n",
       "ROC_AUC       0.727821                                   ROC-AUC"
      ]
     },
     "metadata": {},
     "output_type": "display_data"
    },
    {
     "data": {
      "image/png": "[encoded data removed]",
      "text/plain": [
       "<Figure size 432x288 with 1 Axes>"
      ]
     },
     "metadata": {
      "needs_background": "light"
     },
     "output_type": "display_data"
    },
    {
     "data": {
      "image/png": "[encoded data removed]",
      "text/plain": [
       "<Figure size 432x432 with 2 Axes>"
      ]
     },
     "metadata": {
      "needs_background": "light"
     },
     "output_type": "display_data"
    }
   ],
   "source": [
    "all_metrics(y_test_3, y_pred, y_pred_prob)\n",
    "show_roc_curve(y_test_3, y_pred_prob)\n",
    "show_confusion_matrix(y_test_3, y_pred)"
   ]
  },
  {
   "cell_type": "markdown",
   "metadata": {},
   "source": [
    "ВЫВОДЫ: Модель показала очень маленький прирост по сравнению с моделью 3:\n",
    "<br>ROC-AUC: \n",
    "3-я модель = 0.727699, 5-я = 0.727821\n",
    "<br>Precision:\n",
    "3-я модель = 0.667964, 5-я = 0.670928\n",
    "<br>Recall:\n",
    "3-я модель = 0.649540, 5-я = 0.652785\n",
    "<br>F1-score: \n",
    "3-я модель = 0.658624, 5-я = 0.727821\n",
    "\n",
    "Undersampling, с учетом трудоемкости, все еще - самый предпочтительный вариант."
   ]
  },
  {
   "cell_type": "markdown",
   "metadata": {},
   "source": [
    "# Общий вывод"
   ]
  },
  {
   "cell_type": "markdown",
   "metadata": {},
   "source": [
    "Что удалось сделать:\n",
    "<br>1) убрать пропуски из данных, т.к. их было очень мало (менее 0,5% от данных);\n",
    "<br>2) убрать выбросы для параметра score_bki, т.к. их было очень мало (менее 0,01% от данных);\n",
    "<br>3) избавиться от дисбаланса классов в моделях 2 (oversampling), 3(undersampling), 5(undersampling и использование оптимальных гиперпараметров);\n",
    "<br>4) создать новые параметры num_of_days, month, weekend на основе параметра app_date, сам app_date удалить, как неподходящий для модели по типу данных;\n",
    "<br>5) создать 5 моделей и выбрать из нее лучшую (модель 3, undersampling).\n",
    "\n",
    "\n",
    "ЧТо можно было сделать еще:\n",
    "<br>1) обогатить данные, поискав датасеты в Интернете;\n",
    "<br>2) убрать не значимые признаки и проверить качество;\n",
    "<br>3) сгенерировать новые признаки и посмотреть на улучшение;\n",
    "<br>4) убрать выбросы и проверить качество.\n",
    "\n",
    "\n",
    "\n"
   ]
  }
 ],
 "metadata": {
  "kernelspec": {
   "display_name": "Python 3",
   "language": "python",
   "name": "python3"
  },
  "language_info": {
   "codemirror_mode": {
    "name": "ipython",
    "version": 3
   },
   "file_extension": ".py",
   "mimetype": "text/x-python",
   "name": "python",
   "nbconvert_exporter": "python",
   "pygments_lexer": "ipython3",
   "version": "3.7.6"
  }
 },
 "nbformat": 4,
 "nbformat_minor": 4
}
